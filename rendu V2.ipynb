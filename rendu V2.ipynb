{
 "cells": [
  {
   "cell_type": "markdown",
   "metadata": {},
   "source": [
    "# Partie 1"
   ]
  },
  {
   "cell_type": "markdown",
   "metadata": {},
   "source": [
    "## Modules"
   ]
  },
  {
   "cell_type": "code",
   "execution_count": null,
   "metadata": {},
   "outputs": [],
   "source": [
    "import openpyxl\n",
    "from read_input import read_input\n",
    "\n",
    "from gurobipy import *\n",
    "import math\n",
    "import numpy \n",
    "import time"
   ]
  },
  {
   "cell_type": "markdown",
   "metadata": {},
   "source": [
    "## Lecture des données"
   ]
  },
  {
   "cell_type": "code",
   "execution_count": null,
   "metadata": {},
   "outputs": [],
   "source": [
    "start_time = time.time()\n",
    "\n",
    "ville=\"Austria\" #  changer \n",
    "ressources,ressources_unavailabilities,tasks,tasks_unavailabilities = read_input(2,ville)\n",
    "# V1 : \"Bordeaux\", \"Finland\", \"GuineaGolf\", \"Italy\", \"Poland\"\n",
    "# V2 : \"Austria\", \"Australia\", \"Bordeaux\", \"Poland\", \"Spain\""
   ]
  },
  {
   "cell_type": "markdown",
   "metadata": {},
   "source": [
    "## Structures de données"
   ]
  },
  {
   "cell_type": "code",
   "execution_count": null,
   "metadata": {},
   "outputs": [],
   "source": [
    "def dist(lat1, long1, lat2, long2):\n",
    "    \"\"\"\n",
    "    fonction renvoyant la distance en kms entre deux points décrits par leur latitude et longitude\n",
    "    \"\"\"\n",
    "    if lat1==lat2 and long1==long2:\n",
    "        return 0\n",
    "    return(numpy.arccos(numpy.sin(2*numpy.pi/360*lat1)*numpy.sin(2*numpy.pi/360*lat2)+numpy.cos(2*numpy.pi/360*lat1)*numpy.cos(2*numpy.pi/360*lat2)*numpy.cos(2*numpy.pi/360*(long2-long1)))*6371)\n",
    "\n",
    "#ACOS(SIN(lat1)*SIN(lat2)+COS(lat1)*COS(lat2)*COS(lon2-lon1))*6371\n",
    "v=5/6\n",
    "\n",
    "L_ressources = [j for j in ressources] # tableau des objets ressources \n",
    "L_tasks = [i for i in tasks] # tableau des objets taches\n",
    "number_of_ressources = len(L_ressources)\n",
    "number_of_tasks = len(L_tasks)\n",
    "dict_pos = {task : (task.latitude, task.longitude) for task in tasks.values()}\n",
    "\n",
    "dict_pos = {task : (tasks[L_tasks[task]].latitude, tasks[L_tasks[task]].longitude) for task in range(number_of_tasks)}\n",
    "print(dict_pos)\n",
    "\n",
    "\n",
    "runav_id = []\n",
    "for j in range(len(L_ressources)):\n",
    "    for u in range(len(ressources[L_ressources[j]].unavailabilities)):\n",
    "        runav_id.append((j,u))\n",
    "number_of_runavailabilities = len(runav_id)\n",
    "\n",
    "tunav_id = []\n",
    "for i in range(len(L_tasks)):\n",
    "    for v in range(len(tasks[L_tasks[j]].unavailabilities)):\n",
    "        tunav_id.append((i,v))\n",
    "number_of_tunavailabilities = len(tunav_id)\n",
    "\n",
    "#distance[a][b] donne la distance de la tâche a vers la tâche b\n",
    "def distance_tache_unav():\n",
    "    distances = [[0 for j in range(number_of_tasks+number_of_runavailabilities)] for i in range(number_of_tasks+number_of_runavailabilities)]\n",
    "    for b in range(number_of_tasks+number_of_runavailabilities) :\n",
    "        for a in range(number_of_tasks+number_of_runavailabilities) :\n",
    "            if a >= number_of_tasks and b >= number_of_tasks :\n",
    "                distances[a][b] = dist(ressources[L_ressources[runav_id[a-number_of_tasks][0]]].unavailabilities[runav_id[a-number_of_tasks][1]].latitude, ressources[L_ressources[runav_id[a-number_of_tasks][0]]].unavailabilities[runav_id[a-number_of_tasks][1]].longitude, ressources[L_ressources[runav_id[b-number_of_tasks][0]]].unavailabilities[runav_id[b-number_of_tasks][1]].latitude, ressources[L_ressources[runav_id[b-number_of_tasks][0]]].unavailabilities[runav_id[b-number_of_tasks][1]].longitude)\n",
    "            elif a >= number_of_tasks and b < number_of_tasks :\n",
    "                distances[a][b] = dist(ressources[L_ressources[runav_id[a-number_of_tasks][0]]].unavailabilities[runav_id[a-number_of_tasks][1]].latitude, ressources[L_ressources[runav_id[a-number_of_tasks][0]]].unavailabilities[runav_id[a-number_of_tasks][1]].longitude, tasks[L_tasks[b]].latitude, tasks[L_tasks[b]].longitude)\n",
    "            elif a < number_of_tasks and b >= number_of_tasks :\n",
    "                distances[a][b] = dist(ressources[L_ressources[runav_id[b-number_of_tasks][0]]].unavailabilities[runav_id[b-number_of_tasks][1]].latitude, ressources[L_ressources[runav_id[b-number_of_tasks][0]]].unavailabilities[runav_id[b-number_of_tasks][1]].longitude, tasks[L_tasks[a]].latitude, tasks[L_tasks[a]].longitude)\n",
    "            else :\n",
    "                distances[a][b] = dist(tasks[L_tasks[a]].latitude,tasks[L_tasks[a]].longitude, tasks[L_tasks[b]].latitude, tasks[L_tasks[b]].longitude)\n",
    "    return distances\n",
    "distances=distance_tache_unav()\n",
    "\n",
    "#distance_m[j][i] donne la distance de la maison de j la tâche i\n",
    "def distance_maison_unav():\n",
    "    distances_m = [[0 for j in range(number_of_tasks+number_of_runavailabilities)] for i in range(number_of_ressources)]\n",
    "    for t in range(number_of_tasks+number_of_runavailabilities) :\n",
    "        for r in range(number_of_ressources) :\n",
    "            if t >= number_of_tasks :\n",
    "                distances_m[r][t] = dist(ressources[L_ressources[runav_id[t-number_of_tasks][0]]].unavailabilities[runav_id[t-number_of_tasks][1]].latitude, ressources[L_ressources[runav_id[t-number_of_tasks][0]]].unavailabilities[runav_id[t-number_of_tasks][1]].longitude, ressources[L_ressources[r]].latitude,ressources[L_ressources[r]].longitude)\n",
    "            else :\n",
    "                distances_m[r][t] = dist(ressources[L_ressources[r]].latitude,ressources[L_ressources[r]].longitude, tasks[L_tasks[t]].latitude, tasks[L_tasks[t]].longitude)\n",
    "    return distances\n",
    "distances_m=distance_maison_unav()\n",
    "\n",
    "\n",
    "#distance_m[j][i] donne la distance de la maison de j la tâche i\n",
    "#distances_m = [[dist(ressources[L_ressources[j]].latitude,ressources[L_ressources[j]].longitude, tasks[L_tasks[i]].latitude, tasks[L_tasks[i]].longitude) for i in range(number_of_tasks)] for j in range(number_of_ressources)]\n",
    "#print(distances_m)\n",
    "\n",
    "# https://gurobi.github.io/modeling-examples/technician_routing_scheduling/technician_routing_scheduling.html"
   ]
  },
  {
   "cell_type": "markdown",
   "metadata": {},
   "source": [
    "## Variables de décision"
   ]
  },
  {
   "cell_type": "code",
   "execution_count": null,
   "metadata": {},
   "outputs": [],
   "source": [
    "### Create Model\n",
    "m = Model(\"trs0\")\n",
    "\n",
    "M = 1440\n",
    "\n",
    "print(number_of_ressources)\n",
    "print(number_of_tasks)\n",
    "\n",
    "# x[(number_of_tasks+u,r)]\n",
    "# runav_id[u (general)]=(r,id (pour la personne))\n",
    "### Decision variables\n",
    "# Task-ressource assignment\n",
    "x = {(t,r) : m.addVar(vtype = GRB.BINARY, name = f'x_{t}_{r}') for r in range(number_of_ressources) for t in range(number_of_tasks)}\n",
    "for r in range(number_of_ressources):\n",
    "    for u in range(number_of_runavailabilities):\n",
    "        if runav_id[u][0]==r:\n",
    "            x[(number_of_tasks+u,r)]=1\n",
    "        else:\n",
    "            x[(number_of_tasks+u,r)]=0\n",
    "\n",
    "# Time-task assignment\n",
    "s = {t : m.addVar(vtype = GRB.INTEGER, lb = 0, ub = 1440, name = f's_{t}') for t in range(number_of_tasks)}\n",
    "#Les s_t valent entre 0 et 1440 car les contraintes de temps (entre 8h et 18h) sont contenues dans les jeux de données.\n",
    "for u in range(number_of_runavailabilities):\n",
    "    s[number_of_tasks+u]=ressources[L_ressources[runav_id[u][0]]].unavailabilities[runav_id[u][1]].unavailabilityStart\n",
    "\n",
    "# Est-ce que le travailleur se déplace entre les points a et b ?\n",
    "y = {(r,a,b) : m.addVar(vtype = GRB.BINARY, name = f'y_{r}_{a}_{b}') for r in range(number_of_ressources) for a in range(number_of_tasks+number_of_runavailabilities) for b in range(number_of_tasks+number_of_runavailabilities)}# if a != b}\n",
    "# Technician cannot leave or return to a depot that is not its base\n",
    "\n",
    "# Is the worker used ?\n",
    "u = {r: m.addVar(vtype = GRB.BINARY, name = f'u_{r}') for r in range(number_of_ressources)}\n",
    "\n",
    "# starting task of worker\n",
    "d = {(r,t) : m.addVar(vtype = GRB.BINARY, name = f'd_{r}_{t}') for r in range(number_of_ressources) for t in range(number_of_tasks+number_of_runavailabilities)}\n",
    "# ending task of worker\n",
    "f = {(r,t) : m.addVar(vtype = GRB.BINARY, name = f'f_{r}_{t}') for r in range(number_of_ressources) for t in range(number_of_tasks+number_of_runavailabilities)}\n",
    "\n",
    "#variables de linéarisation\n",
    "#H = {(r,a,b) : m.addVar(vtype = GRB.BINARY,lb = 0, ub = 1440, name = f'h_{r}_{a}_{b}') for r in range(number_of_ressources) for a in range(number_of_tasks) for b in range(number_of_tasks)}# if a != b}\n",
    "#P = {(r,a,b) : m.addVar(vtype = GRB.BINARY,lb = 0, ub = 1440, name = f'p_{r}_{a}_{b}') for r in range(number_of_ressources) for a in range(number_of_tasks) for b in range(number_of_tasks)}# if a != b}\n",
    "\n",
    "a = {v : m.addVar(vtype = GRB.BINARY, name = f'a_{v}') for v in range(number_of_tunavailabilities)}\n",
    "z = {(r,a,b) : m.addVar(vtype = GRB.BINARY, name = f'y_{r}_{a}_{b}') for r in range(number_of_ressources) for a in range(number_of_tasks+number_of_runavailabilities) for b in range(number_of_tasks+number_of_runavailabilities)}# if a != b}\n"
   ]
  },
  {
   "cell_type": "markdown",
   "metadata": {},
   "source": [
    "## Contraintes"
   ]
  },
  {
   "cell_type": "code",
   "execution_count": null,
   "metadata": {},
   "outputs": [],
   "source": [
    "# une personne est obligée de se déplacer (pas d'arrêtes de bouclage sur un point du graphe)\n",
    "C4_2 = [m.addConstr(y[(r,a,a)] == 0) for r in range(number_of_ressources) for a in range(number_of_tasks+number_of_runavailabilities)]"
   ]
  },
  {
   "cell_type": "code",
   "execution_count": null,
   "metadata": {},
   "outputs": [],
   "source": [
    "nbRpT = [LinExpr() for t in range(number_of_tasks)]\n",
    "for t in range(number_of_tasks):\n",
    "  for r in  range(number_of_ressources):\n",
    "    nbRpT[t]+=x[(t,r)]\n",
    "\n",
    "# One ressource per task\n",
    "C1 = [m.addConstr(nbRpT[t] <= 1) for t in range(number_of_tasks)]"
   ]
  },
  {
   "cell_type": "code",
   "execution_count": null,
   "metadata": {},
   "outputs": [],
   "source": [
    "nbRpTs = [LinExpr() for t in range(number_of_tasks)]\n",
    "for t in range(number_of_tasks):\n",
    "  for r in  range(number_of_ressources):\n",
    "     nbRpTs[t]+=x[(t,r)]*(ressources[L_ressources[r]].skill!=tasks[L_tasks[r]].skill)\n",
    "\n",
    " # Skilled technicians\n",
    "C2 = [m.addConstr(nbRpTs[t] == 0) for t in range(number_of_tasks)]"
   ]
  },
  {
   "cell_type": "code",
   "execution_count": null,
   "metadata": {},
   "outputs": [],
   "source": [
    "nbRpTl =[ LinExpr() for t in range(number_of_tasks)]\n",
    "for t in range(number_of_tasks):\n",
    "  for r in  range(number_of_ressources):\n",
    "    nbRpTl[t]+=x[(t,r)]*(ressources[L_ressources[r]].level-tasks[L_tasks[t]].level)\n",
    "\n",
    "# Leveled technicians\n",
    "C3 = [m.addConstr(nbRpTl[t] >= 0) for t in range(number_of_tasks)]"
   ]
  },
  {
   "cell_type": "code",
   "execution_count": null,
   "metadata": {},
   "outputs": [],
   "source": [
    "# si une personne est affectée, elle arrive jusqu'à la tâche\n",
    "C4 = {(i,j) : m.addConstr(quicksum(y[(j,a,i)] for a in range(number_of_tasks+number_of_runavailabilities)) + d[(j,i)] == x[(i,j)], name = f'arrive{i}{j}') for j in range(number_of_ressources) for i in range(number_of_tasks+number_of_runavailabilities)}\n",
    "\n",
    "# une personne doit partir après avoir exécuté sa tâche\n",
    "C5 = {(i,j) : m.addConstr(quicksum(y[(j,i,b)] for b in range(number_of_tasks+number_of_runavailabilities)) + f[(j,i)] == x[(i,j)], name = f'part{i}{j}') for j in range(number_of_ressources) for i in range(number_of_tasks+number_of_runavailabilities)}"
   ]
  },
  {
   "cell_type": "code",
   "execution_count": null,
   "metadata": {},
   "outputs": [],
   "source": [
    "# non overlapping tasks\n",
    "print(distances[0][1]/v)\n",
    "print(tasks[L_tasks[0]].duration)\n",
    "C6 = [[m.addConstr(s[b] >= s[a] + tasks[L_tasks[a]].duration + distances[a][b]/v -M*(1-quicksum(y[(j,a,b)] for j in range(number_of_ressources)))) for b in range(number_of_tasks+number_of_runavailabilities)] for a in range(number_of_tasks)]\n",
    "C6bis = [[m.addConstr(s[b] >= ressources[L_ressources[runav_id[a-number_of_tasks][0]]].unavailabilities[runav_id[a-number_of_tasks][1]].unavailabilityEnd + distances[a][b]/v -M*(1-quicksum(y[(j,a,b)] for j in range(number_of_ressources)))) for b in range(number_of_tasks,number_of_tasks+number_of_runavailabilities)] for a in range(number_of_tasks,number_of_tasks+number_of_runavailabilities)]\n"
   ]
  },
  {
   "cell_type": "code",
   "execution_count": null,
   "metadata": {},
   "outputs": [],
   "source": [
    "# une personne doit partir de chez elle si elle travaille ce jour la\n",
    "C7 = [m.addConstr(quicksum(d[(j,a)] for a in range(number_of_tasks+number_of_runavailabilities)) == u[j]) for j in range(number_of_ressources)]\n",
    "# une personne doit revenir chez elle si elle travaille ce jour la\n",
    "C8 = [m.addConstr(quicksum(f[(j,b)] for b in range(number_of_tasks+number_of_runavailabilities)) == u[j]) for j in range(number_of_ressources)]\n",
    "\n",
    "# contraintes pour lier x et u\n",
    "C9 = [m.addConstr(quicksum(x[(i,j)] for i in range(number_of_tasks+number_of_runavailabilities)) <= u[j]*M) for j in range(number_of_ressources)]"
   ]
  },
  {
   "cell_type": "code",
   "execution_count": null,
   "metadata": {},
   "outputs": [],
   "source": [
    "# la premiere tache commence apres le début de la journée\n",
    "#M=10E2\n",
    "\n",
    "# LES INDISPOS SONT EXCLUES\n",
    "C10 = [m.addConstr(s[i] >= ressources[L_ressources[j]].workingStart -M*(1-x[(i,j)]) + distances_m[j][i]/v) for i in range(number_of_tasks) for j in range(number_of_ressources)]"
   ]
  },
  {
   "cell_type": "code",
   "execution_count": null,
   "metadata": {},
   "outputs": [],
   "source": [
    "# la derniere tache finit avant la fin de la journee\n",
    "C11 = [m.addConstr(ressources[L_ressources[j]].workingEnd >= s[i]+tasks[L_tasks[i]].duration + distances_m[j][i]/v -M*(1-x[(i,j)])) for i in range(number_of_tasks) for j in range(number_of_ressources)]\n",
    "# LES INDISPOS SONT EXCLUES\n",
    "\n",
    "#C11bis = [m.addConstr(\n",
    "#    ressources[L_ressources[j]].workingEnd >= \n",
    "#    ressources[L_ressources[runav_id[a-number_of_tasks][0]]].unavailabilities[runav_id[a-number_of_tasks][1]].unavailabilityEnd + \n",
    "#    distances_m[j][i]/v -M*(1-x[(i,j)]) )\n",
    "#    for i in range(number_of_tasks,number_of_tasks+number_of_runavailabilities) for j in range(number_of_ressources) ]\n",
    "\n"
   ]
  },
  {
   "cell_type": "code",
   "execution_count": null,
   "metadata": {},
   "outputs": [],
   "source": [
    "# contraintes d'horaires d'ouverture et de fermeture des tâches\n",
    "\n",
    "# LES INDISPOS SONT EXCLUES\n",
    "\n",
    "C12 = [m.addConstrs(s[i] >= tasks[L_tasks[i]].openingTime  -M*(1-quicksum(x[(i,j)] for j in range (number_of_ressources))) for i in range(number_of_tasks))]\n",
    "C13 = [m.addConstrs(tasks[L_tasks[i]].closingTime >= s[i] + tasks[L_tasks[i]].duration - M*(1-quicksum(x[(i,j)] for j in range (number_of_ressources)))for i in range(number_of_tasks))]"
   ]
  },
  {
   "cell_type": "code",
   "execution_count": null,
   "metadata": {},
   "outputs": [],
   "source": [
    "C14 = [[[m.addConstr(distances[a][b]/v+s[a]+60+tasks[L_tasks[a]].duration <= s[b] + z[(r,a,b)]*M) for r in range(number_of_ressources)] for b in range (number_of_tasks+number_of_runavailabilities)] for a in range(number_of_tasks)]\n",
    "C14bis = [[[m.addConstr( (distances[a][b]/v+60+ressources[L_ressources[runav_id[a-number_of_tasks][0]]].unavailabilities[runav_id[a-number_of_tasks][1]].unavailabilityEnd) <= (s[b] + z[(r,a,b)]*M) ) for r in range(number_of_ressources)] for b in range (number_of_tasks+number_of_runavailabilities)] for a in range(number_of_tasks,number_of_tasks+number_of_runavailabilities)]\n",
    "#C15 = [m.addConstrs(s[b] >= 13*60 - M*(1-quicksum(z[(r,a,b)] for r in range(number_of_ressources))) for a in range(number_of_tasks+number_of_runavailabilities) for b in range(number_of_tasks+number_of_runavailabilities))] \n",
    "#C16 = [m.addConstrs(s[a] + tasks[L_tasks[a]].duration <= 13*60 + M*(1-quicksum(z[(r,a,b)] for r in range(number_of_ressources))) for a in range(number_of_tasks) for b in range(number_of_tasks))]\n",
    "#C16bis = [m.addConstrs(ressources[L_ressources[runav_id[a-number_of_tasks][0]]].unavailabilities[runav_id[a-number_of_tasks][1]].unavailabilityEnd <= 13*60 + M*(1-quicksum(z[(r,a,b)] for r in range(number_of_ressources))) for a in range(number_of_tasks,number_of_tasks+number_of_runavailabilities) for b in range(number_of_tasks, number_of_tasks+number_of_runavailabilities))]\n",
    "#C17 = [m.addConstr(s[t] -M*(1-quicksum(x[(i,j)] for j in range (number_of_ressources))) + tasks[L_tasks[i]].duration <= tasks[L_tasks[t]].unavailibilities[R].unavailabilityStart for (t,R) in runav_id for t in range(number_of_tasks))]\n",
    "#C18 = [m.addConstr(s[t] -M*(1-quicksum(x[(i,j)] for j in range (number_of_ressources))) + M*(1-a[(t,R)]) >= tasks[L_tasks[t]].unavailibilities[R].unavailabilityEnd for (t,R) in runav_id for t in range(number_of_tasks))]"
   ]
  },
  {
   "cell_type": "code",
   "execution_count": null,
   "metadata": {},
   "outputs": [],
   "source": [
    "Calpha = [[m.addConstr(z[(r,a,b)]<=z[(r,a,b)]) for r in range(number_of_ressources)] for a in range(number_of_tasks+number_of_runavailabilities)]"
   ]
  },
  {
   "cell_type": "code",
   "execution_count": null,
   "metadata": {},
   "outputs": [],
   "source": [
    "# contrainte évitant d'avoir des cycles dans les graphes (permet que les tâches soient reliées entre elles)\n",
    "C19 = [m.addConstr(y[(j,a,b)] + y[(j,b,a)] <=1) for a in range(number_of_tasks+number_of_runavailabilities) for b in range(number_of_tasks+number_of_runavailabilities) for j in range(number_of_ressources)]\n",
    "C20 = [m.addConstr(d[(j,a)] + f[(j,a)] <=1) for a in range(number_of_tasks+number_of_runavailabilities) for j in range(number_of_ressources)]"
   ]
  },
  {
   "cell_type": "markdown",
   "metadata": {},
   "source": [
    "## Fonction objectif et résolution"
   ]
  },
  {
   "cell_type": "code",
   "execution_count": null,
   "metadata": {},
   "outputs": [],
   "source": [
    "epsilon = 0.0001\n",
    "\n",
    "couts=LinExpr()\n",
    "for j in range(number_of_ressources):\n",
    "  for a in range(number_of_tasks+number_of_runavailabilities):\n",
    "    for b in range(number_of_tasks+number_of_runavailabilities):\n",
    "      couts+=y[(j,a,b)]*distances[a][b]/v\n",
    "    couts+=d[(j,a)]*distances_m[j][a]/v\n",
    "    couts+=f[(j,a)]*distances_m[j][a]/v\n",
    "\n",
    "duree=LinExpr()\n",
    "for r in range(number_of_ressources):\n",
    "  for t in range(number_of_tasks):\n",
    "    duree+=x[(r,t)]*tasks[L_tasks[t]].duration\n",
    "\n",
    "# minimiser-(la durée totale des tâches exécutées)\n",
    "obj1 = -duree\n",
    "# minimiser le coût opérationnel\n",
    "obj2 = couts\n",
    "\n",
    "solutions_efficaces = list()\n",
    "\n",
    "# -- Ajout de la fonction objectif --\n",
    "m.setObjective(obj1, GRB.MINIMIZE)\n",
    "\n",
    "# -- Choix d'un paramétrage d'affichage minimaliste --\n",
    "m.params.outputflag = 0 # mode muet\n",
    "m.update()\n",
    "m.display()\n",
    "m.optimize()\n",
    "\n",
    "\n",
    "it = 0\n",
    "while m.status != GRB.INFEASIBLE:\n",
    "    sol = (round(m.objVal,2), round(obj2.getValue()*100,2))\n",
    "    print(\"itération {} solution {}\".format(it, sol))\n",
    "    solutions_efficaces.append(sol)\n",
    "    \n",
    "    \n",
    "    # - \n",
    "    it += 1\n",
    "    # -- Ajout de l'epsilon constraint\n",
    "    m.addConstr(obj2 <= obj2.getValue() - epsilon, name=f'epsilon_constraint_{it}')\n",
    "    # -- Mise à jour du modèle  --\n",
    "    m.update()\n",
    "    # -- Résolution --\n",
    "    m.optimize()"
   ]
  },
  {
   "cell_type": "code",
   "execution_count": null,
   "metadata": {},
   "outputs": [],
   "source": [
    "# -- Affichage de la solution --\n",
    "\n",
    "t=open(\"Solution\"+ville+\"V2ByV4.txt\",'w'.format(ville))\n",
    "res=\"taskId;performed;employeeName;startTime;\\n\"\n",
    "for j in range(number_of_tasks):\n",
    "  p=False\n",
    "  for i in range(number_of_ressources):\n",
    "    if round(x[(j,i)].x):\n",
    "      res+=\"{};{};{};{};\\n\".format(L_tasks[j],1,L_ressources[i],int(s[j].x))\n",
    "      p=True\n",
    "  if not p:\n",
    "    res+=\"{};;;;\\n\".format(L_tasks[j])\n",
    "print(res)\n",
    "t.write(res)\n",
    "t.close()\n",
    "\n",
    "print(\"###########################\")\n",
    "\n",
    "for a in range(number_of_tasks):\n",
    "  for b in range(number_of_tasks):\n",
    "    j=0\n",
    "    if  round(y[(j,a,b)].x)==1:\n",
    "      print(\"j{} - a{} - b{} - y{} // \".format(j, a,b,y[(j,a,b)].x), end=\"\")\n",
    "\n",
    "print('\\n') \n",
    "print(\"###########################\")\n",
    "\n",
    "for a in range(number_of_tasks):\n",
    "  j=0\n",
    "  if  round(d[(j,a)].x)==1:\n",
    "    print(\"j{} - a{} - d{} // \".format(j, a,d[(j,a)].x), end=\"\")\n",
    "\n",
    "\n",
    "print('\\n\\n')\n",
    "for a in range(number_of_tasks):\n",
    "  j=0\n",
    "  if  round(f[(j,a)].x)==1:\n",
    "    print(\"j{} - a{} - d{} // \".format(j, a,f[(j,a)].x), end=\"\")\n",
    "\n",
    "interval = time.time() - start_time"
   ]
  },
  {
   "cell_type": "code",
   "execution_count": null,
   "metadata": {},
   "outputs": [],
   "source": [
    "print(\"temps de calcul : \", interval)\n",
    "print(\"valeur de la fonction objectif : \", m.ObjVal)"
   ]
  },
  {
   "cell_type": "markdown",
   "metadata": {},
   "source": [
    "## Vérification de la solution"
   ]
  },
  {
   "cell_type": "code",
   "execution_count": null,
   "metadata": {},
   "outputs": [],
   "source": [
    "# affichage de la carte\n",
    "import folium\n",
    "\n",
    "lat_tot,long_tot=0,0\n",
    "for a in range(number_of_tasks):\n",
    "  lat_tot+=tasks[L_tasks[a]].latitude\n",
    "  long_tot+=tasks[L_tasks[a]].longitude\n",
    "mid_latitude = lat_tot/number_of_tasks\n",
    "mid_longitude = long_tot/number_of_tasks\n",
    "carte=folium.Map(location=[mid_latitude, mid_longitude],zoom_start=10)\n",
    "for a in range(number_of_tasks):\n",
    "  folium.Marker([tasks[L_tasks[a]].latitude, tasks[L_tasks[a]].longitude],icon=folium.Icon(color='black')).add_to(carte)\n",
    "list_colors = ['darkgreen', 'blue', 'red', 'green', 'darkpurple', 'lightred', 'purple', 'pink', 'orange', 'darkblue', 'gray', 'darkred']\n",
    "number_of_colors = len(list_colors)\n",
    "print(number_of_colors)\n",
    "counter = 0\n",
    "for r in range(number_of_ressources):\n",
    "  color_r = list_colors[counter % number_of_colors]\n",
    "  folium.Marker([ressources[L_ressources[r]].latitude,ressources[L_ressources[r]].longitude],icon=folium.Icon(color=color_r)).add_to(carte)\n",
    "  for a in range(number_of_tasks):\n",
    "    for b in range(number_of_tasks):\n",
    "      if round(y[(r,a,b)].x) == 1:\n",
    "        line_ab = [(tasks[L_tasks[a]].latitude, tasks[L_tasks[a]].longitude),(tasks[L_tasks[b]].latitude, tasks[L_tasks[b]].longitude)]\n",
    "        folium.PolyLine(line_ab, color=color_r, weight=2.5, opacity=0.8).add_to(carte)\n",
    "    if round(d[(r,a)].x) == 1:\n",
    "      line_home_t = [(ressources[L_ressources[r]].latitude,ressources[L_ressources[r]].longitude), (tasks[L_tasks[a]].latitude, tasks[L_tasks[a]].longitude)]\n",
    "      folium.PolyLine(line_home_t, color=color_r, weight=2.5, opacity=0.8).add_to(carte)\n",
    "    if round(f[(r,a)].x) == 1:\n",
    "      line_t_home = [(tasks[L_tasks[a]].latitude, tasks[L_tasks[a]].longitude), (ressources[L_ressources[r]].latitude,ressources[L_ressources[r]].longitude)]\n",
    "      folium.PolyLine(line_t_home, color=color_r, weight=2.5, opacity=0.8).add_to(carte)\n",
    "  counter+=1\n",
    "\n",
    "carte.save('Cartographie/Cartev1.html')\n",
    "\n",
    "carte"
   ]
  },
  {
   "cell_type": "code",
   "execution_count": null,
   "metadata": {},
   "outputs": [],
   "source": [
    "import plotly.express as px\n",
    "import pandas as pd\n",
    "\n",
    "# plotting the working tasks\n",
    "liste=[]\n",
    "for i in range(number_of_ressources):\n",
    "    for j in range(number_of_tasks):\n",
    "        if round(x[(j,i)].x):\n",
    "            start=int(s[j].x)\n",
    "            end=(int(s[j].x)+tasks[L_tasks[j]].duration)\n",
    "            liste.append(dict(Task=L_ressources[i], Start=start, Finish=end, Resource=\"executing task\",J=\"tâche \"+str(j)))\n",
    "\n",
    "# plotting the transports\n",
    "for a in range(number_of_tasks):\n",
    "    for b in range(number_of_tasks):\n",
    "        for j in range(number_of_ressources):\n",
    "            if round(y[(j,a,b)].x):\n",
    "                start=(int(s[a].x)+tasks[L_tasks[a]].duration)\n",
    "                end=(start+distances[a][b]/v)\n",
    "                liste.append(dict(Task=L_ressources[j], Start=start, Finish=end, Resource=\"moving\",J=\"trajet \"+str(a)+\"-\"+str(b)))\n",
    "\n",
    "# plotting the first transport\n",
    "for a in range(number_of_tasks):\n",
    "    for j in range(number_of_ressources):\n",
    "        if round(d[(j,a)].x):\n",
    "            start=(s[a].x-distances_m[j][a]/v)\n",
    "            end=s[a].x\n",
    "            liste.append(dict(Task=L_ressources[j], Start=start, Finish=end, Resource=\"depart\",J=\"trajet maison -\"+str(a)))\n",
    "\n",
    "# plotting the last transport\n",
    "for a in range(number_of_tasks):\n",
    "    for j in range(number_of_ressources):\n",
    "        if round(f[(j,a)].x):\n",
    "            start=(s[a].x + tasks[L_tasks[i]].duration)\n",
    "            end=(start+ distances_m[j][a]/v)\n",
    "            liste.append(dict(Task=L_ressources[j], Start=start, Finish=end, Resource=\"depart\",J=str(a)+\"- trajet maison\"))\n",
    "\n",
    "df = pd.DataFrame(liste)\n",
    "df['delta'] = df['Finish'] - df['Start']\n",
    "\n",
    "fig = px.timeline(df, x_start=\"Start\", x_end=\"Finish\", y=\"Task\",text=\"J\")\n",
    "\n",
    "fig.layout.xaxis.type = 'linear'\n",
    "fig.data[0].x = df.delta.tolist()\n",
    "fig.show()"
   ]
  },
  {
   "cell_type": "code",
   "execution_count": null,
   "metadata": {},
   "outputs": [],
   "source": [
    "# check que les techniciens ont le bon niveau et les bonnes compétences pour les tâches exécutées\n",
    "a = True\n",
    "for i in range(number_of_ressources):\n",
    "    for j in range(number_of_tasks):\n",
    "        if round(x[(j,i)].x):\n",
    "            # check que le skill est bon\n",
    "            if ressources[L_ressources[i]].skill!=tasks[L_tasks[i]].skill:\n",
    "                print(\"fail r,t \",i,j)\n",
    "                a = False\n",
    "            # check que le level est bon\n",
    "            if ressources[L_ressources[i]].level < tasks[L_tasks[j]].level:\n",
    "                print(\"fail r,t \",i,j)\n",
    "                a = False\n",
    "if a :\n",
    "    print(\"Les techniciens ont bien les bonnes compétences et le bon niveau pour toutes les tâches exécutées\")\n",
    "            "
   ]
  },
  {
   "cell_type": "code",
   "execution_count": null,
   "metadata": {},
   "outputs": [],
   "source": [
    "# check que les contraintes d'ouverture et de fermeture des tâches sont respectées en début et fin de journée\n",
    "a = True\n",
    "for i in range(number_of_ressources):\n",
    "    for j in range(number_of_tasks):\n",
    "        if round(x[(j,i)].x):\n",
    "            if s[i].x < tasks[L_tasks[i]].openingTime:\n",
    "                print(\"fail r,t \",i,j)\n",
    "                a = False\n",
    "            if tasks[L_tasks[i]].closingTime < s[i].x + tasks[L_tasks[i]].duration :\n",
    "                print(\"fail r,t \",i,j)\n",
    "                a = False\n",
    "\n",
    "            \n",
    "            \n",
    "if a :\n",
    "    print(\"Les contraintes d'ouverture et de fermeture des tâches sont respectées\")"
   ]
  },
  {
   "cell_type": "code",
   "execution_count": null,
   "metadata": {},
   "outputs": [],
   "source": [
    "# chaque employé possède une pause midi d’une durée d’1h à placer entre 12h et 14h, dans un lieu quelconque\n",
    "u = False\n",
    "for i in range(number_of_ressources):\n",
    "    for a in range(number_of_tasks+number_of_runavailabilities):\n",
    "        for b in range(number_of_tasks+number_of_runavailabilities):\n",
    "            if round(z[(i,a,b)].x):\n",
    "                u = True\n",
    "                print(\"l'employé \", i+1, \" fait sa pause entre les tâches \", a+1, \"et \", b+1)\n",
    "    if u ==False:\n",
    "        print(\"l'employé \", i+1, \"n'a pas de pause !!\")\n"
   ]
  },
  {
   "cell_type": "code",
   "execution_count": null,
   "metadata": {},
   "outputs": [],
   "source": [
    "# certains employés peuvent avoir des périodes d’indisponibilité dans la journée\n",
    " \n",
    "a = True\n",
    "for r in range(number_of_ressources):\n",
    "    for R,id in runav_id:\n",
    "        if r == R:\n",
    "            for t in range(number_of_tasks):\n",
    "                if round(x[(r,t)].x):\n",
    "                    if s[t]<= ressources[L_ressources[runav_id[a-number_of_tasks][0]]].unavailabilities[runav_id[a-number_of_tasks][1]].unavailabilityStart:\n",
    "                        if s[t]+ tasks[L_tasks[j]].duration > ressources[L_ressources[runav_id[a-number_of_tasks][0]]].unavailabilities[runav_id[a-number_of_tasks][1]].unavailabilityStart:\n",
    "                            print(\"la personne \", r+1, \"fait la tâche \", t+1, \"alors qu'elle a une indisponibilité \", id+1)\n",
    "                            a = False\n",
    "                    elif s[t]< ressources[L_ressources[runav_id[a-number_of_tasks][0]]].unavailabilities[runav_id[a-number_of_tasks][1]].unavailabilityEnd:\n",
    "                        print(\"la personne \", r+1, \"fait la tâche \", t+1, \"alors qu'elle a une indisponibilité \", id+1)\n",
    "                        a = False\n",
    "\n",
    "if a :\n",
    "    print(\"les indispos sont respectées\")\n",
    "\n",
    "# x[(number_of_tasks+u,r)]\n",
    "# runav_id[u (general)]=(r,id (pour la personne))"
   ]
  },
  {
   "cell_type": "code",
   "execution_count": null,
   "metadata": {},
   "outputs": [],
   "source": [
    "# certaines tâches ne peuvent pas être faites à certains créneaux\n",
    " \n",
    "a = True\n",
    "for t in range(number_of_tasks):\n",
    "    for T,id in tunav_id:\n",
    "        if r == T:\n",
    "            for r in range(number_of_ressources):\n",
    "                if round(x[(r,t)].x):\n",
    "                    if s[t]<= ressources[L_ressources[runav_id[a-number_of_tasks][0]]].unavailabilities[runav_id[a-number_of_tasks][1]].unavailabilityStart:\n",
    "                        if s[t]+ tasks[L_tasks[j]].duration > ressources[L_ressources[runav_id[a-number_of_tasks][0]]].unavailabilities[runav_id[a-number_of_tasks][1]].unavailabilityStart:\n",
    "                            print(\"la personne \", r+1, \"fait la tâche \", t+1, \"alors qu'elle a une indisponibilité \", id+1)\n",
    "                            a = False\n",
    "                    elif s[t]< ressources[L_ressources[runav_id[a-number_of_tasks][0]]].unavailabilities[runav_id[a-number_of_tasks][1]].unavailabilityEnd:\n",
    "                        print(\"la personne \", r+1, \"fait la tâche \", t+1, \"alors qu'elle a une indisponibilité \", id+1)\n",
    "                        a = False\n",
    "\n",
    "if a :\n",
    "    print(\"les indispos sont respectées\")\n",
    "\n",
    "# x[(number_of_tasks+u,r)]\n",
    "# runav_id[u (general)]=(r,id (pour la personne))"
   ]
  },
  {
   "cell_type": "code",
   "execution_count": null,
   "metadata": {},
   "outputs": [],
   "source": [
    "\"\"\"\n",
    "coder convexite\n",
    "\n",
    "check que les tasks et ressources unavailabilities sont respectées\n",
    "\n",
    "coder EDT pause dej\n",
    "\n",
    "lieu propre deb et fin de journee\n",
    "\n",
    "voir si adapte les M en fonction des contraintes\n",
    "\"\"\""
   ]
  },
  {
   "cell_type": "code",
   "execution_count": null,
   "metadata": {},
   "outputs": [],
   "source": [
    "\"\"\"\n",
    "- l’objectif est de maximiser la durée totale des tâches réalisées à coût opérationnel minimum ;\n",
    "- chaque employé part en début de journée et rentre en fin de journée en un lieu qui lui est propre ;\n",
    "- chaque employé possède une pause midi d’une durée d’1h à placer entre 12h et 14h, dans un lieu\n",
    "quelconque ;\n",
    "- certains employés peuvent avoir des périodes d’indisponibilité dans la journée, associées à des lieux\n",
    "précisés. Les employés doivent se trouver en le lieu donné au début de la période et le quitter à la fin ;\n",
    "- les lieux de certaines tâches peuvent être ouverts sur plusieurs créneaux disjoints dans la journée\n",
    "\"\"\""
   ]
  }
 ],
 "metadata": {
  "interpreter": {
   "hash": "4badd61a3eb0a98b49024dc08b6e569de2eac3230396ff1e691db44e3b600cf6"
  },
  "kernelspec": {
   "display_name": "Python 3.9.6 64-bit",
   "language": "python",
   "name": "python3"
  },
  "language_info": {
   "codemirror_mode": {
    "name": "ipython",
    "version": 3
   },
   "file_extension": ".py",
   "mimetype": "text/x-python",
   "name": "python",
   "nbconvert_exporter": "python",
   "pygments_lexer": "ipython3",
   "version": "3.8.12"
  },
  "orig_nbformat": 4
 },
 "nbformat": 4,
 "nbformat_minor": 2
}
