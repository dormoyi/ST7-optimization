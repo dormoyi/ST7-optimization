{
 "cells": [
  {
   "cell_type": "markdown",
   "metadata": {},
   "source": [
    "# Partie 1"
   ]
  },
  {
   "cell_type": "markdown",
   "metadata": {},
   "source": [
    "## Modules"
   ]
  },
  {
   "cell_type": "code",
   "execution_count": 23,
   "metadata": {},
   "outputs": [],
   "source": [
    "import openpyxl\n",
    "from read_input import read_input\n",
    "\n",
    "from gurobipy import *\n",
    "import math\n",
    "import numpy \n",
    "import time"
   ]
  },
  {
   "cell_type": "markdown",
   "metadata": {},
   "source": [
    "## Lecture des données"
   ]
  },
  {
   "cell_type": "code",
   "execution_count": 24,
   "metadata": {},
   "outputs": [],
   "source": [
    "start_time = time.time()\n",
    "\n",
    "ville=\"Austria\" #  changer \n",
    "ressources,ressources_unavailabilities,tasks,tasks_unavailabilities = read_input(2,ville)\n",
    "# V1 : \"Bordeaux\", \"Finland\", \"GuineaGolf\", \"Italy\", \"Poland\"\n",
    "# V2 : \"Austria\", \"Australia\", \"Bordeaux\", \"Poland\", \"Spain\""
   ]
  },
  {
   "cell_type": "markdown",
   "metadata": {},
   "source": [
    "## Structures de données"
   ]
  },
  {
   "cell_type": "code",
   "execution_count": 25,
   "metadata": {},
   "outputs": [
    {
     "name": "stdout",
     "output_type": "stream",
     "text": [
      "{0: (48.129326, 15.754151), 1: (47.24007, 15.429835), 2: (47.803338, 15.348212), 3: (47.912735, 15.539092), 4: (47.239838, 15.231126), 5: (47.718508, 15.856215), 6: (47.691029, 15.978986), 7: (47.904305, 15.987572), 8: (48.252195, 15.15868), 9: (48.233278, 15.094242), 10: (47.878591, 14.34759), 11: (47.151374, 15.559485), 12: (48.072686, 14.499672), 13: (47.508725, 15.979283), 14: (48.182121, 15.480502), 15: (47.307187, 16.029526), 16: (48.174373, 15.768126), 17: (47.69636, 14.639145), 18: (47.465584, 15.662254), 19: (47.623501, 15.927956), 20: (47.893446, 15.138992), 21: (47.798841, 15.81416), 22: (47.430093, 15.794309), 23: (48.178337, 15.143931), 24: (47.381618, 16.094357), 25: (47.808981, 15.206235), 26: (47.947702, 15.950039), 27: (47.160069, 15.910739), 28: (47.828879, 15.253404), 29: (47.645528, 15.907399), 30: (47.399444, 15.535414)}\n",
      "[[55.80303023377477, 78.57279017028804, 63.801055757419114, 53.21975500931482, 90.07207973480966, 25.22467570229001, 16.425518321374174, 25.363642137186236, 96.92218119317972, 99.57241262762659, 138.94214104845983, 79.4387723886837, 132.11990663330698, 28.710189981100317, 73.66447714048863, 47.827182935624755, 59.362761241269396, 116.3241367325338, 49.033718398460834, 22.734789320444108, 80.9926259416155, 29.577457632150907, 44.221905809943124, 93.13185843005877, 38.66176318126721, 74.39708429869437, 30.904047497057334, 66.08728847177423, 71.22190325278397, 23.06756150737808, 61.07577959461526], [59.160630028330694, 47.91037320620762, 39.89329440808913, 39.5631445000402, 57.61969822677824, 14.454251002766924, 17.85700419353851, 37.306119093204096, 86.45608774619507, 87.43610409785579, 111.93680924697091, 52.453047696035625, 109.5162731499212, 17.617523906754922, 68.83866375228399, 37.16699429527922, 64.13715893108225, 86.53722973626978, 17.341359544166956, 11.092563491327343, 58.43625969780993, 22.47355256927842, 18.648420886028283, 80.33532807896488, 33.427967455096606, 49.273372332897225, 40.827007715787325, 49.57276947938301, 47.35857747148398, 10.602918582442918, 28.94027336765326], [66.5285118037209, 113.69918006144401, 56.07685457105101, 58.954851471161604, 109.04168474755397, 90.6445581744513, 99.93334257442906, 89.46359326430311, 23.12190531580344, 17.944111964020777, 51.457078844865386, 126.60222170080831, 29.786152414665402, 112.55191309465265, 45.887251729775755, 131.24897904587993, 67.2282683318715, 57.17075636897101, 100.16381654178764, 101.3091974209986, 38.7451640627002, 83.07107148845203, 109.36911823489655, 20.960736890747807, 128.57165404027958, 49.3739919499395, 85.19006859070615, 138.72676304121552, 49.47674973806447, 98.58011963234844, 101.14421421462221], [94.50813612257474, 116.24127488697758, 70.79930784732429, 80.37305255207342, 107.84805538882826, 109.44094007142498, 119.11009164789225, 113.34246308110426, 53.973391974456106, 48.76158781467261, 23.527191782291926, 130.030448778661, 1.178992152433523, 127.87326620968506, 74.9710579953652, 143.35526949742828, 95.98219873909704, 43.03291364595614, 110.6846674926535, 118.56019653407664, 52.47823332508093, 103.50750241452471, 120.9854739218909, 50.41518395799282, 142.62464142976083, 61.04594810987179, 109.84439503308631, 147.12401175017834, 63.18425912397273, 116.13306199447973, 108.26629890585845], [79.94130308881113, 25.524026043086877, 37.807960120724374, 51.91523002191011, 26.443421034867022, 47.32856078223412, 53.47297513805816, 68.36979823391785, 88.88486219189048, 87.73363906577165, 88.19258305656554, 38.0802264104272, 92.95212883779062, 47.47235620549358, 80.50786282394527, 53.9464761552749, 84.97461430937732, 59.35618985760588, 23.392023950148953, 46.81892363246455, 50.39409602259473, 50.94964702572247, 33.533134316168436, 80.99581171125375, 56.650912156783605, 39.9379923385072, 70.06732964219934, 54.01159640846825, 41.300930694769605, 46.40347524703611, 15.57833441619086]]\n"
     ]
    }
   ],
   "source": [
    "def dist(lat1, long1, lat2, long2):\n",
    "    \"\"\"\n",
    "    fonction renvoyant la distance en kms entre deux points décrits par leur latitude et longitude\n",
    "    \"\"\"\n",
    "    if lat1==lat2 and long1==long2:\n",
    "        return 0\n",
    "    return(numpy.arccos(numpy.sin(2*numpy.pi/360*lat1)*numpy.sin(2*numpy.pi/360*lat2)+numpy.cos(2*numpy.pi/360*lat1)*numpy.cos(2*numpy.pi/360*lat2)*numpy.cos(2*numpy.pi/360*(long2-long1)))*6371)\n",
    "\n",
    "#ACOS(SIN(lat1)*SIN(lat2)+COS(lat1)*COS(lat2)*COS(lon2-lon1))*6371\n",
    "v=5/6\n",
    "\n",
    "L_ressources = [j for j in ressources] # tableau des objets ressources \n",
    "L_tasks = [i for i in tasks] # tableau des objets taches\n",
    "number_of_ressources = len(L_ressources)\n",
    "number_of_tasks = len(L_tasks)\n",
    "dict_pos = {task : (task.latitude, task.longitude) for task in tasks.values()}\n",
    "\n",
    "dict_pos = {task : (tasks[L_tasks[task]].latitude, tasks[L_tasks[task]].longitude) for task in range(number_of_tasks)}\n",
    "print(dict_pos)\n",
    "\n",
    "\n",
    "runav_id = []\n",
    "for j in range(len(L_ressources)):\n",
    "    for u in range(len(ressources[L_ressources[j]].unavailabilities)):\n",
    "        runav_id.append((j,u))\n",
    "number_of_runavailabilities = len(runav_id)\n",
    "\n",
    "tunav_id = []\n",
    "for i in range(len(L_tasks)):\n",
    "    for v in range(len(tasks[L_tasks[j]].unavailabilities)):\n",
    "        tunav_id.append((i,v))\n",
    "number_of_tunavailabilities = len(tunav_id)\n",
    "\n",
    "#distance[a][b] donne la distance de la tâche a vers la tâche b\n",
    "def distance_tache_unav():\n",
    "    distances = [[0 for j in range(number_of_tasks+number_of_runavailabilities)] for i in range(number_of_tasks+number_of_runavailabilities)]\n",
    "    for b in range(number_of_tasks+number_of_runavailabilities) :\n",
    "        for a in range(number_of_tasks+number_of_runavailabilities) :\n",
    "            if a >= number_of_tasks and b >= number_of_tasks :\n",
    "                distances[a][b] = dist(L_ressources[runav_id[a-number_of_tasks][0]].unavailabilities[runav_id[a-number_of_tasks][1]].latitude, L_ressources[runav_id[a-number_of_tasks][0]].unavailabilities[runav_id[a-number_of_tasks][1]].longitude, L_ressources[runav_id[b-number_of_tasks][0]].unavailabilities[runav_id[b-number_of_tasks][1]].latitude, L_ressources[runav_id[b-number_of_tasks][0]].unavailabilities[runav_id[b-number_of_tasks][1]].longitude)\n",
    "            elif a >= number_of_tasks and b < number_of_tasks :\n",
    "                distances[a][b] = dist(L_ressources[runav_id[a-number_of_tasks][0]].unavailabilities[runav_id[a-number_of_tasks][1]].latitude, L_ressources[runav_id[a-number_of_tasks][0]].unavailabilities[runav_id[a-number_of_tasks][1]].longitude, tasks[L_tasks[b]].latitude, tasks[L_tasks[b]].longitude)\n",
    "            elif a < number_of_tasks and b >= number_of_tasks :\n",
    "                distances[a][b] = dist(L_ressources[runav_id[b-number_of_tasks][0]].unavailabilities[runav_id[b-number_of_tasks][1]].latitude, L_ressources[runav_id[b-number_of_tasks][0]].unavailabilities[runav_id[b-number_of_tasks][1]].longitude, tasks[L_tasks[a]].latitude, tasks[L_tasks[a]].longitude)\n",
    "            else :\n",
    "                distances[a][b] = dist(tasks[L_tasks[a]].latitude,tasks[L_tasks[a]].longitude, tasks[L_tasks[b]].latitude, tasks[L_tasks[b]].longitude)\n",
    "    return(distances)\n",
    "#distance_m[j][i] donne la distance de la maison de j la tâche i\n",
    "distances_m = [[dist(ressources[L_ressources[j]].latitude,ressources[L_ressources[j]].longitude, tasks[L_tasks[i]].latitude, tasks[L_tasks[i]].longitude) for i in range(number_of_tasks)] for j in range(number_of_ressources)]\n",
    "print(distances_m)\n",
    "\n",
    "# https://gurobi.github.io/modeling-examples/technician_routing_scheduling/technician_routing_scheduling.html"
   ]
  },
  {
   "cell_type": "markdown",
   "metadata": {},
   "source": [
    "## Variables de décision"
   ]
  },
  {
   "cell_type": "code",
   "execution_count": 26,
   "metadata": {},
   "outputs": [
    {
     "name": "stdout",
     "output_type": "stream",
     "text": [
      "5\n",
      "31\n"
     ]
    }
   ],
   "source": [
    "### Create Model\n",
    "m = Model(\"trs0\")\n",
    "\n",
    "M = 1440\n",
    "\n",
    "print(number_of_ressources)\n",
    "print(number_of_tasks)\n",
    "\n",
    "# x[(number_of_tasks+u,r)]\n",
    "# runav_id[u (general)]=(r,id (pour la personne))\n",
    "### Decision variables\n",
    "# Task-ressource assignment\n",
    "x = {(t,r) : m.addVar(vtype = GRB.BINARY, name = f'x_{t}_{r}') for r in range(number_of_ressources) for t in range(number_of_tasks)}\n",
    "for r in range(number_of_ressources):\n",
    "    for u in range(number_of_runavailabilities):\n",
    "        if runav_id[u][0]==r:\n",
    "            x[(number_of_tasks+u,r)]=1\n",
    "        else:\n",
    "            x[(number_of_tasks+u,r)]=0\n",
    "\n",
    "# Time-task assignment\n",
    "s = {t : m.addVar(vtype = GRB.INTEGER, lb = 0, ub = 1440, name = f's_{t}') for t in range(number_of_tasks)}\n",
    "#Les s_t valent entre 0 et 1440 car les contraintes de temps (entre 8h et 18h) sont contenues dans les jeux de données.\n",
    "for u in range(number_of_runavailabilities):\n",
    "    s[number_of_tasks+u]=ressources[L_ressources[runav_id[u][0]]].unavailabilities[runav_id[u][1]].unavailabilityStart\n",
    "\n",
    "\n",
    "# Est-ce que le travailleur se déplace entre les points a et b ?\n",
    "y = {(r,a,b) : m.addVar(vtype = GRB.BINARY, name = f'y_{r}_{a}_{b}') for r in range(number_of_ressources) for a in range(number_of_tasks+number_of_runavailabilities) for b in range(number_of_tasks+number_of_runavailabilities)}# if a != b}\n",
    "# Technician cannot leave or return to a depot that is not its base\n",
    "\n",
    "# Is the worker used ?\n",
    "u = {r: m.addVar(vtype = GRB.BINARY, name = f'u_{r}') for r in range(number_of_ressources)}\n",
    "\n",
    "# starting task of worker\n",
    "d = {(r,t) : m.addVar(vtype = GRB.BINARY, name = f'd_{r}_{t}') for r in range(number_of_ressources) for t in range(number_of_tasks+number_of_runavailabilities)}\n",
    "# ending task of worker\n",
    "f = {(r,t) : m.addVar(vtype = GRB.BINARY, name = f'f_{r}_{t}') for r in range(number_of_ressources) for t in range(number_of_tasks+number_of_runavailabilities)}\n",
    "\n",
    "#variables de linéarisation\n",
    "#H = {(r,a,b) : m.addVar(vtype = GRB.BINARY,lb = 0, ub = 1440, name = f'h_{r}_{a}_{b}') for r in range(number_of_ressources) for a in range(number_of_tasks) for b in range(number_of_tasks)}# if a != b}\n",
    "#P = {(r,a,b) : m.addVar(vtype = GRB.BINARY,lb = 0, ub = 1440, name = f'p_{r}_{a}_{b}') for r in range(number_of_ressources) for a in range(number_of_tasks) for b in range(number_of_tasks)}# if a != b}\n",
    "\n",
    "a = {v : m.addVar(vtype = GRB.BINARY, name = f'a_{v}') for v in range(number_of_tunavailabilities)}\n",
    "z = {(r,a,b) : m.addVar(vtype = GRB.BINARY, name = f'y_{r}_{a}_{b}') for r in range(number_of_ressources) for a in range(number_of_tasks+number_of_runavailabilities) for b in range(number_of_tasks+number_of_runavailabilities)}# if a != b}\n"
   ]
  },
  {
   "cell_type": "markdown",
   "metadata": {},
   "source": [
    "## Contraintes"
   ]
  },
  {
   "cell_type": "code",
   "execution_count": 27,
   "metadata": {},
   "outputs": [],
   "source": [
    "# une personne est obligée de se déplacer (pas d'arrêtes de bouclage sur un point du graphe)\n",
    "C4_2 = [m.addConstr(y[(r,a,a)] == 0) for r in range(number_of_ressources) for a in range(number_of_tasks+number_of_runavailabilities)]"
   ]
  },
  {
   "cell_type": "code",
   "execution_count": 28,
   "metadata": {},
   "outputs": [],
   "source": [
    "nbRpT = [LinExpr() for t in range(number_of_tasks)]\n",
    "for t in range(number_of_tasks):\n",
    "  for r in  range(number_of_ressources):\n",
    "    nbRpT[t]+=x[(t,r)]\n",
    "\n",
    "# One ressource per task\n",
    "C1 = [m.addConstr(nbRpT[t] <= 1) for t in range(number_of_tasks)]"
   ]
  },
  {
   "cell_type": "code",
   "execution_count": 29,
   "metadata": {},
   "outputs": [],
   "source": [
    "nbRpTs = [LinExpr() for t in range(number_of_tasks)]\n",
    "for t in range(number_of_tasks):\n",
    "  for r in  range(number_of_ressources):\n",
    "     nbRpTs[t]+=x[(t,r)]*(ressources[L_ressources[r]].skill!=tasks[L_tasks[r]].skill)\n",
    "\n",
    " # Skilled technicians\n",
    "C2 = [m.addConstr(nbRpTs[t] == 0) for t in range(number_of_tasks)]"
   ]
  },
  {
   "cell_type": "code",
   "execution_count": 30,
   "metadata": {},
   "outputs": [],
   "source": [
    "nbRpTl =[ LinExpr() for t in range(number_of_tasks)]\n",
    "for t in range(number_of_tasks):\n",
    "  for r in  range(number_of_ressources):\n",
    "    nbRpTl[t]+=x[(t,r)]*(ressources[L_ressources[r]].level-tasks[L_tasks[t]].level)\n",
    "\n",
    "# Leveled technicians\n",
    "C3 = [m.addConstr(nbRpTl[t] >= 0) for t in range(number_of_tasks)]"
   ]
  },
  {
   "cell_type": "code",
   "execution_count": 31,
   "metadata": {},
   "outputs": [],
   "source": [
    "# si une personne est affectée, elle arrive jusqu'à la tâche\n",
    "C4 = {(i,j) : m.addConstr(quicksum(y[(j,a,i)] for a in range(number_of_tasks+number_of_runavailabilities)) + d[(j,i)] == x[(i,j)], name = f'arrive{i}{j}') for j in range(number_of_ressources) for i in range(number_of_tasks+number_of_runavailabilities)}\n",
    "\n",
    "# une personne doit partir après avoir exécuté sa tâche\n",
    "C5 = {(i,j) : m.addConstr(quicksum(y[(j,i,b)] for b in range(number_of_tasks+number_of_runavailabilities)) + f[(j,i)] == x[(i,j)], name = f'part{i}{j}') for j in range(number_of_ressources) for i in range(number_of_tasks+number_of_runavailabilities)}"
   ]
  },
  {
   "cell_type": "code",
   "execution_count": 32,
   "metadata": {},
   "outputs": [
    {
     "name": "stdout",
     "output_type": "stream",
     "text": [
      "122.18065771829146\n",
      "40\n"
     ]
    },
    {
     "ename": "IndexError",
     "evalue": "list index out of range",
     "output_type": "error",
     "traceback": [
      "\u001b[0;31m---------------------------------------------------------------------------\u001b[0m",
      "\u001b[0;31mIndexError\u001b[0m                                Traceback (most recent call last)",
      "\u001b[1;32m/home/nyss/Documents/projets_git/ST7-optimization/rendu V2.ipynb Cell 16'\u001b[0m in \u001b[0;36m<module>\u001b[0;34m\u001b[0m\n\u001b[1;32m      <a href='vscode-notebook-cell:/home/nyss/Documents/projets_git/ST7-optimization/rendu%20V2.ipynb#ch0000015?line=1'>2</a>\u001b[0m \u001b[39mprint\u001b[39m(distances[\u001b[39m0\u001b[39m][\u001b[39m1\u001b[39m]\u001b[39m/\u001b[39mv)\n\u001b[1;32m      <a href='vscode-notebook-cell:/home/nyss/Documents/projets_git/ST7-optimization/rendu%20V2.ipynb#ch0000015?line=2'>3</a>\u001b[0m \u001b[39mprint\u001b[39m(tasks[L_tasks[\u001b[39m0\u001b[39m]]\u001b[39m.\u001b[39mduration)\n\u001b[0;32m----> <a href='vscode-notebook-cell:/home/nyss/Documents/projets_git/ST7-optimization/rendu%20V2.ipynb#ch0000015?line=3'>4</a>\u001b[0m C6 \u001b[39m=\u001b[39m [m\u001b[39m.\u001b[39maddConstr(s[b] \u001b[39m>\u001b[39m\u001b[39m=\u001b[39m s[a] \u001b[39m+\u001b[39m tasks[L_tasks[a]]\u001b[39m.\u001b[39mduration \u001b[39m+\u001b[39m distances[a][b]\u001b[39m/\u001b[39mv \u001b[39m-\u001b[39mM\u001b[39m*\u001b[39m(\u001b[39m1\u001b[39m\u001b[39m-\u001b[39mquicksum(y[(j,a,b)] \u001b[39mfor\u001b[39;00m j \u001b[39min\u001b[39;00m \u001b[39mrange\u001b[39m(number_of_ressources)))) \u001b[39mfor\u001b[39;00m a \u001b[39min\u001b[39;00m \u001b[39mrange\u001b[39m(number_of_tasks\u001b[39m+\u001b[39mnumber_of_runavailabilities) \u001b[39mfor\u001b[39;00m b \u001b[39min\u001b[39;00m \u001b[39mrange\u001b[39m(number_of_tasks\u001b[39m+\u001b[39mnumber_of_runavailabilities)]\n",
      "\u001b[1;32m/home/nyss/Documents/projets_git/ST7-optimization/rendu V2.ipynb Cell 16'\u001b[0m in \u001b[0;36m<listcomp>\u001b[0;34m(.0)\u001b[0m\n\u001b[1;32m      <a href='vscode-notebook-cell:/home/nyss/Documents/projets_git/ST7-optimization/rendu%20V2.ipynb#ch0000015?line=1'>2</a>\u001b[0m \u001b[39mprint\u001b[39m(distances[\u001b[39m0\u001b[39m][\u001b[39m1\u001b[39m]\u001b[39m/\u001b[39mv)\n\u001b[1;32m      <a href='vscode-notebook-cell:/home/nyss/Documents/projets_git/ST7-optimization/rendu%20V2.ipynb#ch0000015?line=2'>3</a>\u001b[0m \u001b[39mprint\u001b[39m(tasks[L_tasks[\u001b[39m0\u001b[39m]]\u001b[39m.\u001b[39mduration)\n\u001b[0;32m----> <a href='vscode-notebook-cell:/home/nyss/Documents/projets_git/ST7-optimization/rendu%20V2.ipynb#ch0000015?line=3'>4</a>\u001b[0m C6 \u001b[39m=\u001b[39m [m\u001b[39m.\u001b[39maddConstr(s[b] \u001b[39m>\u001b[39m\u001b[39m=\u001b[39m s[a] \u001b[39m+\u001b[39m tasks[L_tasks[a]]\u001b[39m.\u001b[39mduration \u001b[39m+\u001b[39m distances[a][b]\u001b[39m/\u001b[39mv \u001b[39m-\u001b[39mM\u001b[39m*\u001b[39m(\u001b[39m1\u001b[39m\u001b[39m-\u001b[39mquicksum(y[(j,a,b)] \u001b[39mfor\u001b[39;00m j \u001b[39min\u001b[39;00m \u001b[39mrange\u001b[39m(number_of_ressources)))) \u001b[39mfor\u001b[39;00m a \u001b[39min\u001b[39;00m \u001b[39mrange\u001b[39m(number_of_tasks\u001b[39m+\u001b[39mnumber_of_runavailabilities) \u001b[39mfor\u001b[39;00m b \u001b[39min\u001b[39;00m \u001b[39mrange\u001b[39m(number_of_tasks\u001b[39m+\u001b[39mnumber_of_runavailabilities)]\n",
      "\u001b[0;31mIndexError\u001b[0m: list index out of range"
     ]
    }
   ],
   "source": [
    "# non overlapping tasks\n",
    "print(distances[0][1]/v)\n",
    "print(tasks[L_tasks[0]].duration)\n",
    "C6 = [m.addConstr(s[b] >= s[a] + tasks[L_tasks[a]].duration + distances[a][b]/v -M*(1-quicksum(y[(j,a,b)] for j in range(number_of_ressources)))) for a in range(number_of_tasks+number_of_runavailabilities) for b in range(number_of_tasks+number_of_runavailabilities)]"
   ]
  },
  {
   "cell_type": "code",
   "execution_count": 33,
   "metadata": {},
   "outputs": [
    {
     "ename": "IndexError",
     "evalue": "list index out of range",
     "output_type": "error",
     "traceback": [
      "\u001b[0;31m---------------------------------------------------------------------------\u001b[0m",
      "\u001b[0;31mIndexError\u001b[0m                                Traceback (most recent call last)",
      "\u001b[1;32m/home/nyss/Documents/projets_git/ST7-optimization/rendu V2.ipynb Cell 17'\u001b[0m in \u001b[0;36m<module>\u001b[0;34m\u001b[0m\n\u001b[1;32m      <a href='vscode-notebook-cell:/home/nyss/Documents/projets_git/ST7-optimization/rendu%20V2.ipynb#ch0000016?line=0'>1</a>\u001b[0m \u001b[39m# la premiere tache commence apres le début de la journée\u001b[39;00m\n\u001b[1;32m      <a href='vscode-notebook-cell:/home/nyss/Documents/projets_git/ST7-optimization/rendu%20V2.ipynb#ch0000016?line=1'>2</a>\u001b[0m \u001b[39m#j,i=0,3\u001b[39;00m\n\u001b[1;32m      <a href='vscode-notebook-cell:/home/nyss/Documents/projets_git/ST7-optimization/rendu%20V2.ipynb#ch0000016?line=2'>3</a>\u001b[0m \u001b[39m#print(ressources[L_ressources[j]].workingStart -M*(1-x[(i,j)].x) + distances_m[j][i]/v)\u001b[39;00m\n\u001b[1;32m      <a href='vscode-notebook-cell:/home/nyss/Documents/projets_git/ST7-optimization/rendu%20V2.ipynb#ch0000016?line=3'>4</a>\u001b[0m \u001b[39m#M=10E2\u001b[39;00m\n\u001b[0;32m----> <a href='vscode-notebook-cell:/home/nyss/Documents/projets_git/ST7-optimization/rendu%20V2.ipynb#ch0000016?line=4'>5</a>\u001b[0m C10 \u001b[39m=\u001b[39m [m\u001b[39m.\u001b[39maddConstr(s[i] \u001b[39m>\u001b[39m\u001b[39m=\u001b[39m ressources[L_ressources[j]]\u001b[39m.\u001b[39mworkingStart \u001b[39m-\u001b[39mM\u001b[39m*\u001b[39m(\u001b[39m1\u001b[39m\u001b[39m-\u001b[39mx[(i,j)]) \u001b[39m+\u001b[39m distances_m[j][i]\u001b[39m/\u001b[39mv) \u001b[39mfor\u001b[39;00m i \u001b[39min\u001b[39;00m \u001b[39mrange\u001b[39m(number_of_tasks\u001b[39m+\u001b[39mnumber_of_runavailabilities) \u001b[39mfor\u001b[39;00m j \u001b[39min\u001b[39;00m \u001b[39mrange\u001b[39m(number_of_ressources)]\n",
      "\u001b[1;32m/home/nyss/Documents/projets_git/ST7-optimization/rendu V2.ipynb Cell 17'\u001b[0m in \u001b[0;36m<listcomp>\u001b[0;34m(.0)\u001b[0m\n\u001b[1;32m      <a href='vscode-notebook-cell:/home/nyss/Documents/projets_git/ST7-optimization/rendu%20V2.ipynb#ch0000016?line=0'>1</a>\u001b[0m \u001b[39m# la premiere tache commence apres le début de la journée\u001b[39;00m\n\u001b[1;32m      <a href='vscode-notebook-cell:/home/nyss/Documents/projets_git/ST7-optimization/rendu%20V2.ipynb#ch0000016?line=1'>2</a>\u001b[0m \u001b[39m#j,i=0,3\u001b[39;00m\n\u001b[1;32m      <a href='vscode-notebook-cell:/home/nyss/Documents/projets_git/ST7-optimization/rendu%20V2.ipynb#ch0000016?line=2'>3</a>\u001b[0m \u001b[39m#print(ressources[L_ressources[j]].workingStart -M*(1-x[(i,j)].x) + distances_m[j][i]/v)\u001b[39;00m\n\u001b[1;32m      <a href='vscode-notebook-cell:/home/nyss/Documents/projets_git/ST7-optimization/rendu%20V2.ipynb#ch0000016?line=3'>4</a>\u001b[0m \u001b[39m#M=10E2\u001b[39;00m\n\u001b[0;32m----> <a href='vscode-notebook-cell:/home/nyss/Documents/projets_git/ST7-optimization/rendu%20V2.ipynb#ch0000016?line=4'>5</a>\u001b[0m C10 \u001b[39m=\u001b[39m [m\u001b[39m.\u001b[39maddConstr(s[i] \u001b[39m>\u001b[39m\u001b[39m=\u001b[39m ressources[L_ressources[j]]\u001b[39m.\u001b[39mworkingStart \u001b[39m-\u001b[39mM\u001b[39m*\u001b[39m(\u001b[39m1\u001b[39m\u001b[39m-\u001b[39mx[(i,j)]) \u001b[39m+\u001b[39m distances_m[j][i]\u001b[39m/\u001b[39mv) \u001b[39mfor\u001b[39;00m i \u001b[39min\u001b[39;00m \u001b[39mrange\u001b[39m(number_of_tasks\u001b[39m+\u001b[39mnumber_of_runavailabilities) \u001b[39mfor\u001b[39;00m j \u001b[39min\u001b[39;00m \u001b[39mrange\u001b[39m(number_of_ressources)]\n",
      "\u001b[0;31mIndexError\u001b[0m: list index out of range"
     ]
    }
   ],
   "source": [
    "# la premiere tache commence apres le début de la journée\n",
    "#j,i=0,3\n",
    "#M=10E2\n",
    "C10 = [m.addConstr(s[i] >= ressources[L_ressources[j]].workingStart -M*(1-x[(i,j)]) + distances_m[j][i]/v) for i in range(number_of_tasks+number_of_runavailabilities) for j in range(number_of_ressources)]"
   ]
  },
  {
   "cell_type": "code",
   "execution_count": null,
   "metadata": {},
   "outputs": [],
   "source": [
    "# la derniere tache finit avant la fin de la journee\n",
    "C11 = [m.addConstr(ressources[L_ressources[j]].workingEnd >= s[i]+tasks[L_tasks[i]].duration + distances_m[j][i]/v -M*(1-x[(i,j)])) for i in range(number_of_tasks+number_of_runavailabilities) for j in range(number_of_ressources)]"
   ]
  },
  {
   "cell_type": "code",
   "execution_count": null,
   "metadata": {},
   "outputs": [],
   "source": [
    "# une personne doit partir de chez elle si elle travaille ce jour la\n",
    "C7 = [m.addConstr(quicksum(d[(j,a)] for a in range(number_of_tasks+number_of_runavailabilities)) == u[j]) for j in range(number_of_ressources)]\n",
    "# une personne doit revenir chez elle si elle travaille ce jour la\n",
    "C8 = [m.addConstr(quicksum(f[(j,b)] for b in range(number_of_tasks+number_of_runavailabilities)) == u[j]) for j in range(number_of_ressources)]\n",
    "\n",
    "# contraintes pour lier x et u\n",
    "C9 = [m.addConstr(quicksum(x[(i,j)] for i in range(number_of_tasks+number_of_runavailabilities)) <= u[j]*M) for j in range(number_of_ressources)]\n"
   ]
  },
  {
   "cell_type": "code",
   "execution_count": null,
   "metadata": {},
   "outputs": [],
   "source": [
    "# contrainte évitant d'avoir des cycles dans les graphes (permet que les tâches soient reliées entre elles)\n",
    "C19 = [m.addConstr(y[(j,a,b)] + y[(j,b,a)] <=1) for a in range(number_of_tasks) for b in range(number_of_tasks) for j in range(number_of_ressources)]\n",
    "C20 = [m.addConstr(d[(j,a)] + f[(j,a)] <=1) for a in range(number_of_tasks) for j in range(number_of_ressources)]"
   ]
  },
  {
   "cell_type": "code",
   "execution_count": null,
   "metadata": {},
   "outputs": [],
   "source": [
    "# contraintes d'horaires d'ouverture et de fermeture des tâches\n",
    "C12 = [m.addConstrs(s[i] >= tasks[L_tasks[i]].openingTime  -M*(1-quicksum(x[(i,j)] for j in range (number_of_ressources))) for i in range(number_of_tasks))]\n",
    "C13 = [m.addConstrs(tasks[L_tasks[i]].closingTime >= s[i] + tasks[L_tasks[i]].duration - M*(1-quicksum(x[(i,j)] for j in range (number_of_ressources)))for i in range(number_of_tasks))]"
   ]
  },
  {
   "cell_type": "code",
   "execution_count": null,
   "metadata": {},
   "outputs": [],
   "source": [
    "C14 = [[[m.addConstr(y[(r,a,b)]+s[a]+60+tasks[L_tasks[a]].duration <= tasks[L_tasks[b]].duration + z[(a,b)]) for r in range(number_of_ressources)] for b in range (number_of_tasks+number_of_runavailabilities)] for a in range(number_of_tasks+number_of_runavailabilities)]\n",
    "C15 = [m.addConstrs(s[b] >= 13*60 - M*(1-quicksum(z[(r,a,b)] for r in range(number_of_ressources))) for a in range(number_of_tasks+number_of_runavailabilities) for b in range(number_of_tasks+number_of_runavailabilities))] \n",
    "C16 = [m.addConstrs(s[a] <= 13*60 + M*(1-quicksum(z[(r,a,b)] for r in range(number_of_ressources))) for a in range(number_of_tasks+number_of_runavailabilities) for b in range(number_of_tasks+number_of_runavailabilities))]\n",
    "C17 = [m.addConstr(s[t] -M*(1-quicksum(x[(i,j)] for j in range (number_of_ressources))) + tasks[L_tasks[i]].duration <= tasks[L_tasks[t]].unavailibilities[R].unavailabilityStart for (t,R) in runav_id for t in range(number_of_tasks))]\n",
    "C18 = [m.addConstr(s[t] -M*(1-quicksum(x[(i,j)] for j in range (number_of_ressources))) + M*(1-a[(t,R)]) >= tasks[L_tasks[t]].unavailibilities[R].unavailabilityEnd for (t,R) in runav_id for t in range(number_of_tasks))]"
   ]
  },
  {
   "cell_type": "markdown",
   "metadata": {},
   "source": [
    "## Fonction objectif et résolution"
   ]
  },
  {
   "cell_type": "code",
   "execution_count": null,
   "metadata": {},
   "outputs": [],
   "source": [
    "epsilon = 0.0001\n",
    "\n",
    "couts=LinExpr()\n",
    "for j in range(number_of_ressources):\n",
    "  for a in range(number_of_tasks+number_of_runavailabilities):\n",
    "    for b in range(number_of_tasks+number_of_runavailabilities):\n",
    "      couts+=y[(j,a,b)]*distances[a][b]/v\n",
    "    couts+=d[(j,a)]*distances_m[j][a]/v\n",
    "    couts+=f[(j,a)]*distances_m[j][a]/v\n",
    "\n",
    "duree=LinExpr()\n",
    "for r in range(number_of_ressources):\n",
    "  for t in range(number_of_tasks):\n",
    "    duree+=x[(r,t)]*tasks[L_tasks[t]].duration\n",
    "\n",
    "# minimiser-(la durée totale des tâches exécutées)\n",
    "obj1 = -duree\n",
    "# minimiser le coût opérationnel\n",
    "obj2 = couts\n",
    "\n",
    "solutions_efficaces = list()\n",
    "\n",
    "# -- Ajout de la fonction objectif --\n",
    "m.setObjective(obj1, GRB.MINIMIZE)\n",
    "\n",
    "# -- Choix d'un paramétrage d'affichage minimaliste --\n",
    "m.params.outputflag = 0 # mode muet\n",
    "m.update()\n",
    "m.display()\n",
    "m.optimize()\n",
    "\n",
    "\n",
    "it = 0\n",
    "while m.status != GRB.INFEASIBLE:\n",
    "    sol = (round(m.objVal,2), round(obj2.getValue()*100,2))\n",
    "    print(\"itération {} solution {}\".format(it, sol))\n",
    "    solutions_efficaces.append(sol)\n",
    "    \n",
    "    \n",
    "    # - \n",
    "    it += 1\n",
    "    # -- Ajout de l'epsilon constraint\n",
    "    m.addConstr(obj2 <= obj2.getValue() - epsilon, name=f'epsilon_constraint_{it}')\n",
    "    # -- Mise à jour du modèle  --\n",
    "    m.update()\n",
    "    # -- Résolution --\n",
    "    m.optimize()"
   ]
  },
  {
   "cell_type": "code",
   "execution_count": null,
   "metadata": {},
   "outputs": [],
   "source": [
    "# -- Affichage de la solution --\n",
    "\n",
    "t=open(\"Solution\"+ville+\"V2ByV4.txt\",'w'.format(ville))\n",
    "res=\"taskId;performed;employeeName;startTime;\\n\"\n",
    "for j in range(number_of_tasks):\n",
    "  p=False\n",
    "  for i in range(number_of_ressources):\n",
    "    if round(x[(j,i)].x):\n",
    "      res+=\"{};{};{};{};\\n\".format(L_tasks[j],1,L_ressources[i],int(s[j].x))\n",
    "      p=True\n",
    "  if not p:\n",
    "    res+=\"{};;;;\\n\".format(L_tasks[j])\n",
    "print(res)\n",
    "t.write(res)\n",
    "t.close()\n",
    "\n",
    "print(\"###########################\")\n",
    "\n",
    "for a in range(number_of_tasks):\n",
    "  for b in range(number_of_tasks):\n",
    "    j=0\n",
    "    if  round(y[(j,a,b)].x)==1:\n",
    "      print(\"j{} - a{} - b{} - y{} // \".format(j, a,b,y[(j,a,b)].x), end=\"\")\n",
    "\n",
    "print('\\n') \n",
    "print(\"###########################\")\n",
    "\n",
    "for a in range(number_of_tasks):\n",
    "  j=0\n",
    "  if  round(d[(j,a)].x)==1:\n",
    "    print(\"j{} - a{} - d{} // \".format(j, a,d[(j,a)].x), end=\"\")\n",
    "\n",
    "\n",
    "print('\\n\\n')\n",
    "for a in range(number_of_tasks):\n",
    "  j=0\n",
    "  if  round(f[(j,a)].x)==1:\n",
    "    print(\"j{} - a{} - d{} // \".format(j, a,f[(j,a)].x), end=\"\")\n",
    "\n",
    "interval = time.time() - start_time"
   ]
  },
  {
   "cell_type": "code",
   "execution_count": null,
   "metadata": {},
   "outputs": [],
   "source": [
    "print(\"temps de calcul : \", interval)\n",
    "print(\"valeur de la fonction objectif : \", m.ObjVal)"
   ]
  },
  {
   "cell_type": "markdown",
   "metadata": {},
   "source": [
    "## Vérification de la solution"
   ]
  },
  {
   "cell_type": "code",
   "execution_count": null,
   "metadata": {},
   "outputs": [],
   "source": [
    "# affichage de la carte\n",
    "import folium\n",
    "\n",
    "lat_tot,long_tot=0,0\n",
    "for a in range(number_of_tasks):\n",
    "  lat_tot+=tasks[L_tasks[a]].latitude\n",
    "  long_tot+=tasks[L_tasks[a]].longitude\n",
    "mid_latitude = lat_tot/number_of_tasks\n",
    "mid_longitude = long_tot/number_of_tasks\n",
    "carte=folium.Map(location=[mid_latitude, mid_longitude],zoom_start=10)\n",
    "for a in range(number_of_tasks):\n",
    "  folium.Marker([tasks[L_tasks[a]].latitude, tasks[L_tasks[a]].longitude],icon=folium.Icon(color='black')).add_to(carte)\n",
    "list_colors = ['darkgreen', 'blue', 'red', 'green', 'darkpurple', 'lightred', 'purple', 'pink', 'orange', 'darkblue', 'gray', 'darkred']\n",
    "number_of_colors = len(list_colors)\n",
    "print(number_of_colors)\n",
    "counter = 0\n",
    "for r in range(number_of_ressources):\n",
    "  color_r = list_colors[counter % number_of_colors]\n",
    "  folium.Marker([ressources[L_ressources[r]].latitude,ressources[L_ressources[r]].longitude],icon=folium.Icon(color=color_r)).add_to(carte)\n",
    "  for a in range(number_of_tasks):\n",
    "    for b in range(number_of_tasks):\n",
    "      if round(y[(r,a,b)].x) == 1:\n",
    "        line_ab = [(tasks[L_tasks[a]].latitude, tasks[L_tasks[a]].longitude),(tasks[L_tasks[b]].latitude, tasks[L_tasks[b]].longitude)]\n",
    "        folium.PolyLine(line_ab, color=color_r, weight=2.5, opacity=0.8).add_to(carte)\n",
    "    if round(d[(r,a)].x) == 1:\n",
    "      line_home_t = [(ressources[L_ressources[r]].latitude,ressources[L_ressources[r]].longitude), (tasks[L_tasks[a]].latitude, tasks[L_tasks[a]].longitude)]\n",
    "      folium.PolyLine(line_home_t, color=color_r, weight=2.5, opacity=0.8).add_to(carte)\n",
    "    if round(f[(r,a)].x) == 1:\n",
    "      line_t_home = [(tasks[L_tasks[a]].latitude, tasks[L_tasks[a]].longitude), (ressources[L_ressources[r]].latitude,ressources[L_ressources[r]].longitude)]\n",
    "      folium.PolyLine(line_t_home, color=color_r, weight=2.5, opacity=0.8).add_to(carte)\n",
    "  counter+=1\n",
    "\n",
    "carte.save('Cartographie/Cartev1.html')\n",
    "\n",
    "carte"
   ]
  },
  {
   "cell_type": "code",
   "execution_count": null,
   "metadata": {},
   "outputs": [],
   "source": [
    "import plotly.express as px\n",
    "import pandas as pd\n",
    "\n",
    "# plotting the working tasks\n",
    "liste=[]\n",
    "for i in range(number_of_ressources):\n",
    "    for j in range(number_of_tasks):\n",
    "        if round(x[(j,i)].x):\n",
    "            start=int(s[j].x)\n",
    "            end=(int(s[j].x)+tasks[L_tasks[j]].duration)\n",
    "            liste.append(dict(Task=L_ressources[i], Start=start, Finish=end, Resource=\"executing task\",J=\"tâche \"+str(j)))\n",
    "\n",
    "# plotting the transports\n",
    "for a in range(number_of_tasks):\n",
    "    for b in range(number_of_tasks):\n",
    "        for j in range(number_of_ressources):\n",
    "            if round(y[(j,a,b)].x):\n",
    "                start=(int(s[a].x)+tasks[L_tasks[a]].duration)\n",
    "                end=(start+distances[a][b]/v)\n",
    "                liste.append(dict(Task=L_ressources[j], Start=start, Finish=end, Resource=\"moving\",J=\"trajet \"+str(a)+\"-\"+str(b)))\n",
    "\n",
    "# plotting the first transport\n",
    "for a in range(number_of_tasks):\n",
    "    for j in range(number_of_ressources):\n",
    "        if round(d[(j,a)].x):\n",
    "            start=(s[a].x-distances_m[j][a]/v)\n",
    "            end=s[a].x\n",
    "            liste.append(dict(Task=L_ressources[j], Start=start, Finish=end, Resource=\"depart\",J=\"trajet maison -\"+str(a)))\n",
    "\n",
    "# plotting the last transport\n",
    "for a in range(number_of_tasks):\n",
    "    for j in range(number_of_ressources):\n",
    "        if round(f[(j,a)].x):\n",
    "            start=(s[a].x + tasks[L_tasks[i]].duration)\n",
    "            end=(start+ distances_m[j][a]/v)\n",
    "            liste.append(dict(Task=L_ressources[j], Start=start, Finish=end, Resource=\"depart\",J=str(a)+\"- trajet maison\"))\n",
    "\n",
    "df = pd.DataFrame(liste)\n",
    "df['delta'] = df['Finish'] - df['Start']\n",
    "\n",
    "fig = px.timeline(df, x_start=\"Start\", x_end=\"Finish\", y=\"Task\",text=\"J\")\n",
    "\n",
    "fig.layout.xaxis.type = 'linear'\n",
    "fig.data[0].x = df.delta.tolist()\n",
    "fig.show()"
   ]
  },
  {
   "cell_type": "code",
   "execution_count": null,
   "metadata": {},
   "outputs": [],
   "source": [
    "# check que les techniciens ont le bon niveau et les bonnes compétences pour les tâches exécutées\n",
    "a = True\n",
    "for i in range(number_of_ressources):\n",
    "    for j in range(number_of_tasks):\n",
    "        if round(x[(j,i)].x):\n",
    "            # check que le skill est bon\n",
    "            if ressources[L_ressources[i]].skill!=tasks[L_tasks[i]].skill:\n",
    "                print(\"fail r,t \",i,j)\n",
    "                a = False\n",
    "            # check que le level est bon\n",
    "            if ressources[L_ressources[i]].level < tasks[L_tasks[j]].level:\n",
    "                print(\"fail r,t \",i,j)\n",
    "                a = False\n",
    "if a :\n",
    "    print(\"Les techniciens ont bien les bonnes compétences et le bon niveau pour toutes les tâches exécutées\")\n",
    "            "
   ]
  },
  {
   "cell_type": "code",
   "execution_count": null,
   "metadata": {},
   "outputs": [],
   "source": [
    "# check que les contraintes d'ouverture et de fermeture des tâches sont respectées (à réécrire pour la v2)\n",
    "a = True\n",
    "for i in range(number_of_ressources):\n",
    "    for j in range(number_of_tasks):\n",
    "        if round(x[(j,i)].x):\n",
    "            if s[i].x < tasks[L_tasks[i]].openingTime:\n",
    "                print(\"fail r,t \",i,j)\n",
    "                a = False\n",
    "            if tasks[L_tasks[i]].closingTime < s[i].x + tasks[L_tasks[i]].duration :\n",
    "                print(\"fail r,t \",i,j)\n",
    "                a = False\n",
    "\n",
    "            \n",
    "            \n",
    "if a :\n",
    "    print(\"Les contraintes d'ouverture et de fermeture des tâches sont respectées\")"
   ]
  },
  {
   "cell_type": "code",
   "execution_count": null,
   "metadata": {},
   "outputs": [],
   "source": [
    "\"\"\"\n",
    "coder convexite\n",
    "\n",
    "check que les tasks et ressources unavailabilities sont respectées\n",
    "\n",
    "coder EDT pause dej\n",
    "\n",
    "lieu propre deb et fin de journee\n",
    "\"\"\""
   ]
  }
 ],
 "metadata": {
  "interpreter": {
   "hash": "4badd61a3eb0a98b49024dc08b6e569de2eac3230396ff1e691db44e3b600cf6"
  },
  "kernelspec": {
   "display_name": "Python 3.9.6 64-bit",
   "language": "python",
   "name": "python3"
  },
  "language_info": {
   "codemirror_mode": {
    "name": "ipython",
    "version": 3
   },
   "file_extension": ".py",
   "mimetype": "text/x-python",
   "name": "python",
   "nbconvert_exporter": "python",
   "pygments_lexer": "ipython3",
   "version": "3.9.6"
  },
  "orig_nbformat": 4
 },
 "nbformat": 4,
 "nbformat_minor": 2
}
