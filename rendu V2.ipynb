{
 "cells": [
  {
   "cell_type": "markdown",
   "metadata": {},
   "source": [
    "# Partie 1"
   ]
  },
  {
   "cell_type": "markdown",
   "metadata": {},
   "source": [
    "## Modules"
   ]
  },
  {
   "cell_type": "code",
   "execution_count": 1,
   "metadata": {},
   "outputs": [],
   "source": [
    "import openpyxl\n",
    "from read_input import read_input\n",
    "\n",
    "from gurobipy import *\n",
    "import math\n",
    "import numpy \n",
    "import time"
   ]
  },
  {
   "cell_type": "markdown",
   "metadata": {},
   "source": [
    "## Lecture des données"
   ]
  },
  {
   "cell_type": "code",
   "execution_count": 2,
   "metadata": {},
   "outputs": [],
   "source": [
    "start_time = time.time()\n",
    "\n",
    "ville=\"Australia\" #  changer \n",
    "ressources,ressources_unavailabilities,tasks,tasks_unavailabilities = read_input(2,ville)\n",
    "# V1 : \"Bordeaux\", \"Finland\", \"GuineaGolf\", \"Italy\", \"Poland\"\n",
    "# V2 : \"Austria\", \"Australia\", \"Bordeaux\", \"Poland\", \"Spain\""
   ]
  },
  {
   "cell_type": "markdown",
   "metadata": {},
   "source": [
    "## Structures de données"
   ]
  },
  {
   "cell_type": "code",
   "execution_count": 3,
   "metadata": {},
   "outputs": [],
   "source": [
    "def dist(lat1, long1, lat2, long2):\n",
    "    \"\"\"\n",
    "    fonction renvoyant la distance en kms entre deux points décrits par leur latitude et longitude\n",
    "    \"\"\"\n",
    "    if lat1==lat2 and long1==long2:\n",
    "        return 0\n",
    "    return(numpy.arccos(numpy.sin(2*numpy.pi/360*lat1)*numpy.sin(2*numpy.pi/360*lat2)+numpy.cos(2*numpy.pi/360*lat1)*numpy.cos(2*numpy.pi/360*lat2)*numpy.cos(2*numpy.pi/360*(long2-long1)))*6371)\n",
    "\n",
    "#ACOS(SIN(lat1)*SIN(lat2)+COS(lat1)*COS(lat2)*COS(lon2-lon1))*6371\n",
    "vitesse=5/6\n",
    "\n",
    "L_ressources = [j for j in ressources] # tableau des objets ressources \n",
    "L_tasks = [i for i in tasks] # tableau des objets taches\n",
    "number_of_ressources = len(L_ressources)\n",
    "number_of_tasks = len(L_tasks)\n",
    "\n",
    "# dictionnaire des positions des tâches\n",
    "dict_pos = {task : (tasks[L_tasks[task]].latitude, tasks[L_tasks[task]].longitude) for task in range(number_of_tasks)} \n",
    "\n",
    "\n",
    "#Liste des indisponibilités de ressource\n",
    "runav_id = []\n",
    "for j in range(len(L_ressources)):\n",
    "    for u in range(len(ressources[L_ressources[j]].unavailabilities)):\n",
    "        runav_id.append((j,u))\n",
    "number_of_runavailabilities = len(runav_id)\n",
    "\n",
    "#Liste des indisponibilités de tâche\n",
    "tunav_id = []\n",
    "for i in range(len(L_tasks)):\n",
    "    for v in range(len(tasks[L_tasks[i]].unavailabilities)):\n",
    "        tunav_id.append((i,v))\n",
    "number_of_tunavailabilities = len(tunav_id)\n",
    "\n",
    "#distance[a][b] donne la distance de la tâche a vers la tâche b\n",
    "def distance_tache_unav():\n",
    "    distances = [[0 for j in range(number_of_tasks+number_of_runavailabilities)] for i in range(number_of_tasks+number_of_runavailabilities)]\n",
    "    for b in range(number_of_tasks+number_of_runavailabilities) :\n",
    "        for a in range(number_of_tasks+number_of_runavailabilities) :\n",
    "            if a >= number_of_tasks and b >= number_of_tasks :\n",
    "                distances[a][b] = dist(ressources[L_ressources[runav_id[a-number_of_tasks][0]]].unavailabilities[runav_id[a-number_of_tasks][1]].latitude, ressources[L_ressources[runav_id[a-number_of_tasks][0]]].unavailabilities[runav_id[a-number_of_tasks][1]].longitude, ressources[L_ressources[runav_id[b-number_of_tasks][0]]].unavailabilities[runav_id[b-number_of_tasks][1]].latitude, ressources[L_ressources[runav_id[b-number_of_tasks][0]]].unavailabilities[runav_id[b-number_of_tasks][1]].longitude)\n",
    "            elif a >= number_of_tasks and b < number_of_tasks :\n",
    "                distances[a][b] = dist(ressources[L_ressources[runav_id[a-number_of_tasks][0]]].unavailabilities[runav_id[a-number_of_tasks][1]].latitude, ressources[L_ressources[runav_id[a-number_of_tasks][0]]].unavailabilities[runav_id[a-number_of_tasks][1]].longitude, tasks[L_tasks[b]].latitude, tasks[L_tasks[b]].longitude)\n",
    "            elif a < number_of_tasks and b >= number_of_tasks :\n",
    "                distances[a][b] = dist(ressources[L_ressources[runav_id[b-number_of_tasks][0]]].unavailabilities[runav_id[b-number_of_tasks][1]].latitude, ressources[L_ressources[runav_id[b-number_of_tasks][0]]].unavailabilities[runav_id[b-number_of_tasks][1]].longitude, tasks[L_tasks[a]].latitude, tasks[L_tasks[a]].longitude)\n",
    "            else :\n",
    "                distances[a][b] = dist(tasks[L_tasks[a]].latitude,tasks[L_tasks[a]].longitude, tasks[L_tasks[b]].latitude, tasks[L_tasks[b]].longitude)\n",
    "    return distances\n",
    "distances=distance_tache_unav()\n",
    "\n",
    "#distance_m[j][i] donne la distance de la maison de j la tâche i\n",
    "def distance_maison_unav():\n",
    "    distances_m = [[0 for j in range(number_of_tasks+number_of_runavailabilities)] for i in range(number_of_ressources)]\n",
    "    for t in range(number_of_tasks+number_of_runavailabilities) :\n",
    "        for r in range(number_of_ressources) :\n",
    "            if t >= number_of_tasks :\n",
    "                distances_m[r][t] = dist(ressources[L_ressources[runav_id[t-number_of_tasks][0]]].unavailabilities[runav_id[t-number_of_tasks][1]].latitude, ressources[L_ressources[runav_id[t-number_of_tasks][0]]].unavailabilities[runav_id[t-number_of_tasks][1]].longitude, ressources[L_ressources[r]].latitude,ressources[L_ressources[r]].longitude)\n",
    "            else :\n",
    "                distances_m[r][t] = dist(ressources[L_ressources[r]].latitude,ressources[L_ressources[r]].longitude, tasks[L_tasks[t]].latitude, tasks[L_tasks[t]].longitude)\n",
    "    return distances_m\n",
    "distances_m=distance_maison_unav()\n",
    "\n",
    "# https://gurobi.github.io/modeling-examples/technician_routing_scheduling/technician_routing_scheduling.html"
   ]
  },
  {
   "cell_type": "markdown",
   "metadata": {},
   "source": [
    "## Variables de décision"
   ]
  },
  {
   "cell_type": "code",
   "execution_count": 4,
   "metadata": {},
   "outputs": [
    {
     "name": "stdout",
     "output_type": "stream",
     "text": [
      "Set parameter Username\n",
      "Academic license - for non-commercial use only - expires 2023-02-06\n"
     ]
    }
   ],
   "source": [
    "### Create Model\n",
    "m = Model(\"trs0\")\n",
    "\n",
    "# Borne supérieure des horaires\n",
    "M = 1440\n",
    "\n",
    "### Decision variables\n",
    "# Task-ressource assignment\n",
    "x = {(t,r) : m.addVar(vtype = GRB.BINARY, name = f'x_{t}_{r}') for r in range(number_of_ressources) for t in range(number_of_tasks)}\n",
    "for r in range(number_of_ressources):\n",
    "    for u in range(number_of_runavailabilities):\n",
    "        if runav_id[u][0]==r:\n",
    "            x[(number_of_tasks+u,r)]=1\n",
    "        else:\n",
    "            x[(number_of_tasks+u,r)]=0\n",
    "\n",
    "# Time-task assignment\n",
    "s = {t : m.addVar(vtype = GRB.INTEGER, lb = 0, ub = 1440, name = f's_{t}') for t in range(number_of_tasks)}\n",
    "#Les s_t valent entre 0 et 1440 car les contraintes de temps (entre 8h et 18h) sont contenues dans les jeux de données.\n",
    "for u in range(number_of_runavailabilities):\n",
    "    s[number_of_tasks+u]=ressources[L_ressources[runav_id[u][0]]].unavailabilities[runav_id[u][1]].unavailabilityStart\n",
    "\n",
    "# Est-ce que le travailleur se déplace entre les points a et b ?\n",
    "y = {(r,a,b) : m.addVar(vtype = GRB.BINARY, name = f'y_{r}_{a}_{b}') for r in range(number_of_ressources) for a in range(number_of_tasks+number_of_runavailabilities) for b in range(number_of_tasks+number_of_runavailabilities)}# if a != b}\n",
    "# Technician cannot leave or return to a depot that is not its base\n",
    "\n",
    "# Is the worker used ?\n",
    "u = {r: m.addVar(vtype = GRB.BINARY, name = f'u_{r}') for r in range(number_of_ressources)}\n",
    "\n",
    "# starting task of worker\n",
    "d = {(r,t) : m.addVar(vtype = GRB.BINARY, name = f'd_{r}_{t}') for r in range(number_of_ressources) for t in range(number_of_tasks+number_of_runavailabilities)}\n",
    "# ending task of worker\n",
    "f = {(r,t) : m.addVar(vtype = GRB.BINARY, name = f'f_{r}_{t}') for r in range(number_of_ressources) for t in range(number_of_tasks+number_of_runavailabilities)}\n",
    "\n",
    "#variables déterminant si une tâche est effectuée avant une indisponibilité\n",
    "a = {v : m.addVar(vtype = GRB.BINARY, name = f'a_{v}') for v in range(number_of_tunavailabilities)}\n",
    "\n",
    "## variables de pause midi\n",
    "# pause effectuée entre deu tâche\n",
    "z = {(r,a,b) : m.addVar(vtype = GRB.BINARY, name = f'z_{r}_{a}_{b}') for r in range(number_of_ressources) for a in range(number_of_tasks+number_of_runavailabilities) for b in range(number_of_tasks+number_of_runavailabilities)}# if a != b}\n",
    "# pause effectuée au début de la journée\n",
    "zb = {(r) : m.addVar(vtype = GRB.BINARY, name = f'z_{r}') for r in range(number_of_ressources)}\n",
    "# pause effectuée à la fin de la journée\n",
    "ze = {(r) : m.addVar(vtype = GRB.BINARY, name = f'z_{r}') for r in range(number_of_ressources)}\n",
    "\n"
   ]
  },
  {
   "cell_type": "markdown",
   "metadata": {},
   "source": [
    "## Contraintes"
   ]
  },
  {
   "cell_type": "code",
   "execution_count": 5,
   "metadata": {},
   "outputs": [],
   "source": [
    "# une personne est obligée de se déplacer (pas d'arrêtes de bouclage sur un point du graphe)\n",
    "C4_2 = [m.addConstr(y[(r,a,a)] == 0) for r in range(number_of_ressources) for a in range(number_of_tasks+number_of_runavailabilities)]"
   ]
  },
  {
   "cell_type": "code",
   "execution_count": 6,
   "metadata": {},
   "outputs": [],
   "source": [
    "nbRpT = [LinExpr() for t in range(number_of_tasks)]\n",
    "for t in range(number_of_tasks):\n",
    "  for r in  range(number_of_ressources):\n",
    "    nbRpT[t]+=x[(t,r)]\n",
    "\n",
    "# One ressource per task\n",
    "C1 = [m.addConstr(nbRpT[t] <= 1) for t in range(number_of_tasks)]"
   ]
  },
  {
   "cell_type": "code",
   "execution_count": 7,
   "metadata": {},
   "outputs": [],
   "source": [
    "nbRpTs = [LinExpr() for t in range(number_of_tasks)]\n",
    "for t in range(number_of_tasks):\n",
    "  for r in  range(number_of_ressources):\n",
    "     nbRpTs[t]+=x[(t,r)]*(ressources[L_ressources[r]].skill!=tasks[L_tasks[r]].skill)\n",
    "\n",
    " # Skilled technicians\n",
    "C2 = [m.addConstr(nbRpTs[t] == 0) for t in range(number_of_tasks)]"
   ]
  },
  {
   "cell_type": "code",
   "execution_count": 8,
   "metadata": {},
   "outputs": [],
   "source": [
    "nbRpTl =[ LinExpr() for t in range(number_of_tasks)]\n",
    "for t in range(number_of_tasks):\n",
    "  for r in  range(number_of_ressources):\n",
    "    nbRpTl[t]+=x[(t,r)]*(ressources[L_ressources[r]].level-tasks[L_tasks[t]].level)\n",
    "\n",
    "# Leveled technicians\n",
    "C3 = [m.addConstr(nbRpTl[t] >= 0) for t in range(number_of_tasks)]"
   ]
  },
  {
   "cell_type": "code",
   "execution_count": 9,
   "metadata": {},
   "outputs": [],
   "source": [
    "# si une personne est affectée, elle arrive jusqu'à la tâche\n",
    "C4 = {(i,j) : m.addConstr(quicksum(y[(j,a,i)] for a in range(number_of_tasks+number_of_runavailabilities)) + d[(j,i)] == x[(i,j)], name = f'arrive{i}{j}') for j in range(number_of_ressources) for i in range(number_of_tasks+number_of_runavailabilities)}\n",
    "\n",
    "# une personne doit partir après avoir exécuté sa tâche\n",
    "C5 = {(i,j) : m.addConstr(quicksum(y[(j,i,b)] for b in range(number_of_tasks+number_of_runavailabilities)) + f[(j,i)] == x[(i,j)], name = f'part{i}{j}') for j in range(number_of_ressources) for i in range(number_of_tasks+number_of_runavailabilities)}"
   ]
  },
  {
   "cell_type": "code",
   "execution_count": 10,
   "metadata": {},
   "outputs": [],
   "source": [
    "# non overlapping tasks\n",
    "#print(vitesse)\n",
    "#print(tasks[L_tasks[0]].duration)\n",
    "C6 = [[m.addConstr(s[b] >= s[a] + tasks[L_tasks[a]].duration + distances[a][b]/vitesse -M*(1-quicksum(y[(j,a,b)] for j in range(number_of_ressources)))) for b in range(number_of_tasks+number_of_runavailabilities)] for a in range(number_of_tasks)]\n",
    "C6bis = [[m.addConstr(s[b] >= ressources[L_ressources[runav_id[a-number_of_tasks][0]]].unavailabilities[runav_id[a-number_of_tasks][1]].unavailabilityEnd + distances[a][b]/vitesse -M*(1-quicksum(y[(j,a,b)] for j in range(number_of_ressources)))) for b in range(number_of_tasks+number_of_runavailabilities)] for a in range(number_of_tasks,number_of_tasks+number_of_runavailabilities)]\n",
    "C6bisbis = [[m.addConstr(ressources[L_ressources[runav_id[b-number_of_tasks][0]]].unavailabilities[runav_id[b-number_of_tasks][1]].unavailabilityStart >= s[a] + tasks[L_tasks[a]].duration + distances[a][b]/vitesse -M*(1-quicksum(y[(j,a,b)] for j in range(number_of_ressources)))) for b in range(number_of_tasks, number_of_tasks+number_of_runavailabilities)] for a in range(number_of_tasks)]"
   ]
  },
  {
   "cell_type": "code",
   "execution_count": 11,
   "metadata": {},
   "outputs": [],
   "source": [
    "# une personne doit partir de chez elle si elle travaille ce jour la\n",
    "C7 = [m.addConstr(quicksum(d[(j,a)] for a in range(number_of_tasks+number_of_runavailabilities)) == u[j]) for j in range(number_of_ressources)]\n",
    "# une personne doit revenir chez elle si elle travaille ce jour la\n",
    "C8 = [m.addConstr(quicksum(f[(j,b)] for b in range(number_of_tasks+number_of_runavailabilities)) == u[j]) for j in range(number_of_ressources)]"
   ]
  },
  {
   "cell_type": "code",
   "execution_count": 12,
   "metadata": {},
   "outputs": [],
   "source": [
    "# la premiere tache commence apres le début de la journée\n",
    "# LES INDISPOS SONT EXCLUES cf rapport\n",
    "C9 = [m.addConstr(s[i] >= ressources[L_ressources[j]].workingStart -M*(1-x[(i,j)]) + distances_m[j][i]/vitesse) for i in range(number_of_tasks) for j in range(number_of_ressources)]"
   ]
  },
  {
   "cell_type": "code",
   "execution_count": 13,
   "metadata": {},
   "outputs": [],
   "source": [
    "# la derniere tache finit avant la fin de la journee\n",
    "C10 = [m.addConstr(ressources[L_ressources[j]].workingEnd >= s[i]+tasks[L_tasks[i]].duration + distances_m[j][i]/vitesse -M*(1-x[(i,j)])) for i in range(number_of_tasks) for j in range(number_of_ressources)]\n",
    "# LES INDISPOS SONT EXCLUES cf rapport\n",
    "\n",
    "#Les tâches doivent être effectuées en respectant leurs horaires d'ouverture et fermeture\n",
    "C11 = [m.addConstrs(s[i] >= tasks[L_tasks[i]].openingTime -M*(1-quicksum(x[(i,j)] for j in range (number_of_ressources))) for i in range(number_of_tasks))]\n",
    "C12 = [m.addConstrs(tasks[L_tasks[i]].closingTime >= s[i] + tasks[L_tasks[i]].duration - M*(1-quicksum(x[(i,j)] for j in range (number_of_ressources)))for i in range(number_of_tasks))]"
   ]
  },
  {
   "cell_type": "code",
   "execution_count": 14,
   "metadata": {},
   "outputs": [],
   "source": [
    "\n",
    "C13 = [m.addConstr(s[t] -M*(1-quicksum(x[(t,j)] for j in range (number_of_ressources))) + tasks[L_tasks[t]].duration - M*a[i] <= tasks[L_tasks[t]].unavailabilities[u].unavailabilityStart) for i,(t,u) in enumerate(tunav_id)]\n",
    "C14 = [m.addConstr(s[t] -M*(1-quicksum(x[(t,j)] for j in range (number_of_ressources))) + M*(1-a[i]) >= tasks[L_tasks[t]].unavailabilities[u].unavailabilityEnd) for i,(t,u) in enumerate(tunav_id)]"
   ]
  },
  {
   "cell_type": "code",
   "execution_count": 15,
   "metadata": {},
   "outputs": [],
   "source": [
    "## contraintes sur la pause du midi\n",
    "# r ne peut faire une pause entre deux tâches que s'il se déplace entre ces tâches \n",
    "Cz1 = [[m.addConstr(z[(r,a,b)]<=y[(r,a,b)]) for r in range(number_of_ressources)] for a in range(number_of_tasks+number_of_runavailabilities) for b in range(number_of_tasks+number_of_runavailabilities)]\n",
    "\n",
    "# toute ressource utilisée dans la journée doit bénéficier d'une pause du midi\n",
    "Cz2 = [m.addConstr(quicksum(z[(r,a,b)] for a in range(number_of_tasks+number_of_runavailabilities) for b in range(number_of_tasks+number_of_runavailabilities))+zb[r]+ze[r]==u[r]) for r in range(number_of_ressources)]"
   ]
  },
  {
   "cell_type": "code",
   "execution_count": 16,
   "metadata": {},
   "outputs": [],
   "source": [
    "# une ressource qui commence par sa pause ne travaille pas avant 13h\n",
    "Cz3 = [m.addConstrs(M*(1-x[a,r])+s[a]+M*(1-zb[r]) >= 13*60 for a in range(number_of_tasks+number_of_runavailabilities) for r in range(number_of_ressources))] \n",
    "\n",
    "# une ressource qui finit par sa pause ne travaille pas après 13h\n",
    "Cz4 = [m.addConstrs(s[a] + tasks[L_tasks[a]].duration <= 13*60 + M*(1-x[a,r]) + M*(1-ze[r]) for r in range(number_of_ressources) for a in range(number_of_tasks))]\n",
    "Cz4bis = [m.addConstrs(ressources[L_ressources[runav_id[a-number_of_tasks][0]]].unavailabilities[runav_id[a-number_of_tasks][1]].unavailabilityEnd <= 13*60 + M*(1-x[a,r]) +M*(1-zb[r]) for r in range(number_of_ressources) for a in range(number_of_tasks,number_of_tasks+number_of_runavailabilities))]\n"
   ]
  },
  {
   "cell_type": "code",
   "execution_count": 17,
   "metadata": {},
   "outputs": [],
   "source": [
    "# une ressource doit avoir le temps de réaiser sa pause du midi\n",
    "Cz5 = [[[m.addConstr(distances[a][b]/vitesse+s[a]+60+tasks[L_tasks[a]].duration <= s[b] + (1-z[(r,a,b)])*M) for r in range(number_of_ressources)] for b in range(number_of_tasks+number_of_runavailabilities)] for a in range(number_of_tasks)]\n",
    "Cz5bis = [[[m.addConstr(60+ressources[L_ressources[runav_id[a-number_of_tasks][0]]].unavailabilities[runav_id[a-number_of_tasks][1]].unavailabilityEnd <= -distances[a][b]/vitesse+ s[b] + (1-z[(r,a,b)])*M ) for r in range(number_of_ressources)] for b in range (number_of_tasks+number_of_runavailabilities)] for a in range(number_of_tasks,number_of_tasks+number_of_runavailabilities)]\n",
    "\n",
    "\n",
    "Cz6 = [m.addConstrs(s[b] >= 13*60 - M*(1-quicksum(z[(r,a,b)] for r in range(number_of_ressources))) for a in range(number_of_tasks+number_of_runavailabilities) for b in range(number_of_tasks+number_of_runavailabilities))] \n",
    "\n",
    "Cz7 = [m.addConstrs(s[a] + tasks[L_tasks[a]].duration <= 13*60 + M*(1-quicksum(z[(r,a,b)] for r in range(number_of_ressources))) for a in range(number_of_tasks) for b in range(number_of_tasks+number_of_runavailabilities))]\n",
    "Cz7bis = [m.addConstrs(ressources[L_ressources[runav_id[a-number_of_tasks][0]]].unavailabilities[runav_id[a-number_of_tasks][1]].unavailabilityEnd <= 13*60 + M*(1-quicksum(z[(r,a,b)] for r in range(number_of_ressources))) for a in range(number_of_tasks,number_of_tasks+number_of_runavailabilities) for b in range(number_of_tasks, number_of_tasks+number_of_runavailabilities))]\n"
   ]
  },
  {
   "cell_type": "markdown",
   "metadata": {},
   "source": [
    "## Fonction objectif et résolution"
   ]
  },
  {
   "cell_type": "code",
   "execution_count": 18,
   "metadata": {},
   "outputs": [
    {
     "name": "stdout",
     "output_type": "stream",
     "text": [
      "Set parameter TimeLimit to value 10800\n"
     ]
    }
   ],
   "source": [
    "epsilon = 0.0001\n",
    "\n",
    "couts=LinExpr()\n",
    "ctot=0\n",
    "for j in range(number_of_ressources):\n",
    "  for a in range(number_of_tasks+number_of_runavailabilities):\n",
    "    for b in range(number_of_tasks+number_of_runavailabilities):\n",
    "      couts+=y[(j,a,b)]*distances[a][b]/vitesse\n",
    "      if j==0:\n",
    "            ctot+=distances[a][b]/vitesse\n",
    "    couts+=d[(j,a)]*distances_m[j][a]/vitesse\n",
    "    couts+=f[(j,a)]*distances_m[j][a]/vitesse\n",
    "\n",
    "duree=LinExpr()\n",
    "dtot=0\n",
    "for t in range(number_of_tasks):\n",
    "  for r in range(number_of_ressources):\n",
    "    duree+=x[(t,r)]*tasks[L_tasks[t]].duration\n",
    "  dtot+=tasks[L_tasks[t]].duration\n",
    "\n",
    "\n",
    "# minimiser-(la durée totale des tâches exécutées)\n",
    "obj1 = -duree/dtot # normalisation\n",
    "# minimiser le coût opérationnel\n",
    "obj2 = couts/ctot # normalisation\n",
    "\n",
    "obj = 0.8*obj1+0.2*obj2\n",
    "\n",
    "solutions_efficaces = list()\n",
    "\n",
    "# -- Ajout de la fonction objectif --\n",
    "m.setObjective(obj, GRB.MINIMIZE)\n",
    "\n",
    "m.setParam('TimeLimit', 180*60) # le solveur renvoie la meilleure solution qu'il ait trouvée au bout d'au plus x min\n",
    "# -- Choix d'un paramétrage d'affichage minimaliste --\n",
    "m.params.outputflag = 0 # mode muet\n",
    "m.update()\n",
    "m.display()\n",
    "m.optimize()\n",
    "\n",
    "if  m.status == GRB.INFEASIBLE:\n",
    "  print(\"il n'y a pas de solution !!\")"
   ]
  },
  {
   "cell_type": "code",
   "execution_count": 19,
   "metadata": {},
   "outputs": [
    {
     "name": "stdout",
     "output_type": "stream",
     "text": [
      "Le temps de calcul est de 15 secondes\n",
      "La fonction objectif vaut -0.34634776930816147\n",
      "La durée des tâches cumulées est de 280 minutes et la distance parcourue par les opérateurs est de 866.6 km\n"
     ]
    }
   ],
   "source": [
    "interval = time.time() - start_time\n",
    "print(\"Le temps de calcul est de {} secondes\".format(round(interval)))\n",
    "print(\"La fonction objectif vaut {}\".format(m.ObjVal))\n",
    "\n",
    "distance_reelle=0\n",
    "for r in range(number_of_ressources):\n",
    "  for a in range(number_of_tasks+number_of_runavailabilities):\n",
    "    if d[(r,a)].x==1:\n",
    "      distance_reelle+=distances_m[r][a]\n",
    "    if f[(r,a)].x==1:\n",
    "      distance_reelle+=distances_m[r][a]\n",
    "    for b in range(number_of_tasks+number_of_runavailabilities):\n",
    "      if y[(r,a,b)].x==1:\n",
    "        distance_reelle+=distances[a][b]\n",
    "\n",
    "duree_reelle=0\n",
    "for t in range(number_of_tasks):\n",
    "  for r in range(number_of_ressources):\n",
    "    if x[(t,r)].x==1:\n",
    "      duree_reelle+=tasks[L_tasks[t]].duration\n",
    "\n",
    "print(\"La durée des tâches cumulées est de {} minutes et la distance parcourue par les opérateurs est de {} km\".format(round(duree_reelle),round(distance_reelle*100)/100))\n"
   ]
  },
  {
   "cell_type": "code",
   "execution_count": 20,
   "metadata": {},
   "outputs": [
    {
     "data": {
      "text/plain": [
       "'\\nsolve with epsilon\\nepsilon = 0.0001\\n\\ncouts=LinExpr()\\nfor j in range(number_of_ressources):\\n  for a in range(number_of_tasks+number_of_runavailabilities):\\n    for b in range(number_of_tasks+number_of_runavailabilities):\\n      couts+=y[(j,a,b)]*distances[a][b]/vitesse\\n    couts+=d[(j,a)]*distances_m[j][a]/vitesse\\n    couts+=f[(j,a)]*distances_m[j][a]/vitesse\\n\\nduree=LinExpr()\\nfor r in range(number_of_ressources):\\n  for t in range(number_of_tasks):\\n    duree+=x[(t,r)]*tasks[L_tasks[t]].duration\\n\\n# minimiser-(la durée totale des tâches exécutées)\\nobj1 = -duree\\n# minimiser le coût opérationnel\\nobj2 = couts\\n\\nsolutions_efficaces = list()\\n\\n# -- Ajout de la fonction objectif --\\nm.setObjective(obj1, GRB.MINIMIZE)\\n\\n# -- Choix d\\'un paramétrage d\\'affichage minimaliste --\\nm.params.outputflag = 0 # mode muet\\nm.update()\\nm.display()\\nm.optimize()\\n\\n\\nit = 0\\n\\nif  m.status == GRB.INFEASIBLE:\\n  print(\"il n\\'y a pas de solution !!\")\\n\\nwhile m.status != GRB.INFEASIBLE:\\n    sol = (round(m.objVal,2), round(obj2.getValue()*100,2))\\n    print(\"itération {} solution {}\".format(it, sol))\\n    solutions_efficaces.append(sol)\\n\\n    if it ==20:\\n      break\\n    \\n    \\n    # - \\n    it += 1\\n    # -- Ajout de l\\'epsilon constraint\\n    m.addConstr(obj2 <= obj2.getValue() - epsilon, name=f\\'epsilon_constraint_{it}\\')\\n    # -- Mise à jour du modèle  --\\n    m.update()\\n    # -- Résolution --\\n    m.optimize()\\n'"
      ]
     },
     "execution_count": 20,
     "metadata": {},
     "output_type": "execute_result"
    }
   ],
   "source": [
    "### Nous avons essayé de gérer le double objectif par une méthode epsilon constrain, mais le temps de calcul était trop long\n",
    "\n",
    "# \"\"\"\n",
    "# solve with epsilon\n",
    "# epsilon = 0.0001\n",
    "\n",
    "# couts=LinExpr()\n",
    "# for j in range(number_of_ressources):\n",
    "#   for a in range(number_of_tasks+number_of_runavailabilities):\n",
    "#     for b in range(number_of_tasks+number_of_runavailabilities):\n",
    "#       couts+=y[(j,a,b)]*distances[a][b]/vitesse\n",
    "#     couts+=d[(j,a)]*distances_m[j][a]/vitesse\n",
    "#     couts+=f[(j,a)]*distances_m[j][a]/vitesse\n",
    "\n",
    "# duree=LinExpr()\n",
    "# for r in range(number_of_ressources):\n",
    "#   for t in range(number_of_tasks):\n",
    "#     duree+=x[(t,r)]*tasks[L_tasks[t]].duration\n",
    "\n",
    "# # minimiser-(la durée totale des tâches exécutées)\n",
    "# obj1 = -duree\n",
    "# # minimiser le coût opérationnel\n",
    "# obj2 = couts\n",
    "\n",
    "# solutions_efficaces = list()\n",
    "\n",
    "# # -- Ajout de la fonction objectif --\n",
    "# m.setObjective(obj1, GRB.MINIMIZE)\n",
    "\n",
    "# # -- Choix d'un paramétrage d'affichage minimaliste --\n",
    "# m.params.outputflag = 0 # mode muet\n",
    "# m.update()\n",
    "# m.display()\n",
    "# m.optimize()\n",
    "\n",
    "\n",
    "# it = 0\n",
    "\n",
    "# if  m.status == GRB.INFEASIBLE:\n",
    "#   print(\"il n'y a pas de solution !!\")\n",
    "\n",
    "# while m.status != GRB.INFEASIBLE:\n",
    "#     sol = (round(m.objVal,2), round(obj2.getValue()*100,2))\n",
    "#     print(\"itération {} solution {}\".format(it, sol))\n",
    "#     solutions_efficaces.append(sol)\n",
    "\n",
    "#     if it ==20:\n",
    "#       break\n",
    "    \n",
    "    \n",
    "#     # - \n",
    "#     it += 1\n",
    "#     # -- Ajout de l'epsilon constraint\n",
    "#     m.addConstr(obj2 <= obj2.getValue() - epsilon, name=f'epsilon_constraint_{it}')\n",
    "#     # -- Mise à jour du modèle  --\n",
    "#     m.update()\n",
    "#     # -- Résolution --\n",
    "#     m.optimize()\n",
    "# \"\"\"\n"
   ]
  },
  {
   "cell_type": "code",
   "execution_count": 21,
   "metadata": {},
   "outputs": [
    {
     "name": "stdout",
     "output_type": "stream",
     "text": [
      "Employé(e) : John\n",
      " --> Déplacement de la maison vers T4 (76 minutes)\n",
      " - Tâche T4 de 9h16 à 9h56\n",
      " --> Déplacement de T4 vers T8 (71 minutes)\n",
      " - Tâche T8 de 13h0 à 13h40\n",
      " --> Déplacement de T8 vers T9 (38 minutes)\n",
      " - Tâche T9 de 14h31 à 15h11\n",
      " --> Déplacement de T9 vers la maison (112 minutes)\n",
      "Employé(e) : Sam\n",
      " --> Déplacement de la maison vers indispo (209 minutes)\n",
      " - Indispo de 10h30 à 11h30\n",
      " --> Déplacement de indispo vers T1 (81 minutes)\n",
      " - Tâche T1 de 13h51 à 14h31\n",
      " --> Déplacement de T1 vers T2 (35 minutes)\n",
      " - Tâche T2 de 15h7 à 15h47\n",
      " --> Déplacement de T2 vers la maison (112 minutes)\n",
      "Employé(e) : David\n",
      " --> Déplacement de la maison vers T10 (122 minutes)\n",
      " - Tâche T10 de 10h2 à 10h42\n",
      " --> Déplacement de T10 vers T3 (129 minutes)\n",
      " - Tâche T3 de 13h52 à 14h32\n",
      " --> Déplacement de T3 vers la maison (55 minutes)\n"
     ]
    }
   ],
   "source": [
    "# -- Affichage de la solution --\n",
    "\n",
    "t=open(\"Solution\"+ville+\"V2ByV4.txt\",'w'.format(ville))\n",
    "res=\"taskId;performed;employeeName;startTime;\\n\"\n",
    "for j in range(number_of_tasks):\n",
    "  p=False\n",
    "  for i in range(number_of_ressources):\n",
    "    if round(x[(j,i)].x):\n",
    "      res+=\"{};{};{};{};\\n\".format(L_tasks[j],1,L_ressources[i],int(s[j].x))\n",
    "      p=True\n",
    "  if not p:\n",
    "    res+=\"{};0;;;\\n\".format(L_tasks[j])\n",
    "#print(res)\n",
    "t.write(res)\n",
    "t.close()\n",
    "\n",
    "startTimesT = [s[t].x for t in range(number_of_tasks)]\n",
    "startTimesU = [ressources[L_ressources[runav_id[t][0]]].unavailabilities[runav_id[t][1]].unavailabilityStart for t in range(number_of_runavailabilities)]\n",
    "endTimesT = [s[t].x+tasks[L_tasks[t]].duration for t in range(number_of_tasks)]\n",
    "endTimesU = [ressources[L_ressources[runav_id[t][0]]].unavailabilities[runav_id[t][1]].unavailabilityEnd for t in range(number_of_runavailabilities)]\n",
    "startTimes=startTimesT+startTimesU\n",
    "endTimes=endTimesT+endTimesU\n",
    "\n",
    "for i in range(number_of_ressources):\n",
    "  print(\"Employé(e) : {}\".format(L_ressources[i]))\n",
    "  for j in range(number_of_tasks):\n",
    "    if  round(d[(i,j)].x)==1:\n",
    "      print(\" --> Déplacement de la maison vers {} ({} minutes)\".format(L_tasks[j],round(distances_m[i][j]/vitesse)))\n",
    "  for j in range(number_of_runavailabilities):\n",
    "    if  round(d[(i,j+number_of_tasks)].x)==1:\n",
    "      print(\" --> Déplacement de la maison vers indispo ({} minutes)\".format(round(distances_m[i][j+number_of_tasks]/vitesse)))\n",
    "  for j in sorted(range(number_of_tasks+number_of_runavailabilities),key=lambda u: int(startTimes[u])):\n",
    "    if (j>=number_of_tasks and runav_id[j-number_of_tasks][0]==i) or (j<number_of_tasks and round(x[(j,i)].x)):\n",
    "      td=round(startTimes[j])\n",
    "      tf=round(endTimes[j])\n",
    "      if j<number_of_tasks:\n",
    "        print(\" - Tâche {} de {}h{} à {}h{}\".format(L_tasks[j],td//60,td%60,tf//60,tf%60))\n",
    "        for b in range(number_of_tasks):\n",
    "          if  round(y[(i,j,b)].x)==1:\n",
    "            print(\" --> Déplacement de {} vers {} ({} minutes)\".format(L_tasks[j],L_tasks[b],round(distances[j][b]/vitesse)))\n",
    "        for b in range(number_of_runavailabilities):\n",
    "          if  round(y[(i,j,b+number_of_tasks)].x)==1:\n",
    "            print(\" --> Déplacement de {} vers indispo ({} minutes)\".format(L_tasks[j],round(distances[j][b+number_of_tasks]/vitesse)))\n",
    "      else:\n",
    "        print(\" - Indispo de {}h{} à {}h{}\".format(td//60,td%60,tf//60,tf%60))\n",
    "        for b in range(number_of_tasks):\n",
    "          if  round(y[(i,j,b)].x)==1:\n",
    "            print(\" --> Déplacement de indispo vers {} ({} minutes)\".format(L_tasks[b],round(distances[j][b]/vitesse)))\n",
    "        for b in range(number_of_runavailabilities):\n",
    "          if  round(y[(i,j,b+number_of_tasks)].x)==1:\n",
    "            print(\" --> Déplacement de indispo vers indispo ({} minutes)\".format(round(distances[j][b+number_of_tasks]/vitesse)))\n",
    "      \n",
    "  for j in range(number_of_tasks):\n",
    "    if  round(f[(i,j)].x)==1:\n",
    "      print(\" --> Déplacement de {} vers la maison ({} minutes)\".format(L_tasks[j],round(distances_m[i][j]/vitesse)))\n",
    "  for j in range(number_of_runavailabilities):\n",
    "    if  round(f[(i,j+number_of_tasks)].x)==1:\n",
    "      print(\" --> Déplacement de indispo vers la maison ({} minutes)\".format(round(distances_m[i][j+number_of_tasks]/vitesse)))"
   ]
  },
  {
   "cell_type": "markdown",
   "metadata": {},
   "source": [
    "## Visualisation graphique de la solution"
   ]
  },
  {
   "cell_type": "code",
   "execution_count": 22,
   "metadata": {},
   "outputs": [
    {
     "data": {
      "image/png": "[encoded data removed]",
      "text/plain": [
       "<Figure size 432x288 with 1 Axes>"
      ]
     },
     "metadata": {
      "needs_background": "light"
     },
     "output_type": "display_data"
    }
   ],
   "source": [
    "import matplotlib.pyplot as plt\n",
    "\n",
    "list_colors = ['b','g','r','c','darkviolet','y']\n",
    "list_light_colors = ['lightblue','lightgreen','pink','lightcyan','violet','lightyellow']\n",
    "number_of_colors = len(list_colors)\n",
    "done_tasks=list()\n",
    "for r in range(number_of_ressources):\n",
    "  color_r = list_colors[r % number_of_colors]\n",
    "  light_color_r = list_light_colors[r % number_of_colors]\n",
    "  plt.plot(ressources[L_ressources[r]].latitude,ressources[L_ressources[r]].longitude, color = color_r, marker=\"D\", label=L_ressources[r])\n",
    "  for a in range(number_of_tasks+number_of_runavailabilities): # placement du chemin entre maison et tâches classiques\n",
    "    if a >= number_of_tasks:\n",
    "      a_latitude = ressources[L_ressources[runav_id[a-number_of_tasks][0]]].unavailabilities[runav_id[a-number_of_tasks][1]].latitude\n",
    "      a_longitude = ressources[L_ressources[runav_id[a-number_of_tasks][0]]].unavailabilities[runav_id[a-number_of_tasks][1]].longitude\n",
    "      if x[(a,r)]==1 : # si la tâche obligatoire n°a est associée à la ressource r alors :\n",
    "        plt.plot(a_latitude, a_longitude, color = color_r, marker=\"P\")\n",
    "    else:\n",
    "      a_latitude = tasks[L_tasks[a]].latitude\n",
    "      a_longitude = tasks[L_tasks[a]].longitude\n",
    "      if round(x[(a,r)].x) == 1 :\n",
    "        done_tasks.append(a)\n",
    "        plt.plot(a_latitude, a_longitude, color = color_r, marker=\"o\")\n",
    "        plt.annotate(str(a+1), [a_latitude+0.005, a_longitude+0.005])\n",
    "    if round(d[(r,a)].x) == 1:\n",
    "      plt.plot([a_latitude, ressources[L_ressources[r]].latitude], [a_longitude, ressources[L_ressources[r]].longitude], color = light_color_r)\n",
    "    if round(f[(r,a)].x) == 1:\n",
    "      plt.plot([a_latitude, ressources[L_ressources[r]].latitude], [a_longitude, ressources[L_ressources[r]].longitude], color = color_r)\n",
    "    for b in range(number_of_tasks+number_of_runavailabilities):\n",
    "      if b >= number_of_tasks:\n",
    "        b_latitude = ressources[L_ressources[runav_id[b-number_of_tasks][0]]].unavailabilities[runav_id[b-number_of_tasks][1]].latitude\n",
    "        b_longitude = ressources[L_ressources[runav_id[b-number_of_tasks][0]]].unavailabilities[runav_id[b-number_of_tasks][1]].longitude\n",
    "      else:\n",
    "        b_latitude = tasks[L_tasks[b]].latitude\n",
    "        b_longitude = tasks[L_tasks[b]].longitude\n",
    "      if round(y[(r,a,b)].x) == 1:\n",
    "        plt.plot([a_latitude, b_latitude], [a_longitude, b_longitude], color = color_r)\n",
    "for t in range(number_of_tasks):\n",
    "  if t not in done_tasks:\n",
    "    plt.plot(tasks[L_tasks[t]].latitude, tasks[L_tasks[t]].longitude, color = 'black', marker=\"o\")\n",
    "    plt.annotate(str(t+1), [tasks[L_tasks[t]].latitude+0.005, tasks[L_tasks[t]].longitude+0.005])\n",
    "plt.legend()\n",
    "plt.savefig('parcours_{}_V2.png'.format(ville), dpi=500, transparent=False)\n",
    "plt.show()"
   ]
  },
  {
   "cell_type": "code",
   "execution_count": 23,
   "metadata": {},
   "outputs": [
    {
     "data": {
      "image/png": "[encoded data removed]",
      "text/plain": [
       "<Figure size 720x424.08 with 3 Axes>"
      ]
     },
     "metadata": {
      "needs_background": "light"
     },
     "output_type": "display_data"
    }
   ],
   "source": [
    "\"\"\"\n",
    "startTimesT = [s[t].x for t in range(number_of_tasks)]\n",
    "startTimesU = [ressources[L_ressources[runav_id[t][0]]].unavailabilities[runav_id[t][1]].unavailabilityStart for t in range(number_of_runavailabilities)]\n",
    "endTimesT = [s[t].x+tasks[L_tasks[t]].duration for t in range(number_of_tasks)]\n",
    "endTimesU = [ressources[L_ressources[runav_id[t][0]]].unavailabilities[runav_id[t][1]].unavailabilityEnd for t in range(number_of_runavailabilities)]\n",
    "startTimes=startTimesT+startTimesU\n",
    "endTimes=endTimesT+endTimesU\n",
    "\"\"\"\n",
    "operators=[L_ressources[r] for r in range(number_of_ressources)]\n",
    "colors=list_colors[0:number_of_ressources]\n",
    "light_colors=list_light_colors[0:number_of_ressources]\n",
    "\n",
    "fig=plt.figure(figsize=(10,5.89))\n",
    "\n",
    "# Set Axis\n",
    "ax=fig.add_subplot(111)\n",
    "ax.yaxis.grid()\n",
    "ax.set_xlim(0.5,len(operators)+0.5)\n",
    "ax.set_ylim(18.5, 7.5)\n",
    "ax.set_xticks(range(1,len(operators)+1))\n",
    "ax.set_xticklabels(operators)\n",
    "ax.set_ylabel('Time')\n",
    "\n",
    "# Set Second Axis\n",
    "ax2=ax.twiny().twinx()\n",
    "ax2.invert_yaxis()\n",
    "ax2.set_xlim(ax.get_xlim())\n",
    "ax2.set_ylim(ax.get_ylim())\n",
    "ax2.set_xticks(ax.get_xticks())\n",
    "ax2.set_xticklabels(operators)\n",
    "ax2.set_ylabel('Time')\n",
    "\n",
    "for r in range(number_of_ressources):\n",
    "    color_r = colors[r % number_of_colors]\n",
    "    light_color_r = light_colors[r % number_of_colors]\n",
    "    operator_room = r+1-0.48\n",
    "    for a in range(number_of_tasks):\n",
    "        if round(x[(a,r)].x) == 1 :\n",
    "            event=\"T\"+str(a+1)\n",
    "            start = startTimesT[a]/60\n",
    "            end = endTimesT[a]/60\n",
    "            plt.fill_between([operator_room, operator_room+0.96], [start, start], [end,end], color=color_r, edgecolor='k', linewidth=0.5)\n",
    "            plt.text(operator_room+0.02, start+0.05 ,'{}:{}'.format(int(start), int(start*60)%60), va='top', fontsize=6)\n",
    "            plt.text(operator_room+0.02, end-0.05,'{}:{}'.format(int(end), int(end*60)%60), va='bottom', fontsize=6)\n",
    "            plt.text(operator_room+0.48, (start+end)*0.5, event, ha='center', va='center', fontsize=11)\n",
    "        for b in range(number_of_tasks):\n",
    "            if round(y[(r,a,b)].x) == 1:\n",
    "                start = endTimesT[a]/60\n",
    "                end = start+(distances[a][b]/vitesse)/60\n",
    "                plt.fill_between([operator_room, operator_room+0.96], [start, start], [end,end], color=light_color_r, edgecolor='k', linewidth=0.5)\n",
    "        if round(d[(r,a)].x) == 1:\n",
    "            start = (startTimesT[a]-distances_m[r][a]/vitesse)/60\n",
    "            end = startTimesT[a]/60\n",
    "            plt.fill_between([operator_room, operator_room+0.96], [start, start], [end,end], color=light_color_r, edgecolor='k', linewidth=0.5)\n",
    "        if round(f[(r,a)].x) == 1:\n",
    "            start=endTimesT[a]/60\n",
    "            end=start+(distances_m[r][a]/vitesse)/60\n",
    "            plt.fill_between([operator_room, operator_room+0.96], [start, start], [end,end], color=light_color_r, edgecolor='k', linewidth=0.5)\n",
    "    for a in range(number_of_tasks, number_of_tasks+number_of_runavailabilities):\n",
    "        if round(x[(a,r)]) == 1 :\n",
    "            event=\"\"\n",
    "            start = startTimesU[a-number_of_tasks]/60\n",
    "            end = endTimesU[a-number_of_tasks]/60\n",
    "            plt.fill_between([operator_room, operator_room+0.96], [start, start], [end,end], color=color_r, hatch = '/', edgecolor='k', linewidth=0.5)\n",
    "            plt.text(operator_room+0.02, start+0.05 ,'{}:{}'.format(int(start), int(start*60)%60), va='top', fontsize=6)\n",
    "            plt.text(operator_room+0.02, end-0.05,'{}:{}'.format(int(end), int(end*60)%60), va='bottom', fontsize=6)\n",
    "            plt.text(operator_room+0.48, (start+end)*0.5, event, ha='center', va='center', fontsize=11)\n",
    "        if round(d[(r,a)].x) == 1:\n",
    "            start = (startTimesU[a-number_of_tasks]-distances_m[r][a]/vitesse)/60\n",
    "            end = startTimesU[a-number_of_tasks]/60\n",
    "            plt.fill_between([operator_room, operator_room+0.96], [start, start], [end,end], color=light_color_r, edgecolor='k', linewidth=0.5)\n",
    "        if round(f[(r,a)].x) == 1:\n",
    "            start=endTimesU[a-number_of_tasks]/60\n",
    "            end=start+(distances_m[r][a]/vitesse)/60\n",
    "            plt.fill_between([operator_room, operator_room+0.96], [start, start], [end,end], color=light_color_r, edgecolor='k', linewidth=0.5)\n",
    "    for a in range(number_of_tasks+number_of_runavailabilities):\n",
    "        for b in range(number_of_tasks+number_of_runavailabilities):\n",
    "            if round(y[(r,a,b)].x) == 1:\n",
    "                if a<number_of_tasks: # si a est une tâche \"réelle\"\n",
    "                    start = endTimesT[a]/60\n",
    "                else : # si a est une \"resource unavailability\"\n",
    "                    start = endTimesU[a-number_of_tasks]/60\n",
    "                end = start+(distances[a][b]/vitesse)/60\n",
    "                plt.fill_between([operator_room, operator_room+0.96], [start, start], [end,end], color=light_color_r, edgecolor='k', linewidth=0.5)\n",
    "\n",
    "plt.savefig('timetable_{}_V2.png'.format(ville), dpi=500, transparent=False)\n",
    "plt.show()"
   ]
  },
  {
   "cell_type": "markdown",
   "metadata": {},
   "source": [
    "### Fonctions de test de faisabilité des résultats"
   ]
  },
  {
   "cell_type": "code",
   "execution_count": 24,
   "metadata": {},
   "outputs": [
    {
     "name": "stdout",
     "output_type": "stream",
     "text": [
      "Les techniciens ont bien les bonnes compétences et le bon niveau pour toutes les tâches exécutées\n"
     ]
    }
   ],
   "source": [
    "# check que les techniciens ont le bon niveau et les bonnes compétences pour les tâches exécutées\n",
    "a = True\n",
    "for j in range(number_of_ressources):\n",
    "    for i in range(number_of_tasks):\n",
    "        if round(x[(i,j)].x):\n",
    "            # check que le skill est bon\n",
    "            if ressources[L_ressources[j]].skill!=tasks[L_tasks[i]].skill:\n",
    "                print(\"fail r,t \",j,i)\n",
    "                a = False\n",
    "            # check que le level est bon\n",
    "            if ressources[L_ressources[j]].level < tasks[L_tasks[i]].level:\n",
    "                print(\"fail r,t \",j,i)\n",
    "                a = False\n",
    "if a :\n",
    "    print(\"Les techniciens ont bien les bonnes compétences et le bon niveau pour toutes les tâches exécutées\")\n",
    "            "
   ]
  },
  {
   "cell_type": "code",
   "execution_count": 25,
   "metadata": {},
   "outputs": [
    {
     "name": "stdout",
     "output_type": "stream",
     "text": [
      "Les contraintes d'ouverture et de fermeture des tâches sont respectées\n"
     ]
    }
   ],
   "source": [
    "# check que les contraintes d'ouverture et de fermeture des tâches sont respectées en début et fin de journée\n",
    "a = True\n",
    "for j in range(number_of_ressources):\n",
    "    for i in range(number_of_tasks):\n",
    "        if round(x[(i,j)].x):\n",
    "            if s[i].x < tasks[L_tasks[i]].openingTime:\n",
    "                print(\"fail r,t \",j,i)\n",
    "                a = False\n",
    "            if tasks[L_tasks[i]].closingTime < s[i].x + tasks[L_tasks[i]].duration :\n",
    "                print(\"fail r,t \",j,i)\n",
    "                a = False\n",
    "\n",
    "            \n",
    "            \n",
    "if a :\n",
    "    print(\"Les contraintes d'ouverture et de fermeture des tâches sont respectées\")"
   ]
  },
  {
   "cell_type": "code",
   "execution_count": 26,
   "metadata": {},
   "outputs": [
    {
     "name": "stdout",
     "output_type": "stream",
     "text": [
      "l'employé  John  fait sa pause entre les tâches  4 et  8\n",
      "l'employé  Sam  fait sa pause entre les tâches  17 et  1\n",
      "l'employé  David  fait sa pause entre les tâches  10 et  3\n"
     ]
    }
   ],
   "source": [
    "# chaque employé possède une pause midi d’une durée d’1h à placer entre 12h et 14h, dans un lieu quelconque\n",
    "bool = False\n",
    "for i in range(number_of_ressources):\n",
    "    bool = False\n",
    "    if round(ze[i].x):\n",
    "        print(\"l'employé \", L_ressources[i], \" fait sa pause à la fin de sa journée \")\n",
    "        bool = True\n",
    "    elif round(zb[i].x):\n",
    "        print(\"l'employé \", L_ressources[i], \" fait sa pause au début de sa journée \")\n",
    "        bool = True\n",
    "    for a in range(number_of_tasks+number_of_runavailabilities):\n",
    "        for b in range(number_of_tasks+number_of_runavailabilities):\n",
    "            if round(u[i].x)==0:\n",
    "                bool=True\n",
    "            if round(z[(i,a,b)].x) and round(u[i].x):\n",
    "                bool = True\n",
    "                print(\"l'employé \", L_ressources[i], \" fait sa pause entre les tâches \", a+1, \"et \", b+1)\n",
    "    if bool ==False:\n",
    "        print(\"l'employé \", L_ressources[i], \"n'a pas de pause !!\")"
   ]
  },
  {
   "cell_type": "code",
   "execution_count": 27,
   "metadata": {},
   "outputs": [
    {
     "name": "stdout",
     "output_type": "stream",
     "text": [
      "les indispos de ressource sont respectées\n"
     ]
    }
   ],
   "source": [
    "# certains employés peuvent avoir des périodes d’indisponibilité dans la journée\n",
    " \n",
    "bool = True\n",
    "for r in range(number_of_ressources):\n",
    "    for R,id in runav_id:\n",
    "        if r == R:\n",
    "            for t in range(number_of_tasks):\n",
    "                if round(x[(t,r)].x):\n",
    "                    if s[t].x<= ressources[L_ressources[runav_id[a-number_of_tasks][0]]].unavailabilities[runav_id[a-number_of_tasks][1]].unavailabilityStart:\n",
    "                        if s[t].x+ tasks[L_tasks[j]].duration > ressources[L_ressources[runav_id[a-number_of_tasks][0]]].unavailabilities[runav_id[a-number_of_tasks][1]].unavailabilityStart:\n",
    "                            print(\"la personne \",  L_ressources[r], \"fait la tâche \", t+1, \"alors qu'elle a une indisponibilité \", id+1)\n",
    "                            bool = False\n",
    "                    elif s[t].x< ressources[L_ressources[runav_id[a-number_of_tasks][0]]].unavailabilities[runav_id[a-number_of_tasks][1]].unavailabilityEnd:\n",
    "                        print(\"la personne \",  L_ressources[r], \"fait la tâche \", t+1, \"alors qu'elle a une indisponibilité \", id+1)\n",
    "                        bool = False\n",
    "\n",
    "if bool :\n",
    "    print(\"les indispos de ressource sont respectées\")\n"
   ]
  },
  {
   "cell_type": "code",
   "execution_count": 28,
   "metadata": {},
   "outputs": [
    {
     "name": "stdout",
     "output_type": "stream",
     "text": [
      "les indispos de tâches sont respectées\n"
     ]
    }
   ],
   "source": [
    "# certaines tâches ne peuvent pas être faites à certains créneaux\n",
    " \n",
    "b = True\n",
    "for t in range(number_of_tasks):\n",
    "    for T,id in tunav_id:\n",
    "        if t == T:\n",
    "            for r in range(number_of_ressources):\n",
    "                if round(x[(t,r)].x):\n",
    "                    if s[t].x<= tasks[L_tasks[T]].unavailabilities[id].unavailabilityStart:\n",
    "                        if s[t].x+ tasks[L_tasks[T]].duration > tasks[L_tasks[T]].unavailabilities[id].unavailabilityStart:\n",
    "                            print(\"la personne \", r+1, \"fait la tâche \", t+1, \" alors que cette tâche n'est pas dispo \", id+1)\n",
    "                            b = False\n",
    "                    elif s[t].x < tasks[L_tasks[T]].unavailabilities[id].unavailabilityEnd:\n",
    "                        print(\"la tâche \", t+1, \" est faite sur un créneau d'indisponibilité \", id+1)\n",
    "                        b = False\n",
    "if b :\n",
    "    print(\"les indispos de tâches sont respectées\")\n"
   ]
  }
 ],
 "metadata": {
  "interpreter": {
   "hash": "4badd61a3eb0a98b49024dc08b6e569de2eac3230396ff1e691db44e3b600cf6"
  },
  "kernelspec": {
   "display_name": "Python 3.9.6 64-bit",
   "language": "python",
   "name": "python3"
  },
  "language_info": {
   "codemirror_mode": {
    "name": "ipython",
    "version": 3
   },
   "file_extension": ".py",
   "mimetype": "text/x-python",
   "name": "python",
   "nbconvert_exporter": "python",
   "pygments_lexer": "ipython3",
   "version": "3.8.3"
  },
  "orig_nbformat": 4
 },
 "nbformat": 4,
 "nbformat_minor": 2
}
