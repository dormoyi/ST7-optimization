{
 "cells": [
  {
   "cell_type": "markdown",
   "metadata": {},
   "source": [
    "# Partie 1"
   ]
  },
  {
   "cell_type": "markdown",
   "metadata": {},
   "source": [
    "## Modules"
   ]
  },
  {
   "cell_type": "code",
   "execution_count": null,
   "metadata": {},
   "outputs": [],
   "source": [
    "import openpyxl\n",
    "from read_input import read_input\n",
    "\n",
    "from gurobipy import *\n",
    "import math\n",
    "import numpy\n",
    "import matplotlib.pyplot as plt\n",
    "import time"
   ]
  },
  {
   "cell_type": "markdown",
   "metadata": {},
   "source": [
    "## Lecture des données"
   ]
  },
  {
   "cell_type": "code",
   "execution_count": null,
   "metadata": {},
   "outputs": [],
   "source": [
    "start_time = time.time()\n",
    "\n",
    "ville=\"Italy\" #  changer \n",
    "ressources,ressources_unavailabilities,tasks,tasks_unavailabilities = read_input(1,ville)\n",
    "# \"Bordeaux\", \"Finland\", \"GuineaGolf\", \"Italy\", \"Poland\""
   ]
  },
  {
   "cell_type": "markdown",
   "metadata": {},
   "source": [
    "## Structures de données"
   ]
  },
  {
   "cell_type": "code",
   "execution_count": null,
   "metadata": {},
   "outputs": [],
   "source": [
    "def dist(lat1, long1, lat2, long2):\n",
    "    \"\"\"\n",
    "    fonction renvoyant la distance en kms entre deux points décrits par leur latitude et longitude\n",
    "    \"\"\"\n",
    "    if lat1==lat2 and long1==long2:\n",
    "        return 0\n",
    "    return(numpy.arccos(numpy.sin(2*numpy.pi/360*lat1)*numpy.sin(2*numpy.pi/360*lat2)+numpy.cos(2*numpy.pi/360*lat1)*numpy.cos(2*numpy.pi/360*lat2)*numpy.cos(2*numpy.pi/360*(long2-long1)))*6371)\n",
    "\n",
    "#ACOS(SIN(lat1)*SIN(lat2)+COS(lat1)*COS(lat2)*COS(lon2-lon1))*6371\n",
    "v=5/6\n",
    "\n",
    "L_ressources = [j for j in ressources] # tableau des objets ressources \n",
    "L_tasks = [i for i in tasks] # tableau des objets taches\n",
    "number_of_ressources = len(L_ressources)\n",
    "number_of_tasks = len(L_tasks)\n",
    "dict_pos = {task : (task.latitude, task.longitude) for task in tasks.values()}\n",
    "\n",
    "dict_pos = {task : (tasks[L_tasks[task]].latitude, tasks[L_tasks[task]].longitude) for task in range(number_of_tasks)}\n",
    "print(dict_pos)\n",
    "\n",
    "#distance[a][b] donne la distance de la tâche a vers la tâche b\n",
    "distances = [[dist(tasks[L_tasks[a]].latitude,tasks[L_tasks[a]].longitude, tasks[L_tasks[b]].latitude, tasks[L_tasks[b]].longitude) for b in range(number_of_tasks)] for a in range(number_of_tasks)]\n",
    "\n",
    "#distance_m[j][i] donne la distance de la maison de j la tâche i\n",
    "distances_m = [[dist(ressources[L_ressources[j]].latitude,ressources[L_ressources[j]].longitude, tasks[L_tasks[i]].latitude, tasks[L_tasks[i]].longitude) for i in range(number_of_tasks)] for j in range(number_of_ressources)]\n",
    "print(distances_m)\n",
    "\n",
    "# https://gurobi.github.io/modeling-examples/technician_routing_scheduling/technician_routing_scheduling.html"
   ]
  },
  {
   "cell_type": "markdown",
   "metadata": {},
   "source": [
    "## Variables de décision"
   ]
  },
  {
   "cell_type": "code",
   "execution_count": null,
   "metadata": {},
   "outputs": [],
   "source": [
    "### Create Model\n",
    "m = Model(\"trs0\")\n",
    "\n",
    "M = 1440\n",
    "\n",
    "print(number_of_ressources)\n",
    "print(number_of_tasks)\n",
    "\n",
    "### Decision variables\n",
    "# Task-ressource assignment\n",
    "x = {(t,r) : m.addVar(vtype = GRB.BINARY, name = f'x_{t}_{r}') for r in range(number_of_ressources) for t in range(number_of_tasks)}\n",
    "\n",
    "# Time-task assignment\n",
    "s = {t : m.addVar(vtype = GRB.INTEGER, lb = 0, ub = 1440, name = f's_{t}') for t in range(number_of_tasks)}\n",
    "# Les s_t valent entre 0 et 1440 car les contraintes de temps (entre 8h et 18h) sont contenues dans les jeux de données.\n",
    "\n",
    "# Est-ce que le travailleur se déplace entre les points a et b ?\n",
    "y = {(r,a,b) : m.addVar(vtype = GRB.BINARY, name = f'y_{r}_{a}_{b}') for r in range(number_of_ressources) for a in range(number_of_tasks) for b in range(number_of_tasks)}# if a != b}\n",
    "# Technician cannot leave or return to a depot that is not its base\n",
    "\n",
    "# Is the worker used ?\n",
    "u = {r: m.addVar(vtype = GRB.BINARY, name = f'u_{r}') for r in range(number_of_ressources)}\n",
    "\n",
    "# starting task of worker\n",
    "d = {(r,t) : m.addVar(vtype = GRB.BINARY, name = f'd_{r}_{t}') for r in range(number_of_ressources) for t in range(number_of_tasks)}\n",
    "# ending task of worker\n",
    "f = {(r,t) : m.addVar(vtype = GRB.BINARY, name = f'f_{r}_{t}') for r in range(number_of_ressources) for t in range(number_of_tasks)}\n",
    "\n",
    "#variables de linéarisation\n",
    "#H = {(r,a,b) : m.addVar(vtype = GRB.BINARY,lb = 0, ub = 1440, name = f'h_{r}_{a}_{b}') for r in range(number_of_ressources) for a in range(number_of_tasks) for b in range(number_of_tasks)}# if a != b}\n",
    "#P = {(r,a,b) : m.addVar(vtype = GRB.BINARY,lb = 0, ub = 1440, name = f'p_{r}_{a}_{b}') for r in range(number_of_ressources) for a in range(number_of_tasks) for b in range(number_of_tasks)}# if a != b}\n"
   ]
  },
  {
   "cell_type": "markdown",
   "metadata": {},
   "source": [
    "## Contraintes"
   ]
  },
  {
   "cell_type": "code",
   "execution_count": null,
   "metadata": {},
   "outputs": [],
   "source": [
    "# une personne est obligée de se déplacer (pas d'arrêtes de bouclage sur un point du graphe)\n",
    "C4_2 = [m.addConstr(y[(r,a,a)] == 0) for r in range(number_of_ressources) for a in range(number_of_tasks)]"
   ]
  },
  {
   "cell_type": "code",
   "execution_count": null,
   "metadata": {},
   "outputs": [],
   "source": [
    "nbRpT = [LinExpr() for t in range(number_of_tasks)]\n",
    "for t in range(number_of_tasks):\n",
    "  for r in  range(number_of_ressources):\n",
    "    nbRpT[t]+=x[(t,r)]\n",
    "\n",
    "# One ressource per task\n",
    "C1 = [m.addConstr(nbRpT[t] == 1) for t in range(number_of_tasks)]\n",
    "\n",
    "# Works only if all tasks are feasable\n",
    "#nbRpTq = {t: LinExpr() for t in range(number_of_tasks)}\n",
    "#for t in range(number_of_tasks):\n",
    "#  for r in  range(number_of_ressources):\n",
    "#    if ressources[L_ressources[r]].skill==tasks[L_tasks[t]].skill and ressources[L_ressources[r]].level>=tasks[L_tasks[t]].level:\n",
    "#      nbRpTq[t]+=x[(t,r)]\n",
    "\n",
    "# Qualified technicians\n",
    "#C2 = [m.addConstr(nbRpTq[t] >= 1) for t in range(number_of_tasks)]\n",
    "\n",
    "#C1 = [m.addConstr(quicksum(x[(t,r)] for r in range(number_of_ressources)) == 1 for t in range(number_of_tasks))]\n",
    "\n"
   ]
  },
  {
   "cell_type": "code",
   "execution_count": null,
   "metadata": {},
   "outputs": [],
   "source": [
    "nbRpTs = [LinExpr() for t in range(number_of_tasks)]\n",
    "for t in range(number_of_tasks):\n",
    "  for r in  range(number_of_ressources):\n",
    "     nbRpTs[t]+=x[(t,r)]*(ressources[L_ressources[r]].skill!=tasks[L_tasks[r]].skill)\n",
    "\n",
    " # Skilled technicians\n",
    "C2 = [m.addConstr(nbRpTs[t] == 0) for t in range(number_of_tasks)]"
   ]
  },
  {
   "cell_type": "code",
   "execution_count": null,
   "metadata": {},
   "outputs": [],
   "source": [
    "nbRpTl =[ LinExpr() for t in range(number_of_tasks)]\n",
    "for t in range(number_of_tasks):\n",
    "  for r in  range(number_of_ressources):\n",
    "    nbRpTl[t]+=x[(t,r)]*(ressources[L_ressources[r]].level-tasks[L_tasks[t]].level)\n",
    "\n",
    "# Leveled technicians\n",
    "C3 = [m.addConstr(nbRpTl[t] >= 0) for t in range(number_of_tasks)]"
   ]
  },
  {
   "cell_type": "code",
   "execution_count": null,
   "metadata": {},
   "outputs": [],
   "source": [
    "# si une personne est affectée, elle arrive jusqu'à la tâche\n",
    "C4 = {(i,j) : m.addConstr(quicksum(y[(j,a,i)] for a in range(number_of_tasks)) + d[(j,i)] == x[(i,j)], name = f'arrive{i}{j}') for j in range(number_of_ressources) for i in range(number_of_tasks)}\n",
    "\n",
    "# une personne doit partir après avoir exécuté sa tâche\n",
    "C5 = {(i,j) : m.addConstr(quicksum(y[(j,i,b)] for b in range(number_of_tasks)) + f[(j,i)] == x[(i,j)], name = f'part{i}{j}') for j in range(number_of_ressources) for i in range(number_of_tasks)}"
   ]
  },
  {
   "cell_type": "code",
   "execution_count": null,
   "metadata": {},
   "outputs": [],
   "source": [
    "# Non overlapping tasks previous version\n",
    "\n",
    "# C6 = [m.addConstr(H[(r,a,b)] >=0) for r in range(number_of_ressources) for a in range(number_of_tasks) for b in range(number_of_tasks)]# if a != b]\n",
    "# C7 = [m.addConstr(H[(r,a,b)] - 1440 * y[(r,a,b)]  <=0) for r in range(number_of_ressources) for a in range(number_of_tasks) for b in range(number_of_tasks)]# if a != b]\n",
    "# C8 = [m.addConstr(H[(r,a,b)] - s[a]  <=0) for r in range(number_of_ressources) for a in range(number_of_tasks) for b in range(number_of_tasks)]# if a != b]\n",
    "# C9 = [m.addConstr(H[(r,a,b)] - s[a] + 1440*(1-H[(r,a,b)])  >=0) for r in range(number_of_ressources) for a in range(number_of_tasks) for b in range(number_of_tasks)]# if a != b]\n",
    "\n",
    "# C10 = [m.addConstr(P[(r,a,b)] >=0) for r in range(number_of_ressources) for a in range(number_of_tasks) for b in range(number_of_tasks)]# if a != b]\n",
    "# C11 = [m.addConstr(P[(r,a,b)] - 1440 * y[(r,a,b)]  <=0) for r in range(number_of_ressources) for a in range(number_of_tasks) for b in range(number_of_tasks)]# if a != b]\n",
    "# C12 = [m.addConstr(P[(r,a,b)] - s[b]  <=0) for r in range(number_of_ressources) for a in range(number_of_tasks) for b in range(number_of_tasks)]# if a != b]\n",
    "# C13 = [m.addConstr(P[(r,a,b)] - s[b] + 1440*(1-P[(r,a,b)])  >=0) for r in range(number_of_ressources) for a in range(number_of_tasks) for b in range(number_of_tasks)]# if a != b]\n",
    "# C14Sum =[[LinExpr() for a in range(number_of_tasks)] for b in range(number_of_tasks)]\n",
    "# for a in range(number_of_tasks):\n",
    "#   for b in range(number_of_tasks):\n",
    "#     for j in  range(number_of_ressources):\n",
    "#       C14Sum[a][b]+=H[(j,a,b)] - P[(j,a,b)] + y[(j,a,b)] * (tasks[L_tasks[a]].duration + distances[a][b]/v)\n",
    "\n",
    "# C14 = [m.addConstr(C14Sum[a][b] <= 0) for a in range(number_of_tasks) for b in range(number_of_tasks)]"
   ]
  },
  {
   "cell_type": "code",
   "execution_count": null,
   "metadata": {},
   "outputs": [],
   "source": [
    "# non overlapping tasks\n",
    "print(distances[0][1]/v)\n",
    "print(tasks[L_tasks[0]].duration)\n",
    "C6 = [m.addConstr(s[b] >= s[a] + tasks[L_tasks[a]].duration + distances[a][b]/v -M*(1-quicksum(y[(j,a,b)] for j in range(number_of_ressources)))) for a in range(number_of_tasks) for b in range(number_of_tasks)]"
   ]
  },
  {
   "cell_type": "code",
   "execution_count": null,
   "metadata": {},
   "outputs": [],
   "source": [
    "# la premiere tache commence apres le début de la journée\n",
    "#j,i=0,3\n",
    "#print(ressources[L_ressources[j]].workingStart -M*(1-x[(i,j)].x) + distances_m[j][i]/v)\n",
    "#M=10E2\n",
    "C11 = [m.addConstr(s[i] >= ressources[L_ressources[j]].workingStart -M*(1-x[(i,j)]) + distances_m[j][i]/v) for i in range(number_of_tasks) for j in range(number_of_ressources)]"
   ]
  },
  {
   "cell_type": "code",
   "execution_count": null,
   "metadata": {},
   "outputs": [],
   "source": [
    "# la derniere tache finit avant la fin de la journee\n",
    "C12 = [m.addConstr(ressources[L_ressources[j]].workingEnd >= s[i]+tasks[L_tasks[i]].duration + distances_m[j][i]/v -M*(1-x[(i,j)])) for i in range(number_of_tasks) for j in range(number_of_ressources)]"
   ]
  },
  {
   "cell_type": "code",
   "execution_count": null,
   "metadata": {},
   "outputs": [],
   "source": [
    "# une personne doit partir de chez elle si elle travaille ce jour la\n",
    "C7 = [m.addConstr(quicksum(d[(j,a)] for a in range(number_of_tasks)) == u[j]) for j in range(number_of_ressources)]\n",
    "# une personne doit revenir chez elle si elle travaille ce jour la\n",
    "C8 = [m.addConstr(quicksum(f[(j,b)] for b in range(number_of_tasks)) == u[j]) for j in range(number_of_ressources)]\n",
    "\n",
    "# contraintes pour lier x et u\n",
    "C9 = [m.addConstr(quicksum(x[(i,j)] for i in range(number_of_tasks)) <= u[j]*M) for j in range(number_of_ressources)]\n",
    "#C10 = [m.addConstr(quicksum(x[(i,j)] for i in range(number_of_tasks)) >= u[j]) for j in range(number_of_ressources)]\n",
    "\n",
    "# contraintes pour lier x et (d et f)\n",
    "#C13 = [d[(j,i)]<=x[(i,j)] for i in range(number_of_tasks) for j in range(number_of_ressources)]\n",
    "#C14 = [f[(j,i)]<=x[(i,j)] for i in range(number_of_tasks) for j in range(number_of_ressources)]\n",
    "\n"
   ]
  },
  {
   "cell_type": "code",
   "execution_count": null,
   "metadata": {},
   "outputs": [],
   "source": [
    "# C7 = [m.addConstr(quicksum(d[(j,a)] for a in range(number_of_tasks)) == 1) for j in range(number_of_ressources)]\n",
    "# C8 = [m.addConstr(quicksum(f[(j,b)] for b in range(number_of_tasks)) == 1) for j in range(number_of_ressources)]\n",
    "\n",
    "# # C9 = [m.addConstr(quicksum(x[(i,j)] for i in range(number_of_tasks)) <= u[j]*M) for j in range(number_of_ressources)]\n",
    "# # C10 = [m.addConstr(quicksum(x[(i,j)] for i in range(number_of_tasks)) >= u[j]) for j in range(number_of_ressources)]\n",
    "\n",
    "# C13 = [d[(j,i)]<=x[(i,j)] for i in range(number_of_tasks) for j in range(number_of_ressources)]\n",
    "# C14 = [f[(j,i)]<=x[(i,j)] for i in range(number_of_tasks) for j in range(number_of_ressources)]\n"
   ]
  },
  {
   "cell_type": "code",
   "execution_count": null,
   "metadata": {},
   "outputs": [],
   "source": [
    "# contrainte évitant d'avoir des cycles dans les graphes (permet que les tâches soient reliées entre elles)\n",
    "C15 = [m.addConstr(y[(j,a,b)] + y[(j,b,a)] <=1) for a in range(number_of_tasks) for b in range(number_of_tasks) for j in range(number_of_ressources)]\n",
    "C16 = [m.addConstr(d[(j,a)] + f[(j,a)] <=1) for a in range(number_of_tasks) for j in range(number_of_ressources)]"
   ]
  },
  {
   "cell_type": "code",
   "execution_count": null,
   "metadata": {},
   "outputs": [],
   "source": [
    "# contraintes permettant de respecter les horaires d'ouverture et de fermeture des taches\n",
    "C17 = [m.addConstrs(s[i] >= tasks[L_tasks[i]].openingTime  -M*(1-quicksum(x[(i,j)] for j in range (number_of_ressources))) for i in range(number_of_tasks))]\n",
    "C18 = [m.addConstrs(tasks[L_tasks[i]].closingTime >= s[i] + tasks[L_tasks[i]].duration - M*(1-quicksum(x[(i,j)] for j in range (number_of_ressources)))for i in range(number_of_tasks))]"
   ]
  },
  {
   "cell_type": "markdown",
   "metadata": {},
   "source": [
    "## Fonction objectif et résolution"
   ]
  },
  {
   "cell_type": "code",
   "execution_count": null,
   "metadata": {},
   "outputs": [],
   "source": [
    "# -- Ajout de la fonction objectif --\n",
    "couts=LinExpr()\n",
    "for j in range(number_of_ressources):\n",
    "  for a in range(number_of_tasks):\n",
    "    for b in range(number_of_tasks):\n",
    "      couts+=y[(j,a,b)]*distances[a][b]/v\n",
    "    couts+=d[(j,a)]*distances_m[j][a]/v\n",
    "    couts+=f[(j,a)]*distances_m[j][a]/v\n",
    "m.setObjective(couts, GRB.MINIMIZE)\n",
    "\n",
    "# -- Choix d'un paramétrage d'affichage minimaliste --\n",
    "m.params.outputflag = 0 # mode muet\n",
    "\n",
    "# -- Mise à jour du modèle  --\n",
    "m.update()\n",
    "\n",
    "# -- Affichage en mode texte du PL --\n",
    "m.display()\n",
    "\n",
    "# -- Résolution --\n",
    "m.optimize()\n",
    "\n",
    "# -- Vérification du statut et Affichage (le cas échéant) des solutions --\n",
    "if m.status == GRB.INF_OR_UNBD:\n",
    "    m.setParam(GRB.Param.Presolve, 0)\n",
    "    m.optimize()\n",
    "\n",
    "if m.status == GRB.INFEASIBLE:\n",
    "    print(m.display(), \"\\n\\tN'A PAS DE SOLUTION!!!\")\n",
    "elif m.status == GRB.UNBOUNDED:\n",
    "    print(m.display(), \"\\n\\tEST NON BORNÉ!!!\")\n",
    "\n",
    "\n",
    "# for j in range(number_of_tasks):\n",
    "#   for i in range(number_of_ressources):\n",
    "#     print(x[(j,i)].x,end=' ')\n",
    "#   print(\"\\n\")\n",
    "\n",
    "# print(\"\\n\\n\\n\")\n",
    "\n",
    "\n",
    "# -- Affichage de la solution --\n",
    "#print(\"La solution optimale est (d,q) = {} \\navec pour valeur de l'objectif z = {}€\".format((D.x, Q.x), m.objVal))\n",
    "t=open(\"Solution\"+ville+\"V1ByV4.txt\",'w'.format(ville))\n",
    "res=\"taskId;performed;employeeName;startTime;\\n\"\n",
    "for j in range(number_of_tasks):\n",
    "  p=False\n",
    "  for i in range(number_of_ressources):\n",
    "    if round(x[(j,i)].x):\n",
    "      res+=\"{};{};{};{};\\n\".format(L_tasks[j],1,L_ressources[i],int(s[j].x))\n",
    "      p=True\n",
    "  if not p:\n",
    "    res+=\"{};;;;\\n\".format(L_tasks[j])\n",
    "print(res)\n",
    "t.write(res)\n",
    "t.close()\n",
    "\n",
    "print(\"###########################\")\n",
    "\n",
    "for a in range(number_of_tasks):\n",
    "  for b in range(number_of_tasks):\n",
    "    j=0\n",
    "    if  round(y[(j,a,b)].x)==1:\n",
    "      print(\"j{} - a{} - b{} - y{} // \".format(j, a,b,y[(j,a,b)].x), end=\"\")\n",
    "\n",
    "#7 - 4 - 2 - 1 - 7\n",
    "#8 - 6 - 8\n",
    "\n",
    "print('\\n') \n",
    "print(\"###########################\")\n",
    "\n",
    "for a in range(number_of_tasks):\n",
    "  j=0\n",
    "  if  round(d[(j,a)].x)==1:\n",
    "    print(\"j{} - a{} - d{} // \".format(j, a,d[(j,a)].x), end=\"\")\n",
    "\n",
    "\n",
    "print('\\n\\n')\n",
    "for a in range(number_of_tasks):\n",
    "  j=0\n",
    "  if  round(f[(j,a)].x)==1:\n",
    "    print(\"j{} - a{} - d{} // \".format(j, a,f[(j,a)].x), end=\"\")\n",
    "\n",
    "# 3 - 5 - 2 - 9 - 7 - 4 - 1 - 0\n",
    "# 6-8 okok\n",
    "\n",
    "interval = time.time() - start_time"
   ]
  },
  {
   "cell_type": "code",
   "execution_count": null,
   "metadata": {},
   "outputs": [],
   "source": [
    "print(\"temps de calcul : \", interval)\n",
    "print(\"valeur de la fonction objectif : \", m.ObjVal)"
   ]
  },
  {
   "cell_type": "markdown",
   "metadata": {},
   "source": [
    "## Vérification de la solution"
   ]
  },
  {
   "cell_type": "code",
   "execution_count": null,
   "metadata": {},
   "outputs": [],
   "source": [
    "# affichage de la carte\n",
    "import folium\n",
    "\n",
    "lat_tot,long_tot=0,0\n",
    "for a in range(number_of_tasks):\n",
    "  lat_tot+=tasks[L_tasks[a]].latitude\n",
    "  long_tot+=tasks[L_tasks[a]].longitude\n",
    "mid_latitude = lat_tot/number_of_tasks\n",
    "mid_longitude = long_tot/number_of_tasks\n",
    "carte=folium.Map(location=[mid_latitude, mid_longitude],zoom_start=10)\n",
    "for a in range(number_of_tasks):\n",
    "  folium.Marker([tasks[L_tasks[a]].latitude, tasks[L_tasks[a]].longitude],icon=folium.Icon(color='black'),popup=str(a)).add_to(carte)\n",
    "list_colors = ['darkgreen', 'blue', 'red', 'green', 'darkpurple', 'lightred', 'purple', 'pink', 'orange', 'darkblue', 'gray', 'darkred']\n",
    "number_of_colors = len(list_colors)\n",
    "print(number_of_colors)\n",
    "counter = 0\n",
    "for r in range(number_of_ressources):\n",
    "  color_r = list_colors[counter % number_of_colors]\n",
    "  folium.Marker([ressources[L_ressources[r]].latitude,ressources[L_ressources[r]].longitude],icon=folium.Icon(color=color_r),popup=\"pers\").add_to(carte)\n",
    "  for a in range(number_of_tasks):\n",
    "    for b in range(number_of_tasks):\n",
    "      if round(y[(r,a,b)].x) == 1:\n",
    "        line_ab = [(tasks[L_tasks[a]].latitude, tasks[L_tasks[a]].longitude),(tasks[L_tasks[b]].latitude, tasks[L_tasks[b]].longitude)]\n",
    "        folium.PolyLine(line_ab, color=color_r, weight=2.5, opacity=0.8).add_to(carte)\n",
    "    if round(d[(r,a)].x) == 1:\n",
    "      line_home_t = [(ressources[L_ressources[r]].latitude,ressources[L_ressources[r]].longitude), (tasks[L_tasks[a]].latitude, tasks[L_tasks[a]].longitude)]\n",
    "      folium.PolyLine(line_home_t, color=color_r, weight=2.5, opacity=0.8).add_to(carte)\n",
    "    if round(f[(r,a)].x) == 1:\n",
    "      line_t_home = [(tasks[L_tasks[a]].latitude, tasks[L_tasks[a]].longitude), (ressources[L_ressources[r]].latitude,ressources[L_ressources[r]].longitude)]\n",
    "      folium.PolyLine(line_t_home, color=color_r, weight=2.5, opacity=0.8).add_to(carte)\n",
    "  counter+=1\n",
    "\n",
    "carte.save('Cartographie/Cartev1.html')\n",
    "\n",
    "carte"
   ]
  },
  {
   "cell_type": "code",
   "execution_count": null,
   "metadata": {},
   "outputs": [],
   "source": [
    "import matplotlib.pyplot as plt\n",
    "\n",
    "list_colors = ['b','g','r','c','darkviolet','y','b','g','r','c','darkviolet','y','b','g','r','c','darkviolet','y','b','g','r','c','darkviolet','y']\n",
    "list_light_colors = ['lightblue','lightgreen','pink','lightcyan','violet','lightyellow','lightblue','lightgreen','pink','lightcyan','violet','lightyellow','lightblue','lightgreen','pink','lightcyan','violet','lightyellow','lightblue','lightgreen','pink','lightcyan','violet','lightyellow']\n",
    "number_of_colors = len(list_colors)\n",
    "counter = 0\n",
    "done_tasks=list()\n",
    "for r in range(number_of_ressources):\n",
    "  color_r = list_colors[counter % number_of_colors]\n",
    "  plt.plot(ressources[L_ressources[r]].latitude,ressources[L_ressources[r]].longitude, color = color_r, marker=\"D\", label=L_ressources[r])\n",
    "  for a in range(number_of_tasks):\n",
    "    for b in range(number_of_tasks):\n",
    "      if round(y[(r,a,b)].x) == 1:\n",
    "        plt.plot([tasks[L_tasks[a]].latitude, tasks[L_tasks[b]].latitude], [tasks[L_tasks[a]].longitude, tasks[L_tasks[b]].longitude], color = color_r)\n",
    "    if round(d[(r,a)].x) == 1:\n",
    "      plt.plot([tasks[L_tasks[a]].latitude, ressources[L_ressources[r]].latitude], [tasks[L_tasks[a]].longitude, ressources[L_ressources[r]].longitude], color = 'gold')\n",
    "    if round(f[(r,a)].x) == 1:\n",
    "      plt.plot([tasks[L_tasks[a]].latitude, ressources[L_ressources[r]].latitude], [tasks[L_tasks[a]].longitude, ressources[L_ressources[r]].longitude], color = color_r)\n",
    "    if round(x[(a,r)].x) == 1 :\n",
    "      done_tasks.append(a)\n",
    "      plt.plot(tasks[L_tasks[a]].latitude, tasks[L_tasks[a]].longitude, color = color_r, marker=\"o\")\n",
    "      plt.annotate(str(a+1), [tasks[L_tasks[a]].latitude+0.005, tasks[L_tasks[a]].longitude+0.005])\n",
    "  counter+=1\n",
    "\n",
    "for t in range(number_of_tasks):\n",
    "  if t not in done_tasks:\n",
    "    plt.plot(tasks[L_tasks[t]].latitude, tasks[L_tasks[t]].longitude, color = 'black', marker=\"o\")\n",
    "    plt.annotate(str(t+1), [tasks[L_tasks[t]].latitude+0.005, tasks[L_tasks[t]].longitude+0.005])\n",
    "plt.legend()\n",
    "plt.savefig('parcours_{}_V1.png'.format(ville), dpi=500, transparent=False)\n",
    "plt.show()"
   ]
  },
  {
   "cell_type": "code",
   "execution_count": null,
   "metadata": {},
   "outputs": [],
   "source": [
    "operators=[L_ressources[r] for r in range(number_of_ressources)]\n",
    "colors=list_colors[0:number_of_ressources]\n",
    "light_colors=list_light_colors[0:number_of_ressources]\n",
    "\n",
    "fig=plt.figure(figsize=(10,5.89))\n",
    "\n",
    "# Set Axis\n",
    "ax=fig.add_subplot(111)\n",
    "ax.yaxis.grid()\n",
    "ax.set_xlim(0.5,len(operators)+0.5)\n",
    "ax.set_ylim(18.5, 7.5)\n",
    "ax.set_xticks(range(1,len(operators)+1))\n",
    "ax.set_xticklabels(operators)\n",
    "ax.set_ylabel('Time')\n",
    "\n",
    "# Set Second Axis\n",
    "ax2=ax.twiny().twinx()\n",
    "ax2.invert_yaxis()\n",
    "ax2.set_xlim(ax.get_xlim())\n",
    "ax2.set_ylim(ax.get_ylim())\n",
    "ax2.set_xticks(ax.get_xticks())\n",
    "ax2.set_xticklabels(operators)\n",
    "ax2.set_ylabel('Time')\n",
    "\n",
    "for r in range(number_of_ressources):\n",
    "    color_r = colors[r]\n",
    "    light_color_r = light_colors[r]\n",
    "    operator_room = r+1-0.48\n",
    "    for a in range(number_of_tasks):\n",
    "        if round(x[(a,r)].x) == 1 :\n",
    "            event=\"T\"+str(a+1)\n",
    "            start = (int(s[a].x))/60\n",
    "            end = (int(s[a].x)+tasks[L_tasks[a]].duration)/60\n",
    "            plt.fill_between([operator_room, operator_room+0.96], [start, start], [end,end], color=color_r, edgecolor='k', linewidth=0.5)\n",
    "            plt.text(operator_room+0.02, start+0.05 ,'{}:{}'.format(int(s[a].x)//60, int(s[a].x)%60), va='top', fontsize=6)\n",
    "            plt.text(operator_room+0.02, end-0.05,'{}:{}'.format((int(s[a].x)+tasks[L_tasks[a]].duration)//60, (int(s[a].x)+tasks[L_tasks[a]].duration)%60), va='bottom', fontsize=6)\n",
    "            plt.text(operator_room+0.48, (start+end)*0.5, event, ha='center', va='center', fontsize=11)\n",
    "        for b in range(number_of_tasks):\n",
    "            if round(y[(r,a,b)].x) == 1:\n",
    "                start = (int(s[a].x)+tasks[L_tasks[a]].duration)/60\n",
    "                end = start+(distances[a][b]/v)/60\n",
    "                print((start,end))\n",
    "                plt.fill_between([operator_room, operator_room+0.96], [start, start], [end,end], color=light_color_r, edgecolor='k', linewidth=0.5)\n",
    "        if round(d[(r,a)].x) == 1:\n",
    "            start = (s[a].x-distances_m[r][a]/v)/60\n",
    "            end = s[a].x/60\n",
    "            plt.fill_between([operator_room, operator_room+0.96], [start, start], [end,end], color=light_color_r, edgecolor='k', linewidth=0.5)\n",
    "        if round(f[(r,a)].x) == 1:\n",
    "            start=(s[a].x + tasks[L_tasks[a]].duration)/60\n",
    "            end=start+(distances_m[r][a]/v)/60\n",
    "            plt.fill_between([operator_room, operator_room+0.96], [start, start], [end,end], color=light_color_r, edgecolor='k', linewidth=0.5)\n",
    "\n",
    "plt.savefig('timetable_{}_V1.png'.format(ville), dpi=500, transparent=False)\n",
    "plt.show()"
   ]
  },
  {
   "cell_type": "code",
   "execution_count": null,
   "metadata": {},
   "outputs": [],
   "source": [
    "import plotly.express as px\n",
    "import pandas as pd\n",
    "\n",
    "# plotting the working tasks\n",
    "liste=[]\n",
    "for i in range(number_of_ressources):\n",
    "    for j in range(number_of_tasks):\n",
    "        if round(x[(j,i)].x):\n",
    "            start=int(s[j].x)\n",
    "            end=(int(s[j].x)+tasks[L_tasks[j]].duration)\n",
    "            liste.append(dict(Task=L_ressources[i], Start=start, Finish=end, Resource=\"executing task\",J=\"tâche \"+str(j+1)))\n",
    "\n",
    "# plotting the transports\n",
    "for a in range(number_of_tasks):\n",
    "    for b in range(number_of_tasks):\n",
    "        for j in range(number_of_ressources):\n",
    "            if round(y[(j,a,b)].x):\n",
    "                start=(int(s[a].x)+tasks[L_tasks[a]].duration)\n",
    "                end=(start+distances[a][b]/v)\n",
    "                liste.append(dict(Task=L_ressources[j], Start=start, Finish=end, Resource=\"moving\",J=\"trajet \"+str(a+1)+\"-\"+str(b+1)))\n",
    "\n",
    "# plotting the first transport\n",
    "for a in range(number_of_tasks):\n",
    "    for j in range(number_of_ressources):\n",
    "        if round(d[(j,a)].x):\n",
    "            start=(s[a].x-distances_m[j][a]/v)\n",
    "            end=s[a].x\n",
    "            liste.append(dict(Task=L_ressources[j], Start=start, Finish=end, Resource=\"depart\",J=\"trajet maison -\"+str(a+1)))\n",
    "\n",
    "# plotting the last transport\n",
    "for a in range(number_of_tasks):\n",
    "    for j in range(number_of_ressources):\n",
    "        if round(f[(j,a)].x):\n",
    "            start=(s[a].x + tasks[L_tasks[i]].duration)\n",
    "            end=(start+ distances_m[j][a]/v)\n",
    "            liste.append(dict(Task=L_ressources[j], Start=start, Finish=end, Resource=\"depart\",J=str(a+1)+\"- trajet maison\"))\n",
    "\n",
    "df = pd.DataFrame(liste)\n",
    "df['delta'] = df['Finish'] - df['Start']\n",
    "\n",
    "fig = px.timeline(df, x_start=\"Start\", x_end=\"Finish\", y=\"Task\",text=\"J\")\n",
    "\n",
    "fig.layout.xaxis.type = 'linear'\n",
    "fig.data[0].x = df.delta.tolist()\n",
    "fig.show()"
   ]
  },
  {
   "cell_type": "code",
   "execution_count": null,
   "metadata": {},
   "outputs": [],
   "source": [
    "# check que les techniciens ont le bon niveau et les bonnes compétences pour les tâches exécutées\n",
    "a = True\n",
    "for i in range(number_of_ressources):\n",
    "    for j in range(number_of_tasks):\n",
    "        if round(x[(j,i)].x):\n",
    "            # check que le skill est bon\n",
    "            if ressources[L_ressources[i]].skill!=tasks[L_tasks[i]].skill:\n",
    "                print(\"fail r,t \",i,j)\n",
    "                a = False\n",
    "            # check que le level est bon\n",
    "            if ressources[L_ressources[i]].level < tasks[L_tasks[j]].level:\n",
    "                print(\"fail r,t \",i,j)\n",
    "                a = False\n",
    "if a :\n",
    "    print(\"Les techniciens ont bien les bonnes compétences et le bon niveau pour toutes les tâches exécutées\")\n",
    "            \n",
    "            "
   ]
  },
  {
   "cell_type": "code",
   "execution_count": null,
   "metadata": {},
   "outputs": [],
   "source": [
    "# check que les contraintes d'ouverture et de fermeture des tâches sont respectées (à réécrire pour la v2)\n",
    "a = True\n",
    "for i in range(number_of_ressources):\n",
    "    for j in range(number_of_tasks):\n",
    "        if round(x[(j,i)].x):\n",
    "            if s[i].x < tasks[L_tasks[i]].openingTime:\n",
    "                print(\"fail r,t \",i,j)\n",
    "                a = False\n",
    "            if tasks[L_tasks[i]].closingTime < s[i].x + tasks[L_tasks[i]].duration :\n",
    "                print(\"fail r,t \",i,j)\n",
    "                a = False\n",
    "\n",
    "            \n",
    "            \n",
    "if a :\n",
    "    print(\"Les contraintes d'ouverture et de fermeture des tâches sont respectées\")\n"
   ]
  },
  {
   "cell_type": "markdown",
   "metadata": {},
   "source": [
    "\n",
    "coder convexite\n",
    "\n",
    "tout bencher\n",
    "\n",
    "rajouter des checks sur les nouvelles contraintes, modifier l'emploi du temps (v2)\n",
    "\n",
    "check contraites ouverture et fermeture des taches (recoder en v2)\n",
    "\n",
    "coder qqes contraintes v2"
   ]
  }
 ],
 "metadata": {
  "interpreter": {
   "hash": "4badd61a3eb0a98b49024dc08b6e569de2eac3230396ff1e691db44e3b600cf6"
  },
  "kernelspec": {
   "display_name": "Python 3.9.6 64-bit",
   "language": "python",
   "name": "python3"
  },
  "language_info": {
   "codemirror_mode": {
    "name": "ipython",
    "version": 3
   },
   "file_extension": ".py",
   "mimetype": "text/x-python",
   "name": "python",
   "nbconvert_exporter": "python",
   "pygments_lexer": "ipython3",
   "version": "3.8.8"
  },
  "orig_nbformat": 4
 },
 "nbformat": 4,
 "nbformat_minor": 2
}
