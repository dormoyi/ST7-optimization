{
 "cells": [
  {
   "cell_type": "markdown",
   "metadata": {},
   "source": [
    "# Partie 1"
   ]
  },
  {
   "cell_type": "markdown",
   "metadata": {},
   "source": [
    "## Modules"
   ]
  },
  {
   "cell_type": "code",
   "execution_count": 171,
   "metadata": {},
   "outputs": [],
   "source": [
    "import openpyxl\n",
    "from read_input import read_input\n",
    "\n",
    "from gurobipy import *\n",
    "import math\n",
    "import numpy \n",
    "import time"
   ]
  },
  {
   "cell_type": "markdown",
   "metadata": {},
   "source": [
    "## Lecture des données"
   ]
  },
  {
   "cell_type": "code",
   "execution_count": 172,
   "metadata": {},
   "outputs": [],
   "source": [
    "start_time = time.time()\n",
    "\n",
    "ville=\"Bordeaux\" #  changer \n",
    "ressources,ressources_unavailabilities,tasks,tasks_unavailabilities = read_input(2,ville)\n",
    "# V1 : \"Bordeaux\", \"Finland\", \"GuineaGolf\", \"Italy\", \"Poland\"\n",
    "# V2 : \"Austria\", \"Australia\", \"Bordeaux\", \"Poland\", \"Spain\""
   ]
  },
  {
   "cell_type": "markdown",
   "metadata": {},
   "source": [
    "## Structures de données"
   ]
  },
  {
   "cell_type": "code",
   "execution_count": 173,
   "metadata": {},
   "outputs": [
    {
     "name": "stdout",
     "output_type": "stream",
     "text": [
      "{0: (44.556549383420084, -0.31939224223757195), 1: (44.967500952177986, -0.6086852638150881), 2: (45.14421541464031, -0.7342570469020379), 3: (45.264808304867096, -0.7717887212411139), 4: (45.044422793402624, -0.6687606009488057), 5: (45.19957452440505, -0.7462077931750715), 6: (45.397697776585, -0.9668192708194538), 7: (45.023479086796385, -0.8072126299796225), 8: (45.29291368453335, -0.9365361007032235), 9: (45.08146166752168, -0.8062453230620741)}\n"
     ]
    }
   ],
   "source": [
    "def dist(lat1, long1, lat2, long2):\n",
    "    \"\"\"\n",
    "    fonction renvoyant la distance en kms entre deux points décrits par leur latitude et longitude\n",
    "    \"\"\"\n",
    "    if lat1==lat2 and long1==long2:\n",
    "        return 0\n",
    "    return(numpy.arccos(numpy.sin(2*numpy.pi/360*lat1)*numpy.sin(2*numpy.pi/360*lat2)+numpy.cos(2*numpy.pi/360*lat1)*numpy.cos(2*numpy.pi/360*lat2)*numpy.cos(2*numpy.pi/360*(long2-long1)))*6371)\n",
    "\n",
    "#ACOS(SIN(lat1)*SIN(lat2)+COS(lat1)*COS(lat2)*COS(lon2-lon1))*6371\n",
    "vitesse=5/6\n",
    "\n",
    "L_ressources = [j for j in ressources] # tableau des objets ressources \n",
    "L_tasks = [i for i in tasks] # tableau des objets taches\n",
    "number_of_ressources = len(L_ressources)\n",
    "number_of_tasks = len(L_tasks)\n",
    "dict_pos = {task : (task.latitude, task.longitude) for task in tasks.values()}\n",
    "\n",
    "dict_pos = {task : (tasks[L_tasks[task]].latitude, tasks[L_tasks[task]].longitude) for task in range(number_of_tasks)}\n",
    "print(dict_pos)\n",
    "\n",
    "\n",
    "runav_id = []\n",
    "for j in range(len(L_ressources)):\n",
    "    for u in range(len(ressources[L_ressources[j]].unavailabilities)):\n",
    "        runav_id.append((j,u))\n",
    "number_of_runavailabilities = len(runav_id)\n",
    "\n",
    "tunav_id = []\n",
    "for i in range(len(L_tasks)):\n",
    "    for v in range(len(tasks[L_tasks[i]].unavailabilities)):\n",
    "        tunav_id.append((i,v))\n",
    "number_of_tunavailabilities = len(tunav_id)\n",
    "\n",
    "#distance[a][b] donne la distance de la tâche a vers la tâche b\n",
    "def distance_tache_unav():\n",
    "    distances = [[0 for j in range(number_of_tasks+number_of_runavailabilities)] for i in range(number_of_tasks+number_of_runavailabilities)]\n",
    "    for b in range(number_of_tasks+number_of_runavailabilities) :\n",
    "        for a in range(number_of_tasks+number_of_runavailabilities) :\n",
    "            if a >= number_of_tasks and b >= number_of_tasks :\n",
    "                distances[a][b] = dist(ressources[L_ressources[runav_id[a-number_of_tasks][0]]].unavailabilities[runav_id[a-number_of_tasks][1]].latitude, ressources[L_ressources[runav_id[a-number_of_tasks][0]]].unavailabilities[runav_id[a-number_of_tasks][1]].longitude, ressources[L_ressources[runav_id[b-number_of_tasks][0]]].unavailabilities[runav_id[b-number_of_tasks][1]].latitude, ressources[L_ressources[runav_id[b-number_of_tasks][0]]].unavailabilities[runav_id[b-number_of_tasks][1]].longitude)\n",
    "            elif a >= number_of_tasks and b < number_of_tasks :\n",
    "                distances[a][b] = dist(ressources[L_ressources[runav_id[a-number_of_tasks][0]]].unavailabilities[runav_id[a-number_of_tasks][1]].latitude, ressources[L_ressources[runav_id[a-number_of_tasks][0]]].unavailabilities[runav_id[a-number_of_tasks][1]].longitude, tasks[L_tasks[b]].latitude, tasks[L_tasks[b]].longitude)\n",
    "            elif a < number_of_tasks and b >= number_of_tasks :\n",
    "                distances[a][b] = dist(ressources[L_ressources[runav_id[b-number_of_tasks][0]]].unavailabilities[runav_id[b-number_of_tasks][1]].latitude, ressources[L_ressources[runav_id[b-number_of_tasks][0]]].unavailabilities[runav_id[b-number_of_tasks][1]].longitude, tasks[L_tasks[a]].latitude, tasks[L_tasks[a]].longitude)\n",
    "            else :\n",
    "                distances[a][b] = dist(tasks[L_tasks[a]].latitude,tasks[L_tasks[a]].longitude, tasks[L_tasks[b]].latitude, tasks[L_tasks[b]].longitude)\n",
    "    return distances\n",
    "distances=distance_tache_unav()\n",
    "\n",
    "#distance_m[j][i] donne la distance de la maison de j la tâche i\n",
    "def distance_maison_unav():\n",
    "    distances_m = [[0 for j in range(number_of_tasks+number_of_runavailabilities)] for i in range(number_of_ressources)]\n",
    "    for t in range(number_of_tasks+number_of_runavailabilities) :\n",
    "        for r in range(number_of_ressources) :\n",
    "            if t >= number_of_tasks :\n",
    "                distances_m[r][t] = dist(ressources[L_ressources[runav_id[t-number_of_tasks][0]]].unavailabilities[runav_id[t-number_of_tasks][1]].latitude, ressources[L_ressources[runav_id[t-number_of_tasks][0]]].unavailabilities[runav_id[t-number_of_tasks][1]].longitude, ressources[L_ressources[r]].latitude,ressources[L_ressources[r]].longitude)\n",
    "            else :\n",
    "                distances_m[r][t] = dist(ressources[L_ressources[r]].latitude,ressources[L_ressources[r]].longitude, tasks[L_tasks[t]].latitude, tasks[L_tasks[t]].longitude)\n",
    "    return distances\n",
    "distances_m=distance_maison_unav()\n",
    "\n",
    "\n",
    "#distance_m[j][i] donne la distance de la maison de j la tâche i\n",
    "#distances_m = [[dist(ressources[L_ressources[j]].latitude,ressources[L_ressources[j]].longitude, tasks[L_tasks[i]].latitude, tasks[L_tasks[i]].longitude) for i in range(number_of_tasks)] for j in range(number_of_ressources)]\n",
    "#print(distances_m)\n",
    "\n",
    "# https://gurobi.github.io/modeling-examples/technician_routing_scheduling/technician_routing_scheduling.html"
   ]
  },
  {
   "cell_type": "markdown",
   "metadata": {},
   "source": [
    "## Variables de décision"
   ]
  },
  {
   "cell_type": "code",
   "execution_count": 174,
   "metadata": {},
   "outputs": [
    {
     "name": "stdout",
     "output_type": "stream",
     "text": [
      "2\n",
      "10\n"
     ]
    }
   ],
   "source": [
    "### Create Model\n",
    "m = Model(\"trs0\")\n",
    "\n",
    "M = 1440\n",
    "\n",
    "print(number_of_ressources)\n",
    "print(number_of_tasks)\n",
    "\n",
    "# x[(number_of_tasks+u,r)]\n",
    "# runav_id[u (general)]=(r,id (pour la personne))\n",
    "### Decision variables\n",
    "# Task-ressource assignment\n",
    "x = {(t,r) : m.addVar(vtype = GRB.BINARY, name = f'x_{t}_{r}') for r in range(number_of_ressources) for t in range(number_of_tasks)}\n",
    "for r in range(number_of_ressources):\n",
    "    for u in range(number_of_runavailabilities):\n",
    "        if runav_id[u][0]==r:\n",
    "            x[(number_of_tasks+u,r)]=1\n",
    "        else:\n",
    "            x[(number_of_tasks+u,r)]=0\n",
    "\n",
    "# Time-task assignment\n",
    "s = {t : m.addVar(vtype = GRB.INTEGER, lb = 0, ub = 1440, name = f's_{t}') for t in range(number_of_tasks)}\n",
    "#Les s_t valent entre 0 et 1440 car les contraintes de temps (entre 8h et 18h) sont contenues dans les jeux de données.\n",
    "for u in range(number_of_runavailabilities):\n",
    "    s[number_of_tasks+u]=ressources[L_ressources[runav_id[u][0]]].unavailabilities[runav_id[u][1]].unavailabilityStart\n",
    "\n",
    "# Est-ce que le travailleur se déplace entre les points a et b ?\n",
    "y = {(r,a,b) : m.addVar(vtype = GRB.BINARY, name = f'y_{r}_{a}_{b}') for r in range(number_of_ressources) for a in range(number_of_tasks+number_of_runavailabilities) for b in range(number_of_tasks+number_of_runavailabilities)}# if a != b}\n",
    "# Technician cannot leave or return to a depot that is not its base\n",
    "\n",
    "# Is the worker used ?\n",
    "u = {r: m.addVar(vtype = GRB.BINARY, name = f'u_{r}') for r in range(number_of_ressources)}\n",
    "\n",
    "# starting task of worker\n",
    "d = {(r,t) : m.addVar(vtype = GRB.BINARY, name = f'd_{r}_{t}') for r in range(number_of_ressources) for t in range(number_of_tasks+number_of_runavailabilities)}\n",
    "# ending task of worker\n",
    "f = {(r,t) : m.addVar(vtype = GRB.BINARY, name = f'f_{r}_{t}') for r in range(number_of_ressources) for t in range(number_of_tasks+number_of_runavailabilities)}\n",
    "\n",
    "#variables de linéarisation\n",
    "#H = {(r,a,b) : m.addVar(vtype = GRB.BINARY,lb = 0, ub = 1440, name = f'h_{r}_{a}_{b}') for r in range(number_of_ressources) for a in range(number_of_tasks) for b in range(number_of_tasks)}# if a != b}\n",
    "#P = {(r,a,b) : m.addVar(vtype = GRB.BINARY,lb = 0, ub = 1440, name = f'p_{r}_{a}_{b}') for r in range(number_of_ressources) for a in range(number_of_tasks) for b in range(number_of_tasks)}# if a != b}\n",
    "\n",
    "a = {v : m.addVar(vtype = GRB.BINARY, name = f'a_{v}') for v in range(number_of_tunavailabilities)}\n",
    "z = {(r,a,b) : m.addVar(vtype = GRB.BINARY, name = f'z_{r}_{a}_{b}') for r in range(number_of_ressources) for a in range(number_of_tasks+number_of_runavailabilities) for b in range(number_of_tasks+number_of_runavailabilities)}# if a != b}\n"
   ]
  },
  {
   "cell_type": "markdown",
   "metadata": {},
   "source": [
    "## Contraintes"
   ]
  },
  {
   "cell_type": "code",
   "execution_count": 175,
   "metadata": {},
   "outputs": [],
   "source": [
    "# une personne est obligée de se déplacer (pas d'arrêtes de bouclage sur un point du graphe)\n",
    "C4_2 = [m.addConstr(y[(r,a,a)] == 0) for r in range(number_of_ressources) for a in range(number_of_tasks+number_of_runavailabilities)]"
   ]
  },
  {
   "cell_type": "code",
   "execution_count": 176,
   "metadata": {},
   "outputs": [],
   "source": [
    "nbRpT = [LinExpr() for t in range(number_of_tasks)]\n",
    "for t in range(number_of_tasks):\n",
    "  for r in  range(number_of_ressources):\n",
    "    nbRpT[t]+=x[(t,r)]\n",
    "\n",
    "# One ressource per task\n",
    "C1 = [m.addConstr(nbRpT[t] <= 1) for t in range(number_of_tasks)]"
   ]
  },
  {
   "cell_type": "code",
   "execution_count": 177,
   "metadata": {},
   "outputs": [],
   "source": [
    "nbRpTs = [LinExpr() for t in range(number_of_tasks)]\n",
    "for t in range(number_of_tasks):\n",
    "  for r in  range(number_of_ressources):\n",
    "     nbRpTs[t]+=x[(t,r)]*(ressources[L_ressources[r]].skill!=tasks[L_tasks[r]].skill)\n",
    "\n",
    " # Skilled technicians\n",
    "C2 = [m.addConstr(nbRpTs[t] == 0) for t in range(number_of_tasks)]"
   ]
  },
  {
   "cell_type": "code",
   "execution_count": 178,
   "metadata": {},
   "outputs": [],
   "source": [
    "nbRpTl =[ LinExpr() for t in range(number_of_tasks)]\n",
    "for t in range(number_of_tasks):\n",
    "  for r in  range(number_of_ressources):\n",
    "    nbRpTl[t]+=x[(t,r)]*(ressources[L_ressources[r]].level-tasks[L_tasks[t]].level)\n",
    "\n",
    "# Leveled technicians\n",
    "C3 = [m.addConstr(nbRpTl[t] >= 0) for t in range(number_of_tasks)]"
   ]
  },
  {
   "cell_type": "code",
   "execution_count": 179,
   "metadata": {},
   "outputs": [],
   "source": [
    "# si une personne est affectée, elle arrive jusqu'à la tâche\n",
    "C4 = {(i,j) : m.addConstr(quicksum(y[(j,a,i)] for a in range(number_of_tasks+number_of_runavailabilities)) + d[(j,i)] == x[(i,j)], name = f'arrive{i}{j}') for j in range(number_of_ressources) for i in range(number_of_tasks+number_of_runavailabilities)}\n",
    "\n",
    "# une personne doit partir après avoir exécuté sa tâche\n",
    "C5 = {(i,j) : m.addConstr(quicksum(y[(j,i,b)] for b in range(number_of_tasks+number_of_runavailabilities)) + f[(j,i)] == x[(i,j)], name = f'part{i}{j}') for j in range(number_of_ressources) for i in range(number_of_tasks+number_of_runavailabilities)}"
   ]
  },
  {
   "cell_type": "code",
   "execution_count": 180,
   "metadata": {},
   "outputs": [],
   "source": [
    "# non overlapping tasks\n",
    "#print(vitesse)\n",
    "#print(tasks[L_tasks[0]].duration)\n",
    "C6 = [[m.addConstr(s[b] >= s[a] + tasks[L_tasks[a]].duration + distances[a][b]/vitesse -M*(1-quicksum(y[(j,a,b)] for j in range(number_of_ressources)))) for b in range(number_of_tasks+number_of_runavailabilities)] for a in range(number_of_tasks)]\n",
    "C6bis = [[m.addConstr(s[b] >= ressources[L_ressources[runav_id[a-number_of_tasks][0]]].unavailabilities[runav_id[a-number_of_tasks][1]].unavailabilityEnd + distances[a][b]/vitesse -M*(1-quicksum(y[(j,a,b)] for j in range(number_of_ressources)))) for b in range(number_of_tasks,number_of_tasks+number_of_runavailabilities)] for a in range(number_of_tasks,number_of_tasks+number_of_runavailabilities)]\n"
   ]
  },
  {
   "cell_type": "code",
   "execution_count": 181,
   "metadata": {},
   "outputs": [],
   "source": [
    "# une personne doit partir de chez elle si elle travaille ce jour la\n",
    "C7 = [m.addConstr(quicksum(d[(j,a)] for a in range(number_of_tasks+number_of_runavailabilities)) == u[j]) for j in range(number_of_ressources)]\n",
    "# une personne doit revenir chez elle si elle travaille ce jour la\n",
    "C8 = [m.addConstr(quicksum(f[(j,b)] for b in range(number_of_tasks+number_of_runavailabilities)) == u[j]) for j in range(number_of_ressources)]\n",
    "\n",
    "# contraintes pour lier x et u\n",
    "C9 = [m.addConstr(quicksum(x[(i,j)] for i in range(number_of_tasks+number_of_runavailabilities)) <= u[j]*M) for j in range(number_of_ressources)]"
   ]
  },
  {
   "cell_type": "code",
   "execution_count": 182,
   "metadata": {},
   "outputs": [],
   "source": [
    "# la premiere tache commence apres le début de la journée\n",
    "#M=10E2\n",
    "\n",
    "# LES INDISPOS SONT EXCLUES\n",
    "C10 = [m.addConstr(s[i] >= ressources[L_ressources[j]].workingStart -M*(1-x[(i,j)]) + distances_m[j][i]/vitesse) for i in range(number_of_tasks) for j in range(number_of_ressources)]"
   ]
  },
  {
   "cell_type": "code",
   "execution_count": 183,
   "metadata": {},
   "outputs": [],
   "source": [
    "# la derniere tache finit avant la fin de la journee\n",
    "C11 = [m.addConstr(ressources[L_ressources[j]].workingEnd >= s[i]+tasks[L_tasks[i]].duration + distances_m[j][i]/vitesse -M*(1-x[(i,j)])) for i in range(number_of_tasks) for j in range(number_of_ressources)]\n",
    "# LES INDISPOS SONT EXCLUES\n",
    "\n",
    "#C11bis = [m.addConstr(\n",
    "#    ressources[L_ressources[j]].workingEnd >= \n",
    "#    ressources[L_ressources[runav_id[a-number_of_tasks][0]]].unavailabilities[runav_id[a-number_of_tasks][1]].unavailabilityEnd + \n",
    "#    distances_m[j][i]/vitesse -M*(1-x[(i,j)]) )\n",
    "#    for i in range(number_of_tasks,number_of_tasks+number_of_runavailabilities) for j in range(number_of_ressources) ]\n",
    "\n"
   ]
  },
  {
   "cell_type": "code",
   "execution_count": 184,
   "metadata": {},
   "outputs": [],
   "source": [
    "C14 = [[[m.addConstr(distances[a][b]/vitesse+s[a]+60+tasks[L_tasks[a]].duration <= s[b] + (1-z[(r,a,b)])*M) for r in range(number_of_ressources)] for b in range(number_of_tasks+number_of_runavailabilities)] for a in range(number_of_tasks)]\n",
    "C14bis = [[[m.addConstr(60+ressources[L_ressources[runav_id[a-number_of_tasks][0]]].unavailabilities[runav_id[a-number_of_tasks][1]].unavailabilityEnd <= -distances[a][b]/vitesse+ s[b] + (1-z[(r,a,b)])*M ) for r in range(number_of_ressources)] for b in range (number_of_tasks+number_of_runavailabilities)] for a in range(number_of_tasks,number_of_tasks+number_of_runavailabilities)]\n",
    "C15 = [m.addConstrs(s[b] >= 13*60 - M*(1-quicksum(z[(r,a,b)] for r in range(number_of_ressources))) for a in range(number_of_tasks+number_of_runavailabilities) for b in range(number_of_tasks+number_of_runavailabilities))] \n",
    "\n",
    "C16 = [m.addConstrs(s[a] + tasks[L_tasks[a]].duration <= 13*60 + M*(1-quicksum(z[(r,a,b)] for r in range(number_of_ressources))) for a in range(number_of_tasks) for b in range(number_of_tasks))]\n",
    "C16bis = [m.addConstrs(ressources[L_ressources[runav_id[a-number_of_tasks][0]]].unavailabilities[runav_id[a-number_of_tasks][1]].unavailabilityEnd <= 13*60 + M*(1-quicksum(z[(r,a,b)] for r in range(number_of_ressources))) for a in range(number_of_tasks,number_of_tasks+number_of_runavailabilities) for b in range(number_of_tasks, number_of_tasks+number_of_runavailabilities))]\n",
    "\n",
    "C17 = [m.addConstr(s[t] -M*(1-quicksum(x[(t,j)] for j in range (number_of_ressources))) + tasks[L_tasks[t]].duration <= tasks[L_tasks[t]].unavailabilities[u].unavailabilityStart) for i,(t,u) in enumerate(tunav_id)]\n",
    "C18 = [m.addConstr(s[t] -M*(1-quicksum(x[(t,j)] for j in range (number_of_ressources))) + M*(1-a[i]) >= tasks[L_tasks[t]].unavailabilities[u].unavailabilityEnd) for i,(t,u) in enumerate(tunav_id)]"
   ]
  },
  {
   "cell_type": "code",
   "execution_count": 185,
   "metadata": {},
   "outputs": [],
   "source": [
    "# for r in range(number_of_ressources):\n",
    "#   for b in range (number_of_tasks+number_of_runavailabilities):\n",
    "#     for a in range(number_of_tasks,number_of_tasks+number_of_runavailabilities):\n",
    "#       try:\n",
    "#         m.addConstr(60+ressources[L_ressources[runav_id[a-number_of_tasks][0]]].unavailabilities[runav_id[a-number_of_tasks][1]].unavailabilityEnd <= -distances[a][b]/vitesse+ s[b] + z[(r,a,b)]*M )\n",
    "#       except:\n",
    "#         print(r,b,a)"
   ]
  },
  {
   "cell_type": "code",
   "execution_count": 186,
   "metadata": {},
   "outputs": [],
   "source": [
    "Calpha = [[m.addConstr(z[(r,a,b)]<=y[(r,a,b)]) for r in range(number_of_ressources)] for a in range(number_of_tasks+number_of_runavailabilities) for b in range(number_of_tasks+number_of_runavailabilities)]\n",
    "Cbeta = [m.addConstr(quicksum(z[(r,a,b)] for a in range(number_of_tasks+number_of_runavailabilities) for b in range(number_of_tasks+number_of_runavailabilities))==u[r]) for r in range(number_of_ressources)]"
   ]
  },
  {
   "cell_type": "code",
   "execution_count": 187,
   "metadata": {},
   "outputs": [],
   "source": [
    "# contrainte évitant d'avoir des cycles dans les graphes (permet que les tâches soient reliées entre elles)\n",
    "C19 = [m.addConstr(y[(j,a,b)] + y[(j,b,a)] <=1) for a in range(number_of_tasks+number_of_runavailabilities) for b in range(number_of_tasks+number_of_runavailabilities) for j in range(number_of_ressources)]\n",
    "C20 = [m.addConstr(d[(j,a)] + f[(j,a)] <=1) for a in range(number_of_tasks+number_of_runavailabilities) for j in range(number_of_ressources)]"
   ]
  },
  {
   "cell_type": "markdown",
   "metadata": {},
   "source": [
    "## Fonction objectif et résolution"
   ]
  },
  {
   "cell_type": "code",
   "execution_count": 188,
   "metadata": {},
   "outputs": [],
   "source": [
    "epsilon = 0.0001\n",
    "\n",
    "couts=LinExpr()\n",
    "ctot=0\n",
    "for j in range(number_of_ressources):\n",
    "  for a in range(number_of_tasks+number_of_runavailabilities):\n",
    "    for b in range(number_of_tasks+number_of_runavailabilities):\n",
    "      couts+=y[(j,a,b)]*distances[a][b]/vitesse\n",
    "      if j==0:\n",
    "        ctot+=distances[a][b]/vitesse\n",
    "    couts+=d[(j,a)]*distances_m[j][a]/vitesse\n",
    "    couts+=f[(j,a)]*distances_m[j][a]/vitesse\n",
    "\n",
    "duree=LinExpr()\n",
    "dtot=0\n",
    "for t in range(number_of_tasks):\n",
    "  for r in range(number_of_ressources):\n",
    "    duree+=x[(t,r)]*tasks[L_tasks[t]].duration\n",
    "  dtot+=tasks[L_tasks[t]].duration\n",
    "\n",
    "\n",
    "# minimiser-(la durée totale des tâches exécutées)\n",
    "obj1 = -duree/dtot # normalisation\n",
    "# minimiser le coût opérationnel\n",
    "obj2 = couts/ctot # normalisation\n",
    "\n",
    "obj = 0.8*obj1+0.2*obj2\n",
    "\n",
    "solutions_efficaces = list()\n",
    "\n",
    "# -- Ajout de la fonction objectif --\n",
    "m.setObjective(obj, GRB.MINIMIZE)\n",
    "\n",
    "# -- Choix d'un paramétrage d'affichage minimaliste --\n",
    "m.params.outputflag = 0 # mode muet\n",
    "m.update()\n",
    "m.display()\n",
    "m.optimize()\n",
    "\n",
    "\n",
    "# it = 0\n",
    "\n",
    "if  m.status == GRB.INFEASIBLE:\n",
    "  print(\"il n'y a pas de solution !!\")\n",
    "\n",
    "# while m.status != GRB.INFEASIBLE:\n",
    "#     sol = (round(m.objVal,2), round(obj2.getValue()*100,2))\n",
    "#     print(\"itération {} solution {}\".format(it, sol))\n",
    "#     solutions_efficaces.append(sol)\n",
    "    \n",
    "    \n",
    "#     # - \n",
    "#     it += 1\n",
    "#     # -- Ajout de l'epsilon constraint\n",
    "#     m.addConstr(obj2 <= obj2.getValue() - epsilon, name=f'epsilon_constraint_{it}')\n",
    "#     # -- Mise à jour du modèle  --\n",
    "#     m.update()\n",
    "#     # -- Résolution --\n",
    "#     m.optimize()"
   ]
  },
  {
   "cell_type": "code",
   "execution_count": 189,
   "metadata": {},
   "outputs": [
    {
     "data": {
      "text/plain": [
       "'\\nsolve with epsilon\\nepsilon = 0.0001\\n\\ncouts=LinExpr()\\nfor j in range(number_of_ressources):\\n  for a in range(number_of_tasks+number_of_runavailabilities):\\n    for b in range(number_of_tasks+number_of_runavailabilities):\\n      couts+=y[(j,a,b)]*distances[a][b]/vitesse\\n    couts+=d[(j,a)]*distances_m[j][a]/vitesse\\n    couts+=f[(j,a)]*distances_m[j][a]/vitesse\\n\\nduree=LinExpr()\\nfor r in range(number_of_ressources):\\n  for t in range(number_of_tasks):\\n    duree+=x[(t,r)]*tasks[L_tasks[t]].duration\\n\\n# minimiser-(la durée totale des tâches exécutées)\\nobj1 = -duree\\n# minimiser le coût opérationnel\\nobj2 = couts\\n\\nsolutions_efficaces = list()\\n\\n# -- Ajout de la fonction objectif --\\nm.setObjective(obj1, GRB.MINIMIZE)\\n\\n# -- Choix d\\'un paramétrage d\\'affichage minimaliste --\\nm.params.outputflag = 0 # mode muet\\nm.update()\\nm.display()\\nm.optimize()\\n\\n\\nit = 0\\n\\nif  m.status == GRB.INFEASIBLE:\\n  print(\"il n\\'y a pas de solution !!\")\\n\\nwhile m.status != GRB.INFEASIBLE:\\n    sol = (round(m.objVal,2), round(obj2.getValue()*100,2))\\n    print(\"itération {} solution {}\".format(it, sol))\\n    solutions_efficaces.append(sol)\\n\\n    if it ==20:\\n      break\\n    \\n    \\n    # - \\n    it += 1\\n    # -- Ajout de l\\'epsilon constraint\\n    m.addConstr(obj2 <= obj2.getValue() - epsilon, name=f\\'epsilon_constraint_{it}\\')\\n    # -- Mise à jour du modèle  --\\n    m.update()\\n    # -- Résolution --\\n    m.optimize()\\n'"
      ]
     },
     "execution_count": 189,
     "metadata": {},
     "output_type": "execute_result"
    }
   ],
   "source": [
    "\"\"\"\n",
    "solve with epsilon\n",
    "epsilon = 0.0001\n",
    "\n",
    "couts=LinExpr()\n",
    "for j in range(number_of_ressources):\n",
    "  for a in range(number_of_tasks+number_of_runavailabilities):\n",
    "    for b in range(number_of_tasks+number_of_runavailabilities):\n",
    "      couts+=y[(j,a,b)]*distances[a][b]/vitesse\n",
    "    couts+=d[(j,a)]*distances_m[j][a]/vitesse\n",
    "    couts+=f[(j,a)]*distances_m[j][a]/vitesse\n",
    "\n",
    "duree=LinExpr()\n",
    "for r in range(number_of_ressources):\n",
    "  for t in range(number_of_tasks):\n",
    "    duree+=x[(t,r)]*tasks[L_tasks[t]].duration\n",
    "\n",
    "# minimiser-(la durée totale des tâches exécutées)\n",
    "obj1 = -duree\n",
    "# minimiser le coût opérationnel\n",
    "obj2 = couts\n",
    "\n",
    "solutions_efficaces = list()\n",
    "\n",
    "# -- Ajout de la fonction objectif --\n",
    "m.setObjective(obj1, GRB.MINIMIZE)\n",
    "\n",
    "# -- Choix d'un paramétrage d'affichage minimaliste --\n",
    "m.params.outputflag = 0 # mode muet\n",
    "m.update()\n",
    "m.display()\n",
    "m.optimize()\n",
    "\n",
    "\n",
    "it = 0\n",
    "\n",
    "if  m.status == GRB.INFEASIBLE:\n",
    "  print(\"il n'y a pas de solution !!\")\n",
    "\n",
    "while m.status != GRB.INFEASIBLE:\n",
    "    sol = (round(m.objVal,2), round(obj2.getValue()*100,2))\n",
    "    print(\"itération {} solution {}\".format(it, sol))\n",
    "    solutions_efficaces.append(sol)\n",
    "\n",
    "    if it ==20:\n",
    "      break\n",
    "    \n",
    "    \n",
    "    # - \n",
    "    it += 1\n",
    "    # -- Ajout de l'epsilon constraint\n",
    "    m.addConstr(obj2 <= obj2.getValue() - epsilon, name=f'epsilon_constraint_{it}')\n",
    "    # -- Mise à jour du modèle  --\n",
    "    m.update()\n",
    "    # -- Résolution --\n",
    "    m.optimize()\n",
    "\"\"\"\n"
   ]
  },
  {
   "cell_type": "code",
   "execution_count": 190,
   "metadata": {},
   "outputs": [
    {
     "name": "stdout",
     "output_type": "stream",
     "text": [
      "taskId;performed;employeeName;startTime;\n",
      "T1;1;Valentin;480;\n",
      "T2;;;;\n",
      "T3;1;Valentin;720;\n",
      "T4;1;Valentin;645;\n",
      "T5;1;Valentin;614;\n",
      "T6;1;Valentin;575;\n",
      "T7;1;Valentin;743;\n",
      "T8;1;Valentin;942;\n",
      "T9;1;Valentin;818;\n",
      "T10;1;Valentin;874;\n",
      "\n",
      "###########################\n",
      "j0 - a0 - b4 - y1.0 // j0 - a2 - b9 - y1.0 // j0 - a3 - b6 - y1.0 // j0 - a4 - b2 - y1.0 // j0 - a5 - b3 - y1.0 // j0 - a6 - b8 - y1.0 // j0 - a9 - b7 - y1.0 // \n",
      "\n",
      "###########################\n",
      "j0 - a0 - d1.0 // \n",
      "\n",
      "\n",
      "j0 - a7 - d1.0 // "
     ]
    }
   ],
   "source": [
    "# -- Affichage de la solution --\n",
    "\n",
    "t=open(\"Solution\"+ville+\"V2ByV4.txt\",'w'.format(ville))\n",
    "res=\"taskId;performed;employeeName;startTime;\\n\"\n",
    "for j in range(number_of_tasks):\n",
    "  p=False\n",
    "  for i in range(number_of_ressources):\n",
    "    if round(x[(j,i)].x):\n",
    "      res+=\"{};{};{};{};\\n\".format(L_tasks[j],1,L_ressources[i],int(s[j].x))\n",
    "      p=True\n",
    "  if not p:\n",
    "    res+=\"{};;;;\\n\".format(L_tasks[j])\n",
    "print(res)\n",
    "t.write(res)\n",
    "t.close()\n",
    "\n",
    "print(\"###########################\")\n",
    "\n",
    "for a in range(number_of_tasks):\n",
    "  for b in range(number_of_tasks):\n",
    "    j=0\n",
    "    if  round(y[(j,a,b)].x)==1:\n",
    "      print(\"j{} - a{} - b{} - y{} // \".format(j, a,b,y[(j,a,b)].x), end=\"\")\n",
    "\n",
    "print('\\n') \n",
    "print(\"###########################\")\n",
    "\n",
    "for a in range(number_of_tasks):\n",
    "  j=0\n",
    "  if  round(d[(j,a)].x)==1:\n",
    "    print(\"j{} - a{} - d{} // \".format(j, a,d[(j,a)].x), end=\"\")\n",
    "\n",
    "\n",
    "print('\\n\\n')\n",
    "for a in range(number_of_tasks):\n",
    "  j=0\n",
    "  if  round(f[(j,a)].x)==1:\n",
    "    print(\"j{} - a{} - d{} // \".format(j, a,f[(j,a)].x), end=\"\")\n",
    "\n",
    "interval = time.time() - start_time"
   ]
  },
  {
   "cell_type": "code",
   "execution_count": 191,
   "metadata": {},
   "outputs": [
    {
     "name": "stdout",
     "output_type": "stream",
     "text": [
      "temps de calcul :  1.4723896980285645\n",
      "valeur de la fonction objectif :  -0.7072328217924908\n"
     ]
    }
   ],
   "source": [
    "print(\"temps de calcul : \", interval)\n",
    "print(\"valeur de la fonction objectif : \", m.ObjVal)"
   ]
  },
  {
   "cell_type": "markdown",
   "metadata": {},
   "source": [
    "## Vérification de la solution"
   ]
  },
  {
   "cell_type": "code",
   "execution_count": 192,
   "metadata": {},
   "outputs": [
    {
     "data": {
      "text/html": [
       "<div style=\"width:100%;\"><div style=\"position:relative;width:100%;height:0;padding-bottom:60%;\"><span style=\"color:#565656\">Make this Notebook Trusted to load map: File -> Trust Notebook</span><iframe src=\"about:blank\" style=\"position:absolute;width:100%;height:100%;left:0;top:0;border:none !important;\" data-html=%3C%21DOCTYPE%20html%3E%0A%3Chead%3E%20%20%20%20%0A%20%20%20%20%3Cmeta%20http-equiv%3D%22content-type%22%20content%3D%22text/html%3B%20charset%3DUTF-8%22%20/%3E%0A%20%20%20%20%0A%20%20%20%20%20%20%20%20%3Cscript%3E%0A%20%20%20%20%20%20%20%20%20%20%20%20L_NO_TOUCH%20%3D%20false%3B%0A%20%20%20%20%20%20%20%20%20%20%20%20L_DISABLE_3D%20%3D%20false%3B%0A%20%20%20%20%20%20%20%20%3C/script%3E%0A%20%20%20%20%0A%20%20%20%20%3Cstyle%3Ehtml%2C%20body%20%7Bwidth%3A%20100%25%3Bheight%3A%20100%25%3Bmargin%3A%200%3Bpadding%3A%200%3B%7D%3C/style%3E%0A%20%20%20%20%3Cstyle%3E%23map%20%7Bposition%3Aabsolute%3Btop%3A0%3Bbottom%3A0%3Bright%3A0%3Bleft%3A0%3B%7D%3C/style%3E%0A%20%20%20%20%3Cscript%20src%3D%22https%3A//cdn.jsdelivr.net/npm/leaflet%401.6.0/dist/leaflet.js%22%3E%3C/script%3E%0A%20%20%20%20%3Cscript%20src%3D%22https%3A//code.jquery.com/jquery-1.12.4.min.js%22%3E%3C/script%3E%0A%20%20%20%20%3Cscript%20src%3D%22https%3A//maxcdn.bootstrapcdn.com/bootstrap/3.2.0/js/bootstrap.min.js%22%3E%3C/script%3E%0A%20%20%20%20%3Cscript%20src%3D%22https%3A//cdnjs.cloudflare.com/ajax/libs/Leaflet.awesome-markers/2.0.2/leaflet.awesome-markers.js%22%3E%3C/script%3E%0A%20%20%20%20%3Clink%20rel%3D%22stylesheet%22%20href%3D%22https%3A//cdn.jsdelivr.net/npm/leaflet%401.6.0/dist/leaflet.css%22/%3E%0A%20%20%20%20%3Clink%20rel%3D%22stylesheet%22%20href%3D%22https%3A//maxcdn.bootstrapcdn.com/bootstrap/3.2.0/css/bootstrap.min.css%22/%3E%0A%20%20%20%20%3Clink%20rel%3D%22stylesheet%22%20href%3D%22https%3A//maxcdn.bootstrapcdn.com/bootstrap/3.2.0/css/bootstrap-theme.min.css%22/%3E%0A%20%20%20%20%3Clink%20rel%3D%22stylesheet%22%20href%3D%22https%3A//maxcdn.bootstrapcdn.com/font-awesome/4.6.3/css/font-awesome.min.css%22/%3E%0A%20%20%20%20%3Clink%20rel%3D%22stylesheet%22%20href%3D%22https%3A//cdnjs.cloudflare.com/ajax/libs/Leaflet.awesome-markers/2.0.2/leaflet.awesome-markers.css%22/%3E%0A%20%20%20%20%3Clink%20rel%3D%22stylesheet%22%20href%3D%22https%3A//cdn.jsdelivr.net/gh/python-visualization/folium/folium/templates/leaflet.awesome.rotate.min.css%22/%3E%0A%20%20%20%20%0A%20%20%20%20%20%20%20%20%20%20%20%20%3Cmeta%20name%3D%22viewport%22%20content%3D%22width%3Ddevice-width%2C%0A%20%20%20%20%20%20%20%20%20%20%20%20%20%20%20%20initial-scale%3D1.0%2C%20maximum-scale%3D1.0%2C%20user-scalable%3Dno%22%20/%3E%0A%20%20%20%20%20%20%20%20%20%20%20%20%3Cstyle%3E%0A%20%20%20%20%20%20%20%20%20%20%20%20%20%20%20%20%23map_3194f4723af244d98d39a28d7b7e7cab%20%7B%0A%20%20%20%20%20%20%20%20%20%20%20%20%20%20%20%20%20%20%20%20position%3A%20relative%3B%0A%20%20%20%20%20%20%20%20%20%20%20%20%20%20%20%20%20%20%20%20width%3A%20100.0%25%3B%0A%20%20%20%20%20%20%20%20%20%20%20%20%20%20%20%20%20%20%20%20height%3A%20100.0%25%3B%0A%20%20%20%20%20%20%20%20%20%20%20%20%20%20%20%20%20%20%20%20left%3A%200.0%25%3B%0A%20%20%20%20%20%20%20%20%20%20%20%20%20%20%20%20%20%20%20%20top%3A%200.0%25%3B%0A%20%20%20%20%20%20%20%20%20%20%20%20%20%20%20%20%7D%0A%20%20%20%20%20%20%20%20%20%20%20%20%3C/style%3E%0A%20%20%20%20%20%20%20%20%0A%3C/head%3E%0A%3Cbody%3E%20%20%20%20%0A%20%20%20%20%0A%20%20%20%20%20%20%20%20%20%20%20%20%3Cdiv%20class%3D%22folium-map%22%20id%3D%22map_3194f4723af244d98d39a28d7b7e7cab%22%20%3E%3C/div%3E%0A%20%20%20%20%20%20%20%20%0A%3C/body%3E%0A%3Cscript%3E%20%20%20%20%0A%20%20%20%20%0A%20%20%20%20%20%20%20%20%20%20%20%20var%20map_3194f4723af244d98d39a28d7b7e7cab%20%3D%20L.map%28%0A%20%20%20%20%20%20%20%20%20%20%20%20%20%20%20%20%22map_3194f4723af244d98d39a28d7b7e7cab%22%2C%0A%20%20%20%20%20%20%20%20%20%20%20%20%20%20%20%20%7B%0A%20%20%20%20%20%20%20%20%20%20%20%20%20%20%20%20%20%20%20%20center%3A%20%5B45.102167385780106%2C%20-0.7443634218762711%5D%2C%0A%20%20%20%20%20%20%20%20%20%20%20%20%20%20%20%20%20%20%20%20crs%3A%20L.CRS.EPSG3857%2C%0A%20%20%20%20%20%20%20%20%20%20%20%20%20%20%20%20%20%20%20%20zoom%3A%2010%2C%0A%20%20%20%20%20%20%20%20%20%20%20%20%20%20%20%20%20%20%20%20zoomControl%3A%20true%2C%0A%20%20%20%20%20%20%20%20%20%20%20%20%20%20%20%20%20%20%20%20preferCanvas%3A%20false%2C%0A%20%20%20%20%20%20%20%20%20%20%20%20%20%20%20%20%7D%0A%20%20%20%20%20%20%20%20%20%20%20%20%29%3B%0A%0A%20%20%20%20%20%20%20%20%20%20%20%20%0A%0A%20%20%20%20%20%20%20%20%0A%20%20%20%20%0A%20%20%20%20%20%20%20%20%20%20%20%20var%20tile_layer_91e24387e1524cf7b1992299a589cc50%20%3D%20L.tileLayer%28%0A%20%20%20%20%20%20%20%20%20%20%20%20%20%20%20%20%22https%3A//%7Bs%7D.tile.openstreetmap.org/%7Bz%7D/%7Bx%7D/%7By%7D.png%22%2C%0A%20%20%20%20%20%20%20%20%20%20%20%20%20%20%20%20%7B%22attribution%22%3A%20%22Data%20by%20%5Cu0026copy%3B%20%5Cu003ca%20href%3D%5C%22http%3A//openstreetmap.org%5C%22%5Cu003eOpenStreetMap%5Cu003c/a%5Cu003e%2C%20under%20%5Cu003ca%20href%3D%5C%22http%3A//www.openstreetmap.org/copyright%5C%22%5Cu003eODbL%5Cu003c/a%5Cu003e.%22%2C%20%22detectRetina%22%3A%20false%2C%20%22maxNativeZoom%22%3A%2018%2C%20%22maxZoom%22%3A%2018%2C%20%22minZoom%22%3A%200%2C%20%22noWrap%22%3A%20false%2C%20%22opacity%22%3A%201%2C%20%22subdomains%22%3A%20%22abc%22%2C%20%22tms%22%3A%20false%7D%0A%20%20%20%20%20%20%20%20%20%20%20%20%29.addTo%28map_3194f4723af244d98d39a28d7b7e7cab%29%3B%0A%20%20%20%20%20%20%20%20%0A%20%20%20%20%0A%20%20%20%20%20%20%20%20%20%20%20%20var%20marker_44996ed0d2e84f97846fcb5c7b1b443a%20%3D%20L.marker%28%0A%20%20%20%20%20%20%20%20%20%20%20%20%20%20%20%20%5B44.556549383420084%2C%20-0.31939224223757195%5D%2C%0A%20%20%20%20%20%20%20%20%20%20%20%20%20%20%20%20%7B%7D%0A%20%20%20%20%20%20%20%20%20%20%20%20%29.addTo%28map_3194f4723af244d98d39a28d7b7e7cab%29%3B%0A%20%20%20%20%20%20%20%20%0A%20%20%20%20%0A%20%20%20%20%20%20%20%20%20%20%20%20var%20icon_75bf7a34835b4233a1d1e864c8c1cdef%20%3D%20L.AwesomeMarkers.icon%28%0A%20%20%20%20%20%20%20%20%20%20%20%20%20%20%20%20%7B%22extraClasses%22%3A%20%22fa-rotate-0%22%2C%20%22icon%22%3A%20%22info-sign%22%2C%20%22iconColor%22%3A%20%22white%22%2C%20%22markerColor%22%3A%20%22black%22%2C%20%22prefix%22%3A%20%22glyphicon%22%7D%0A%20%20%20%20%20%20%20%20%20%20%20%20%29%3B%0A%20%20%20%20%20%20%20%20%20%20%20%20marker_44996ed0d2e84f97846fcb5c7b1b443a.setIcon%28icon_75bf7a34835b4233a1d1e864c8c1cdef%29%3B%0A%20%20%20%20%20%20%20%20%0A%20%20%20%20%0A%20%20%20%20%20%20%20%20%20%20%20%20var%20marker_06710d1b9b394713b83893d4cf151b98%20%3D%20L.marker%28%0A%20%20%20%20%20%20%20%20%20%20%20%20%20%20%20%20%5B44.967500952177986%2C%20-0.6086852638150881%5D%2C%0A%20%20%20%20%20%20%20%20%20%20%20%20%20%20%20%20%7B%7D%0A%20%20%20%20%20%20%20%20%20%20%20%20%29.addTo%28map_3194f4723af244d98d39a28d7b7e7cab%29%3B%0A%20%20%20%20%20%20%20%20%0A%20%20%20%20%0A%20%20%20%20%20%20%20%20%20%20%20%20var%20icon_c3d6a34f5858436fa0fec5bb144e170a%20%3D%20L.AwesomeMarkers.icon%28%0A%20%20%20%20%20%20%20%20%20%20%20%20%20%20%20%20%7B%22extraClasses%22%3A%20%22fa-rotate-0%22%2C%20%22icon%22%3A%20%22info-sign%22%2C%20%22iconColor%22%3A%20%22white%22%2C%20%22markerColor%22%3A%20%22black%22%2C%20%22prefix%22%3A%20%22glyphicon%22%7D%0A%20%20%20%20%20%20%20%20%20%20%20%20%29%3B%0A%20%20%20%20%20%20%20%20%20%20%20%20marker_06710d1b9b394713b83893d4cf151b98.setIcon%28icon_c3d6a34f5858436fa0fec5bb144e170a%29%3B%0A%20%20%20%20%20%20%20%20%0A%20%20%20%20%0A%20%20%20%20%20%20%20%20%20%20%20%20var%20marker_1fc64bb9175e4d909992a862ef9ae2a2%20%3D%20L.marker%28%0A%20%20%20%20%20%20%20%20%20%20%20%20%20%20%20%20%5B45.14421541464031%2C%20-0.7342570469020379%5D%2C%0A%20%20%20%20%20%20%20%20%20%20%20%20%20%20%20%20%7B%7D%0A%20%20%20%20%20%20%20%20%20%20%20%20%29.addTo%28map_3194f4723af244d98d39a28d7b7e7cab%29%3B%0A%20%20%20%20%20%20%20%20%0A%20%20%20%20%0A%20%20%20%20%20%20%20%20%20%20%20%20var%20icon_6497faeef83844bf904e0aab9fbd3017%20%3D%20L.AwesomeMarkers.icon%28%0A%20%20%20%20%20%20%20%20%20%20%20%20%20%20%20%20%7B%22extraClasses%22%3A%20%22fa-rotate-0%22%2C%20%22icon%22%3A%20%22info-sign%22%2C%20%22iconColor%22%3A%20%22white%22%2C%20%22markerColor%22%3A%20%22black%22%2C%20%22prefix%22%3A%20%22glyphicon%22%7D%0A%20%20%20%20%20%20%20%20%20%20%20%20%29%3B%0A%20%20%20%20%20%20%20%20%20%20%20%20marker_1fc64bb9175e4d909992a862ef9ae2a2.setIcon%28icon_6497faeef83844bf904e0aab9fbd3017%29%3B%0A%20%20%20%20%20%20%20%20%0A%20%20%20%20%0A%20%20%20%20%20%20%20%20%20%20%20%20var%20marker_dd285ceb2dfe451daef3a6d22c2c4945%20%3D%20L.marker%28%0A%20%20%20%20%20%20%20%20%20%20%20%20%20%20%20%20%5B45.264808304867096%2C%20-0.7717887212411139%5D%2C%0A%20%20%20%20%20%20%20%20%20%20%20%20%20%20%20%20%7B%7D%0A%20%20%20%20%20%20%20%20%20%20%20%20%29.addTo%28map_3194f4723af244d98d39a28d7b7e7cab%29%3B%0A%20%20%20%20%20%20%20%20%0A%20%20%20%20%0A%20%20%20%20%20%20%20%20%20%20%20%20var%20icon_af2da843d6584463a40db46afcda10ef%20%3D%20L.AwesomeMarkers.icon%28%0A%20%20%20%20%20%20%20%20%20%20%20%20%20%20%20%20%7B%22extraClasses%22%3A%20%22fa-rotate-0%22%2C%20%22icon%22%3A%20%22info-sign%22%2C%20%22iconColor%22%3A%20%22white%22%2C%20%22markerColor%22%3A%20%22black%22%2C%20%22prefix%22%3A%20%22glyphicon%22%7D%0A%20%20%20%20%20%20%20%20%20%20%20%20%29%3B%0A%20%20%20%20%20%20%20%20%20%20%20%20marker_dd285ceb2dfe451daef3a6d22c2c4945.setIcon%28icon_af2da843d6584463a40db46afcda10ef%29%3B%0A%20%20%20%20%20%20%20%20%0A%20%20%20%20%0A%20%20%20%20%20%20%20%20%20%20%20%20var%20marker_e28abb8e1fb040f6aa13696199bffbd6%20%3D%20L.marker%28%0A%20%20%20%20%20%20%20%20%20%20%20%20%20%20%20%20%5B45.044422793402624%2C%20-0.6687606009488057%5D%2C%0A%20%20%20%20%20%20%20%20%20%20%20%20%20%20%20%20%7B%7D%0A%20%20%20%20%20%20%20%20%20%20%20%20%29.addTo%28map_3194f4723af244d98d39a28d7b7e7cab%29%3B%0A%20%20%20%20%20%20%20%20%0A%20%20%20%20%0A%20%20%20%20%20%20%20%20%20%20%20%20var%20icon_e9b7ad31d515426aa79135f146606214%20%3D%20L.AwesomeMarkers.icon%28%0A%20%20%20%20%20%20%20%20%20%20%20%20%20%20%20%20%7B%22extraClasses%22%3A%20%22fa-rotate-0%22%2C%20%22icon%22%3A%20%22info-sign%22%2C%20%22iconColor%22%3A%20%22white%22%2C%20%22markerColor%22%3A%20%22black%22%2C%20%22prefix%22%3A%20%22glyphicon%22%7D%0A%20%20%20%20%20%20%20%20%20%20%20%20%29%3B%0A%20%20%20%20%20%20%20%20%20%20%20%20marker_e28abb8e1fb040f6aa13696199bffbd6.setIcon%28icon_e9b7ad31d515426aa79135f146606214%29%3B%0A%20%20%20%20%20%20%20%20%0A%20%20%20%20%0A%20%20%20%20%20%20%20%20%20%20%20%20var%20marker_f7f50feb3c6b4d65afab94bc9b76871d%20%3D%20L.marker%28%0A%20%20%20%20%20%20%20%20%20%20%20%20%20%20%20%20%5B45.19957452440505%2C%20-0.7462077931750715%5D%2C%0A%20%20%20%20%20%20%20%20%20%20%20%20%20%20%20%20%7B%7D%0A%20%20%20%20%20%20%20%20%20%20%20%20%29.addTo%28map_3194f4723af244d98d39a28d7b7e7cab%29%3B%0A%20%20%20%20%20%20%20%20%0A%20%20%20%20%0A%20%20%20%20%20%20%20%20%20%20%20%20var%20icon_7e018121962b4dc2b91cdfe424f5ebd2%20%3D%20L.AwesomeMarkers.icon%28%0A%20%20%20%20%20%20%20%20%20%20%20%20%20%20%20%20%7B%22extraClasses%22%3A%20%22fa-rotate-0%22%2C%20%22icon%22%3A%20%22info-sign%22%2C%20%22iconColor%22%3A%20%22white%22%2C%20%22markerColor%22%3A%20%22black%22%2C%20%22prefix%22%3A%20%22glyphicon%22%7D%0A%20%20%20%20%20%20%20%20%20%20%20%20%29%3B%0A%20%20%20%20%20%20%20%20%20%20%20%20marker_f7f50feb3c6b4d65afab94bc9b76871d.setIcon%28icon_7e018121962b4dc2b91cdfe424f5ebd2%29%3B%0A%20%20%20%20%20%20%20%20%0A%20%20%20%20%0A%20%20%20%20%20%20%20%20%20%20%20%20var%20marker_76611ba9a71f4bca8a976c193f4b01d4%20%3D%20L.marker%28%0A%20%20%20%20%20%20%20%20%20%20%20%20%20%20%20%20%5B45.397697776585%2C%20-0.9668192708194538%5D%2C%0A%20%20%20%20%20%20%20%20%20%20%20%20%20%20%20%20%7B%7D%0A%20%20%20%20%20%20%20%20%20%20%20%20%29.addTo%28map_3194f4723af244d98d39a28d7b7e7cab%29%3B%0A%20%20%20%20%20%20%20%20%0A%20%20%20%20%0A%20%20%20%20%20%20%20%20%20%20%20%20var%20icon_855fa6e819a64861b2b5af7a31f669d9%20%3D%20L.AwesomeMarkers.icon%28%0A%20%20%20%20%20%20%20%20%20%20%20%20%20%20%20%20%7B%22extraClasses%22%3A%20%22fa-rotate-0%22%2C%20%22icon%22%3A%20%22info-sign%22%2C%20%22iconColor%22%3A%20%22white%22%2C%20%22markerColor%22%3A%20%22black%22%2C%20%22prefix%22%3A%20%22glyphicon%22%7D%0A%20%20%20%20%20%20%20%20%20%20%20%20%29%3B%0A%20%20%20%20%20%20%20%20%20%20%20%20marker_76611ba9a71f4bca8a976c193f4b01d4.setIcon%28icon_855fa6e819a64861b2b5af7a31f669d9%29%3B%0A%20%20%20%20%20%20%20%20%0A%20%20%20%20%0A%20%20%20%20%20%20%20%20%20%20%20%20var%20marker_d1e45a91d3e14b08841a883f952e8e51%20%3D%20L.marker%28%0A%20%20%20%20%20%20%20%20%20%20%20%20%20%20%20%20%5B45.023479086796385%2C%20-0.8072126299796225%5D%2C%0A%20%20%20%20%20%20%20%20%20%20%20%20%20%20%20%20%7B%7D%0A%20%20%20%20%20%20%20%20%20%20%20%20%29.addTo%28map_3194f4723af244d98d39a28d7b7e7cab%29%3B%0A%20%20%20%20%20%20%20%20%0A%20%20%20%20%0A%20%20%20%20%20%20%20%20%20%20%20%20var%20icon_2c9484b609434bc5adf027232e4666b5%20%3D%20L.AwesomeMarkers.icon%28%0A%20%20%20%20%20%20%20%20%20%20%20%20%20%20%20%20%7B%22extraClasses%22%3A%20%22fa-rotate-0%22%2C%20%22icon%22%3A%20%22info-sign%22%2C%20%22iconColor%22%3A%20%22white%22%2C%20%22markerColor%22%3A%20%22black%22%2C%20%22prefix%22%3A%20%22glyphicon%22%7D%0A%20%20%20%20%20%20%20%20%20%20%20%20%29%3B%0A%20%20%20%20%20%20%20%20%20%20%20%20marker_d1e45a91d3e14b08841a883f952e8e51.setIcon%28icon_2c9484b609434bc5adf027232e4666b5%29%3B%0A%20%20%20%20%20%20%20%20%0A%20%20%20%20%0A%20%20%20%20%20%20%20%20%20%20%20%20var%20marker_8e78320f60d84316bd8edda38b7d1c8c%20%3D%20L.marker%28%0A%20%20%20%20%20%20%20%20%20%20%20%20%20%20%20%20%5B45.29291368453335%2C%20-0.9365361007032235%5D%2C%0A%20%20%20%20%20%20%20%20%20%20%20%20%20%20%20%20%7B%7D%0A%20%20%20%20%20%20%20%20%20%20%20%20%29.addTo%28map_3194f4723af244d98d39a28d7b7e7cab%29%3B%0A%20%20%20%20%20%20%20%20%0A%20%20%20%20%0A%20%20%20%20%20%20%20%20%20%20%20%20var%20icon_f660d4bd70474a68921a0ec5b0c88a88%20%3D%20L.AwesomeMarkers.icon%28%0A%20%20%20%20%20%20%20%20%20%20%20%20%20%20%20%20%7B%22extraClasses%22%3A%20%22fa-rotate-0%22%2C%20%22icon%22%3A%20%22info-sign%22%2C%20%22iconColor%22%3A%20%22white%22%2C%20%22markerColor%22%3A%20%22black%22%2C%20%22prefix%22%3A%20%22glyphicon%22%7D%0A%20%20%20%20%20%20%20%20%20%20%20%20%29%3B%0A%20%20%20%20%20%20%20%20%20%20%20%20marker_8e78320f60d84316bd8edda38b7d1c8c.setIcon%28icon_f660d4bd70474a68921a0ec5b0c88a88%29%3B%0A%20%20%20%20%20%20%20%20%0A%20%20%20%20%0A%20%20%20%20%20%20%20%20%20%20%20%20var%20marker_b53a987bbac94d46ba801d5e6da03fa8%20%3D%20L.marker%28%0A%20%20%20%20%20%20%20%20%20%20%20%20%20%20%20%20%5B45.08146166752168%2C%20-0.8062453230620741%5D%2C%0A%20%20%20%20%20%20%20%20%20%20%20%20%20%20%20%20%7B%7D%0A%20%20%20%20%20%20%20%20%20%20%20%20%29.addTo%28map_3194f4723af244d98d39a28d7b7e7cab%29%3B%0A%20%20%20%20%20%20%20%20%0A%20%20%20%20%0A%20%20%20%20%20%20%20%20%20%20%20%20var%20icon_a0a3669415a84b67881ccbbb75ca395d%20%3D%20L.AwesomeMarkers.icon%28%0A%20%20%20%20%20%20%20%20%20%20%20%20%20%20%20%20%7B%22extraClasses%22%3A%20%22fa-rotate-0%22%2C%20%22icon%22%3A%20%22info-sign%22%2C%20%22iconColor%22%3A%20%22white%22%2C%20%22markerColor%22%3A%20%22black%22%2C%20%22prefix%22%3A%20%22glyphicon%22%7D%0A%20%20%20%20%20%20%20%20%20%20%20%20%29%3B%0A%20%20%20%20%20%20%20%20%20%20%20%20marker_b53a987bbac94d46ba801d5e6da03fa8.setIcon%28icon_a0a3669415a84b67881ccbbb75ca395d%29%3B%0A%20%20%20%20%20%20%20%20%0A%20%20%20%20%0A%20%20%20%20%20%20%20%20%20%20%20%20var%20marker_56e7255bb536495d84a775a2876d1577%20%3D%20L.marker%28%0A%20%20%20%20%20%20%20%20%20%20%20%20%20%20%20%20%5B45.15121765523164%2C%20-0.822092647754919%5D%2C%0A%20%20%20%20%20%20%20%20%20%20%20%20%20%20%20%20%7B%7D%0A%20%20%20%20%20%20%20%20%20%20%20%20%29.addTo%28map_3194f4723af244d98d39a28d7b7e7cab%29%3B%0A%20%20%20%20%20%20%20%20%0A%20%20%20%20%0A%20%20%20%20%20%20%20%20%20%20%20%20var%20icon_0b861e2ca4504e59816f184491e40a96%20%3D%20L.AwesomeMarkers.icon%28%0A%20%20%20%20%20%20%20%20%20%20%20%20%20%20%20%20%7B%22extraClasses%22%3A%20%22fa-rotate-0%22%2C%20%22icon%22%3A%20%22info-sign%22%2C%20%22iconColor%22%3A%20%22white%22%2C%20%22markerColor%22%3A%20%22orange%22%2C%20%22prefix%22%3A%20%22glyphicon%22%7D%0A%20%20%20%20%20%20%20%20%20%20%20%20%29%3B%0A%20%20%20%20%20%20%20%20%20%20%20%20marker_56e7255bb536495d84a775a2876d1577.setIcon%28icon_0b861e2ca4504e59816f184491e40a96%29%3B%0A%20%20%20%20%20%20%20%20%0A%20%20%20%20%0A%20%20%20%20%20%20%20%20%20%20%20%20var%20marker_069adf54528a4acdac7da5fb5c2b9106%20%3D%20L.marker%28%0A%20%20%20%20%20%20%20%20%20%20%20%20%20%20%20%20%5B45.15121765523164%2C%20-0.822092647754919%5D%2C%0A%20%20%20%20%20%20%20%20%20%20%20%20%20%20%20%20%7B%7D%0A%20%20%20%20%20%20%20%20%20%20%20%20%29.addTo%28map_3194f4723af244d98d39a28d7b7e7cab%29%3B%0A%20%20%20%20%20%20%20%20%0A%20%20%20%20%0A%20%20%20%20%20%20%20%20%20%20%20%20var%20icon_1e8cf6741f31482e988a5f4e02bcab1e%20%3D%20L.AwesomeMarkers.icon%28%0A%20%20%20%20%20%20%20%20%20%20%20%20%20%20%20%20%7B%22extraClasses%22%3A%20%22fa-rotate-0%22%2C%20%22icon%22%3A%20%22info-sign%22%2C%20%22iconColor%22%3A%20%22white%22%2C%20%22markerColor%22%3A%20%22darkgreen%22%2C%20%22prefix%22%3A%20%22glyphicon%22%7D%0A%20%20%20%20%20%20%20%20%20%20%20%20%29%3B%0A%20%20%20%20%20%20%20%20%20%20%20%20marker_069adf54528a4acdac7da5fb5c2b9106.setIcon%28icon_1e8cf6741f31482e988a5f4e02bcab1e%29%3B%0A%20%20%20%20%20%20%20%20%0A%20%20%20%20%0A%20%20%20%20%20%20%20%20%20%20%20%20var%20poly_line_85549cd877324dd08285c758224b891a%20%3D%20L.polyline%28%0A%20%20%20%20%20%20%20%20%20%20%20%20%20%20%20%20%5B%5B44.556549383420084%2C%20-0.31939224223757195%5D%2C%20%5B45.044422793402624%2C%20-0.6687606009488057%5D%5D%2C%0A%20%20%20%20%20%20%20%20%20%20%20%20%20%20%20%20%7B%22bubblingMouseEvents%22%3A%20true%2C%20%22color%22%3A%20%22darkgreen%22%2C%20%22dashArray%22%3A%20null%2C%20%22dashOffset%22%3A%20null%2C%20%22fill%22%3A%20false%2C%20%22fillColor%22%3A%20%22darkgreen%22%2C%20%22fillOpacity%22%3A%200.2%2C%20%22fillRule%22%3A%20%22evenodd%22%2C%20%22lineCap%22%3A%20%22round%22%2C%20%22lineJoin%22%3A%20%22round%22%2C%20%22noClip%22%3A%20false%2C%20%22opacity%22%3A%200.8%2C%20%22smoothFactor%22%3A%201.0%2C%20%22stroke%22%3A%20true%2C%20%22weight%22%3A%202.5%7D%0A%20%20%20%20%20%20%20%20%20%20%20%20%29.addTo%28map_3194f4723af244d98d39a28d7b7e7cab%29%3B%0A%20%20%20%20%20%20%20%20%0A%20%20%20%20%0A%20%20%20%20%20%20%20%20%20%20%20%20var%20poly_line_c429cf2b18bc4feb95238e7c0c9c1f7c%20%3D%20L.polyline%28%0A%20%20%20%20%20%20%20%20%20%20%20%20%20%20%20%20%5B%5B45.15121765523164%2C%20-0.822092647754919%5D%2C%20%5B44.556549383420084%2C%20-0.31939224223757195%5D%5D%2C%0A%20%20%20%20%20%20%20%20%20%20%20%20%20%20%20%20%7B%22bubblingMouseEvents%22%3A%20true%2C%20%22color%22%3A%20%22darkgreen%22%2C%20%22dashArray%22%3A%20null%2C%20%22dashOffset%22%3A%20null%2C%20%22fill%22%3A%20false%2C%20%22fillColor%22%3A%20%22darkgreen%22%2C%20%22fillOpacity%22%3A%200.2%2C%20%22fillRule%22%3A%20%22evenodd%22%2C%20%22lineCap%22%3A%20%22round%22%2C%20%22lineJoin%22%3A%20%22round%22%2C%20%22noClip%22%3A%20false%2C%20%22opacity%22%3A%200.8%2C%20%22smoothFactor%22%3A%201.0%2C%20%22stroke%22%3A%20true%2C%20%22weight%22%3A%202.5%7D%0A%20%20%20%20%20%20%20%20%20%20%20%20%29.addTo%28map_3194f4723af244d98d39a28d7b7e7cab%29%3B%0A%20%20%20%20%20%20%20%20%0A%20%20%20%20%0A%20%20%20%20%20%20%20%20%20%20%20%20var%20poly_line_9e625de4e55d49e18ec69bc24fdcb9dc%20%3D%20L.polyline%28%0A%20%20%20%20%20%20%20%20%20%20%20%20%20%20%20%20%5B%5B45.14421541464031%2C%20-0.7342570469020379%5D%2C%20%5B45.08146166752168%2C%20-0.8062453230620741%5D%5D%2C%0A%20%20%20%20%20%20%20%20%20%20%20%20%20%20%20%20%7B%22bubblingMouseEvents%22%3A%20true%2C%20%22color%22%3A%20%22darkgreen%22%2C%20%22dashArray%22%3A%20null%2C%20%22dashOffset%22%3A%20null%2C%20%22fill%22%3A%20false%2C%20%22fillColor%22%3A%20%22darkgreen%22%2C%20%22fillOpacity%22%3A%200.2%2C%20%22fillRule%22%3A%20%22evenodd%22%2C%20%22lineCap%22%3A%20%22round%22%2C%20%22lineJoin%22%3A%20%22round%22%2C%20%22noClip%22%3A%20false%2C%20%22opacity%22%3A%200.8%2C%20%22smoothFactor%22%3A%201.0%2C%20%22stroke%22%3A%20true%2C%20%22weight%22%3A%202.5%7D%0A%20%20%20%20%20%20%20%20%20%20%20%20%29.addTo%28map_3194f4723af244d98d39a28d7b7e7cab%29%3B%0A%20%20%20%20%20%20%20%20%0A%20%20%20%20%0A%20%20%20%20%20%20%20%20%20%20%20%20var%20poly_line_148b9edcd89f483480919322b800f5a7%20%3D%20L.polyline%28%0A%20%20%20%20%20%20%20%20%20%20%20%20%20%20%20%20%5B%5B45.264808304867096%2C%20-0.7717887212411139%5D%2C%20%5B45.397697776585%2C%20-0.9668192708194538%5D%5D%2C%0A%20%20%20%20%20%20%20%20%20%20%20%20%20%20%20%20%7B%22bubblingMouseEvents%22%3A%20true%2C%20%22color%22%3A%20%22darkgreen%22%2C%20%22dashArray%22%3A%20null%2C%20%22dashOffset%22%3A%20null%2C%20%22fill%22%3A%20false%2C%20%22fillColor%22%3A%20%22darkgreen%22%2C%20%22fillOpacity%22%3A%200.2%2C%20%22fillRule%22%3A%20%22evenodd%22%2C%20%22lineCap%22%3A%20%22round%22%2C%20%22lineJoin%22%3A%20%22round%22%2C%20%22noClip%22%3A%20false%2C%20%22opacity%22%3A%200.8%2C%20%22smoothFactor%22%3A%201.0%2C%20%22stroke%22%3A%20true%2C%20%22weight%22%3A%202.5%7D%0A%20%20%20%20%20%20%20%20%20%20%20%20%29.addTo%28map_3194f4723af244d98d39a28d7b7e7cab%29%3B%0A%20%20%20%20%20%20%20%20%0A%20%20%20%20%0A%20%20%20%20%20%20%20%20%20%20%20%20var%20poly_line_0e988781c347433397191fb259287df3%20%3D%20L.polyline%28%0A%20%20%20%20%20%20%20%20%20%20%20%20%20%20%20%20%5B%5B45.044422793402624%2C%20-0.6687606009488057%5D%2C%20%5B45.14421541464031%2C%20-0.7342570469020379%5D%5D%2C%0A%20%20%20%20%20%20%20%20%20%20%20%20%20%20%20%20%7B%22bubblingMouseEvents%22%3A%20true%2C%20%22color%22%3A%20%22darkgreen%22%2C%20%22dashArray%22%3A%20null%2C%20%22dashOffset%22%3A%20null%2C%20%22fill%22%3A%20false%2C%20%22fillColor%22%3A%20%22darkgreen%22%2C%20%22fillOpacity%22%3A%200.2%2C%20%22fillRule%22%3A%20%22evenodd%22%2C%20%22lineCap%22%3A%20%22round%22%2C%20%22lineJoin%22%3A%20%22round%22%2C%20%22noClip%22%3A%20false%2C%20%22opacity%22%3A%200.8%2C%20%22smoothFactor%22%3A%201.0%2C%20%22stroke%22%3A%20true%2C%20%22weight%22%3A%202.5%7D%0A%20%20%20%20%20%20%20%20%20%20%20%20%29.addTo%28map_3194f4723af244d98d39a28d7b7e7cab%29%3B%0A%20%20%20%20%20%20%20%20%0A%20%20%20%20%0A%20%20%20%20%20%20%20%20%20%20%20%20var%20poly_line_279626b87f6d414e9bb219a4f0bd0ff3%20%3D%20L.polyline%28%0A%20%20%20%20%20%20%20%20%20%20%20%20%20%20%20%20%5B%5B45.19957452440505%2C%20-0.7462077931750715%5D%2C%20%5B45.264808304867096%2C%20-0.7717887212411139%5D%5D%2C%0A%20%20%20%20%20%20%20%20%20%20%20%20%20%20%20%20%7B%22bubblingMouseEvents%22%3A%20true%2C%20%22color%22%3A%20%22darkgreen%22%2C%20%22dashArray%22%3A%20null%2C%20%22dashOffset%22%3A%20null%2C%20%22fill%22%3A%20false%2C%20%22fillColor%22%3A%20%22darkgreen%22%2C%20%22fillOpacity%22%3A%200.2%2C%20%22fillRule%22%3A%20%22evenodd%22%2C%20%22lineCap%22%3A%20%22round%22%2C%20%22lineJoin%22%3A%20%22round%22%2C%20%22noClip%22%3A%20false%2C%20%22opacity%22%3A%200.8%2C%20%22smoothFactor%22%3A%201.0%2C%20%22stroke%22%3A%20true%2C%20%22weight%22%3A%202.5%7D%0A%20%20%20%20%20%20%20%20%20%20%20%20%29.addTo%28map_3194f4723af244d98d39a28d7b7e7cab%29%3B%0A%20%20%20%20%20%20%20%20%0A%20%20%20%20%0A%20%20%20%20%20%20%20%20%20%20%20%20var%20poly_line_0adefce9d3504ac59cae5498f9c2ab79%20%3D%20L.polyline%28%0A%20%20%20%20%20%20%20%20%20%20%20%20%20%20%20%20%5B%5B45.397697776585%2C%20-0.9668192708194538%5D%2C%20%5B45.29291368453335%2C%20-0.9365361007032235%5D%5D%2C%0A%20%20%20%20%20%20%20%20%20%20%20%20%20%20%20%20%7B%22bubblingMouseEvents%22%3A%20true%2C%20%22color%22%3A%20%22darkgreen%22%2C%20%22dashArray%22%3A%20null%2C%20%22dashOffset%22%3A%20null%2C%20%22fill%22%3A%20false%2C%20%22fillColor%22%3A%20%22darkgreen%22%2C%20%22fillOpacity%22%3A%200.2%2C%20%22fillRule%22%3A%20%22evenodd%22%2C%20%22lineCap%22%3A%20%22round%22%2C%20%22lineJoin%22%3A%20%22round%22%2C%20%22noClip%22%3A%20false%2C%20%22opacity%22%3A%200.8%2C%20%22smoothFactor%22%3A%201.0%2C%20%22stroke%22%3A%20true%2C%20%22weight%22%3A%202.5%7D%0A%20%20%20%20%20%20%20%20%20%20%20%20%29.addTo%28map_3194f4723af244d98d39a28d7b7e7cab%29%3B%0A%20%20%20%20%20%20%20%20%0A%20%20%20%20%0A%20%20%20%20%20%20%20%20%20%20%20%20var%20poly_line_8acd8516369c45b69f1b55e481c2af57%20%3D%20L.polyline%28%0A%20%20%20%20%20%20%20%20%20%20%20%20%20%20%20%20%5B%5B45.023479086796385%2C%20-0.8072126299796225%5D%2C%20%5B45.15121765523164%2C%20-0.822092647754919%5D%5D%2C%0A%20%20%20%20%20%20%20%20%20%20%20%20%20%20%20%20%7B%22bubblingMouseEvents%22%3A%20true%2C%20%22color%22%3A%20%22darkgreen%22%2C%20%22dashArray%22%3A%20null%2C%20%22dashOffset%22%3A%20null%2C%20%22fill%22%3A%20false%2C%20%22fillColor%22%3A%20%22darkgreen%22%2C%20%22fillOpacity%22%3A%200.2%2C%20%22fillRule%22%3A%20%22evenodd%22%2C%20%22lineCap%22%3A%20%22round%22%2C%20%22lineJoin%22%3A%20%22round%22%2C%20%22noClip%22%3A%20false%2C%20%22opacity%22%3A%200.8%2C%20%22smoothFactor%22%3A%201.0%2C%20%22stroke%22%3A%20true%2C%20%22weight%22%3A%202.5%7D%0A%20%20%20%20%20%20%20%20%20%20%20%20%29.addTo%28map_3194f4723af244d98d39a28d7b7e7cab%29%3B%0A%20%20%20%20%20%20%20%20%0A%20%20%20%20%0A%20%20%20%20%20%20%20%20%20%20%20%20var%20poly_line_7561556b94e24c68b5314dad1d450ffd%20%3D%20L.polyline%28%0A%20%20%20%20%20%20%20%20%20%20%20%20%20%20%20%20%5B%5B45.29291368453335%2C%20-0.9365361007032235%5D%2C%20%5B45.15121765523164%2C%20-0.822092647754919%5D%5D%2C%0A%20%20%20%20%20%20%20%20%20%20%20%20%20%20%20%20%7B%22bubblingMouseEvents%22%3A%20true%2C%20%22color%22%3A%20%22darkgreen%22%2C%20%22dashArray%22%3A%20null%2C%20%22dashOffset%22%3A%20null%2C%20%22fill%22%3A%20false%2C%20%22fillColor%22%3A%20%22darkgreen%22%2C%20%22fillOpacity%22%3A%200.2%2C%20%22fillRule%22%3A%20%22evenodd%22%2C%20%22lineCap%22%3A%20%22round%22%2C%20%22lineJoin%22%3A%20%22round%22%2C%20%22noClip%22%3A%20false%2C%20%22opacity%22%3A%200.8%2C%20%22smoothFactor%22%3A%201.0%2C%20%22stroke%22%3A%20true%2C%20%22weight%22%3A%202.5%7D%0A%20%20%20%20%20%20%20%20%20%20%20%20%29.addTo%28map_3194f4723af244d98d39a28d7b7e7cab%29%3B%0A%20%20%20%20%20%20%20%20%0A%20%20%20%20%0A%20%20%20%20%20%20%20%20%20%20%20%20var%20poly_line_f90945dfd2a147b5a5cda02ce430fa6e%20%3D%20L.polyline%28%0A%20%20%20%20%20%20%20%20%20%20%20%20%20%20%20%20%5B%5B45.08146166752168%2C%20-0.8062453230620741%5D%2C%20%5B45.023479086796385%2C%20-0.8072126299796225%5D%5D%2C%0A%20%20%20%20%20%20%20%20%20%20%20%20%20%20%20%20%7B%22bubblingMouseEvents%22%3A%20true%2C%20%22color%22%3A%20%22darkgreen%22%2C%20%22dashArray%22%3A%20null%2C%20%22dashOffset%22%3A%20null%2C%20%22fill%22%3A%20false%2C%20%22fillColor%22%3A%20%22darkgreen%22%2C%20%22fillOpacity%22%3A%200.2%2C%20%22fillRule%22%3A%20%22evenodd%22%2C%20%22lineCap%22%3A%20%22round%22%2C%20%22lineJoin%22%3A%20%22round%22%2C%20%22noClip%22%3A%20false%2C%20%22opacity%22%3A%200.8%2C%20%22smoothFactor%22%3A%201.0%2C%20%22stroke%22%3A%20true%2C%20%22weight%22%3A%202.5%7D%0A%20%20%20%20%20%20%20%20%20%20%20%20%29.addTo%28map_3194f4723af244d98d39a28d7b7e7cab%29%3B%0A%20%20%20%20%20%20%20%20%0A%20%20%20%20%0A%20%20%20%20%20%20%20%20%20%20%20%20var%20poly_line_3da4835d552f486b92ee2e4516f5f846%20%3D%20L.polyline%28%0A%20%20%20%20%20%20%20%20%20%20%20%20%20%20%20%20%5B%5B45.15121765523164%2C%20-0.822092647754919%5D%2C%20%5B45.19957452440505%2C%20-0.7462077931750715%5D%5D%2C%0A%20%20%20%20%20%20%20%20%20%20%20%20%20%20%20%20%7B%22bubblingMouseEvents%22%3A%20true%2C%20%22color%22%3A%20%22darkgreen%22%2C%20%22dashArray%22%3A%20null%2C%20%22dashOffset%22%3A%20null%2C%20%22fill%22%3A%20false%2C%20%22fillColor%22%3A%20%22darkgreen%22%2C%20%22fillOpacity%22%3A%200.2%2C%20%22fillRule%22%3A%20%22evenodd%22%2C%20%22lineCap%22%3A%20%22round%22%2C%20%22lineJoin%22%3A%20%22round%22%2C%20%22noClip%22%3A%20false%2C%20%22opacity%22%3A%200.8%2C%20%22smoothFactor%22%3A%201.0%2C%20%22stroke%22%3A%20true%2C%20%22weight%22%3A%202.5%7D%0A%20%20%20%20%20%20%20%20%20%20%20%20%29.addTo%28map_3194f4723af244d98d39a28d7b7e7cab%29%3B%0A%20%20%20%20%20%20%20%20%0A%20%20%20%20%0A%20%20%20%20%20%20%20%20%20%20%20%20var%20marker_d995a44f32804fe7a17da431d39765e7%20%3D%20L.marker%28%0A%20%20%20%20%20%20%20%20%20%20%20%20%20%20%20%20%5B44.93630928188769%2C%20-0.8309410298001655%5D%2C%0A%20%20%20%20%20%20%20%20%20%20%20%20%20%20%20%20%7B%7D%0A%20%20%20%20%20%20%20%20%20%20%20%20%29.addTo%28map_3194f4723af244d98d39a28d7b7e7cab%29%3B%0A%20%20%20%20%20%20%20%20%0A%20%20%20%20%0A%20%20%20%20%20%20%20%20%20%20%20%20var%20icon_14922a5ae936497bb1ab0786dc13aff4%20%3D%20L.AwesomeMarkers.icon%28%0A%20%20%20%20%20%20%20%20%20%20%20%20%20%20%20%20%7B%22extraClasses%22%3A%20%22fa-rotate-0%22%2C%20%22icon%22%3A%20%22info-sign%22%2C%20%22iconColor%22%3A%20%22white%22%2C%20%22markerColor%22%3A%20%22blue%22%2C%20%22prefix%22%3A%20%22glyphicon%22%7D%0A%20%20%20%20%20%20%20%20%20%20%20%20%29%3B%0A%20%20%20%20%20%20%20%20%20%20%20%20marker_d995a44f32804fe7a17da431d39765e7.setIcon%28icon_14922a5ae936497bb1ab0786dc13aff4%29%3B%0A%20%20%20%20%20%20%20%20%0A%3C/script%3E onload=\"this.contentDocument.open();this.contentDocument.write(    decodeURIComponent(this.getAttribute('data-html')));this.contentDocument.close();\" allowfullscreen webkitallowfullscreen mozallowfullscreen></iframe></div></div>"
      ],
      "text/plain": [
       "<folium.folium.Map at 0x7f507871fca0>"
      ]
     },
     "execution_count": 192,
     "metadata": {},
     "output_type": "execute_result"
    }
   ],
   "source": [
    "# affichage de la carte\n",
    "import folium\n",
    "\n",
    "lat_tot,long_tot=0,0\n",
    "for a in range(number_of_tasks):\n",
    "  lat_tot+=tasks[L_tasks[a]].latitude\n",
    "  long_tot+=tasks[L_tasks[a]].longitude\n",
    "for a in range(number_of_tasks, number_of_tasks+number_of_runavailabilities):\n",
    "  lat_tot+=ressources[L_ressources[runav_id[a-number_of_tasks][0]]].unavailabilities[runav_id[a-number_of_tasks][1]].latitude\n",
    "  long_tot+=ressources[L_ressources[runav_id[a-number_of_tasks][0]]].unavailabilities[runav_id[a-number_of_tasks][1]].longitude\n",
    "mid_latitude = lat_tot/(number_of_tasks+number_of_runavailabilities)\n",
    "mid_longitude = long_tot/(number_of_tasks+number_of_runavailabilities)\n",
    "carte=folium.Map(location=[mid_latitude, mid_longitude],zoom_start=10)\n",
    "for a in range(number_of_tasks):\n",
    "  folium.Marker([tasks[L_tasks[a]].latitude, tasks[L_tasks[a]].longitude],icon=folium.Icon(color='black')).add_to(carte)\n",
    "for a in range(number_of_tasks,number_of_tasks+number_of_runavailabilities):\n",
    "  folium.Marker([ressources[L_ressources[runav_id[a-number_of_tasks][0]]].unavailabilities[runav_id[a-number_of_tasks][1]].latitude,\n",
    "   ressources[L_ressources[runav_id[a-number_of_tasks][0]]].unavailabilities[runav_id[a-number_of_tasks][1]].longitude],icon=folium.Icon(color='orange')).add_to(carte)\n",
    "list_colors = ['darkgreen', 'blue', 'red', 'green', 'darkpurple', 'lightred', 'purple', 'pink', 'orange', 'darkblue', 'gray', 'darkred']\n",
    "number_of_colors = len(list_colors)\n",
    "counter = 0\n",
    "for r in range(number_of_ressources):\n",
    "  color_r = list_colors[counter % number_of_colors]\n",
    "  folium.Marker([ressources[L_ressources[r]].latitude,ressources[L_ressources[r]].longitude],icon=folium.Icon(color=color_r)).add_to(carte)\n",
    "  for a in range(number_of_tasks+number_of_runavailabilities):\n",
    "    for b in range(number_of_tasks+number_of_runavailabilities):\n",
    "      if a < number_of_tasks:\n",
    "        lat_a,long_a = tasks[L_tasks[a]].latitude, tasks[L_tasks[a]].longitude\n",
    "      else:\n",
    "        lat_a,long_a = ressources[L_ressources[runav_id[a-number_of_tasks][0]]].unavailabilities[runav_id[a-number_of_tasks][1]].latitude, ressources[L_ressources[runav_id[a-number_of_tasks][0]]].unavailabilities[runav_id[a-number_of_tasks][1]].longitude\n",
    "      if b < number_of_tasks :\n",
    "        lat_b,long_b = tasks[L_tasks[b]].latitude, tasks[L_tasks[b]].longitude\n",
    "      else :\n",
    "        lat_b,long_b = ressources[L_ressources[runav_id[b-number_of_tasks][0]]].unavailabilities[runav_id[b-number_of_tasks][1]].latitude, ressources[L_ressources[runav_id[b-number_of_tasks][0]]].unavailabilities[runav_id[b-number_of_tasks][1]].longitude\n",
    "      if round(y[(r,a,b)].x) == 1:\n",
    "        line_ab = [(lat_a, long_a),(lat_b, long_b)]\n",
    "        folium.PolyLine(line_ab, color=color_r, weight=2.5, opacity=0.8).add_to(carte)\n",
    "    if round(d[(r,a)].x) == 1:\n",
    "      line_home_t = [(ressources[L_ressources[r]].latitude,ressources[L_ressources[r]].longitude), (tasks[L_tasks[a]].latitude, tasks[L_tasks[a]].longitude)]\n",
    "      folium.PolyLine(line_home_t, color=color_r, weight=2.5, opacity=0.8).add_to(carte)\n",
    "    if round(f[(r,a)].x) == 1:\n",
    "      line_t_home = [(tasks[L_tasks[a]].latitude, tasks[L_tasks[a]].longitude), (ressources[L_ressources[r]].latitude,ressources[L_ressources[r]].longitude)]\n",
    "      folium.PolyLine(line_t_home, color=color_r, weight=2.5, opacity=0.8).add_to(carte)\n",
    "  counter+=1\n",
    "\n",
    "carte.save('Cartographie/Cartev2.html')\n",
    "\n",
    "carte"
   ]
  },
  {
   "cell_type": "code",
   "execution_count": 193,
   "metadata": {},
   "outputs": [
    {
     "data": {
      "application/vnd.plotly.v1+json": {
       "config": {
        "plotlyServerURL": "https://plot.ly"
       },
       "data": [
        {
         "alignmentgroup": "True",
         "base": [
          480,
          720,
          645,
          614,
          575,
          743,
          942,
          818,
          874,
          900,
          540,
          780,
          705,
          674,
          635,
          803,
          934,
          480,
          1002
         ],
         "hovertemplate": "Start=%{base}<br>Finish=%{x}<br>Task=%{y}<br>J=%{text}<extra></extra>",
         "legendgroup": "",
         "marker": {
          "color": "#636efa"
         },
         "name": "",
         "offsetgroup": "",
         "orientation": "h",
         "showlegend": false,
         "text": [
          "tâche 1",
          "tâche 3",
          "tâche 4",
          "tâche 5",
          "tâche 6",
          "tâche 7",
          "tâche 8",
          "tâche 9",
          "tâche 10",
          "unavailability 1",
          "trajet 1-5",
          "trajet 3-10",
          "trajet 4-7",
          "trajet 5-3",
          "trajet 6-4",
          "trajet 7-9",
          "trajet 10-8",
          "trajet maison -1",
          "8- trajet maison"
         ],
         "textposition": "auto",
         "type": "bar",
         "x": [
          60,
          60,
          60,
          60,
          60,
          60,
          60,
          60,
          60,
          180,
          73.02054856141137,
          10.773482048634605,
          25.47788456484102,
          14.675543923756436,
          9.030219271874216,
          14.26727016542543,
          7.73737988230198,
          0,
          77.5613653737314
         ],
         "xaxis": "x",
         "y": [
          "Valentin",
          "Valentin",
          "Valentin",
          "Valentin",
          "Valentin",
          "Valentin",
          "Valentin",
          "Valentin",
          "Valentin",
          "Valentin",
          "Valentin",
          "Valentin",
          "Valentin",
          "Valentin",
          "Valentin",
          "Valentin",
          "Valentin",
          "Valentin",
          "Valentin"
         ],
         "yaxis": "y"
        }
       ],
       "layout": {
        "barmode": "overlay",
        "legend": {
         "tracegroupgap": 0
        },
        "margin": {
         "t": 60
        },
        "template": {
         "data": {
          "bar": [
           {
            "error_x": {
             "color": "#2a3f5f"
            },
            "error_y": {
             "color": "#2a3f5f"
            },
            "marker": {
             "line": {
              "color": "#E5ECF6",
              "width": 0.5
             },
             "pattern": {
              "fillmode": "overlay",
              "size": 10,
              "solidity": 0.2
             }
            },
            "type": "bar"
           }
          ],
          "barpolar": [
           {
            "marker": {
             "line": {
              "color": "#E5ECF6",
              "width": 0.5
             },
             "pattern": {
              "fillmode": "overlay",
              "size": 10,
              "solidity": 0.2
             }
            },
            "type": "barpolar"
           }
          ],
          "carpet": [
           {
            "aaxis": {
             "endlinecolor": "#2a3f5f",
             "gridcolor": "white",
             "linecolor": "white",
             "minorgridcolor": "white",
             "startlinecolor": "#2a3f5f"
            },
            "baxis": {
             "endlinecolor": "#2a3f5f",
             "gridcolor": "white",
             "linecolor": "white",
             "minorgridcolor": "white",
             "startlinecolor": "#2a3f5f"
            },
            "type": "carpet"
           }
          ],
          "choropleth": [
           {
            "colorbar": {
             "outlinewidth": 0,
             "ticks": ""
            },
            "type": "choropleth"
           }
          ],
          "contour": [
           {
            "colorbar": {
             "outlinewidth": 0,
             "ticks": ""
            },
            "colorscale": [
             [
              0,
              "#0d0887"
             ],
             [
              0.1111111111111111,
              "#46039f"
             ],
             [
              0.2222222222222222,
              "#7201a8"
             ],
             [
              0.3333333333333333,
              "#9c179e"
             ],
             [
              0.4444444444444444,
              "#bd3786"
             ],
             [
              0.5555555555555556,
              "#d8576b"
             ],
             [
              0.6666666666666666,
              "#ed7953"
             ],
             [
              0.7777777777777778,
              "#fb9f3a"
             ],
             [
              0.8888888888888888,
              "#fdca26"
             ],
             [
              1,
              "#f0f921"
             ]
            ],
            "type": "contour"
           }
          ],
          "contourcarpet": [
           {
            "colorbar": {
             "outlinewidth": 0,
             "ticks": ""
            },
            "type": "contourcarpet"
           }
          ],
          "heatmap": [
           {
            "colorbar": {
             "outlinewidth": 0,
             "ticks": ""
            },
            "colorscale": [
             [
              0,
              "#0d0887"
             ],
             [
              0.1111111111111111,
              "#46039f"
             ],
             [
              0.2222222222222222,
              "#7201a8"
             ],
             [
              0.3333333333333333,
              "#9c179e"
             ],
             [
              0.4444444444444444,
              "#bd3786"
             ],
             [
              0.5555555555555556,
              "#d8576b"
             ],
             [
              0.6666666666666666,
              "#ed7953"
             ],
             [
              0.7777777777777778,
              "#fb9f3a"
             ],
             [
              0.8888888888888888,
              "#fdca26"
             ],
             [
              1,
              "#f0f921"
             ]
            ],
            "type": "heatmap"
           }
          ],
          "heatmapgl": [
           {
            "colorbar": {
             "outlinewidth": 0,
             "ticks": ""
            },
            "colorscale": [
             [
              0,
              "#0d0887"
             ],
             [
              0.1111111111111111,
              "#46039f"
             ],
             [
              0.2222222222222222,
              "#7201a8"
             ],
             [
              0.3333333333333333,
              "#9c179e"
             ],
             [
              0.4444444444444444,
              "#bd3786"
             ],
             [
              0.5555555555555556,
              "#d8576b"
             ],
             [
              0.6666666666666666,
              "#ed7953"
             ],
             [
              0.7777777777777778,
              "#fb9f3a"
             ],
             [
              0.8888888888888888,
              "#fdca26"
             ],
             [
              1,
              "#f0f921"
             ]
            ],
            "type": "heatmapgl"
           }
          ],
          "histogram": [
           {
            "marker": {
             "pattern": {
              "fillmode": "overlay",
              "size": 10,
              "solidity": 0.2
             }
            },
            "type": "histogram"
           }
          ],
          "histogram2d": [
           {
            "colorbar": {
             "outlinewidth": 0,
             "ticks": ""
            },
            "colorscale": [
             [
              0,
              "#0d0887"
             ],
             [
              0.1111111111111111,
              "#46039f"
             ],
             [
              0.2222222222222222,
              "#7201a8"
             ],
             [
              0.3333333333333333,
              "#9c179e"
             ],
             [
              0.4444444444444444,
              "#bd3786"
             ],
             [
              0.5555555555555556,
              "#d8576b"
             ],
             [
              0.6666666666666666,
              "#ed7953"
             ],
             [
              0.7777777777777778,
              "#fb9f3a"
             ],
             [
              0.8888888888888888,
              "#fdca26"
             ],
             [
              1,
              "#f0f921"
             ]
            ],
            "type": "histogram2d"
           }
          ],
          "histogram2dcontour": [
           {
            "colorbar": {
             "outlinewidth": 0,
             "ticks": ""
            },
            "colorscale": [
             [
              0,
              "#0d0887"
             ],
             [
              0.1111111111111111,
              "#46039f"
             ],
             [
              0.2222222222222222,
              "#7201a8"
             ],
             [
              0.3333333333333333,
              "#9c179e"
             ],
             [
              0.4444444444444444,
              "#bd3786"
             ],
             [
              0.5555555555555556,
              "#d8576b"
             ],
             [
              0.6666666666666666,
              "#ed7953"
             ],
             [
              0.7777777777777778,
              "#fb9f3a"
             ],
             [
              0.8888888888888888,
              "#fdca26"
             ],
             [
              1,
              "#f0f921"
             ]
            ],
            "type": "histogram2dcontour"
           }
          ],
          "mesh3d": [
           {
            "colorbar": {
             "outlinewidth": 0,
             "ticks": ""
            },
            "type": "mesh3d"
           }
          ],
          "parcoords": [
           {
            "line": {
             "colorbar": {
              "outlinewidth": 0,
              "ticks": ""
             }
            },
            "type": "parcoords"
           }
          ],
          "pie": [
           {
            "automargin": true,
            "type": "pie"
           }
          ],
          "scatter": [
           {
            "marker": {
             "colorbar": {
              "outlinewidth": 0,
              "ticks": ""
             }
            },
            "type": "scatter"
           }
          ],
          "scatter3d": [
           {
            "line": {
             "colorbar": {
              "outlinewidth": 0,
              "ticks": ""
             }
            },
            "marker": {
             "colorbar": {
              "outlinewidth": 0,
              "ticks": ""
             }
            },
            "type": "scatter3d"
           }
          ],
          "scattercarpet": [
           {
            "marker": {
             "colorbar": {
              "outlinewidth": 0,
              "ticks": ""
             }
            },
            "type": "scattercarpet"
           }
          ],
          "scattergeo": [
           {
            "marker": {
             "colorbar": {
              "outlinewidth": 0,
              "ticks": ""
             }
            },
            "type": "scattergeo"
           }
          ],
          "scattergl": [
           {
            "marker": {
             "colorbar": {
              "outlinewidth": 0,
              "ticks": ""
             }
            },
            "type": "scattergl"
           }
          ],
          "scattermapbox": [
           {
            "marker": {
             "colorbar": {
              "outlinewidth": 0,
              "ticks": ""
             }
            },
            "type": "scattermapbox"
           }
          ],
          "scatterpolar": [
           {
            "marker": {
             "colorbar": {
              "outlinewidth": 0,
              "ticks": ""
             }
            },
            "type": "scatterpolar"
           }
          ],
          "scatterpolargl": [
           {
            "marker": {
             "colorbar": {
              "outlinewidth": 0,
              "ticks": ""
             }
            },
            "type": "scatterpolargl"
           }
          ],
          "scatterternary": [
           {
            "marker": {
             "colorbar": {
              "outlinewidth": 0,
              "ticks": ""
             }
            },
            "type": "scatterternary"
           }
          ],
          "surface": [
           {
            "colorbar": {
             "outlinewidth": 0,
             "ticks": ""
            },
            "colorscale": [
             [
              0,
              "#0d0887"
             ],
             [
              0.1111111111111111,
              "#46039f"
             ],
             [
              0.2222222222222222,
              "#7201a8"
             ],
             [
              0.3333333333333333,
              "#9c179e"
             ],
             [
              0.4444444444444444,
              "#bd3786"
             ],
             [
              0.5555555555555556,
              "#d8576b"
             ],
             [
              0.6666666666666666,
              "#ed7953"
             ],
             [
              0.7777777777777778,
              "#fb9f3a"
             ],
             [
              0.8888888888888888,
              "#fdca26"
             ],
             [
              1,
              "#f0f921"
             ]
            ],
            "type": "surface"
           }
          ],
          "table": [
           {
            "cells": {
             "fill": {
              "color": "#EBF0F8"
             },
             "line": {
              "color": "white"
             }
            },
            "header": {
             "fill": {
              "color": "#C8D4E3"
             },
             "line": {
              "color": "white"
             }
            },
            "type": "table"
           }
          ]
         },
         "layout": {
          "annotationdefaults": {
           "arrowcolor": "#2a3f5f",
           "arrowhead": 0,
           "arrowwidth": 1
          },
          "autotypenumbers": "strict",
          "coloraxis": {
           "colorbar": {
            "outlinewidth": 0,
            "ticks": ""
           }
          },
          "colorscale": {
           "diverging": [
            [
             0,
             "#8e0152"
            ],
            [
             0.1,
             "#c51b7d"
            ],
            [
             0.2,
             "#de77ae"
            ],
            [
             0.3,
             "#f1b6da"
            ],
            [
             0.4,
             "#fde0ef"
            ],
            [
             0.5,
             "#f7f7f7"
            ],
            [
             0.6,
             "#e6f5d0"
            ],
            [
             0.7,
             "#b8e186"
            ],
            [
             0.8,
             "#7fbc41"
            ],
            [
             0.9,
             "#4d9221"
            ],
            [
             1,
             "#276419"
            ]
           ],
           "sequential": [
            [
             0,
             "#0d0887"
            ],
            [
             0.1111111111111111,
             "#46039f"
            ],
            [
             0.2222222222222222,
             "#7201a8"
            ],
            [
             0.3333333333333333,
             "#9c179e"
            ],
            [
             0.4444444444444444,
             "#bd3786"
            ],
            [
             0.5555555555555556,
             "#d8576b"
            ],
            [
             0.6666666666666666,
             "#ed7953"
            ],
            [
             0.7777777777777778,
             "#fb9f3a"
            ],
            [
             0.8888888888888888,
             "#fdca26"
            ],
            [
             1,
             "#f0f921"
            ]
           ],
           "sequentialminus": [
            [
             0,
             "#0d0887"
            ],
            [
             0.1111111111111111,
             "#46039f"
            ],
            [
             0.2222222222222222,
             "#7201a8"
            ],
            [
             0.3333333333333333,
             "#9c179e"
            ],
            [
             0.4444444444444444,
             "#bd3786"
            ],
            [
             0.5555555555555556,
             "#d8576b"
            ],
            [
             0.6666666666666666,
             "#ed7953"
            ],
            [
             0.7777777777777778,
             "#fb9f3a"
            ],
            [
             0.8888888888888888,
             "#fdca26"
            ],
            [
             1,
             "#f0f921"
            ]
           ]
          },
          "colorway": [
           "#636efa",
           "#EF553B",
           "#00cc96",
           "#ab63fa",
           "#FFA15A",
           "#19d3f3",
           "#FF6692",
           "#B6E880",
           "#FF97FF",
           "#FECB52"
          ],
          "font": {
           "color": "#2a3f5f"
          },
          "geo": {
           "bgcolor": "white",
           "lakecolor": "white",
           "landcolor": "#E5ECF6",
           "showlakes": true,
           "showland": true,
           "subunitcolor": "white"
          },
          "hoverlabel": {
           "align": "left"
          },
          "hovermode": "closest",
          "mapbox": {
           "style": "light"
          },
          "paper_bgcolor": "white",
          "plot_bgcolor": "#E5ECF6",
          "polar": {
           "angularaxis": {
            "gridcolor": "white",
            "linecolor": "white",
            "ticks": ""
           },
           "bgcolor": "#E5ECF6",
           "radialaxis": {
            "gridcolor": "white",
            "linecolor": "white",
            "ticks": ""
           }
          },
          "scene": {
           "xaxis": {
            "backgroundcolor": "#E5ECF6",
            "gridcolor": "white",
            "gridwidth": 2,
            "linecolor": "white",
            "showbackground": true,
            "ticks": "",
            "zerolinecolor": "white"
           },
           "yaxis": {
            "backgroundcolor": "#E5ECF6",
            "gridcolor": "white",
            "gridwidth": 2,
            "linecolor": "white",
            "showbackground": true,
            "ticks": "",
            "zerolinecolor": "white"
           },
           "zaxis": {
            "backgroundcolor": "#E5ECF6",
            "gridcolor": "white",
            "gridwidth": 2,
            "linecolor": "white",
            "showbackground": true,
            "ticks": "",
            "zerolinecolor": "white"
           }
          },
          "shapedefaults": {
           "line": {
            "color": "#2a3f5f"
           }
          },
          "ternary": {
           "aaxis": {
            "gridcolor": "white",
            "linecolor": "white",
            "ticks": ""
           },
           "baxis": {
            "gridcolor": "white",
            "linecolor": "white",
            "ticks": ""
           },
           "bgcolor": "#E5ECF6",
           "caxis": {
            "gridcolor": "white",
            "linecolor": "white",
            "ticks": ""
           }
          },
          "title": {
           "x": 0.05
          },
          "xaxis": {
           "automargin": true,
           "gridcolor": "white",
           "linecolor": "white",
           "ticks": "",
           "title": {
            "standoff": 15
           },
           "zerolinecolor": "white",
           "zerolinewidth": 2
          },
          "yaxis": {
           "automargin": true,
           "gridcolor": "white",
           "linecolor": "white",
           "ticks": "",
           "title": {
            "standoff": 15
           },
           "zerolinecolor": "white",
           "zerolinewidth": 2
          }
         }
        },
        "xaxis": {
         "anchor": "y",
         "domain": [
          0,
          1
         ],
         "type": "linear"
        },
        "yaxis": {
         "anchor": "x",
         "domain": [
          0,
          1
         ],
         "title": {
          "text": "Task"
         }
        }
       }
      }
     },
     "metadata": {},
     "output_type": "display_data"
    }
   ],
   "source": [
    "import plotly.express as px\n",
    "import pandas as pd\n",
    "\n",
    "# plotting the working tasks\n",
    "liste=[]\n",
    "for i in range(number_of_ressources):\n",
    "    for j in range(number_of_tasks):\n",
    "        if round(x[(j,i)].x):\n",
    "            start=int(s[j].x)\n",
    "            end=(int(s[j].x)+tasks[L_tasks[j]].duration)\n",
    "            liste.append(dict(Task=L_ressources[i], Start=start, Finish=end, Resource=\"executing task\",J=\"tâche \"+str(j+1)))\n",
    "\n",
    "# plotting the ressource unavailabilities\n",
    "for r in range(number_of_ressources):\n",
    "    for R,id in runav_id:\n",
    "        if r == R:\n",
    "            start= ressources[L_ressources[runav_id[a-number_of_tasks][0]]].unavailabilities[runav_id[a-number_of_tasks][1]].unavailabilityStart\n",
    "            end= ressources[L_ressources[runav_id[a-number_of_tasks][0]]].unavailabilities[runav_id[a-number_of_tasks][1]].unavailabilityEnd\n",
    "            liste.append(dict(Task=L_ressources[r], Start=start, Finish=end, Resource=\"unavailable\",J=\"unavailability \"+str(id+1)))\n",
    "\n",
    "# plotting the transports\n",
    "for a in range(number_of_tasks):\n",
    "    for b in range(number_of_tasks):\n",
    "        for j in range(number_of_ressources):\n",
    "            if round(y[(j,a,b)].x):\n",
    "                start=(int(s[a].x)+tasks[L_tasks[a]].duration)\n",
    "                end=(start+distances[a][b]/vitesse)\n",
    "                liste.append(dict(Task=L_ressources[j], Start=start, Finish=end, Resource=\"moving\",J=\"trajet \"+str(a+1)+\"-\"+str(b+1)))\n",
    "\n",
    "# plotting the first transport\n",
    "for a in range(number_of_tasks):\n",
    "    for j in range(number_of_ressources):\n",
    "        if round(d[(j,a)].x):\n",
    "            start=(s[a].x-distances_m[j][a]/vitesse)\n",
    "            end=s[a].x\n",
    "            liste.append(dict(Task=L_ressources[j], Start=start, Finish=end, Resource=\"depart\",J=\"trajet maison -\"+str(a+1)))\n",
    "\n",
    "# plotting the last transport\n",
    "for a in range(number_of_tasks):\n",
    "    for j in range(number_of_ressources):\n",
    "        if round(f[(j,a)].x):\n",
    "            start=(s[a].x + tasks[L_tasks[i]].duration)\n",
    "            end=(start+ distances_m[j][a]/vitesse)\n",
    "            liste.append(dict(Task=L_ressources[j], Start=start, Finish=end, Resource=\"depart\",J=str(a+1)+\"- trajet maison\"))\n",
    "\n",
    "df = pd.DataFrame(liste)\n",
    "df['delta'] = df['Finish'] - df['Start']\n",
    "\n",
    "fig = px.timeline(df, x_start=\"Start\", x_end=\"Finish\", y=\"Task\",text=\"J\")\n",
    "\n",
    "fig.layout.xaxis.type = 'linear'\n",
    "fig.data[0].x = df.delta.tolist()\n",
    "fig.show()"
   ]
  },
  {
   "cell_type": "code",
   "execution_count": 194,
   "metadata": {},
   "outputs": [
    {
     "name": "stdout",
     "output_type": "stream",
     "text": [
      "Les techniciens ont bien les bonnes compétences et le bon niveau pour toutes les tâches exécutées\n"
     ]
    }
   ],
   "source": [
    "# check que les techniciens ont le bon niveau et les bonnes compétences pour les tâches exécutées\n",
    "a = True\n",
    "for i in range(number_of_ressources):\n",
    "    for j in range(number_of_tasks):\n",
    "        if round(x[(j,i)].x):\n",
    "            # check que le skill est bon\n",
    "            if ressources[L_ressources[i]].skill!=tasks[L_tasks[i]].skill:\n",
    "                print(\"fail r,t \",i,j)\n",
    "                a = False\n",
    "            # check que le level est bon\n",
    "            if ressources[L_ressources[i]].level < tasks[L_tasks[j]].level:\n",
    "                print(\"fail r,t \",i,j)\n",
    "                a = False\n",
    "if a :\n",
    "    print(\"Les techniciens ont bien les bonnes compétences et le bon niveau pour toutes les tâches exécutées\")\n",
    "            "
   ]
  },
  {
   "cell_type": "code",
   "execution_count": 195,
   "metadata": {},
   "outputs": [
    {
     "name": "stdout",
     "output_type": "stream",
     "text": [
      "Les contraintes d'ouverture et de fermeture des tâches sont respectées\n"
     ]
    }
   ],
   "source": [
    "# check que les contraintes d'ouverture et de fermeture des tâches sont respectées en début et fin de journée\n",
    "a = True\n",
    "for i in range(number_of_ressources):\n",
    "    for j in range(number_of_tasks):\n",
    "        if round(x[(j,i)].x):\n",
    "            if s[i].x < tasks[L_tasks[i]].openingTime:\n",
    "                print(\"fail r,t \",i,j)\n",
    "                a = False\n",
    "            if tasks[L_tasks[i]].closingTime < s[i].x + tasks[L_tasks[i]].duration :\n",
    "                print(\"fail r,t \",i,j)\n",
    "                a = False\n",
    "\n",
    "            \n",
    "            \n",
    "if a :\n",
    "    print(\"Les contraintes d'ouverture et de fermeture des tâches sont respectées\")"
   ]
  },
  {
   "cell_type": "code",
   "execution_count": 196,
   "metadata": {},
   "outputs": [
    {
     "name": "stdout",
     "output_type": "stream",
     "text": [
      "l'employé  Valentin  fait sa pause entre les tâches  3 et  10\n"
     ]
    }
   ],
   "source": [
    "# chaque employé possède une pause midi d’une durée d’1h à placer entre 12h et 14h, dans un lieu quelconque\n",
    "bool = False\n",
    "for i in range(number_of_ressources):\n",
    "    bool = False\n",
    "    for a in range(number_of_tasks+number_of_runavailabilities):\n",
    "        for b in range(number_of_tasks+number_of_runavailabilities):\n",
    "            if round(u[i].x)==0:\n",
    "                bool=True\n",
    "            if round(z[(i,a,b)].x) and round(u[i].x):\n",
    "                bool = True\n",
    "                print(\"l'employé \", L_ressources[i], \" fait sa pause entre les tâches \", a+1, \"et \", b+1)\n",
    "    if bool ==False:\n",
    "        print(\"l'employé \", L_ressources[i], \"n'a pas de pause !!\")"
   ]
  },
  {
   "cell_type": "code",
   "execution_count": 200,
   "metadata": {},
   "outputs": [
    {
     "name": "stdout",
     "output_type": "stream",
     "text": [
      "la personne  Valentin fait la tâche  8 alors qu'elle a une indisponibilité  1\n",
      "la personne  Valentin fait la tâche  10 alors qu'elle a une indisponibilité  1\n"
     ]
    }
   ],
   "source": [
    "# certains employés peuvent avoir des périodes d’indisponibilité dans la journée\n",
    " \n",
    "bool = True\n",
    "for r in range(number_of_ressources):\n",
    "    for R,id in runav_id:\n",
    "        if r == R:\n",
    "            for t in range(number_of_tasks):\n",
    "                if round(x[(t,r)].x):\n",
    "                    if s[t].x<= ressources[L_ressources[runav_id[a-number_of_tasks][0]]].unavailabilities[runav_id[a-number_of_tasks][1]].unavailabilityStart:\n",
    "                        if s[t].x+ tasks[L_tasks[j]].duration > ressources[L_ressources[runav_id[a-number_of_tasks][0]]].unavailabilities[runav_id[a-number_of_tasks][1]].unavailabilityStart:\n",
    "                            print(\"la personne \",  L_ressources[r], \"fait la tâche \", t+1, \"alors qu'elle a une indisponibilité \", id+1)\n",
    "                            bool = False\n",
    "                    elif s[t].x< ressources[L_ressources[runav_id[a-number_of_tasks][0]]].unavailabilities[runav_id[a-number_of_tasks][1]].unavailabilityEnd:\n",
    "                        print(\"la personne \",  L_ressources[r], \"fait la tâche \", t+1, \"alors qu'elle a une indisponibilité \", id+1)\n",
    "                        bool = False\n",
    "\n",
    "if bool :\n",
    "    print(\"les indispos de ressource sont respectées\")\n",
    "\n",
    "# x[(number_of_tasks+u,r)]\n",
    "# runav_id[u (general)]=(r,id (pour la personne))"
   ]
  },
  {
   "cell_type": "code",
   "execution_count": 198,
   "metadata": {},
   "outputs": [
    {
     "name": "stdout",
     "output_type": "stream",
     "text": [
      "les indispos de tâches sont respectées\n"
     ]
    }
   ],
   "source": [
    "# certaines tâches ne peuvent pas être faites à certains créneaux\n",
    " \n",
    "bool = True\n",
    "for t in range(number_of_tasks):\n",
    "    for T,id in tunav_id:\n",
    "        if t == T:\n",
    "            for r in range(number_of_ressources):\n",
    "                if round(x[(t,r)].x):\n",
    "                    if s[t].x<= tasks[L_tasks[tunav_id[t-number_of_tasks][0]]].unavailabilities[tunav_id[t-number_of_tasks][1]].unavailabilityStart:\n",
    "                        if s[t].x+ tasks[L_tasks[j]].duration > tasks[L_tasks[tunav_id[t-number_of_tasks][0]]].unavailabilities[tunav_id[t-number_of_tasks][1]].unavailabilityStart:\n",
    "                            print(\"la personne \", r+1, \"fait la tâche \", t+1, \" alors que cette tâche n'est pas dispo \", id+1)\n",
    "                            bool = False\n",
    "                    elif s[t].x< tasks[L_tasks[tunav_id[t-number_of_tasks][0]]].unavailabilities[tunav_id[t-number_of_tasks][1]].unavailabilityEnd:\n",
    "                        print(\"la tâche \", t+1, \" est faite sur un créneau d'indisponibilité \", id+1)\n",
    "                        bool = False\n",
    "\n",
    "if bool :\n",
    "    print(\"les indispos de tâches sont respectées\")\n",
    "\n",
    "# x[(number_of_tasks+u,r)]\n",
    "# runav_id[u (general)]=(r,id (pour la personne))"
   ]
  },
  {
   "cell_type": "code",
   "execution_count": 199,
   "metadata": {},
   "outputs": [
    {
     "data": {
      "text/plain": [
       "'\\n- l’objectif est de maximiser la durée totale des tâches réalisées à coût opérationnel minimum ;\\n- chaque employé part en début de journée et rentre en fin de journée en un lieu qui lui est propre ;\\n- chaque employé possède une pause midi d’une durée d’1h à placer entre 12h et 14h, dans un lieu\\nquelconque ;\\n- certains employés peuvent avoir des périodes d’indisponibilité dans la journée, associées à des lieux\\nprécisés. Les employés doivent se trouver en le lieu donné au début de la période et le quitter à la fin ;\\n- les lieux de certaines tâches peuvent être ouverts sur plusieurs créneaux disjoints dans la journée\\n'"
      ]
     },
     "execution_count": 199,
     "metadata": {},
     "output_type": "execute_result"
    }
   ],
   "source": [
    "\"\"\"\n",
    "- l’objectif est de maximiser la durée totale des tâches réalisées à coût opérationnel minimum ;\n",
    "- chaque employé part en début de journée et rentre en fin de journée en un lieu qui lui est propre ;\n",
    "- chaque employé possède une pause midi d’une durée d’1h à placer entre 12h et 14h, dans un lieu\n",
    "quelconque ;\n",
    "- certains employés peuvent avoir des périodes d’indisponibilité dans la journée, associées à des lieux\n",
    "précisés. Les employés doivent se trouver en le lieu donné au début de la période et le quitter à la fin ;\n",
    "- les lieux de certaines tâches peuvent être ouverts sur plusieurs créneaux disjoints dans la journée\n",
    "\"\"\""
   ]
  }
 ],
 "metadata": {
  "interpreter": {
   "hash": "4badd61a3eb0a98b49024dc08b6e569de2eac3230396ff1e691db44e3b600cf6"
  },
  "kernelspec": {
   "display_name": "Python 3.9.6 64-bit",
   "language": "python",
   "name": "python3"
  },
  "language_info": {
   "codemirror_mode": {
    "name": "ipython",
    "version": 3
   },
   "file_extension": ".py",
   "mimetype": "text/x-python",
   "name": "python",
   "nbconvert_exporter": "python",
   "pygments_lexer": "ipython3",
   "version": "3.9.6"
  },
  "orig_nbformat": 4
 },
 "nbformat": 4,
 "nbformat_minor": 2
}
