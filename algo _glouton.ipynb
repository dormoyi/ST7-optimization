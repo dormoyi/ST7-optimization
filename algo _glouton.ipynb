{
 "cells": [
  {
   "cell_type": "code",
   "execution_count": 30,
   "metadata": {},
   "outputs": [],
   "source": [
    "from read_input2 import read_input\n",
    "import math\n",
    "import numpy\n",
    "import time"
   ]
  },
  {
   "cell_type": "markdown",
   "metadata": {},
   "source": [
    "## Lecture des données"
   ]
  },
  {
   "cell_type": "code",
   "execution_count": 31,
   "metadata": {},
   "outputs": [],
   "source": [
    "start_time = time.time()\n",
    "\n",
    "ville=\"Bordeaux\" #  changer \n",
    "ressources,ressources_unavailabilities,tasks,tasks_unavailabilities = read_input(1,ville)\n",
    "# \"Bordeaux\", \"Finland\", \"GuineaGolf\", \"Italy\", \"Poland\""
   ]
  },
  {
   "cell_type": "code",
   "execution_count": 32,
   "metadata": {},
   "outputs": [
    {
     "name": "stdout",
     "output_type": "stream",
     "text": [
      "{0: (44.556549383420084, -0.31939224223757195), 1: (44.967500952177986, -0.6086852638150881), 2: (45.14421541464031, -0.7342570469020379), 3: (45.264808304867096, -0.7717887212411139), 4: (45.044422793402624, -0.6687606009488057), 5: (45.19957452440505, -0.7462077931750715), 6: (45.397697776585, -0.9668192708194538), 7: (45.023479086796385, -0.8072126299796225), 8: (45.29291368453335, -0.9365361007032235), 9: (45.08146166752168, -0.8062453230620741)}\n",
      "[[77.08814164242939, 26.425096734418076, 6.932258498761599, 13.231210250895991, 16.907606071243386, 8.018390527454564, 29.654865035592632, 14.251837565944708, 18.12703789005155, 7.855554978587318], [77.08814164242939, 26.425096734418076, 6.932258498761599, 13.231210250895991, 16.907606071243386, 8.018390527454564, 29.654865035592632, 14.251837565944708, 18.12703789005155, 7.855554978587318]]\n"
     ]
    }
   ],
   "source": [
    "def dist(lat1, long1, lat2, long2):\n",
    "    \"\"\"\n",
    "    fonction renvoyant la distance en kms entre deux points décrits par leur latitude et longitude\n",
    "    \"\"\"\n",
    "    if lat1==lat2 and long1==long2:\n",
    "        return 0\n",
    "    return(numpy.arccos(numpy.sin(2*numpy.pi/360*lat1)*numpy.sin(2*numpy.pi/360*lat2)+numpy.cos(2*numpy.pi/360*lat1)*numpy.cos(2*numpy.pi/360*lat2)*numpy.cos(2*numpy.pi/360*(long2-long1)))*6371)\n",
    "\n",
    "v=5/6\n",
    "\n",
    "L_ressources = [j for j in ressources] # tableau des objets ressources \n",
    "L_tasks = [i for i in tasks] # tableau des objets taches\n",
    "number_of_ressources = len(L_ressources)\n",
    "number_of_tasks = len(L_tasks)\n",
    "dict_pos = {task : (task.latitude, task.longitude) for task in tasks.values()}\n",
    "\n",
    "dict_pos = {task : (tasks[L_tasks[task]].latitude, tasks[L_tasks[task]].longitude) for task in range(number_of_tasks)}\n",
    "print(dict_pos)\n",
    "\n",
    "#distance[a][b] donne la distance de la tâche a vers la tâche b\n",
    "distances = [[dist(tasks[L_tasks[a]].latitude,tasks[L_tasks[a]].longitude, tasks[L_tasks[b]].latitude, tasks[L_tasks[b]].longitude) for b in range(number_of_tasks)] for a in range(number_of_tasks)]\n",
    "\n",
    "#distance_m[j][i] donne la distance de la maison de j la tâche i\n",
    "distances_m = [[dist(ressources[L_ressources[j]].latitude,ressources[L_ressources[j]].longitude, tasks[L_tasks[i]].latitude, tasks[L_tasks[i]].longitude) for i in range(number_of_tasks)] for j in range(number_of_ressources)]\n",
    "print(distances_m)"
   ]
  },
  {
   "cell_type": "markdown",
   "metadata": {},
   "source": [
    "## Création d'une solution initiale"
   ]
  },
  {
   "cell_type": "code",
   "execution_count": 33,
   "metadata": {},
   "outputs": [],
   "source": [
    "def generate_time(task_list):\n",
    "    \"\"\"\n",
    "    input : list of tasks indices\n",
    "    output : list of integers\n",
    "    generates a time table from a list of ordered tasks\n",
    "    \"\"\"\n",
    "    time=[]\n",
    "    time.append(tasks[L_tasks[task_list[0]]].openingTime)\n",
    "    for i in range(1,len(task_list)):\n",
    "        time.append(max((tasks[L_tasks[task_list[i]]].openingTime,time[-1]+distances[task_list[i]][task_list[i-1]]/v+tasks[L_tasks[task_list[i-1]]].duration)))\n",
    "    return(time)\n",
    "\n"
   ]
  },
  {
   "cell_type": "code",
   "execution_count": 34,
   "metadata": {},
   "outputs": [],
   "source": [
    "def employees_by_level():\n",
    "    \"\"\"\n",
    "    output : list of employees ids from level 1 to level 3\n",
    "    \"\"\"\n",
    "    employees=[]\n",
    "    for i in range(number_of_ressources):\n",
    "        if ressources[L_ressources[i]].level==1:\n",
    "            employees.append(i)\n",
    "    for i in range(number_of_ressources):\n",
    "        if ressources[L_ressources[i]].level==2:\n",
    "            employees.append(i)\n",
    "    for i in range(number_of_ressources):\n",
    "        if ressources[L_ressources[i]].level==3:\n",
    "            employees.append(i)\n",
    "    return(employees)\n"
   ]
  },
  {
   "cell_type": "code",
   "execution_count": 35,
   "metadata": {},
   "outputs": [],
   "source": [
    "def tasks_by_level():\n",
    "    \"\"\"\n",
    "    output : list of tasks ids from level 1 to level 3\n",
    "    \"\"\"\n",
    "    ordered_tasks=[]\n",
    "    for i in range(number_of_tasks):\n",
    "        if tasks[L_tasks[i]].level==1:\n",
    "            ordered_tasks.append(i)\n",
    "    for i in range(number_of_tasks):\n",
    "        if tasks[L_tasks[i]].level==2:\n",
    "            ordered_tasks.append(i)\n",
    "    for i in range(number_of_tasks):\n",
    "        if tasks[L_tasks[i]].level==3:\n",
    "            ordered_tasks.append(i)\n",
    "    return(ordered_tasks)"
   ]
  },
  {
   "cell_type": "code",
   "execution_count": 36,
   "metadata": {},
   "outputs": [],
   "source": [
    "def is_feasible(employee,task_list,hours_list):\n",
    "    \"\"\"\n",
    "    input : employee id, employee task list (by id), employee hours list (by id)\n",
    "    true if feasible\n",
    "    # add tasks and ressources unavailabilities\n",
    "    \"\"\"\n",
    "    if hours_list[-1]>ressources[L_ressources[employee]].workingEnd:\n",
    "        return False\n",
    "    return True"
   ]
  },
  {
   "cell_type": "code",
   "execution_count": 37,
   "metadata": {},
   "outputs": [
    {
     "name": "stdout",
     "output_type": "stream",
     "text": [
      "[]\n",
      "[]\n",
      "[0, 1, 3, 6, 7, 9]\n",
      "[480, 601.3031549906542, 703.843044594722, 789.320929159563, 901.459784695339, 969.1971645776409]\n"
     ]
    }
   ],
   "source": [
    "def initialize():\n",
    "    \"\"\"\n",
    "    input :\n",
    "    output :\n",
    "    # level up the initial task attribution (by distance)\n",
    "    # include worker skill\n",
    "    \"\"\"\n",
    "\n",
    "    ordered_tasks = tasks_by_level()\n",
    "    ordered_employees = employees_by_level()\n",
    "\n",
    "    for t in ordered_tasks:\n",
    "        unattributed_tasks=[]\n",
    "        unattributed = True\n",
    "        r=0\n",
    "        while unattributed and r<len(ordered_employees):\n",
    "            unattributed=False\n",
    "            if ressources[L_ressources[ordered_employees[r]]].level>=tasks[L_tasks[t]].level:\n",
    "                tasks_tmp = ressources[L_ressources[ordered_employees[r]]].tasks\n",
    "                tasks_tmp.append(t)\n",
    "                hours_tmp = generate_time(tasks_tmp)\n",
    "                if is_feasible(r,tasks_tmp,hours_tmp):\n",
    "                    ressources[L_ressources[ordered_employees[r]]].tasks = tasks_tmp\n",
    "                    ressources[L_ressources[ordered_employees[r]]].hours = hours_tmp\n",
    "                    unattributed=False\n",
    "                r+=1\n",
    "        if unattributed:\n",
    "            unattributed_tasks.append(t)\n",
    "    \n",
    "    for r in ordered_employees:\n",
    "        print(ressources[L_ressources[ordered_employees[r]]].tasks)\n",
    "        print(ressources[L_ressources[ordered_employees[r]]].hours)\n",
    "        assert len(ressources[L_ressources[ordered_employees[r]]].tasks) == len(ressources[L_ressources[ordered_employees[r]]].hours)\n",
    "\n",
    "initialize()\n",
    "        "
   ]
  },
  {
   "cell_type": "markdown",
   "metadata": {},
   "source": [
    "## Mutation"
   ]
  },
  {
   "cell_type": "code",
   "execution_count": null,
   "metadata": {},
   "outputs": [],
   "source": []
  },
  {
   "cell_type": "markdown",
   "metadata": {},
   "source": [
    "## Solution visualisation"
   ]
  },
  {
   "cell_type": "code",
   "execution_count": null,
   "metadata": {},
   "outputs": [],
   "source": [
    "import plotly.express as px\n",
    "import pandas as pd\n",
    "\n",
    "# plotting the working tasks\n",
    "liste=[]\n",
    "for i in range(number_of_ressources):\n",
    "    for j in range(number_of_tasks):\n",
    "        if round(x[(j,i)].x):\n",
    "            start=int(s[j].x)\n",
    "            end=(int(s[j].x)+tasks[L_tasks[j]].duration)\n",
    "            liste.append(dict(Task=L_ressources[i], Start=start, Finish=end, Resource=\"executing task\",J=\"tâche \"+str(j+1)))\n",
    "\n",
    "# plotting the ressource unavailabilities\n",
    "for r in range(number_of_ressources):\n",
    "    for R,id in runav_id:\n",
    "        if r == R:\n",
    "            start= ressources[L_ressources[runav_id[a-number_of_tasks][0]]].unavailabilities[runav_id[a-number_of_tasks][1]].unavailabilityStart\n",
    "            end= ressources[L_ressources[runav_id[a-number_of_tasks][0]]].unavailabilities[runav_id[a-number_of_tasks][1]].unavailabilityEnd\n",
    "            liste.append(dict(Task=L_ressources[r], Start=start, Finish=end, Resource=\"unavailable\",J=\"unavailability \"+str(id+1)))\n",
    "\n",
    "# plotting the transports\n",
    "for a in range(number_of_tasks):\n",
    "    for b in range(number_of_tasks):\n",
    "        for j in range(number_of_ressources):\n",
    "            if round(y[(j,a,b)].x):\n",
    "                start=(int(s[a].x)+tasks[L_tasks[a]].duration)\n",
    "                end=(start+distances[a][b]/vitesse)\n",
    "                liste.append(dict(Task=L_ressources[j], Start=start, Finish=end, Resource=\"moving\",J=\"trajet \"+str(a+1)+\"-\"+str(b+1)))\n",
    "\n",
    "# plotting the first transport\n",
    "for a in range(number_of_tasks):\n",
    "    for j in range(number_of_ressources):\n",
    "        if round(d[(j,a)].x):\n",
    "            start=(s[a].x-distances_m[j][a]/vitesse)\n",
    "            end=s[a].x\n",
    "            liste.append(dict(Task=L_ressources[j], Start=start, Finish=end, Resource=\"depart\",J=\"trajet maison -\"+str(a+1)))\n",
    "\n",
    "# plotting the last transport\n",
    "for a in range(number_of_tasks):\n",
    "    for j in range(number_of_ressources):\n",
    "        if round(f[(j,a)].x):\n",
    "            start=(s[a].x + tasks[L_tasks[i]].duration)\n",
    "            end=(start+ distances_m[j][a]/vitesse)\n",
    "            liste.append(dict(Task=L_ressources[j], Start=start, Finish=end, Resource=\"depart\",J=str(a+1)+\"- trajet maison\"))\n",
    "\n",
    "df = pd.DataFrame(liste)\n",
    "df['delta'] = df['Finish'] - df['Start']\n",
    "\n",
    "fig = px.timeline(df, x_start=\"Start\", x_end=\"Finish\", y=\"Task\",text=\"J\")\n",
    "\n",
    "fig.layout.xaxis.type = 'linear'\n",
    "fig.data[0].x = df.delta.tolist()\n",
    "fig.show()"
   ]
  }
 ],
 "metadata": {
  "interpreter": {
   "hash": "c5d3813475e35bce7f28a440cb0c4d0146532a804b8b1c58256ec136b6f467a4"
  },
  "kernelspec": {
   "display_name": "Python 3.8.12 ('gurobi')",
   "language": "python",
   "name": "python3"
  },
  "language_info": {
   "codemirror_mode": {
    "name": "ipython",
    "version": 3
   },
   "file_extension": ".py",
   "mimetype": "text/x-python",
   "name": "python",
   "nbconvert_exporter": "python",
   "pygments_lexer": "ipython3",
   "version": "3.8.12"
  },
  "orig_nbformat": 4
 },
 "nbformat": 4,
 "nbformat_minor": 2
}
