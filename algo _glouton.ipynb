{
 "cells": [
  {
   "cell_type": "code",
   "execution_count": 56,
   "metadata": {},
   "outputs": [],
   "source": [
    "from read_input2 import read_input\n",
    "import math\n",
    "import numpy\n",
    "import time"
   ]
  },
  {
   "cell_type": "markdown",
   "metadata": {},
   "source": [
    "## Lecture des données"
   ]
  },
  {
   "cell_type": "code",
   "execution_count": 57,
   "metadata": {},
   "outputs": [],
   "source": [
    "start_time = time.time()\n",
    "\n",
    "ville=\"Bordeaux\" #  changer \n",
    "ressources,ressources_unavailabilities,tasks,tasks_unavailabilities = read_input(1,ville)\n",
    "# \"Bordeaux\", \"Finland\", \"GuineaGolf\", \"Italy\", \"Poland\""
   ]
  },
  {
   "cell_type": "code",
   "execution_count": 58,
   "metadata": {},
   "outputs": [
    {
     "name": "stdout",
     "output_type": "stream",
     "text": [
      "{0: (44.556549383420084, -0.31939224223757195), 1: (44.967500952177986, -0.6086852638150881), 2: (45.14421541464031, -0.7342570469020379), 3: (45.264808304867096, -0.7717887212411139), 4: (45.044422793402624, -0.6687606009488057), 5: (45.19957452440505, -0.7462077931750715), 6: (45.397697776585, -0.9668192708194538), 7: (45.023479086796385, -0.8072126299796225), 8: (45.29291368453335, -0.9365361007032235), 9: (45.08146166752168, -0.8062453230620741)}\n",
      "[[77.08814164266323, 26.425096734759144, 6.932258500061711, 13.231210251577162, 16.907606071776442, 8.01839052857857, 29.654865035744592, 14.251837566260903, 18.12703789054875, 7.855554978587317], [77.08814164266323, 26.425096734759144, 6.932258500061711, 13.231210251577162, 16.907606071776442, 8.01839052857857, 29.654865035744592, 14.251837566260903, 18.12703789054875, 7.855554978587317]]\n"
     ]
    }
   ],
   "source": [
    "def dist(lat1, long1, lat2, long2):\n",
    "    \"\"\"\n",
    "    fonction renvoyant la distance en kms entre deux points décrits par leur latitude et longitude\n",
    "    \"\"\"\n",
    "    if lat1==lat2 and long1==long2:\n",
    "        return 0\n",
    "    return(numpy.arccos(numpy.sin(2*numpy.pi/360*lat1)*numpy.sin(2*numpy.pi/360*lat2)+numpy.cos(2*numpy.pi/360*lat1)*numpy.cos(2*numpy.pi/360*lat2)*numpy.cos(2*numpy.pi/360*(long2-long1)))*6371)\n",
    "\n",
    "v=5/6\n",
    "\n",
    "L_ressources = [j for j in ressources] # tableau des objets ressources \n",
    "L_tasks = [i for i in tasks] # tableau des objets taches\n",
    "number_of_ressources = len(L_ressources)\n",
    "number_of_tasks = len(L_tasks)\n",
    "dict_pos = {task : (task.latitude, task.longitude) for task in tasks.values()}\n",
    "\n",
    "dict_pos = {task : (tasks[L_tasks[task]].latitude, tasks[L_tasks[task]].longitude) for task in range(number_of_tasks)}\n",
    "print(dict_pos)\n",
    "\n",
    "#distance[a][b] donne la distance de la tâche a vers la tâche b\n",
    "distances = [[dist(tasks[L_tasks[a]].latitude,tasks[L_tasks[a]].longitude, tasks[L_tasks[b]].latitude, tasks[L_tasks[b]].longitude) for b in range(number_of_tasks)] for a in range(number_of_tasks)]\n",
    "\n",
    "#distance_m[j][i] donne la distance de la maison de j la tâche i\n",
    "distances_m = [[dist(ressources[L_ressources[j]].latitude,ressources[L_ressources[j]].longitude, tasks[L_tasks[i]].latitude, tasks[L_tasks[i]].longitude) for i in range(number_of_tasks)] for j in range(number_of_ressources)]\n",
    "print(distances_m)"
   ]
  },
  {
   "cell_type": "markdown",
   "metadata": {},
   "source": [
    "## Création d'une solution initiale"
   ]
  },
  {
   "cell_type": "code",
   "execution_count": 59,
   "metadata": {},
   "outputs": [],
   "source": [
    "def generate_time(task_list):\n",
    "    \"\"\"\n",
    "    input : list of tasks indices\n",
    "    output : list of integers\n",
    "    generates a time table from a list of ordered tasks\n",
    "    \"\"\"\n",
    "    time=[]\n",
    "    time.append(tasks[L_tasks[task_list[0]]].openingTime)\n",
    "    for i in range(1,len(task_list)):\n",
    "        time.append(max((tasks[L_tasks[task_list[i]]].openingTime,time[-1]+distances[task_list[i]][task_list[i-1]]/v+tasks[L_tasks[task_list[i-1]]].duration)))\n",
    "    return(time)\n",
    "\n"
   ]
  },
  {
   "cell_type": "code",
   "execution_count": 60,
   "metadata": {},
   "outputs": [],
   "source": [
    "def employees_by_level():\n",
    "    \"\"\"\n",
    "    output : list of employees ids from level 1 to level 3\n",
    "    \"\"\"\n",
    "    employees=[]\n",
    "    for i in range(number_of_ressources):\n",
    "        if ressources[L_ressources[i]].level==1:\n",
    "            employees.append(i)\n",
    "    for i in range(number_of_ressources):\n",
    "        if ressources[L_ressources[i]].level==2:\n",
    "            employees.append(i)\n",
    "    for i in range(number_of_ressources):\n",
    "        if ressources[L_ressources[i]].level==3:\n",
    "            employees.append(i)\n",
    "    return(employees)\n"
   ]
  },
  {
   "cell_type": "code",
   "execution_count": 61,
   "metadata": {},
   "outputs": [],
   "source": [
    "def tasks_by_level():\n",
    "    \"\"\"\n",
    "    output : list of tasks ids from level 1 to level 3\n",
    "    \"\"\"\n",
    "    ordered_tasks=[]\n",
    "    for i in range(number_of_tasks):\n",
    "        if tasks[L_tasks[i]].level==1:\n",
    "            ordered_tasks.append(i)\n",
    "    for i in range(number_of_tasks):\n",
    "        if tasks[L_tasks[i]].level==2:\n",
    "            ordered_tasks.append(i)\n",
    "    for i in range(number_of_tasks):\n",
    "        if tasks[L_tasks[i]].level==3:\n",
    "            ordered_tasks.append(i)\n",
    "    return(ordered_tasks)"
   ]
  },
  {
   "cell_type": "code",
   "execution_count": 62,
   "metadata": {},
   "outputs": [],
   "source": [
    "def is_feasible(employee,task_list,hours_list):\n",
    "    \"\"\"\n",
    "    input : employee id, employee task list (by id), employee hours list (by id)\n",
    "    true if feasible\n",
    "    # add tasks and ressources unavailabilities\n",
    "    \"\"\"\n",
    "    print(employee,task_list,hours_list)\n",
    "    if hours_list[-1]>ressources[L_ressources[employee]].workingEnd:\n",
    "        return False\n",
    "    return True"
   ]
  },
  {
   "cell_type": "code",
   "execution_count": 63,
   "metadata": {},
   "outputs": [
    {
     "name": "stdout",
     "output_type": "stream",
     "text": [
      "0 [0] [480]\n",
      "0 [0, 1] [480, 601.3031549908659]\n",
      "0 [0, 1, 3] [480, 601.3031549908659, 703.8430445953912]\n",
      "0 [0, 1, 3, 6] [480, 601.3031549908659, 703.8430445953912, 789.3209291604869]\n",
      "0 [0, 1, 3, 6, 7] [480, 601.3031549908659, 703.8430445953912, 789.3209291604869, 901.4597846962629]\n",
      "0 [0, 1, 3, 6, 7, 9] [480, 601.3031549908659, 703.8430445953912, 789.3209291604869, 901.4597846962629, 969.1971645802423]\n",
      "0 [0, 1, 3, 6, 7, 9, 2] [480, 601.3031549908659, 703.8430445953912, 789.3209291604869, 901.4597846962629, 969.1971645802423, 1039.9706466294792]\n",
      "0 [0, 1, 3, 6, 7, 9, 2, 4] [480, 601.3031549908659, 703.8430445953912, 789.3209291604869, 901.4597846962629, 969.1971645802423, 1039.9706466294792, 1114.64619055412]\n"
     ]
    },
    {
     "ename": "KeyboardInterrupt",
     "evalue": "",
     "output_type": "error",
     "traceback": [
      "\u001b[1;31m---------------------------------------------------------------------------\u001b[0m",
      "\u001b[1;31mKeyboardInterrupt\u001b[0m                         Traceback (most recent call last)",
      "\u001b[1;32m<ipython-input-63-2793b14ad151>\u001b[0m in \u001b[0;36m<module>\u001b[1;34m\u001b[0m\n\u001b[0;32m     34\u001b[0m \u001b[1;33m\u001b[0m\u001b[0m\n\u001b[0;32m     35\u001b[0m \u001b[1;33m\u001b[0m\u001b[0m\n\u001b[1;32m---> 36\u001b[1;33m \u001b[0minitialize\u001b[0m\u001b[1;33m(\u001b[0m\u001b[1;33m)\u001b[0m\u001b[1;33m\u001b[0m\u001b[1;33m\u001b[0m\u001b[0m\n\u001b[0m\u001b[0;32m     37\u001b[0m \u001b[1;33m\u001b[0m\u001b[0m\n",
      "\u001b[1;32m<ipython-input-63-2793b14ad151>\u001b[0m in \u001b[0;36minitialize\u001b[1;34m()\u001b[0m\n\u001b[0;32m     14\u001b[0m         \u001b[0mr\u001b[0m\u001b[1;33m=\u001b[0m\u001b[1;36m0\u001b[0m\u001b[1;33m\u001b[0m\u001b[1;33m\u001b[0m\u001b[0m\n\u001b[0;32m     15\u001b[0m         \u001b[1;32mwhile\u001b[0m \u001b[0munattributed\u001b[0m \u001b[1;32mand\u001b[0m \u001b[0mr\u001b[0m\u001b[1;33m<\u001b[0m\u001b[0mlen\u001b[0m\u001b[1;33m(\u001b[0m\u001b[0mordered_employees\u001b[0m\u001b[1;33m)\u001b[0m\u001b[1;33m:\u001b[0m\u001b[1;33m\u001b[0m\u001b[1;33m\u001b[0m\u001b[0m\n\u001b[1;32m---> 16\u001b[1;33m             \u001b[1;32mif\u001b[0m \u001b[0mressources\u001b[0m\u001b[1;33m[\u001b[0m\u001b[0mL_ressources\u001b[0m\u001b[1;33m[\u001b[0m\u001b[0mr\u001b[0m\u001b[1;33m]\u001b[0m\u001b[1;33m]\u001b[0m\u001b[1;33m.\u001b[0m\u001b[0mlevel\u001b[0m\u001b[1;33m>=\u001b[0m\u001b[0mtasks\u001b[0m\u001b[1;33m[\u001b[0m\u001b[0mL_tasks\u001b[0m\u001b[1;33m[\u001b[0m\u001b[0mt\u001b[0m\u001b[1;33m]\u001b[0m\u001b[1;33m]\u001b[0m\u001b[1;33m.\u001b[0m\u001b[0mlevel\u001b[0m\u001b[1;33m:\u001b[0m\u001b[1;33m\u001b[0m\u001b[1;33m\u001b[0m\u001b[0m\n\u001b[0m\u001b[0;32m     17\u001b[0m                 \u001b[0mtasks_tmp\u001b[0m \u001b[1;33m=\u001b[0m \u001b[0mressources\u001b[0m\u001b[1;33m[\u001b[0m\u001b[0mL_ressources\u001b[0m\u001b[1;33m[\u001b[0m\u001b[0mr\u001b[0m\u001b[1;33m]\u001b[0m\u001b[1;33m]\u001b[0m\u001b[1;33m.\u001b[0m\u001b[0mtasks\u001b[0m\u001b[1;33m\u001b[0m\u001b[1;33m\u001b[0m\u001b[0m\n\u001b[0;32m     18\u001b[0m                 \u001b[0mtasks_tmp\u001b[0m\u001b[1;33m.\u001b[0m\u001b[0mappend\u001b[0m\u001b[1;33m(\u001b[0m\u001b[0mt\u001b[0m\u001b[1;33m)\u001b[0m\u001b[1;33m\u001b[0m\u001b[1;33m\u001b[0m\u001b[0m\n",
      "\u001b[1;31mKeyboardInterrupt\u001b[0m: "
     ]
    }
   ],
   "source": [
    "def initialize():\n",
    "    \"\"\"\n",
    "    input :\n",
    "    output :\n",
    "    # level up the initial task attribution (by distance)\n",
    "    # include worker skill\n",
    "    \"\"\"\n",
    "\n",
    "    ordered_tasks = tasks_by_level()\n",
    "    ordered_employees = employees_by_level()\n",
    "\n",
    "    for t in ordered_tasks:\n",
    "        unattributed = True\n",
    "        r=0\n",
    "        while unattributed and r<len(ordered_employees):\n",
    "            unattributed=False\n",
    "            if ressources[L_ressources[r]].level>=tasks[L_tasks[t]].level:\n",
    "                tasks_tmp = ressources[L_ressources[r]].tasks\n",
    "                tasks_tmp.append(t)\n",
    "                hours_tmp = generate_time(tasks_tmp)\n",
    "                if is_feasible(r,tasks_tmp,hours_tmp):\n",
    "                    ressources[L_ressources[r]].tasks = tasks_tmp\n",
    "                    ressources[L_ressources[r]].hours = hours_tmp\n",
    "                    unattributed=False\n",
    "                r+=1\n",
    "\n",
    "\n",
    "\n",
    "\n",
    "        \n",
    "\n",
    "\n",
    "\n",
    "    \n",
    "\n",
    "\n",
    "initialize()\n",
    "        "
   ]
  },
  {
   "cell_type": "markdown",
   "metadata": {},
   "source": [
    "## Mutation"
   ]
  },
  {
   "cell_type": "code",
   "execution_count": null,
   "metadata": {},
   "outputs": [],
   "source": []
  }
 ],
 "metadata": {
  "interpreter": {
   "hash": "c5d3813475e35bce7f28a440cb0c4d0146532a804b8b1c58256ec136b6f467a4"
  },
  "kernelspec": {
   "display_name": "Python 3.8.12 ('gurobi')",
   "language": "python",
   "name": "python3"
  },
  "language_info": {
   "codemirror_mode": {
    "name": "ipython",
    "version": 3
   },
   "file_extension": ".py",
   "mimetype": "text/x-python",
   "name": "python",
   "nbconvert_exporter": "python",
   "pygments_lexer": "ipython3",
   "version": "3.8.3"
  },
  "orig_nbformat": 4
 },
 "nbformat": 4,
 "nbformat_minor": 2
}
