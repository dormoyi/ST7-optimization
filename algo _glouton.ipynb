{
 "cells": [
  {
   "cell_type": "code",
   "execution_count": 385,
   "metadata": {},
   "outputs": [],
   "source": [
    "from read_input2 import read_input\n",
    "import math\n",
    "import numpy\n",
    "import time\n",
    "import matplotlib.pyplot as plt\n",
    "import random\n"
   ]
  },
  {
   "cell_type": "markdown",
   "metadata": {},
   "source": [
    "## Lecture des données"
   ]
  },
  {
   "cell_type": "code",
   "execution_count": 386,
   "metadata": {},
   "outputs": [],
   "source": [
    "start_time = time.time()\n",
    "\n",
    "ville=\"GuineaGolf\" #  changer \n",
    "ressources,ressources_unavailabilities,tasks,tasks_unavailabilities = read_input(1,ville)\n",
    "# \"Bordeaux\", \"Finland\", \"GuineaGolf\", \"Italy\", \"Poland\""
   ]
  },
  {
   "cell_type": "code",
   "execution_count": 387,
   "metadata": {},
   "outputs": [],
   "source": [
    "def dist(lat1, long1, lat2, long2):\n",
    "    \"\"\"\n",
    "    fonction renvoyant la distance en kms entre deux points décrits par leur latitude et longitude\n",
    "    \"\"\"\n",
    "    if lat1==lat2 and long1==long2:\n",
    "        return 0\n",
    "    return(numpy.arccos(numpy.sin(2*numpy.pi/360*lat1)*numpy.sin(2*numpy.pi/360*lat2)+numpy.cos(2*numpy.pi/360*lat1)*numpy.cos(2*numpy.pi/360*lat2)*numpy.cos(2*numpy.pi/360*(long2-long1)))*6371)\n",
    "\n",
    "v=5/6\n",
    "\n",
    "L_ressources = [j for j in ressources] # tableau des objets ressources \n",
    "L_tasks = [i for i in tasks] # tableau des objets taches\n",
    "number_of_ressources = len(L_ressources)\n",
    "number_of_tasks = len(L_tasks)\n",
    "dict_pos = {task : (task.latitude, task.longitude) for task in tasks.values()}\n",
    "\n",
    "dict_pos = {task : (tasks[L_tasks[task]].latitude, tasks[L_tasks[task]].longitude) for task in range(number_of_tasks)}\n",
    "\n",
    "#distance[a][b] donne la distance de la tâche a vers la tâche b\n",
    "distances = [[dist(tasks[L_tasks[a]].latitude,tasks[L_tasks[a]].longitude, tasks[L_tasks[b]].latitude, tasks[L_tasks[b]].longitude) for b in range(number_of_tasks)] for a in range(number_of_tasks)]\n",
    "\n",
    "#distance_m[j][i] donne la distance de la maison de j la tâche i\n",
    "distances_m = [[dist(ressources[L_ressources[j]].latitude,ressources[L_ressources[j]].longitude, tasks[L_tasks[i]].latitude, tasks[L_tasks[i]].longitude) for i in range(number_of_tasks)] for j in range(number_of_ressources)]"
   ]
  },
  {
   "cell_type": "markdown",
   "metadata": {},
   "source": [
    "## Functions"
   ]
  },
  {
   "cell_type": "code",
   "execution_count": 388,
   "metadata": {},
   "outputs": [],
   "source": [
    "def generate_time(task_list,r):\n",
    "    \"\"\"\n",
    "    input : list of tasks indices\n",
    "    output : list of integers\n",
    "    generates a time table from a list of ordered tasks\n",
    "    # trajets debut et fin de journee\n",
    "    \"\"\"\n",
    "    time=[]\n",
    "    if len(task_list):\n",
    "        time.append(tasks[L_tasks[task_list[0]]].openingTime+distances_m[r][task_list[0]]/v)\n",
    "    for i in range(1,len(task_list)):\n",
    "        time.append(max((tasks[L_tasks[task_list[i]]].openingTime,time[-1]+distances[task_list[i]][task_list[i-1]]/v+tasks[L_tasks[task_list[i-1]]].duration)))\n",
    "    return(time)\n",
    "\n"
   ]
  },
  {
   "cell_type": "code",
   "execution_count": 389,
   "metadata": {},
   "outputs": [],
   "source": [
    "def employees_by_level():\n",
    "    \"\"\"\n",
    "    output : list of employees ids from level 1 to level 3\n",
    "    \"\"\"\n",
    "    employees=[]\n",
    "    for i in range(number_of_ressources):\n",
    "        if ressources[L_ressources[i]].level==1:\n",
    "            employees.append(i)\n",
    "    for i in range(number_of_ressources):\n",
    "        if ressources[L_ressources[i]].level==2:\n",
    "            employees.append(i)\n",
    "    for i in range(number_of_ressources):\n",
    "        if ressources[L_ressources[i]].level==3:\n",
    "            employees.append(i)\n",
    "    return(employees)\n"
   ]
  },
  {
   "cell_type": "code",
   "execution_count": 390,
   "metadata": {},
   "outputs": [],
   "source": [
    "def tasks_by_level():\n",
    "    \"\"\"\n",
    "    output : list of tasks ids from level 1 to level 3\n",
    "    \"\"\"\n",
    "    ordered_tasks=[]\n",
    "    for i in range(number_of_tasks):\n",
    "        if tasks[L_tasks[i]].level==1:\n",
    "            ordered_tasks.append(i)\n",
    "    for i in range(number_of_tasks):\n",
    "        if tasks[L_tasks[i]].level==2:\n",
    "            ordered_tasks.append(i)\n",
    "    for i in range(number_of_tasks):\n",
    "        if tasks[L_tasks[i]].level==3:\n",
    "            ordered_tasks.append(i)\n",
    "    return(ordered_tasks)"
   ]
  },
  {
   "cell_type": "code",
   "execution_count": 391,
   "metadata": {},
   "outputs": [],
   "source": [
    "def is_feasible(employee,task_list,hours_list):\n",
    "    \"\"\"\n",
    "    input : employee id, employee task list (by id), employee hours list (by id)\n",
    "    true if feasible\n",
    "    # add tasks and ressources unavailabilities\n",
    "    # trajets debut et fin de journee\n",
    "    \"\"\"\n",
    "    if hours_list[-1]+tasks[L_tasks[task_list[-1]]].duration>ressources[L_ressources[employee]].workingEnd:\n",
    "        return False\n",
    "    return True"
   ]
  },
  {
   "cell_type": "code",
   "execution_count": 392,
   "metadata": {},
   "outputs": [],
   "source": [
    "def initial_task_assignementv1(ordered_tasks, ordered_employees):\n",
    "    \"\"\"\n",
    "    output : list of the unattributed tasks (by id)\n",
    "    modifies the attributes tasks and hours of the ressources to assign tasks to the employees\n",
    "    # change the algo to avoid holes in the timetables\n",
    "    # intégrer les conditions de la v2\n",
    "    \"\"\"\n",
    "    unattributed_tasks=[]\n",
    "    for t in ordered_tasks:\n",
    "        unattributed = True\n",
    "        r=0\n",
    "        while unattributed and r<len(ordered_employees):\n",
    "            if ressources[L_ressources[ordered_employees[r]]].level>=tasks[L_tasks[t]].level:\n",
    "                tasks_tmp = ressources[L_ressources[ordered_employees[r]]].tasks.copy()\n",
    "                tasks_tmp.append(t)\n",
    "                hours_tmp = generate_time(tasks_tmp,ordered_employees[r])\n",
    "                if is_feasible(r,tasks_tmp,hours_tmp):\n",
    "                    ressources[L_ressources[ordered_employees[r]]].tasks = tasks_tmp\n",
    "                    ressources[L_ressources[ordered_employees[r]]].hours = hours_tmp\n",
    "                    unattributed=False\n",
    "            r+=1\n",
    "        if unattributed:\n",
    "            unattributed_tasks.append(t)\n",
    "    \n",
    "    return(unattributed_tasks)"
   ]
  },
  {
   "cell_type": "code",
   "execution_count": null,
   "metadata": {},
   "outputs": [],
   "source": [
    "def initial_task_assignementv2(ordered_tasks, ordered_employees):\n",
    "    \"\"\"\n",
    "    output : list of the unattributed tasks (by id)\n",
    "    modifies the attributes tasks and hours of the ressources to assign tasks to the employees\n",
    "    takes into account the distance from the task to the employee\n",
    "    # change the algo to avoid holes in the timetables\n",
    "    # intégrer les conditions de la v2\n",
    "    \"\"\"\n",
    "    unattributed_tasks=ordered_tasks\n",
    "    while no_change:\n",
    "    for t in ordered_tasks:\n",
    "        unattributed = True\n",
    "        r=0\n",
    "        while unattributed and r<len(ordered_employees):\n",
    "            if ressources[L_ressources[ordered_employees[r]]].level>=tasks[L_tasks[t]].level:\n",
    "                tasks_tmp = ressources[L_ressources[ordered_employees[r]]].tasks.copy()\n",
    "                tasks_tmp.append(t)\n",
    "                hours_tmp = generate_time(tasks_tmp,ordered_employees[r])\n",
    "                if is_feasible(r,tasks_tmp,hours_tmp):\n",
    "                    ressources[L_ressources[ordered_employees[r]]].tasks = tasks_tmp\n",
    "                    ressources[L_ressources[ordered_employees[r]]].hours = hours_tmp\n",
    "                    unattributed=False\n",
    "            r+=1\n",
    "        if unattributed:\n",
    "            unattributed_tasks.append(t)\n",
    "    \n",
    "    return(unattributed_tasks)"
   ]
  },
  {
   "cell_type": "code",
   "execution_count": 393,
   "metadata": {},
   "outputs": [],
   "source": [
    "def objective_function():\n",
    "    \"\"\"\n",
    "    returns the total objective function in time,\n",
    "    -> the objective is to minimize it,\n",
    "    \"\"\"\n",
    "    tot = 0\n",
    "    for r in range(number_of_ressources):\n",
    "        task_list = ressources[L_ressources[r]].tasks\n",
    "        if len(task_list):\n",
    "            tot+= (distances_m[r][task_list[0]]+distances_m[r][task_list[-1]])/v\n",
    "        for i in range(len(task_list[:-1])):\n",
    "            tot += distances[task_list[i]][task_list[i+1]]/v\n",
    "    return tot"
   ]
  },
  {
   "cell_type": "code",
   "execution_count": 394,
   "metadata": {},
   "outputs": [],
   "source": [
    "def mutation_intra(r, obj):\n",
    "    \"\"\"\n",
    "    input : r (employee id), obj (current state objective function)\n",
    "    output : returns true if a change has been made, and the updated objective function\n",
    "    modifies the attributes tasks and hours of an employee to optimize his distances performing an intra tasks flip\n",
    "    # faire plein de mutations au début et de moins en moins après\n",
    "    # insérer une tâche \n",
    "    \"\"\"\n",
    "    i = 0\n",
    "    obj_previous = obj\n",
    "    change=False\n",
    "    while i<1000: ### PARAMETER TO SET\n",
    "        tasks_list = ressources[L_ressources[r]].tasks.copy() + [\"start\", \"end\"]\n",
    "        ids = random.sample(tasks_list,2)\n",
    "        a,b = ids[0],ids[1]\n",
    "        if a==\"start\" and b!=\"end\":\n",
    "            tasks_list = ressources[L_ressources[r]].tasks.copy()\n",
    "            tasks_list.remove(b)\n",
    "            tasks_list = [b] + tasks_list\n",
    "        elif b==\"start\" and a!=\"end\":\n",
    "            tasks_list = ressources[L_ressources[r]].tasks.copy()\n",
    "            tasks_list.remove(a)\n",
    "            tasks_list = [a] + tasks_list\n",
    "        elif b!=\"start\" and a==\"end\":\n",
    "            tasks_list = ressources[L_ressources[r]].tasks.copy()\n",
    "            tasks_list.remove(b)\n",
    "            tasks_list = tasks_list + [b]\n",
    "        elif a!=\"start\" and b==\"end\":\n",
    "            tasks_list = ressources[L_ressources[r]].tasks.copy()\n",
    "            tasks_list.remove(a)\n",
    "            tasks_list = tasks_list + [a]\n",
    "        elif a!=\"start\" and a!=\"end\" and b!=\"start\" and b!=\"end\":\n",
    "            tasks_list = ressources[L_ressources[r]].tasks.copy()\n",
    "            ia,ib = tasks_list.index(a), tasks_list.index(b)\n",
    "            tasks_list[ia], tasks_list[ib]=b, a\n",
    "\n",
    "        if not(type(a)==str and type(b)==str):\n",
    "            hours_tmp = generate_time(tasks_list,r)\n",
    "            if is_feasible(r,tasks_list,hours_tmp):\n",
    "                    obj_new = objective_function()\n",
    "                    if obj_new < obj_previous:\n",
    "                        ressources[L_ressources[r]].tasks = tasks_list\n",
    "                        ressources[L_ressources[r]].hours = hours_tmp\n",
    "                        obj_previous=obj_new\n",
    "                        change = True\n",
    "        i+=1\n",
    "        \n",
    "    return(change,obj_previous)\n",
    "        \n"
   ]
  },
  {
   "cell_type": "code",
   "execution_count": 395,
   "metadata": {},
   "outputs": [],
   "source": [
    "def mutation_inter(r1,r2,obj):\n",
    "    \"\"\"\n",
    "    input : a,b, (employees ids), obj (current state objective function)\n",
    "    output : returns true if a change has been made, and the updated objective function\n",
    "    modifies the attributes tasks and hours of two employees to optimize distances\n",
    "    # echanger aussi avec la reserve \n",
    "    # pour chaque mutation inter faire aussi des mutations intra avant de checker la faisabilité\n",
    "    \"\"\"\n",
    "    i = 0\n",
    "    change = False\n",
    "    obj_previous = obj\n",
    "    while i<1000: ### PARAMETER TO SET\n",
    "        tasks_list1 = ressources[L_ressources[ordered_employees[r1]]].tasks.copy() + [\"nothing\"]\n",
    "        tasks_list2 = ressources[L_ressources[ordered_employees[r2]]].tasks.copy() + [\"nothing\"]\n",
    "        a = random.sample(tasks_list1,1)[0]\n",
    "        b = random.sample(tasks_list2,1)[0]\n",
    "        tasks_list1 = ressources[L_ressources[ordered_employees[r1]]].tasks.copy()\n",
    "        tasks_list2 = ressources[L_ressources[ordered_employees[r2]]].tasks.copy()\n",
    "        if b==\"nothing\" and a!=\"nothing\":\n",
    "            tasks_list1.remove(a)\n",
    "            tasks_list2.insert(a,random.randint(0,len(tasks_list2)))\n",
    "        elif a==\"nothing\" and b!=\"nothing\":\n",
    "            tasks_list2.remove(b)\n",
    "            tasks_list1.insert(b,random.randint(0,len(tasks_list1)))\n",
    "        elif a!=\"nothing\" and b!=\"nothing\":\n",
    "            tasks_list1.remove(a)\n",
    "            tasks_list2.remove(b)\n",
    "            tasks_list2.insert(a,random.randint(0,len(tasks_list2)-1))\n",
    "            tasks_list1.insert(b,random.randint(0,len(tasks_list1)-1))\n",
    "        \n",
    "        if not(type(a)==str and type(b)==str):\n",
    "            hours_tmp1 = generate_time(tasks_list1,r1)\n",
    "            hours_tmp2 = generate_time(tasks_list2,r2)\n",
    "            if is_feasible(r1,tasks_list1,hours_tmp1) and is_feasible(r2,tasks_list2,hours_tmp2):\n",
    "                    obj_new = objective_function()\n",
    "                    if obj_new < obj_previous:\n",
    "                        ressources[L_ressources[r1]].tasks = tasks_list1\n",
    "                        ressources[L_ressources[r1]].hours = hours_tmp1\n",
    "                        ressources[L_ressources[r2]].tasks = tasks_list2\n",
    "                        ressources[L_ressources[r2]].hours = hours_tmp2\n",
    "                        obj_previous=obj_new\n",
    "                        change = True\n",
    "\n",
    "        i+=1\n",
    "    return(change,obj_previous)"
   ]
  },
  {
   "cell_type": "code",
   "execution_count": 396,
   "metadata": {},
   "outputs": [],
   "source": [
    "def hacher():\n",
    "    s=\"\"\n",
    "    for r in range(number_of_ressources):\n",
    "        s+=str(ressources[L_ressources[r]].tasks)+\"\\n\"\n",
    "    return s"
   ]
  },
  {
   "cell_type": "markdown",
   "metadata": {},
   "source": [
    "## Main code"
   ]
  },
  {
   "cell_type": "code",
   "execution_count": 397,
   "metadata": {},
   "outputs": [
    {
     "name": "stdout",
     "output_type": "stream",
     "text": [
      "ATTRIBUTION INITIALE\n",
      "attribution initiale pour Tom\n",
      "[0, 1, 2, 3, 4, 5, 6, 7, 8]\n",
      "[498.5113687353148, 538.8866803360784, 604.7051327844479, 648.0506945085962, 714.2938407331566, 775.4711628598133, 820.2955116160109, 879.5353003761106, 971.5724212116149]\n",
      "ATTRIBUTION APRES MUTATION\n",
      "attribution post mutation pour Tom\n",
      "[0, 1, 2, 3, 4, 5, 6, 7, 8]\n",
      "[498.5113687353148, 538.8866803360784, 604.7051327844479, 648.0506945085962, 714.2938407331566, 775.4711628598133, 820.2955116160109, 879.5353003761106, 971.5724212116149]\n"
     ]
    }
   ],
   "source": [
    "ordered_tasks = tasks_by_level()\n",
    "ordered_employees = employees_by_level()\n",
    "\n",
    "# first task assignement generation\n",
    "unattributed_tasks = initial_task_assignementv1(ordered_tasks, ordered_employees)\n",
    "\n",
    "for r in range(number_of_ressources):\n",
    "    assert len(ressources[L_ressources[ordered_employees[r]]].tasks) == len(ressources[L_ressources[ordered_employees[r]]].hours)\n",
    "\n",
    "\n",
    "print(\"ATTRIBUTION INITIALE\")\n",
    "for r in range(number_of_ressources):\n",
    "    print(\"attribution initiale pour\", L_ressources[r])\n",
    "    print(ressources[L_ressources[ordered_employees[r]]].tasks)\n",
    "    print(ressources[L_ressources[ordered_employees[r]]].hours)\n",
    "\n",
    "# mutations\n",
    "start_time = time.time()\n",
    "last_change = 0\n",
    "time_exec = 0\n",
    "i = 0\n",
    "obj = objective_function()\n",
    "while last_change<10000 and time_exec < 60*30: ### PARAMETER TO SET\n",
    "\n",
    "    # mutation intra\n",
    "    for r in range(number_of_ressources):\n",
    "        change,obj=mutation_intra(r,obj)\n",
    "    \n",
    "    if change:\n",
    "        last_change = 0\n",
    "        print(\"has changed\")\n",
    "    else:\n",
    "        last_change+=1\n",
    "\n",
    "\n",
    "    # mutation inter\n",
    "    if number_of_ressources>1:\n",
    "        for r1 in range(number_of_ressources):\n",
    "            for r2 in range(number_of_ressources):\n",
    "                if r1 != r2:\n",
    "                    change,obj=mutation_inter(r1,r2,obj)\n",
    "    \n",
    "    if change:\n",
    "        last_change = 0\n",
    "        print(\"has changed\")\n",
    "    else:\n",
    "        last_change+=1\n",
    "\n",
    "    time_exec = time.time() - start_time\n",
    "    i+=1\n",
    "\n",
    "print(\"ATTRIBUTION APRES MUTATION\")\n",
    "for r in range(number_of_ressources):\n",
    "   print(\"attribution post mutation pour\", L_ressources[r])\n",
    "   print(ressources[L_ressources[ordered_employees[r]]].tasks)\n",
    "   print(ressources[L_ressources[ordered_employees[r]]].hours)\n"
   ]
  },
  {
   "cell_type": "markdown",
   "metadata": {},
   "source": [
    "## Checkers"
   ]
  },
  {
   "cell_type": "code",
   "execution_count": 398,
   "metadata": {},
   "outputs": [
    {
     "name": "stdout",
     "output_type": "stream",
     "text": [
      "Les techniciens ont bien les bonnes compétences et le bon niveau pour toutes les tâches exécutées\n"
     ]
    }
   ],
   "source": [
    "# check que les techniciens ont le bon niveau et les bonnes compétences pour les tâches exécutées\n",
    "a = True\n",
    "for i in range(number_of_ressources):\n",
    "    for j in range(number_of_tasks):\n",
    "        if j in ressources[L_ressources[i]].tasks :\n",
    "            # check que le skill est bon\n",
    "            if ressources[L_ressources[i]].skill!=tasks[L_tasks[i]].skill:\n",
    "                print(\"fail r,t \",i,j)\n",
    "                a = False\n",
    "            # check que le level est bon\n",
    "            if ressources[L_ressources[i]].level < tasks[L_tasks[j]].level:\n",
    "                print(\"fail r,t \",i,j)\n",
    "                a = False\n",
    "if a :\n",
    "    print(\"Les techniciens ont bien les bonnes compétences et le bon niveau pour toutes les tâches exécutées\")"
   ]
  },
  {
   "cell_type": "markdown",
   "metadata": {},
   "source": [
    "## Solution visualisation"
   ]
  },
  {
   "cell_type": "code",
   "execution_count": 399,
   "metadata": {},
   "outputs": [],
   "source": [
    "y = {(r,a,b) : 0 for r in range(number_of_ressources) for a in range(number_of_tasks) for b in range(number_of_tasks)}\n",
    "d = {(r,t) : 0 for r in range(number_of_ressources) for t in range(number_of_tasks)}\n",
    "f = {(r,t) : 0 for r in range(number_of_ressources) for t in range(number_of_tasks)}\n",
    "\n",
    "for r in range(number_of_ressources):\n",
    "    taches = ressources[L_ressources[r]].tasks\n",
    "    for i in range(len(taches)-1) :\n",
    "        y[(r,taches[i],taches[i+1])]=1\n",
    "    if len(taches)>0:\n",
    "        d[(r,taches[0])]=1\n",
    "        f[(r,taches[-1])]=1\n",
    "\n",
    "\n"
   ]
  },
  {
   "cell_type": "code",
   "execution_count": 400,
   "metadata": {},
   "outputs": [
    {
     "data": {
      "image/png": "[encoded data removed]",
      "text/plain": [
       "<Figure size 720x424.08 with 3 Axes>"
      ]
     },
     "metadata": {
      "needs_background": "light"
     },
     "output_type": "display_data"
    }
   ],
   "source": [
    "list_colors = ['darkgreen', 'blue', 'red', 'green', 'darkpurple', 'lightred', 'purple', 'pink', 'orange', 'darkblue', 'gray', 'darkred']\n",
    "list_light_colors = ['lightgreen','lightblue','pink','lightcyan','violet','lightyellow','lightblue','lightgreen','pink','lightcyan','violet','lightyellow','lightblue','lightgreen','pink','lightcyan','violet','lightyellow','lightblue','lightgreen','pink','lightcyan','violet','lightyellow']\n",
    "\n",
    "\n",
    "operators=[L_ressources[r] for r in range(number_of_ressources)]\n",
    "colors=list_colors[0:number_of_ressources]\n",
    "light_colors=list_light_colors[0:number_of_ressources]\n",
    "\n",
    "fig=plt.figure(figsize=(10,5.89))\n",
    "\n",
    "# Set Axis\n",
    "ax=fig.add_subplot(111)\n",
    "ax.yaxis.grid()\n",
    "ax.set_xlim(0.5,len(operators)+0.5)\n",
    "ax.set_ylim(18.5, 7.5)\n",
    "ax.set_xticks(range(1,len(operators)+1))\n",
    "ax.set_xticklabels(operators)\n",
    "ax.set_ylabel('Time')\n",
    "\n",
    "# Set Second Axis\n",
    "ax2=ax.twiny().twinx()\n",
    "ax2.invert_yaxis()\n",
    "ax2.set_xlim(ax.get_xlim())\n",
    "ax2.set_ylim(ax.get_ylim())\n",
    "ax2.set_xticks(ax.get_xticks())\n",
    "ax2.set_xticklabels(operators)\n",
    "ax2.set_ylabel('Time')\n",
    "\n",
    "for r in range(number_of_ressources):\n",
    "    color_r = colors[r]\n",
    "    light_color_r = light_colors[r]\n",
    "    operator_room = r+1-0.48\n",
    "    for a in range(number_of_tasks):\n",
    "        if a in ressources[L_ressources[r]].tasks :\n",
    "            event=\"T\"+str(a+1)\n",
    "            i = ressources[L_ressources[r]].tasks.index(a)\n",
    "            start = ( ressources[L_ressources[r]].hours[i] )/60\n",
    "            end = (ressources[L_ressources[r]].hours[i]+tasks[L_tasks[a]].duration)/60\n",
    "            plt.fill_between([operator_room, operator_room+0.96], [start, start], [end,end], color=color_r, edgecolor='k', linewidth=0.5)\n",
    "            #plt.text(operator_room+0.02, start+0.05 ,'{}:{}'.format(ressources[L_ressources[r]].hours[i]//60, ressources[L_ressources[r]].hours[i]%60), va='top', fontsize=6)\n",
    "            #plt.text(operator_room+0.02, end-0.05,'{}:{}'.format((start+tasks[L_tasks[a]].duration)//60, (start+tasks[L_tasks[a]].duration)%60), va='bottom', fontsize=6)\n",
    "            plt.text(operator_room+0.48, (start+end)*0.5, event, ha='center', va='center', fontsize=11)\n",
    "        for b in range(number_of_tasks):\n",
    "            if round(y[(r,a,b)]) == 1:\n",
    "                i = ressources[L_ressources[r]].tasks.index(a)\n",
    "                start = ( ressources[L_ressources[r]].hours[i] +tasks[L_tasks[b]].duration)/60\n",
    "                end = start+(distances[a][b]/v)/60\n",
    "                plt.fill_between([operator_room, operator_room+0.96], [start, start], [end,end], color=light_color_r, edgecolor='k', linewidth=0.5)\n",
    "        if round(d[(r,a)]) == 1:\n",
    "            i = ressources[L_ressources[r]].tasks.index(a)\n",
    "            start = (ressources[L_ressources[r]].hours[i]-distances_m[r][a]/v)/60\n",
    "            end = ressources[L_ressources[r]].hours[i]/60\n",
    "            plt.fill_between([operator_room, operator_room+0.96], [start, start], [end,end], color=light_color_r, edgecolor='k', linewidth=0.5)\n",
    "        if round(f[(r,a)]) == 1:\n",
    "            i = ressources[L_ressources[r]].tasks.index(a)\n",
    "            start=(ressources[L_ressources[r]].hours[i] + tasks[L_tasks[a]].duration)/60\n",
    "            end=start+(distances_m[r][a]/v)/60\n",
    "            plt.fill_between([operator_room, operator_room+0.96], [start, start], [end,end], color=light_color_r, edgecolor='k', linewidth=0.5)\n",
    "\n",
    "plt.savefig('timetable_{}_V3.png'.format(ville), dpi=500, transparent=False)\n",
    "plt.show()"
   ]
  },
  {
   "cell_type": "code",
   "execution_count": 401,
   "metadata": {},
   "outputs": [
    {
     "data": {
      "text/plain": [
       "[]"
      ]
     },
     "execution_count": 401,
     "metadata": {},
     "output_type": "execute_result"
    }
   ],
   "source": [
    "unattributed_tasks"
   ]
  },
  {
   "cell_type": "code",
   "execution_count": 402,
   "metadata": {},
   "outputs": [
    {
     "data": {
      "image/png": "[encoded data removed]",
      "text/plain": [
       "<Figure size 432x288 with 1 Axes>"
      ]
     },
     "metadata": {
      "needs_background": "light"
     },
     "output_type": "display_data"
    }
   ],
   "source": [
    "import matplotlib.pyplot as plt\n",
    "\n",
    "list_colors = ['b','g','r','c','darkviolet','y','b','g','r','c','darkviolet','y','b','g','r','c','darkviolet','y','b','g','r','c','darkviolet','y']\n",
    "list_light_colors = ['lightblue','lightgreen','pink','lightcyan','violet','lightyellow','lightblue','lightgreen','pink','lightcyan','violet','lightyellow','lightblue','lightgreen','pink','lightcyan','violet','lightyellow','lightblue','lightgreen','pink','lightcyan','violet','lightyellow']\n",
    "number_of_colors = len(list_colors)\n",
    "counter = 0\n",
    "done_tasks=list()\n",
    "for r in range(number_of_ressources):\n",
    "  color_r = list_colors[counter % number_of_colors]\n",
    "  plt.plot(ressources[L_ressources[r]].latitude,ressources[L_ressources[r]].longitude, color = color_r, marker=\"D\", label=L_ressources[r])\n",
    "  for a in range(number_of_tasks):\n",
    "    for b in range(number_of_tasks):\n",
    "      if round(y[(r,a,b)]) == 1:\n",
    "        plt.plot([tasks[L_tasks[a]].latitude, tasks[L_tasks[b]].latitude], [tasks[L_tasks[a]].longitude, tasks[L_tasks[b]].longitude], color = color_r)\n",
    "    if round(d[(r,a)]) == 1:\n",
    "      plt.plot([tasks[L_tasks[a]].latitude, ressources[L_ressources[r]].latitude], [tasks[L_tasks[a]].longitude, ressources[L_ressources[r]].longitude], color = 'gold')\n",
    "    if round(f[(r,a)]) == 1:\n",
    "      plt.plot([tasks[L_tasks[a]].latitude, ressources[L_ressources[r]].latitude], [tasks[L_tasks[a]].longitude, ressources[L_ressources[r]].longitude], color = color_r)\n",
    "    if a in ressources[L_ressources[r]].tasks :\n",
    "      done_tasks.append(a)\n",
    "      plt.plot(tasks[L_tasks[a]].latitude, tasks[L_tasks[a]].longitude, color = color_r, marker=\"o\")\n",
    "      plt.annotate(str(a+1), [tasks[L_tasks[a]].latitude+0.005, tasks[L_tasks[a]].longitude+0.005])\n",
    "  counter+=1\n",
    "\n",
    "for t in range(number_of_tasks):\n",
    "  if t not in done_tasks:\n",
    "    plt.plot(tasks[L_tasks[t]].latitude, tasks[L_tasks[t]].longitude, color = 'black', marker=\"o\")\n",
    "    plt.annotate(str(t+1), [tasks[L_tasks[t]].latitude+0.005, tasks[L_tasks[t]].longitude+0.005])\n",
    "plt.legend()\n",
    "plt.savefig('parcours_{}_V3.png'.format(ville), dpi=500, transparent=False)\n",
    "plt.show()"
   ]
  }
 ],
 "metadata": {
  "interpreter": {
   "hash": "c5d3813475e35bce7f28a440cb0c4d0146532a804b8b1c58256ec136b6f467a4"
  },
  "kernelspec": {
   "display_name": "Python 3.8.12 ('gurobi')",
   "language": "python",
   "name": "python3"
  },
  "language_info": {
   "codemirror_mode": {
    "name": "ipython",
    "version": 3
   },
   "file_extension": ".py",
   "mimetype": "text/x-python",
   "name": "python",
   "nbconvert_exporter": "python",
   "pygments_lexer": "ipython3",
   "version": "3.8.12"
  },
  "orig_nbformat": 4
 },
 "nbformat": 4,
 "nbformat_minor": 2
}
