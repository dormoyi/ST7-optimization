{
 "cells": [
  {
   "cell_type": "code",
   "execution_count": 1,
   "metadata": {},
   "outputs": [],
   "source": [
    "from read_input2 import read_input\n",
    "import math\n",
    "import numpy\n",
    "import time"
   ]
  },
  {
   "cell_type": "markdown",
   "metadata": {},
   "source": [
    "## Lecture des données"
   ]
  },
  {
   "cell_type": "code",
   "execution_count": 2,
   "metadata": {},
   "outputs": [],
   "source": [
    "start_time = time.time()\n",
    "\n",
    "ville=\"Bordeaux\" #  changer \n",
    "ressources,ressources_unavailabilities,tasks,tasks_unavailabilities = read_input(1,ville)\n",
    "# \"Bordeaux\", \"Finland\", \"GuineaGolf\", \"Italy\", \"Poland\""
   ]
  },
  {
   "cell_type": "code",
   "execution_count": 3,
   "metadata": {},
   "outputs": [
    {
     "name": "stdout",
     "output_type": "stream",
     "text": [
      "{0: (44.556549383420084, -0.31939224223757195), 1: (44.967500952177986, -0.6086852638150881), 2: (45.14421541464031, -0.7342570469020379), 3: (45.264808304867096, -0.7717887212411139), 4: (45.044422793402624, -0.6687606009488057), 5: (45.19957452440505, -0.7462077931750715), 6: (45.397697776585, -0.9668192708194538), 7: (45.023479086796385, -0.8072126299796225), 8: (45.29291368453335, -0.9365361007032235), 9: (45.08146166752168, -0.8062453230620741)}\n",
      "[[77.08814164242939, 26.425096734418076, 6.932258498761599, 13.231210250895991, 16.907606071243386, 8.018390527454564, 29.654865035592632, 14.251837565944708, 18.12703789005155, 7.855554978587318], [77.08814164242939, 26.425096734418076, 6.932258498761599, 13.231210250895991, 16.907606071243386, 8.018390527454564, 29.654865035592632, 14.251837565944708, 18.12703789005155, 7.855554978587318]]\n"
     ]
    }
   ],
   "source": [
    "def dist(lat1, long1, lat2, long2):\n",
    "    \"\"\"\n",
    "    fonction renvoyant la distance en kms entre deux points décrits par leur latitude et longitude\n",
    "    \"\"\"\n",
    "    if lat1==lat2 and long1==long2:\n",
    "        return 0\n",
    "    return(numpy.arccos(numpy.sin(2*numpy.pi/360*lat1)*numpy.sin(2*numpy.pi/360*lat2)+numpy.cos(2*numpy.pi/360*lat1)*numpy.cos(2*numpy.pi/360*lat2)*numpy.cos(2*numpy.pi/360*(long2-long1)))*6371)\n",
    "\n",
    "v=5/6\n",
    "\n",
    "L_ressources = [j for j in ressources] # tableau des objets ressources \n",
    "L_tasks = [i for i in tasks] # tableau des objets taches\n",
    "number_of_ressources = len(L_ressources)\n",
    "number_of_tasks = len(L_tasks)\n",
    "dict_pos = {task : (task.latitude, task.longitude) for task in tasks.values()}\n",
    "\n",
    "dict_pos = {task : (tasks[L_tasks[task]].latitude, tasks[L_tasks[task]].longitude) for task in range(number_of_tasks)}\n",
    "print(dict_pos)\n",
    "\n",
    "#distance[a][b] donne la distance de la tâche a vers la tâche b\n",
    "distances = [[dist(tasks[L_tasks[a]].latitude,tasks[L_tasks[a]].longitude, tasks[L_tasks[b]].latitude, tasks[L_tasks[b]].longitude) for b in range(number_of_tasks)] for a in range(number_of_tasks)]\n",
    "\n",
    "#distance_m[j][i] donne la distance de la maison de j la tâche i\n",
    "distances_m = [[dist(ressources[L_ressources[j]].latitude,ressources[L_ressources[j]].longitude, tasks[L_tasks[i]].latitude, tasks[L_tasks[i]].longitude) for i in range(number_of_tasks)] for j in range(number_of_ressources)]\n",
    "print(distances_m)"
   ]
  },
  {
   "cell_type": "markdown",
   "metadata": {},
   "source": [
    "## Structure de données"
   ]
  },
  {
   "cell_type": "code",
   "execution_count": 4,
   "metadata": {},
   "outputs": [
    {
     "name": "stdout",
     "output_type": "stream",
     "text": [
      "Valentin\n"
     ]
    },
    {
     "ename": "AttributeError",
     "evalue": "'Ressource' object has no attribute 'tasks'",
     "output_type": "error",
     "traceback": [
      "\u001b[0;31m---------------------------------------------------------------------------\u001b[0m",
      "\u001b[0;31mAttributeError\u001b[0m                            Traceback (most recent call last)",
      "\u001b[1;32m/home/nyss/Documents/projets_git/ST7-optimization/algo _glouton.ipynb Cell 6'\u001b[0m in \u001b[0;36m<module>\u001b[0;34m\u001b[0m\n\u001b[1;32m      <a href='vscode-notebook-cell:/home/nyss/Documents/projets_git/ST7-optimization/algo%20_glouton.ipynb#ch0000005?line=5'>6</a>\u001b[0m         \u001b[39mprint\u001b[39m(L_ressources[i])\n\u001b[1;32m      <a href='vscode-notebook-cell:/home/nyss/Documents/projets_git/ST7-optimization/algo%20_glouton.ipynb#ch0000005?line=6'>7</a>\u001b[0m         \u001b[39mprint\u001b[39m(ressources[L_ressources[i]]\u001b[39m.\u001b[39mtasks)\n\u001b[0;32m----> <a href='vscode-notebook-cell:/home/nyss/Documents/projets_git/ST7-optimization/algo%20_glouton.ipynb#ch0000005?line=8'>9</a>\u001b[0m initialize_structure()\n",
      "\u001b[1;32m/home/nyss/Documents/projets_git/ST7-optimization/algo _glouton.ipynb Cell 6'\u001b[0m in \u001b[0;36minitialize_structure\u001b[0;34m()\u001b[0m\n\u001b[1;32m      <a href='vscode-notebook-cell:/home/nyss/Documents/projets_git/ST7-optimization/algo%20_glouton.ipynb#ch0000005?line=4'>5</a>\u001b[0m \u001b[39mfor\u001b[39;00m i \u001b[39min\u001b[39;00m \u001b[39mrange\u001b[39m(number_of_ressources):\n\u001b[1;32m      <a href='vscode-notebook-cell:/home/nyss/Documents/projets_git/ST7-optimization/algo%20_glouton.ipynb#ch0000005?line=5'>6</a>\u001b[0m     \u001b[39mprint\u001b[39m(L_ressources[i])\n\u001b[0;32m----> <a href='vscode-notebook-cell:/home/nyss/Documents/projets_git/ST7-optimization/algo%20_glouton.ipynb#ch0000005?line=6'>7</a>\u001b[0m     \u001b[39mprint\u001b[39m(ressources[L_ressources[i]]\u001b[39m.\u001b[39;49mtasks)\n",
      "\u001b[0;31mAttributeError\u001b[0m: 'Ressource' object has no attribute 'tasks'"
     ]
    }
   ],
   "source": [
    "def initialize_structure():\n",
    "    \"\"\"\n",
    "    structure : tasks, hours\n",
    "    \"\"\"\n",
    "    for i in range(number_of_ressources):\n",
    "        print(L_ressources[i])\n",
    "        print(ressources[L_ressources[i]].tasks)\n",
    "\n",
    "initialize_structure()\n",
    "        "
   ]
  },
  {
   "cell_type": "code",
   "execution_count": null,
   "metadata": {},
   "outputs": [],
   "source": [
    "def initialize():\n",
    "    \"\"\"\n",
    "        \n",
    "    \"\"\"\n",
    "    pass"
   ]
  },
  {
   "cell_type": "markdown",
   "metadata": {},
   "source": [
    "## Création d'une solution initiale"
   ]
  },
  {
   "cell_type": "code",
   "execution_count": null,
   "metadata": {},
   "outputs": [],
   "source": []
  },
  {
   "cell_type": "markdown",
   "metadata": {},
   "source": [
    "## Mutation"
   ]
  },
  {
   "cell_type": "code",
   "execution_count": null,
   "metadata": {},
   "outputs": [],
   "source": [
    "def is_feasible():\n",
    "    \"\"\"\n",
    "    \"\"\"\n",
    "    pass"
   ]
  }
 ],
 "metadata": {
  "interpreter": {
   "hash": "c5d3813475e35bce7f28a440cb0c4d0146532a804b8b1c58256ec136b6f467a4"
  },
  "kernelspec": {
   "display_name": "Python 3.8.12 ('gurobi')",
   "language": "python",
   "name": "python3"
  },
  "language_info": {
   "codemirror_mode": {
    "name": "ipython",
    "version": 3
   },
   "file_extension": ".py",
   "mimetype": "text/x-python",
   "name": "python",
   "nbconvert_exporter": "python",
   "pygments_lexer": "ipython3",
   "version": "3.8.12"
  },
  "orig_nbformat": 4
 },
 "nbformat": 4,
 "nbformat_minor": 2
}
