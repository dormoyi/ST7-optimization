{
 "cells": [
  {
   "cell_type": "markdown",
   "metadata": {},
   "source": [
    "# Partie 1"
   ]
  },
  {
   "cell_type": "markdown",
   "metadata": {},
   "source": [
    "## Modules"
   ]
  },
  {
   "cell_type": "code",
   "execution_count": 14,
   "metadata": {},
   "outputs": [],
   "source": [
    "import openpyxl\n",
    "from classes import Ressource,RessourceUnavailability,Task,TaskUnavailability\n",
    "from read_input import read_ressources,read_ressources_unavailabilities,read_tasks,read_tasks_unavailabilities\n",
    "\n",
    "from gurobipy import *\n",
    "import math"
   ]
  },
  {
   "cell_type": "markdown",
   "metadata": {},
   "source": [
    "## Lecture des données"
   ]
  },
  {
   "cell_type": "code",
   "execution_count": 15,
   "metadata": {},
   "outputs": [
    {
     "name": "stdout",
     "output_type": "stream",
     "text": [
      "44.556549383420084 -0.31939224223757195 60 Oenology 1 8:00am 6:00pm\n",
      "44.967500952177986 -0.6086852638150881 60 Oenology 1 8:00am 6:00pm\n",
      "45.14421541464031 -0.7342570469020379 60 Oenology 2 8:00am 6:00pm\n",
      "45.264808304867096 -0.7717887212411139 60 Oenology 1 8:00am 6:00pm\n",
      "45.044422793402624 -0.6687606009488057 60 Oenology 2 8:00am 6:00pm\n",
      "45.19957452440505 -0.7462077931750715 60 Oenology 2 8:00am 6:00pm\n",
      "45.397697776585 -0.9668192708194538 60 Oenology 1 8:00am 6:00pm\n",
      "45.023479086796385 -0.8072126299796225 60 Oenology 1 8:00am 6:00pm\n",
      "45.29291368453335 -0.9365361007032235 60 Oenology 2 8:00am 6:00pm\n",
      "45.08146166752168 -0.8062453230620741 60 Oenology 1 8:00am 6:00pm\n"
     ]
    }
   ],
   "source": [
    "ressources = read_ressources(1)\n",
    "ressources_unavailabilities = read_ressources_unavailabilities(1)\n",
    "tasks = read_tasks(1)\n",
    "tasks_unavailabilities = read_tasks_unavailabilities(1)"
   ]
  },
  {
   "cell_type": "markdown",
   "metadata": {},
   "source": [
    "## Structure de données"
   ]
  },
  {
   "cell_type": "code",
   "execution_count": 16,
   "metadata": {},
   "outputs": [
    {
     "name": "stdout",
     "output_type": "stream",
     "text": [
      "{0: (44.556549383420084, -0.31939224223757195), 1: (44.967500952177986, -0.6086852638150881), 2: (45.14421541464031, -0.7342570469020379), 3: (45.264808304867096, -0.7717887212411139), 4: (45.044422793402624, -0.6687606009488057), 5: (45.19957452440505, -0.7462077931750715), 6: (45.397697776585, -0.9668192708194538), 7: (45.023479086796385, -0.8072126299796225), 8: (45.29291368453335, -0.9365361007032235), 9: (45.08146166752168, -0.8062453230620741)}\n"
     ]
    }
   ],
   "source": [
    "def dist(lat1, long1, lat2, long2):\n",
    "    return(math.sqrt((lat1-lat2)**2+(long1-long2)**2))\n",
    "\n",
    "L_ressources = [j for j in ressources]\n",
    "L_tasks = [i for i in tasks]\n",
    "number_of_ressources = len(L_ressources)\n",
    "number_of_tasks = len(L_tasks)\n",
    "dict_pos = {task : (float(task.latitude), float(task.longitude)) for task in tasks.values()}\n",
    "\n",
    "dict_pos = {task : (float(tasks[L_tasks[task]].latitude), float(tasks[L_tasks[task]].longitude)) for task in range(number_of_tasks)}\n",
    "#graph = {(task1,task2): dist(float(tasks[L_tasks[task1].latitude]), float(tasks[L_tasks[task1].longitude]), float(tasks[L_tasks[task2].latitude]), float(tasks[L_tasks[task2].longitude])) for task1 in range(number_of_tasks) for task2 in range(number_of_tasks)}\n",
    "print(dict_pos)\n",
    "\n",
    "# creer locations\n",
    "# creer dists\n",
    "\n",
    "# https://gurobi.github.io/modeling-examples/technician_routing_scheduling/technician_routing_scheduling.html\n"
   ]
  },
  {
   "cell_type": "markdown",
   "metadata": {},
   "source": [
    "## Modèle"
   ]
  },
  {
   "cell_type": "code",
   "execution_count": 28,
   "metadata": {},
   "outputs": [],
   "source": [
    "### Create Model\n",
    "m = Model(\"trs0\")\n",
    "\n",
    "### Decision variables\n",
    "# Task-ressource assignment\n",
    "x = {(t,r) : m.addVar(vtype = GRB.BINARY, name = f'x_{t}_{r}') for r in range(number_of_ressources) for t in range(number_of_tasks)}\n",
    "\n",
    "# Time-task assignment\n",
    "s = {t : m.addVar(vtype = GRB.INTEGER, lb = 0, ub = 1440, name = f's_{t}') for t in range(number_of_tasks)}\n",
    "# Les s_t valent entre 0 et 1440 car les contraintes de temps (entre 8h et 18h) sont contenues dans les jeux de données.\n",
    "\n",
    "# Est-ce que le travailleur se déplace entre les points a et b ?\n",
    "y = {(r,a,b) : m.addVar(vtype = GRB.BINARY, name = f'y_{r}_{a}_{b}') for r in range(number_of_ressources) for a in range(number_of_tasks) for b in range(number_of_tasks)}# if a != b}\n",
    "# Technician cannot leave or return to a depot that is not its base\n",
    "\n",
    "#variables de linéarisation\n",
    "H = {(r,a,b) : m.addVar(vtype = GRB.BINARY,lb = 0, ub = 1440, name = f'h_{r}_{a}_{b}') for r in range(number_of_ressources) for a in range(number_of_tasks) for b in range(number_of_tasks) if a != b}\n",
    "P = {(r,a,b) : m.addVar(vtype = GRB.BINARY,lb = 0, ub = 1440, name = f'p_{r}_{a}_{b}') for r in range(number_of_ressources) for a in range(number_of_tasks) for b in range(number_of_tasks) if a != b}\n",
    "\n",
    "\n",
    "\n",
    "nbRpT = [LinExpr() for t in range(number_of_tasks)]\n",
    "for t in range(number_of_tasks):\n",
    "  for r in  range(number_of_ressources):\n",
    "    nbRpT[t]+=x[(t,r)]\n",
    "\n",
    "# One ressource per task\n",
    "C1 = [m.addConstr(nbRpT[t] <= 1) for t in range(number_of_tasks)]\n",
    "\n",
    "## Works only if all tasks are feasable\n",
    "# nbRpTq = {t: LinExpr() for t in range(number_of_tasks)}\n",
    "# for t in range(number_of_tasks):\n",
    "#   for r in  range(number_of_ressources):\n",
    "#     if ressources[r].skill==tasks[t].skill and ressources[r].level>=tasks[t].level:\n",
    "#       nbRpTq[t]+=x[(t,r)]\n",
    "\n",
    "# # Qualified technicians\n",
    "# C2 = [m.addConstr(nbRpTq[t] >= 1) for t in range(number_of_tasks)]\n",
    "\n",
    "nbRpTs = [LinExpr() for t in range(number_of_tasks)]\n",
    "for t in range(number_of_tasks):\n",
    "  for r in  range(number_of_ressources):\n",
    "    nbRpTs[t]+=x[(t,r)]*(ressources[L_ressources[r]].skill!=tasks[L_tasks[r]].skill)\n",
    "\n",
    "# Skilled technicians\n",
    "C2 = [m.addConstr(nbRpTs[t] == 0) for t in range(number_of_tasks)]\n",
    "\n",
    "nbRpTl =[ LinExpr() for t in range(number_of_tasks)]\n",
    "for t in range(number_of_tasks):\n",
    "  for r in  range(number_of_ressources):\n",
    "    nbRpTl[t]+=x[(t,r)]*(ressources[L_ressources[r]].level-tasks[L_tasks[r]].level)\n",
    "\n",
    "# Leveled technicians\n",
    "C3 = [m.addConstr(nbRpTl[t] >= 0) for t in range(number_of_tasks)]\n",
    "\n",
    "\n"
   ]
  },
  {
   "cell_type": "code",
   "execution_count": 29,
   "metadata": {},
   "outputs": [],
   "source": [
    "# si une personne est affectée, elle arrive jusqu'à la tâche\n",
    "C4 = {(i,j) : m.addConstr(quicksum(y[(j,a,i)] for a in range(number_of_tasks)) == x[(i,j)], name = f'arrive{i}{j}') for j in range(number_of_ressources) for i in range(number_of_tasks)}\n",
    "\n",
    "# une personne doit partir après avoir exécuté sa tâche\n",
    "C5 = {(i,j) : m.addConstr(quicksum(y[(j,i,b)] for b in range(number_of_tasks)) == x[(i,j)], name = f'part{i}{j}') for j in range(number_of_ressources) for i in range(number_of_tasks)}\n"
   ]
  },
  {
   "cell_type": "code",
   "execution_count": 35,
   "metadata": {},
   "outputs": [
    {
     "ename": "TypeError",
     "evalue": "unsupported operand type(s) for -: 'generator' and 'NoneType'",
     "output_type": "error",
     "traceback": [
      "\u001b[0;31m---------------------------------------------------------------------------\u001b[0m",
      "\u001b[0;31mTypeError\u001b[0m                                 Traceback (most recent call last)",
      "\u001b[1;32m/home/nyss/Documents/projets_git/ST7-optimization/rendu.ipynb Cell 11'\u001b[0m in \u001b[0;36m<module>\u001b[0;34m\u001b[0m\n\u001b[1;32m     <a href='vscode-notebook-cell:/home/nyss/Documents/projets_git/ST7-optimization/rendu.ipynb#ch0000010?line=13'>14</a>\u001b[0m C12 \u001b[39m=\u001b[39m [m\u001b[39m.\u001b[39maddConstr(P[(r,a,b)] \u001b[39m-\u001b[39m s[b]  \u001b[39m<\u001b[39m\u001b[39m=\u001b[39m\u001b[39m0\u001b[39m) \u001b[39mfor\u001b[39;00m r \u001b[39min\u001b[39;00m \u001b[39mrange\u001b[39m(number_of_ressources) \u001b[39mfor\u001b[39;00m a \u001b[39min\u001b[39;00m \u001b[39mrange\u001b[39m(number_of_tasks) \u001b[39mfor\u001b[39;00m b \u001b[39min\u001b[39;00m \u001b[39mrange\u001b[39m(number_of_tasks) \u001b[39mif\u001b[39;00m a \u001b[39m!=\u001b[39m b]\n\u001b[1;32m     <a href='vscode-notebook-cell:/home/nyss/Documents/projets_git/ST7-optimization/rendu.ipynb#ch0000010?line=14'>15</a>\u001b[0m C13 \u001b[39m=\u001b[39m [m\u001b[39m.\u001b[39maddConstr(P[(r,a,b)] \u001b[39m-\u001b[39m s[b] \u001b[39m+\u001b[39m \u001b[39m1440\u001b[39m\u001b[39m*\u001b[39m(\u001b[39m1\u001b[39m\u001b[39m-\u001b[39mP[(r,a,b)])  \u001b[39m>\u001b[39m\u001b[39m=\u001b[39m\u001b[39m0\u001b[39m) \u001b[39mfor\u001b[39;00m r \u001b[39min\u001b[39;00m \u001b[39mrange\u001b[39m(number_of_ressources) \u001b[39mfor\u001b[39;00m a \u001b[39min\u001b[39;00m \u001b[39mrange\u001b[39m(number_of_tasks) \u001b[39mfor\u001b[39;00m b \u001b[39min\u001b[39;00m \u001b[39mrange\u001b[39m(number_of_tasks) \u001b[39mif\u001b[39;00m a \u001b[39m!=\u001b[39m b]\n\u001b[0;32m---> <a href='vscode-notebook-cell:/home/nyss/Documents/projets_git/ST7-optimization/rendu.ipynb#ch0000010?line=15'>16</a>\u001b[0m C14 \u001b[39m=\u001b[39m [m\u001b[39m.\u001b[39;49maddConstr(\n\u001b[1;32m     <a href='vscode-notebook-cell:/home/nyss/Documents/projets_git/ST7-optimization/rendu.ipynb#ch0000010?line=16'>17</a>\u001b[0m     quicksum(\n\u001b[1;32m     <a href='vscode-notebook-cell:/home/nyss/Documents/projets_git/ST7-optimization/rendu.ipynb#ch0000010?line=17'>18</a>\u001b[0m         H[(j,a,b)] \u001b[39m-\u001b[39;49m P[(j,a,b)] \u001b[39m+\u001b[39;49m y[(j,a,b)] \u001b[39m*\u001b[39;49m (L_tasks[a]\u001b[39m.\u001b[39;49mduration \u001b[39m+\u001b[39;49m dist(L_tasks[a]\u001b[39m.\u001b[39;49mlatitude,L_tasks[a]\u001b[39m.\u001b[39;49mlongitude, L_tasks[b]\u001b[39m.\u001b[39;49mlatitude, L_tasks[b]\u001b[39m.\u001b[39;49mlongitude)\u001b[39m/\u001b[39;49mv) \n\u001b[1;32m     <a href='vscode-notebook-cell:/home/nyss/Documents/projets_git/ST7-optimization/rendu.ipynb#ch0000010?line=18'>19</a>\u001b[0m         \u001b[39mfor\u001b[39;49;00m j \u001b[39min\u001b[39;49;00m \u001b[39mrange\u001b[39;49m(number_of_ressources))\n\u001b[1;32m     <a href='vscode-notebook-cell:/home/nyss/Documents/projets_git/ST7-optimization/rendu.ipynb#ch0000010?line=19'>20</a>\u001b[0m         \u001b[39m<\u001b[39;49m\u001b[39m=\u001b[39;49m\u001b[39m0\u001b[39;49m \u001b[39mfor\u001b[39;49;00m a \u001b[39min\u001b[39;49;00m \u001b[39mrange\u001b[39;49m(number_of_tasks) \u001b[39mfor\u001b[39;49;00m b \u001b[39min\u001b[39;49;00m \u001b[39mrange\u001b[39;49m(number_of_tasks))]\n",
      "File \u001b[0;32msrc/gurobipy/model.pxi:3440\u001b[0m, in \u001b[0;36mgurobipy.Model.addConstr\u001b[0;34m()\u001b[0m\n",
      "\u001b[0;31mTypeError\u001b[0m: unsupported operand type(s) for -: 'generator' and 'NoneType'"
     ]
    }
   ],
   "source": [
    "# Non overlapping tasks\n",
    "\n",
    "v=833.34\n",
    "\n",
    "C6 = [m.addConstr(H[(r,a,b)] >=0) for r in range(number_of_ressources) for a in range(number_of_tasks) for b in range(number_of_tasks) if a != b]\n",
    "C7 = [m.addConstr(H[(r,a,b)] - 1440 * y[(r,a,b)]  <=0) for r in range(number_of_ressources) for a in range(number_of_tasks) for b in range(number_of_tasks) if a != b]\n",
    "C8 = [m.addConstr(H[(r,a,b)] - s[a]  <=0) for r in range(number_of_ressources) for a in range(number_of_tasks) for b in range(number_of_tasks) if a != b]\n",
    "C9 = [m.addConstr(H[(r,a,b)] - s[a] + 1440*(1-H[(r,a,b)])  >=0) for r in range(number_of_ressources) for a in range(number_of_tasks) for b in range(number_of_tasks) if a != b]\n",
    "\n",
    "\n",
    "\n",
    "C10 = [m.addConstr(P[(r,a,b)] >=0) for r in range(number_of_ressources) for a in range(number_of_tasks) for b in range(number_of_tasks) if a != b]\n",
    "C11 = [m.addConstr(P[(r,a,b)] - 1440 * y[(r,a,b)]  <=0) for r in range(number_of_ressources) for a in range(number_of_tasks) for b in range(number_of_tasks) if a != b]\n",
    "C12 = [m.addConstr(P[(r,a,b)] - s[b]  <=0) for r in range(number_of_ressources) for a in range(number_of_tasks) for b in range(number_of_tasks) if a != b]\n",
    "C13 = [m.addConstr(P[(r,a,b)] - s[b] + 1440*(1-P[(r,a,b)])  >=0) for r in range(number_of_ressources) for a in range(number_of_tasks) for b in range(number_of_tasks) if a != b]\n",
    "C14 = [m.addConstr(\n",
    "    quicksum(\n",
    "        H[(j,a,b)] - P[(j,a,b)] + y[(j,a,b)] * (L_tasks[a].duration + dist(L_tasks[a].latitude,L_tasks[a].longitude, L_tasks[b].latitude, L_tasks[b].longitude)/v) \n",
    "        for j in range(number_of_ressources))\n",
    "        <=0 for a in range(number_of_tasks) for b in range(number_of_tasks))]"
   ]
  }
 ],
 "metadata": {
  "interpreter": {
   "hash": "fe4718d7fec5202fbf9f9fb725680b923aa48e6738d45e9dcbda842618fafca1"
  },
  "kernelspec": {
   "display_name": "Python 3.8.8 ('base')",
   "language": "python",
   "name": "python3"
  },
  "language_info": {
   "codemirror_mode": {
    "name": "ipython",
    "version": 3
   },
   "file_extension": ".py",
   "mimetype": "text/x-python",
   "name": "python",
   "nbconvert_exporter": "python",
   "pygments_lexer": "ipython3",
   "version": "3.8.12"
  },
  "orig_nbformat": 4
 },
 "nbformat": 4,
 "nbformat_minor": 2
}
