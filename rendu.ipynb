{
 "cells": [
  {
   "cell_type": "markdown",
   "metadata": {},
   "source": [
    "# Partie 1"
   ]
  },
  {
   "cell_type": "markdown",
   "metadata": {},
   "source": [
    "## Modules"
   ]
  },
  {
   "cell_type": "code",
   "execution_count": 35,
   "metadata": {},
   "outputs": [],
   "source": [
    "import openpyxl\n",
    "from classes import Ressource,RessourceUnavailability,Task,TaskUnavailability\n",
    "from read_input import read_ressources,read_ressources_unavailabilities,read_tasks,read_tasks_unavailabilities\n",
    "\n",
    "import gurobipy as gp\n",
    "from gurobipy import GRB"
   ]
  },
  {
   "cell_type": "markdown",
   "metadata": {},
   "source": [
    "## Lecture des données"
   ]
  },
  {
   "cell_type": "code",
   "execution_count": 36,
   "metadata": {},
   "outputs": [
    {
     "ename": "NameError",
     "evalue": "name 'openpyxl' is not defined",
     "output_type": "error",
     "traceback": [
      "\u001b[0;31m---------------------------------------------------------------------------\u001b[0m",
      "\u001b[0;31mNameError\u001b[0m                                 Traceback (most recent call last)",
      "\u001b[1;32m/home/nyss/Documents/projets_git/ST7-optimization/rendu.ipynb Cell 5'\u001b[0m in \u001b[0;36m<module>\u001b[0;34m\u001b[0m\n\u001b[0;32m----> <a href='vscode-notebook-cell:/home/nyss/Documents/projets_git/ST7-optimization/rendu.ipynb#ch0000004?line=0'>1</a>\u001b[0m ressources \u001b[39m=\u001b[39m read_ressources(\u001b[39m1\u001b[39;49m)\n\u001b[1;32m      <a href='vscode-notebook-cell:/home/nyss/Documents/projets_git/ST7-optimization/rendu.ipynb#ch0000004?line=1'>2</a>\u001b[0m ressources_unavailabilities \u001b[39m=\u001b[39m read_ressources_unavailabilities(\u001b[39m1\u001b[39m)\n\u001b[1;32m      <a href='vscode-notebook-cell:/home/nyss/Documents/projets_git/ST7-optimization/rendu.ipynb#ch0000004?line=2'>3</a>\u001b[0m tasks \u001b[39m=\u001b[39m read_tasks(\u001b[39m1\u001b[39m)\n",
      "File \u001b[0;32m~/Documents/projets_git/ST7-optimization/read_input.py:8\u001b[0m, in \u001b[0;36mread_ressources\u001b[0;34m(v)\u001b[0m\n",
      "\u001b[0;31mNameError\u001b[0m: name 'openpyxl' is not defined"
     ]
    }
   ],
   "source": [
    "ressources = read_ressources(1)\n",
    "ressources_unavailabilities = read_ressources_unavailabilities(1)\n",
    "tasks = read_tasks(1)\n",
    "tasks_unavailabilities = read_tasks_unavailabilities(1)"
   ]
  },
  {
   "cell_type": "markdown",
   "metadata": {},
   "source": [
    "## Structure de données"
   ]
  },
  {
   "cell_type": "code",
   "execution_count": 4,
   "metadata": {},
   "outputs": [],
   "source": [
    "R = [j for j in ressources]\n",
    "T = [i for i in tasks]\n",
    "\n",
    "# creer locations\n",
    "# creer dist\n",
    "\n",
    "# https://gurobi.github.io/modeling-examples/technician_routing_scheduling/technician_routing_scheduling.html\n"
   ]
  },
  {
   "cell_type": "markdown",
   "metadata": {},
   "source": [
    "## Modèle"
   ]
  },
  {
   "cell_type": "code",
   "execution_count": 7,
   "metadata": {},
   "outputs": [
    {
     "ename": "NameError",
     "evalue": "name 'L' is not defined",
     "output_type": "error",
     "traceback": [
      "\u001b[1;31m---------------------------------------------------------------------------\u001b[0m",
      "\u001b[1;31mNameError\u001b[0m                                 Traceback (most recent call last)",
      "\u001b[1;32m~\\AppData\\Local\\Temp/ipykernel_15736/3296490262.py\u001b[0m in \u001b[0;36m<module>\u001b[1;34m\u001b[0m\n\u001b[0;32m      6\u001b[0m \u001b[0mx\u001b[0m \u001b[1;33m=\u001b[0m \u001b[0mm\u001b[0m\u001b[1;33m.\u001b[0m\u001b[0maddVars\u001b[0m\u001b[1;33m(\u001b[0m\u001b[0mR\u001b[0m\u001b[1;33m,\u001b[0m \u001b[0mT\u001b[0m\u001b[1;33m,\u001b[0m \u001b[0mvtype\u001b[0m\u001b[1;33m=\u001b[0m\u001b[0mGRB\u001b[0m\u001b[1;33m.\u001b[0m\u001b[0mBINARY\u001b[0m\u001b[1;33m,\u001b[0m \u001b[0mname\u001b[0m\u001b[1;33m=\u001b[0m\u001b[1;34m\"x\"\u001b[0m\u001b[1;33m)\u001b[0m\u001b[1;33m\u001b[0m\u001b[1;33m\u001b[0m\u001b[0m\n\u001b[0;32m      7\u001b[0m \u001b[1;31m# Edge-route assignment to ressource\u001b[0m\u001b[1;33m\u001b[0m\u001b[1;33m\u001b[0m\u001b[1;33m\u001b[0m\u001b[0m\n\u001b[1;32m----> 8\u001b[1;33m \u001b[0my\u001b[0m \u001b[1;33m=\u001b[0m \u001b[0mm\u001b[0m\u001b[1;33m.\u001b[0m\u001b[0maddVars\u001b[0m\u001b[1;33m(\u001b[0m\u001b[0mL\u001b[0m\u001b[1;33m,\u001b[0m \u001b[0mL\u001b[0m\u001b[1;33m,\u001b[0m \u001b[0mR\u001b[0m\u001b[1;33m,\u001b[0m \u001b[0mvtype\u001b[0m\u001b[1;33m=\u001b[0m\u001b[0mGRB\u001b[0m\u001b[1;33m.\u001b[0m\u001b[0mBINARY\u001b[0m\u001b[1;33m,\u001b[0m \u001b[0mname\u001b[0m\u001b[1;33m=\u001b[0m\u001b[1;34m\"y\"\u001b[0m\u001b[1;33m)\u001b[0m\u001b[1;33m\u001b[0m\u001b[1;33m\u001b[0m\u001b[0m\n\u001b[0m\u001b[0;32m      9\u001b[0m \u001b[1;33m\u001b[0m\u001b[0m\n\u001b[0;32m     10\u001b[0m \u001b[1;31m# Technician cannot leave or return to a depot that is not its base\u001b[0m\u001b[1;33m\u001b[0m\u001b[1;33m\u001b[0m\u001b[1;33m\u001b[0m\u001b[0m\n",
      "\u001b[1;31mNameError\u001b[0m: name 'L' is not defined"
     ]
    }
   ],
   "source": [
    "### Create Model\n",
    "m = gp.Model(\"trs0\")\n",
    "\n",
    "### Decision variables\n",
    "# Task-ressource assignment\n",
    "x = m.addVars(R, T, vtype=GRB.BINARY, name=\"x\")\n",
    "# Edge-route assignment to ressource\n",
    "y = m.addVars(L, L, R, vtype=GRB.BINARY, name=\"y\")\n",
    "\n",
    "# Technician cannot leave or return to a depot that is not its base\n",
    "for r in R:\n",
    "  for d in D:\n",
    "    if k.depot != d:\n",
    "      for i in L:\n",
    "        y[i,d,r].ub = 0\n",
    "        y[d,i,r].ub = 0"
   ]
  }
 ],
 "metadata": {
  "interpreter": {
   "hash": "fe4718d7fec5202fbf9f9fb725680b923aa48e6738d45e9dcbda842618fafca1"
  },
  "kernelspec": {
   "display_name": "Python 3.8.8 ('base')",
   "language": "python",
   "name": "python3"
  },
  "language_info": {
   "codemirror_mode": {
    "name": "ipython",
    "version": 3
   },
   "file_extension": ".py",
   "mimetype": "text/x-python",
   "name": "python",
   "nbconvert_exporter": "python",
   "pygments_lexer": "ipython3",
   "version": "3.8.8"
  },
  "orig_nbformat": 4
 },
 "nbformat": 4,
 "nbformat_minor": 2
}
