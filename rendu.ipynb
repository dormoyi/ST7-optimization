{
 "cells": [
  {
   "cell_type": "markdown",
   "metadata": {},
   "source": [
    "# Partie 1"
   ]
  },
  {
   "cell_type": "markdown",
   "metadata": {},
   "source": [
    "## Modules"
   ]
  },
  {
   "cell_type": "code",
   "execution_count": null,
   "metadata": {},
   "outputs": [],
   "source": [
    "import openpyxl\n",
    "from classes import Ressource,RessourceUnavailability,Task,TaskUnavailability\n",
    "from read_input import read_ressources,read_ressources_unavailabilities,read_tasks,read_tasks_unavailabilities\n",
    "\n",
    "from gurobipy import *"
   ]
  },
  {
   "cell_type": "markdown",
   "metadata": {},
   "source": [
    "## Lecture des données"
   ]
  },
  {
   "cell_type": "code",
   "execution_count": null,
   "metadata": {},
   "outputs": [],
   "source": [
    "ressources = read_ressources(1)\n",
    "ressources_unavailabilities = read_ressources_unavailabilities(1)\n",
    "tasks = read_tasks(1)\n",
    "tasks_unavailabilities = read_tasks_unavailabilities(1)"
   ]
  },
  {
   "cell_type": "markdown",
   "metadata": {},
   "source": [
    "## Structure de données"
   ]
  },
  {
   "cell_type": "code",
   "execution_count": null,
   "metadata": {},
   "outputs": [],
   "source": [
    "L_ressources = [j for j in ressources]\n",
    "L_tasks = [i for i in tasks]\n",
    "number_of_ressources = len(L_ressources)\n",
    "number_of_tasks = len(L_tasks)\n",
    "dict_pos = {task : (float(task.latitude), float(task.longitude)) for task in tasks.values()}\n",
    "\n",
    "# creer locations\n",
    "# creer dists\n",
    "\n",
    "# https://gurobi.github.io/modeling-examples/technician_routing_scheduling/technician_routing_scheduling.html\n"
   ]
  },
  {
   "cell_type": "markdown",
   "metadata": {},
   "source": [
    "## Modèle"
   ]
  },
  {
   "cell_type": "code",
   "execution_count": null,
   "metadata": {},
   "outputs": [],
   "source": [
    "### Create Model\n",
    "m = Model(\"trs0\")\n",
    "\n",
    "### Decision variables\n",
    "# Task-ressource assignment\n",
    "Task_ressource = {(t,r) : m.addVar(vtype = GRB.BINARY, name = f'x_{t}_{r}') for r in range(1, number_of_ressources + 1) for t in range(1, number_of_tasks + 1)}\n",
    "\n",
    "# Time-task assignment\n",
    "Start_task = {t : m.addVar(vtype = GRB.INTEGER, lb = 0, ub = 1440, name = f's_{t}') for t in range(1, number_of_tasks + 1)}\n",
    "# Les s_t valent entre 0 et 1440 car les contraintes de temps (entre 8h et 18h) sont contenues dans les jeux de données.\n",
    "\n",
    "# Est-ce que le travailleur se déplace entre les points a et b ?\n",
    "Moving_worker = {(r,a,b) : m.addVar(vtype = GRB.BINARY, name = f'y_{r}_{a}_{b}') for r in range(1, number_of_ressources + 1) for a in dict_pos.values() for b in dict_pos.values() if a != b}\n",
    "# Technician cannot leave or return to a depot that is not its base\n",
    "# print(Moving_worker)\n",
    "\n"
   ]
  }
 ],
 "metadata": {
  "interpreter": {
   "hash": "fe4718d7fec5202fbf9f9fb725680b923aa48e6738d45e9dcbda842618fafca1"
  },
  "kernelspec": {
   "display_name": "Python 3.8.8 ('base')",
   "language": "python",
   "name": "python3"
  },
  "language_info": {
   "codemirror_mode": {
    "name": "ipython",
    "version": 3
   },
   "file_extension": ".py",
   "mimetype": "text/x-python",
   "name": "python",
   "nbconvert_exporter": "python",
   "pygments_lexer": "ipython3",
   "version": "3.8.8"
  },
  "orig_nbformat": 4
 },
 "nbformat": 4,
 "nbformat_minor": 2
}
