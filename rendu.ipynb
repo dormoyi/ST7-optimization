{
 "cells": [
  {
   "cell_type": "markdown",
   "metadata": {},
   "source": [
    "# Partie 1"
   ]
  },
  {
   "cell_type": "markdown",
   "metadata": {},
   "source": [
    "## Modules"
   ]
  },
  {
   "cell_type": "code",
   "execution_count": 10,
   "metadata": {},
   "outputs": [],
   "source": [
    "import openpyxl\n",
    "from classes import Ressource,RessourceUnavailability,Task,TaskUnavailability\n",
    "from read_input import read_ressources,read_ressources_unavailabilities,read_tasks,read_tasks_unavailabilities\n",
    "\n",
    "from gurobipy import *"
   ]
  },
  {
   "cell_type": "markdown",
   "metadata": {},
   "source": [
    "## Lecture des données"
   ]
  },
  {
   "cell_type": "code",
   "execution_count": 11,
   "metadata": {},
   "outputs": [
    {
     "name": "stdout",
     "output_type": "stream",
     "text": [
      "44.556549383420084 -0.31939224223757195 60 Oenology 1 8:00am 6:00pm\n",
      "44.967500952177986 -0.6086852638150881 60 Oenology 1 8:00am 6:00pm\n",
      "45.14421541464031 -0.7342570469020379 60 Oenology 2 8:00am 6:00pm\n",
      "45.264808304867096 -0.7717887212411139 60 Oenology 1 8:00am 6:00pm\n",
      "45.044422793402624 -0.6687606009488057 60 Oenology 2 8:00am 6:00pm\n",
      "45.19957452440505 -0.7462077931750715 60 Oenology 2 8:00am 6:00pm\n",
      "45.397697776585 -0.9668192708194538 60 Oenology 1 8:00am 6:00pm\n",
      "45.023479086796385 -0.8072126299796225 60 Oenology 1 8:00am 6:00pm\n",
      "45.29291368453335 -0.9365361007032235 60 Oenology 2 8:00am 6:00pm\n",
      "45.08146166752168 -0.8062453230620741 60 Oenology 1 8:00am 6:00pm\n"
     ]
    }
   ],
   "source": [
    "ressources = read_ressources(1)\n",
    "ressources_unavailabilities = read_ressources_unavailabilities(1)\n",
    "tasks = read_tasks(1)\n",
    "tasks_unavailabilities = read_tasks_unavailabilities(1)"
   ]
  },
  {
   "cell_type": "markdown",
   "metadata": {},
   "source": [
    "## Structure de données"
   ]
  },
  {
   "cell_type": "code",
   "execution_count": 29,
   "metadata": {},
   "outputs": [],
   "source": [
    "L_ressources = [j for j in ressources]\n",
    "L_tasks = [i for i in tasks]\n",
    "number_of_ressources = len(L_ressources)\n",
    "number_of_tasks = len(L_tasks)\n",
    "dict_pos = {task : (float(task.latitude), float(task.longitude)) for task in tasks.values()}\n",
    "\n",
    "# creer locations\n",
    "# creer dists\n",
    "\n",
    "# https://gurobi.github.io/modeling-examples/technician_routing_scheduling/technician_routing_scheduling.html\n"
   ]
  },
  {
   "cell_type": "markdown",
   "metadata": {},
   "source": [
    "## Modèle"
   ]
  },
  {
   "cell_type": "code",
   "execution_count": 30,
   "metadata": {},
   "outputs": [],
   "source": [
    "### Create Model\n",
    "m = Model(\"trs0\")\n",
    "\n",
    "### Decision variables\n",
    "# Task-ressource assignment\n",
    "Task_ressource = {(t,r) : m.addVar(vtype = GRB.BINARY, name = f'x_{t}_{r}') for r in range(1, number_of_ressources + 1) for t in range(1, number_of_tasks + 1)}\n",
    "\n",
    "# Time-task assignment\n",
    "Start_task = {t : m.addVar(vtype = GRB.INTEGER, lb = 0, ub = 1440, name = f's_{t}') for t in range(1, number_of_tasks + 1)}\n",
    "# Les s_t valent entre 0 et 1440 car les contraintes de temps (entre 8h et 18h) sont contenues dans les jeux de données.\n",
    "\n",
    "# Est-ce que le travailleur se déplace entre les points a et b ?\n",
    "Moving_worker = {(r,a,b) : m.addVar(vtype = GRB.BINARY, name = f'y_{r}_{a}_{b}') for r in range(1, number_of_ressources + 1) for a in dict_pos.values() for b in dict_pos.values() if a != b}\n",
    "# Technician cannot leave or return to a depot that is not its base\n",
    "# print(Moving_worker)\n",
    "\n"
   ]
  }
 ],
 "metadata": {
  "interpreter": {
   "hash": "fe4718d7fec5202fbf9f9fb725680b923aa48e6738d45e9dcbda842618fafca1"
  },
  "kernelspec": {
   "display_name": "Python 3.8.8 ('base')",
   "language": "python",
   "name": "python3"
  },
  "language_info": {
   "codemirror_mode": {
    "name": "ipython",
    "version": 3
   },
   "file_extension": ".py",
   "mimetype": "text/x-python",
   "name": "python",
   "nbconvert_exporter": "python",
   "pygments_lexer": "ipython3",
   "version": "3.8.8"
  },
  "orig_nbformat": 4
 },
 "nbformat": 4,
 "nbformat_minor": 2
}
