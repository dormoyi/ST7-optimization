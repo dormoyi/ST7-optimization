{
 "cells": [
  {
   "cell_type": "markdown",
   "metadata": {},
   "source": [
    "# Partie 1"
   ]
  },
  {
   "cell_type": "markdown",
   "metadata": {},
   "source": [
    "## Modules"
   ]
  },
  {
   "cell_type": "code",
   "execution_count": null,
   "metadata": {},
   "outputs": [],
   "source": [
    "import openpyxl\n",
    "from classes import Ressource,RessourceUnavailability,Task,TaskUnavailability\n",
    "from read_input import read_ressources,read_ressources_unavailabilities,read_tasks,read_tasks_unavailabilities\n",
    "\n",
    "import gurobipy as gp"
   ]
  },
  {
   "cell_type": "markdown",
   "metadata": {},
   "source": [
    "## Lecture des données"
   ]
  },
  {
   "cell_type": "code",
   "execution_count": null,
   "metadata": {},
   "outputs": [],
   "source": [
    "ressources = read_ressources(1)\n",
    "ressources_unavailabilities = read_ressources_unavailabilities(1)\n",
    "tasks = read_tasks(1)\n",
    "tasks_unavailabilities = read_tasks_unavailabilities(1)"
   ]
  },
  {
   "cell_type": "markdown",
   "metadata": {},
   "source": [
    "## Structure de données"
   ]
  },
  {
   "cell_type": "code",
   "execution_count": null,
   "metadata": {},
   "outputs": [],
   "source": [
    "R = [j for j in ressources]\n",
    "T = [i for i in tasks]\n",
    "\n",
    "# creer locations\n",
    "# creer dist\n",
    "\n",
    "# https://gurobi.github.io/modeling-examples/technician_routing_scheduling/technician_routing_scheduling.html\n"
   ]
  },
  {
   "cell_type": "markdown",
   "metadata": {},
   "source": [
    "## Modèle"
   ]
  },
  {
   "cell_type": "code",
   "execution_count": null,
   "metadata": {},
   "outputs": [],
   "source": [
    "### Create Model\n",
    "m = gp.Model(\"trs0\")\n",
    "\n",
    "### Decision variables\n",
    "# Task-ressource assignment\n",
    "x = m.addVars(R, T, vtype=GRB.BINARY, name=\"x\")\n",
    "# Edge-route assignment to ressource\n",
    "y = m.addVars(L, L, R, vtype=GRB.BINARY, name=\"y\")\n",
    "\n",
    "# Technician cannot leave or return to a depot that is not its base\n",
    "for r in R:\n",
    "  for d in D:\n",
    "    if k.depot != d:\n",
    "      for i in L:\n",
    "        y[i,d,r].ub = 0\n",
    "        y[d,i,r].ub = 0"
   ]
  }
 ],
 "metadata": {
  "language_info": {
   "name": "python"
  },
  "orig_nbformat": 4
 },
 "nbformat": 4,
 "nbformat_minor": 2
}
