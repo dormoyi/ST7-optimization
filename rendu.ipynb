{
 "cells": [
  {
   "cell_type": "markdown",
   "metadata": {},
   "source": [
    "# Partie 1"
   ]
  },
  {
   "cell_type": "markdown",
   "metadata": {},
   "source": [
    "## Modules"
   ]
  },
  {
   "cell_type": "code",
   "execution_count": null,
   "metadata": {},
   "outputs": [],
   "source": [
    "import openpyxl\n",
    "from read_input import read_ressources,read_ressources_unavailabilities,read_tasks,read_tasks_unavailabilities\n",
    "\n",
    "from gurobipy import *\n",
    "import math\n",
    "import numpy "
   ]
  },
  {
   "cell_type": "markdown",
   "metadata": {},
   "source": [
    "## Lecture des données"
   ]
  },
  {
   "cell_type": "code",
   "execution_count": null,
   "metadata": {},
   "outputs": [],
   "source": [
    "ressources = read_ressources(1)\n",
    "ressources_unavailabilities = read_ressources_unavailabilities(1)\n",
    "tasks = read_tasks(1)\n",
    "tasks_unavailabilities = read_tasks_unavailabilities(1)"
   ]
  },
  {
   "cell_type": "markdown",
   "metadata": {},
   "source": [
    "## Structures de données"
   ]
  },
  {
   "cell_type": "code",
   "execution_count": null,
   "metadata": {},
   "outputs": [],
   "source": [
    "def dist(lat1, long1, lat2, long2):\n",
    "    if lat1==lat2 and long1==long2:\n",
    "        return 0\n",
    "    return(numpy.arccos(numpy.sin(2*numpy.pi/360*lat1)*numpy.sin(2*numpy.pi/360*lat2)+numpy.cos(2*numpy.pi/360*lat1)*numpy.cos(2*numpy.pi/360*lat2)*numpy.cos(2*numpy.pi/360*(long2-long1)))*6371)\n",
    "\n",
    "#print(dist(49.18, -0.36, 49.33, -0.454))\n",
    "#ACOS(SIN(lat1)*SIN(lat2)+COS(lat1)*COS(lat2)*COS(lon2-lon1))*6371\n",
    "v=5/6\n",
    "\n",
    "L_ressources = [j for j in ressources]\n",
    "L_tasks = [i for i in tasks]\n",
    "number_of_ressources = len(L_ressources)\n",
    "number_of_tasks = len(L_tasks)\n",
    "dict_pos = {task : (task.latitude, task.longitude) for task in tasks.values()}\n",
    "\n",
    "dict_pos = {task : (tasks[L_tasks[task]].latitude, tasks[L_tasks[task]].longitude) for task in range(number_of_tasks)}\n",
    "#graph = {(task1,task2): dist(float(tasks[L_tasks[task1].latitude]), float(tasks[L_tasks[task1].longitude]), float(tasks[L_tasks[task2].latitude]), float(tasks[L_tasks[task2].longitude])) for task1 in range(number_of_tasks) for task2 in range(number_of_tasks)}\n",
    "print(dict_pos)\n",
    "\n",
    "#distance[a][b] donne la distance de la tâche a vers la tâche b\n",
    "distances = [[dist(tasks[L_tasks[a]].latitude,tasks[L_tasks[a]].longitude, tasks[L_tasks[b]].latitude, tasks[L_tasks[b]].longitude) for b in range(number_of_tasks)] for a in range(number_of_tasks)]\n",
    "\n",
    "#distance_m[j][i] donne la distance de la maison de j la tâche i\n",
    "distances_m = [[dist(ressources[L_ressources[j]].latitude,ressources[L_ressources[j]].longitude, tasks[L_tasks[i]].latitude, tasks[L_tasks[j]].longitude) for i in range(number_of_tasks)] for j in range(number_of_ressources)]\n",
    "print(distances)\n",
    "# creer locations\n",
    "# creer dists\n",
    "\n",
    "# https://gurobi.github.io/modeling-examples/technician_routing_scheduling/technician_routing_scheduling.html"
   ]
  },
  {
   "cell_type": "markdown",
   "metadata": {},
   "source": [
    "## Variables de décision"
   ]
  },
  {
   "cell_type": "code",
   "execution_count": null,
   "metadata": {},
   "outputs": [],
   "source": [
    "### Create Model\n",
    "m = Model(\"trs0\")\n",
    "\n",
    "M = 10E8\n",
    "\n",
    "### Decision variables\n",
    "# Task-ressource assignment\n",
    "x = {(t,r) : m.addVar(vtype = GRB.BINARY, name = f'x_{t}_{r}') for r in range(number_of_ressources) for t in range(number_of_tasks)}\n",
    "\n",
    "# Time-task assignment\n",
    "s = {t : m.addVar(vtype = GRB.INTEGER, lb = 0, ub = 1440, name = f's_{t}') for t in range(number_of_tasks)}\n",
    "# Les s_t valent entre 0 et 1440 car les contraintes de temps (entre 8h et 18h) sont contenues dans les jeux de données.\n",
    "\n",
    "# Est-ce que le travailleur se déplace entre les points a et b ?\n",
    "y = {(r,a,b) : m.addVar(vtype = GRB.BINARY, name = f'y_{r}_{a}_{b}') for r in range(number_of_ressources) for a in range(number_of_tasks) for b in range(number_of_tasks)}# if a != b}\n",
    "# Technician cannot leave or return to a depot that is not its base\n",
    "\n",
    "# Is the worker used ?\n",
    "#u = {r: m.addVar(vtype = GRB.BINARY, name = f'u_{r}') for r in range(number_of_ressources)}\n",
    "\n",
    "# starting task of worker\n",
    "d = {(r,t) : m.addVar(vtype = GRB.BINARY, name = f'd_{r}_{t}') for r in range(number_of_ressources) for t in range(number_of_tasks)}\n",
    "# ending task of worker\n",
    "f = {(r,t) : m.addVar(vtype = GRB.BINARY, name = f'f_{r}_{t}') for r in range(number_of_ressources) for t in range(number_of_tasks)}\n",
    "\n",
    "#variables de linéarisation\n",
    "#H = {(r,a,b) : m.addVar(vtype = GRB.BINARY,lb = 0, ub = 1440, name = f'h_{r}_{a}_{b}') for r in range(number_of_ressources) for a in range(number_of_tasks) for b in range(number_of_tasks)}# if a != b}\n",
    "#P = {(r,a,b) : m.addVar(vtype = GRB.BINARY,lb = 0, ub = 1440, name = f'p_{r}_{a}_{b}') for r in range(number_of_ressources) for a in range(number_of_tasks) for b in range(number_of_tasks)}# if a != b}\n"
   ]
  },
  {
   "cell_type": "markdown",
   "metadata": {},
   "source": [
    "## Contraintes"
   ]
  },
  {
   "cell_type": "code",
   "execution_count": null,
   "metadata": {},
   "outputs": [],
   "source": [
    "C4_2 = [m.addConstr(y[(r,a,a)] == 0) for r in range(number_of_ressources) for a in range(number_of_tasks)]"
   ]
  },
  {
   "cell_type": "code",
   "execution_count": null,
   "metadata": {},
   "outputs": [],
   "source": [
    "nbRpT = [LinExpr() for t in range(number_of_tasks)]\n",
    "for t in range(number_of_tasks):\n",
    "  for r in  range(number_of_ressources):\n",
    "    nbRpT[t]+=x[(t,r)]\n",
    "\n",
    "# One ressource per task\n",
    "C1 = [m.addConstr(nbRpT[t] == 1) for t in range(number_of_tasks)]\n",
    "\n",
    "# Works only if all tasks are feasable\n",
    "#nbRpTq = {t: LinExpr() for t in range(number_of_tasks)}\n",
    "#for t in range(number_of_tasks):\n",
    "#  for r in  range(number_of_ressources):\n",
    "#    if ressources[L_ressources[r]].skill==tasks[L_tasks[t]].skill and ressources[L_ressources[r]].level>=tasks[L_tasks[t]].level:\n",
    "#      nbRpTq[t]+=x[(t,r)]\n",
    "\n",
    "# Qualified technicians\n",
    "#C2 = [m.addConstr(nbRpTq[t] >= 1) for t in range(number_of_tasks)]\n",
    "\n",
    "#C1 = [m.addConstr(quicksum(x[(t,r)] for r in range(number_of_ressources)) == 1 for t in range(number_of_tasks))]\n",
    "\n"
   ]
  },
  {
   "cell_type": "code",
   "execution_count": null,
   "metadata": {},
   "outputs": [],
   "source": [
    "nbRpTs = [LinExpr() for t in range(number_of_tasks)]\n",
    "for t in range(number_of_tasks):\n",
    "  for r in  range(number_of_ressources):\n",
    "     nbRpTs[t]+=x[(t,r)]*(ressources[L_ressources[r]].skill!=tasks[L_tasks[r]].skill)\n",
    "\n",
    " # Skilled technicians\n",
    "C2 = [m.addConstr(nbRpTs[t] == 0) for t in range(number_of_tasks)]"
   ]
  },
  {
   "cell_type": "code",
   "execution_count": null,
   "metadata": {},
   "outputs": [],
   "source": [
    "nbRpTl =[ LinExpr() for t in range(number_of_tasks)]\n",
    "for t in range(number_of_tasks):\n",
    "  for r in  range(number_of_ressources):\n",
    "    nbRpTl[t]+=x[(t,r)]*(ressources[L_ressources[r]].level-tasks[L_tasks[r]].level)\n",
    "\n",
    "# Leveled technicians\n",
    "C3 = [m.addConstr(nbRpTl[t] >= 0) for t in range(number_of_tasks)]"
   ]
  },
  {
   "cell_type": "code",
   "execution_count": null,
   "metadata": {},
   "outputs": [],
   "source": [
    "# si une personne est affectée, elle arrive jusqu'à la tâche\n",
    "C4 = {(i,j) : m.addConstr(quicksum(y[(j,a,i)] for a in range(number_of_tasks)) + d[(j,i)] == x[(i,j)], name = f'arrive{i}{j}') for j in range(number_of_ressources) for i in range(number_of_tasks)}\n",
    "\n",
    "# une personne doit partir après avoir exécuté sa tâche\n",
    "C5 = {(i,j) : m.addConstr(quicksum(y[(j,i,b)] for b in range(number_of_tasks)) + f[(j,i)] == x[(i,j)], name = f'part{i}{j}') for j in range(number_of_ressources) for i in range(number_of_tasks)}"
   ]
  },
  {
   "cell_type": "code",
   "execution_count": null,
   "metadata": {},
   "outputs": [],
   "source": [
    "# Non overlapping tasks\n",
    "\n",
    "# C6 = [m.addConstr(H[(r,a,b)] >=0) for r in range(number_of_ressources) for a in range(number_of_tasks) for b in range(number_of_tasks)]# if a != b]\n",
    "# C7 = [m.addConstr(H[(r,a,b)] - 1440 * y[(r,a,b)]  <=0) for r in range(number_of_ressources) for a in range(number_of_tasks) for b in range(number_of_tasks)]# if a != b]\n",
    "# C8 = [m.addConstr(H[(r,a,b)] - s[a]  <=0) for r in range(number_of_ressources) for a in range(number_of_tasks) for b in range(number_of_tasks)]# if a != b]\n",
    "# C9 = [m.addConstr(H[(r,a,b)] - s[a] + 1440*(1-H[(r,a,b)])  >=0) for r in range(number_of_ressources) for a in range(number_of_tasks) for b in range(number_of_tasks)]# if a != b]\n",
    "\n",
    "# C10 = [m.addConstr(P[(r,a,b)] >=0) for r in range(number_of_ressources) for a in range(number_of_tasks) for b in range(number_of_tasks)]# if a != b]\n",
    "# C11 = [m.addConstr(P[(r,a,b)] - 1440 * y[(r,a,b)]  <=0) for r in range(number_of_ressources) for a in range(number_of_tasks) for b in range(number_of_tasks)]# if a != b]\n",
    "# C12 = [m.addConstr(P[(r,a,b)] - s[b]  <=0) for r in range(number_of_ressources) for a in range(number_of_tasks) for b in range(number_of_tasks)]# if a != b]\n",
    "# C13 = [m.addConstr(P[(r,a,b)] - s[b] + 1440*(1-P[(r,a,b)])  >=0) for r in range(number_of_ressources) for a in range(number_of_tasks) for b in range(number_of_tasks)]# if a != b]\n",
    "# C14Sum =[[LinExpr() for a in range(number_of_tasks)] for b in range(number_of_tasks)]\n",
    "# for a in range(number_of_tasks):\n",
    "#   for b in range(number_of_tasks):\n",
    "#     for j in  range(number_of_ressources):\n",
    "#       C14Sum[a][b]+=H[(j,a,b)] - P[(j,a,b)] + y[(j,a,b)] * (tasks[L_tasks[a]].duration + distances[a][b]/v)\n",
    "\n",
    "# C14 = [m.addConstr(C14Sum[a][b] <= 0) for a in range(number_of_tasks) for b in range(number_of_tasks)]"
   ]
  },
  {
   "cell_type": "code",
   "execution_count": null,
   "metadata": {},
   "outputs": [],
   "source": [
    "# non overlapping tasks\n",
    "C6 = [m.addConstr(s[b] >= s[a] + tasks[L_tasks[a]].duration + distances[a][b]/v -M*(1-quicksum(y[(j,a,b)] for j in range(number_of_ressources)))) for a in range(number_of_tasks) for b in range(number_of_tasks)]"
   ]
  },
  {
   "cell_type": "code",
   "execution_count": null,
   "metadata": {},
   "outputs": [],
   "source": [
    "# la premiere tache commence apres le début de la journée\n",
    "C11 = [m.addConstr(s[i] >= ressources[L_ressources[j]].workingStart -M*(1-x[(i,j)] + distances_m[j][i]/v)) for i in range(number_of_tasks) for j in range(number_of_ressources)]"
   ]
  },
  {
   "cell_type": "code",
   "execution_count": null,
   "metadata": {},
   "outputs": [],
   "source": [
    "# la derniere tache finit avant la fin de la journee\n",
    "C12 = [m.addConstr(ressources[L_ressources[j]].workingEnd >= s[i]+tasks[L_tasks[i]].duration + distances_m[j][i]/v -M*(1-x[(i,j)])) for i in range(number_of_tasks) for j in range(number_of_ressources)]"
   ]
  },
  {
   "cell_type": "code",
   "execution_count": null,
   "metadata": {},
   "outputs": [],
   "source": [
    "# C7 = [m.addConstr(quicksum(d[(j,a)] for a in range(number_of_tasks)) == u[j]) for j in range(number_of_ressources)]\n",
    "# C8 = [m.addConstr(quicksum(f[(j,b)] for b in range(number_of_tasks)) == u[j]) for j in range(number_of_ressources)]\n",
    "\n",
    "# C9 = [m.addConstr(quicksum(x[(i,j)] for i in range(number_of_tasks)) <= u[j]*M) for j in range(number_of_ressources)]\n",
    "# C10 = [m.addConstr(quicksum(x[(i,j)] for i in range(number_of_tasks)) >= u[j]) for j in range(number_of_ressources)]\n",
    "\n",
    "# C13 = [d[(j,i)]<=x[(i,j)] for i in range(number_of_tasks) for j in range(number_of_ressources)]\n",
    "# C14 = [f[(j,i)]<=x[(i,j)] for i in range(number_of_tasks) for j in range(number_of_ressources)]\n",
    "\n"
   ]
  },
  {
   "cell_type": "code",
   "execution_count": null,
   "metadata": {},
   "outputs": [],
   "source": [
    "C7 = [m.addConstr(quicksum(d[(j,a)] for a in range(number_of_tasks)) == 1) for j in range(number_of_ressources)]\n",
    "C8 = [m.addConstr(quicksum(f[(j,b)] for b in range(number_of_tasks)) == 1) for j in range(number_of_ressources)]\n",
    "\n",
    "# C9 = [m.addConstr(quicksum(x[(i,j)] for i in range(number_of_tasks)) <= u[j]*M) for j in range(number_of_ressources)]\n",
    "# C10 = [m.addConstr(quicksum(x[(i,j)] for i in range(number_of_tasks)) >= u[j]) for j in range(number_of_ressources)]\n",
    "\n",
    "C13 = [d[(j,i)]<=x[(i,j)] for i in range(number_of_tasks) for j in range(number_of_ressources)]\n",
    "C14 = [f[(j,i)]<=x[(i,j)] for i in range(number_of_tasks) for j in range(number_of_ressources)]\n"
   ]
  },
  {
   "cell_type": "code",
   "execution_count": null,
   "metadata": {},
   "outputs": [],
   "source": [
    "C15 = [m.addConstr(y[(j,a,b)] + y[(j,b,a)] <=1) for a in range(number_of_tasks) for b in range(number_of_tasks) for j in range(number_of_ressources)]\n",
    "C16 = [m.addConstr(d[(j,a)] + f[(j,a)] <=1) for a in range(number_of_tasks) for j in range(number_of_ressources)]\n"
   ]
  },
  {
   "cell_type": "markdown",
   "metadata": {},
   "source": [
    "## Fonction objectif et résolution"
   ]
  },
  {
   "cell_type": "code",
   "execution_count": null,
   "metadata": {},
   "outputs": [],
   "source": [
    "# -- Ajout de la fonction objectif --\n",
    "couts=LinExpr()\n",
    "for j in range(number_of_ressources):\n",
    "  for a in range(number_of_tasks):\n",
    "    for b in range(number_of_tasks):\n",
    "      couts+=y[(j,a,b)]*distances[a][b]/v\n",
    "m.setObjective(couts, GRB.MINIMIZE)\n",
    "\n",
    "# -- Choix d'un paramétrage d'affichage minimaliste --\n",
    "m.params.outputflag = 0 # mode muet\n",
    "\n",
    "# -- Mise à jour du modèle  --\n",
    "m.update()\n",
    "\n",
    "# -- Affichage en mode texte du PL --\n",
    "m.display()\n",
    "\n",
    "# -- Résolution --\n",
    "m.optimize()\n",
    "\n",
    "# -- Vérification du statut et Affichage (le cas échéant) des solutions --\n",
    "if m.status == GRB.INF_OR_UNBD:\n",
    "    m.setParam(GRB.Param.Presolve, 0)\n",
    "    m.optimize()\n",
    "\n",
    "if m.status == GRB.INFEASIBLE:\n",
    "    print(m.display(), \"\\n\\tN'A PAS DE SOLUTION!!!\")\n",
    "elif m.status == GRB.UNBOUNDED:\n",
    "    print(m.display(), \"\\n\\tEST NON BORNÉ!!!\")\n",
    "\n",
    "\n",
    "# for j in range(number_of_tasks):\n",
    "#   for i in range(number_of_ressources):\n",
    "#     print(x[(j,i)].x,end=' ')\n",
    "#   print(\"\\n\")\n",
    "\n",
    "# print(\"\\n\\n\\n\")\n",
    "\n",
    "\n",
    "# -- Affichage de la solution --\n",
    "#print(\"La solution optimale est (d,q) = {} \\navec pour valeur de l'objectif z = {}€\".format((D.x, Q.x), m.objVal))\n",
    "t=open(\"result.csv\",'w')\n",
    "res=\"taskId;performed;employeeName;startTime;\\n\"\n",
    "for j in range(number_of_tasks):\n",
    "  p=False\n",
    "  for i in range(number_of_ressources):\n",
    "    if round(x[(j,i)].x):\n",
    "      res+=\"{};{};{};{};\\n\".format(L_tasks[j],1,L_ressources[i],s[j].x)\n",
    "      p=True\n",
    "  if not p:\n",
    "    res+=\"{};;;;\\n\".format(L_tasks[j])\n",
    "print(res)\n",
    "t.write(res)\n",
    "t.close()\n",
    "\n",
    "print(\"###########################\")\n",
    "\n",
    "for a in range(number_of_tasks):\n",
    "  for b in range(number_of_tasks):\n",
    "    j=1\n",
    "    if  round(y[(j,a,b)].x)==1:\n",
    "      print(\"j{} - a{} - b{} - y{} // \".format(j, a,b,y[(j,a,b)].x), end=\"\")\n",
    "\n",
    "#7 - 4 - 2 - 1 - 7\n",
    "#8 - 6 - 8\n",
    "\n",
    "print('\\n') \n",
    "print(\"###########################\")\n",
    "\n",
    "for a in range(number_of_tasks):\n",
    "  j=1\n",
    "  if  round(d[(j,a)].x)==1:\n",
    "    print(\"j{} - a{} - d{} // \".format(j, a,d[(j,a)].x), end=\"\")\n",
    "\n",
    "\n",
    "print('\\n\\n')\n",
    "for a in range(number_of_tasks):\n",
    "  j=1\n",
    "  if  round(f[(j,a)].x)==1:\n",
    "    print(\"j{} - a{} - d{} // \".format(j, a,f[(j,a)].x), end=\"\")\n",
    "\n",
    "# 7-4-1-2-8-6\n",
    "# 0-9-5-3 okok"
   ]
  }
 ],
 "metadata": {
  "interpreter": {
   "hash": "4badd61a3eb0a98b49024dc08b6e569de2eac3230396ff1e691db44e3b600cf6"
  },
  "kernelspec": {
   "display_name": "Python 3.9.6 64-bit",
   "language": "python",
   "name": "python3"
  },
  "language_info": {
   "codemirror_mode": {
    "name": "ipython",
    "version": 3
   },
   "file_extension": ".py",
   "mimetype": "text/x-python",
   "name": "python",
   "nbconvert_exporter": "python",
   "pygments_lexer": "ipython3",
   "version": "3.8.12"
  },
  "orig_nbformat": 4
 },
 "nbformat": 4,
 "nbformat_minor": 2
}
