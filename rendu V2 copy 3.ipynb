{
 "cells": [
  {
   "cell_type": "markdown",
   "metadata": {},
   "source": [
    "# Partie 1"
   ]
  },
  {
   "cell_type": "markdown",
   "metadata": {},
   "source": [
    "## Modules"
   ]
  },
  {
   "cell_type": "code",
   "execution_count": 27,
   "metadata": {},
   "outputs": [],
   "source": [
    "import openpyxl\n",
    "from read_input import read_input\n",
    "\n",
    "from gurobipy import *\n",
    "import math\n",
    "import numpy \n",
    "import time"
   ]
  },
  {
   "cell_type": "markdown",
   "metadata": {},
   "source": [
    "## Lecture des données"
   ]
  },
  {
   "cell_type": "code",
   "execution_count": 28,
   "metadata": {},
   "outputs": [],
   "source": [
    "start_time = time.time()\n",
    "\n",
    "ville=\"Poland\" #  changer \n",
    "ressources,ressources_unavailabilities,tasks,tasks_unavailabilities = read_input(2,ville)\n",
    "# V1 : \"Bordeaux\", \"Finland\", \"GuineaGolf\", \"Italy\", \"Poland\"\n",
    "# V2 : \"Austria\", \"Australia\", \"Bordeaux\", \"Poland\", \"Spain\""
   ]
  },
  {
   "cell_type": "markdown",
   "metadata": {},
   "source": [
    "## Structures de données"
   ]
  },
  {
   "cell_type": "code",
   "execution_count": 29,
   "metadata": {},
   "outputs": [
    {
     "name": "stdout",
     "output_type": "stream",
     "text": [
      "{0: (54.197184, 21.930926), 1: (54.1666488, 21.8967233), 2: (53.264781, 20.737952), 3: (53.2746464, 20.9102882), 4: (54.0079614, 22.0121995), 5: (53.331325, 20.7060784), 6: (53.9905791, 21.9207052), 7: (54.1664042, 21.9604517), 8: (53.0348725, 20.7724214), 9: (54.100773, 22.2264029), 10: (53.2914688, 20.7159019), 11: (53.0322502, 21.0491345), 12: (53.3124742, 20.7560638), 13: (54.0818592, 21.9349896), 14: (54.1752805, 21.8810835), 15: (54.2129531, 22.0596256), 16: (53.3225801, 20.7288242), 17: (53.2970184, 20.7543235), 18: (53.2853981, 20.7468738)}\n"
     ]
    }
   ],
   "source": [
    "def dist(lat1, long1, lat2, long2):\n",
    "    \"\"\"\n",
    "    fonction renvoyant la distance en kms entre deux points décrits par leur latitude et longitude\n",
    "    \"\"\"\n",
    "    if lat1==lat2 and long1==long2:\n",
    "        return 0\n",
    "    return(numpy.arccos(numpy.sin(2*numpy.pi/360*lat1)*numpy.sin(2*numpy.pi/360*lat2)+numpy.cos(2*numpy.pi/360*lat1)*numpy.cos(2*numpy.pi/360*lat2)*numpy.cos(2*numpy.pi/360*(long2-long1)))*6371)\n",
    "\n",
    "#ACOS(SIN(lat1)*SIN(lat2)+COS(lat1)*COS(lat2)*COS(lon2-lon1))*6371\n",
    "vitesse=5/6\n",
    "\n",
    "L_ressources = [j for j in ressources] # tableau des objets ressources \n",
    "L_tasks = [i for i in tasks] # tableau des objets taches\n",
    "number_of_ressources = len(L_ressources)\n",
    "number_of_tasks = len(L_tasks)\n",
    "dict_pos = {task : (task.latitude, task.longitude) for task in tasks.values()}\n",
    "\n",
    "dict_pos = {task : (tasks[L_tasks[task]].latitude, tasks[L_tasks[task]].longitude) for task in range(number_of_tasks)}\n",
    "print(dict_pos)\n",
    "\n",
    "\n",
    "runav_id = []\n",
    "for j in range(len(L_ressources)):\n",
    "    for u in range(len(ressources[L_ressources[j]].unavailabilities)):\n",
    "        runav_id.append((j,u))\n",
    "number_of_runavailabilities = len(runav_id)\n",
    "\n",
    "tunav_id = []\n",
    "for i in range(len(L_tasks)):\n",
    "    for v in range(len(tasks[L_tasks[i]].unavailabilities)):\n",
    "        tunav_id.append((i,v))\n",
    "number_of_tunavailabilities = len(tunav_id)\n",
    "\n",
    "#distance[a][b] donne la distance de la tâche a vers la tâche b\n",
    "def distance_tache_unav():\n",
    "    distances = [[0 for j in range(number_of_tasks+number_of_runavailabilities)] for i in range(number_of_tasks+number_of_runavailabilities)]\n",
    "    for b in range(number_of_tasks+number_of_runavailabilities) :\n",
    "        for a in range(number_of_tasks+number_of_runavailabilities) :\n",
    "            if a >= number_of_tasks and b >= number_of_tasks :\n",
    "                distances[a][b] = dist(ressources[L_ressources[runav_id[a-number_of_tasks][0]]].unavailabilities[runav_id[a-number_of_tasks][1]].latitude, ressources[L_ressources[runav_id[a-number_of_tasks][0]]].unavailabilities[runav_id[a-number_of_tasks][1]].longitude, ressources[L_ressources[runav_id[b-number_of_tasks][0]]].unavailabilities[runav_id[b-number_of_tasks][1]].latitude, ressources[L_ressources[runav_id[b-number_of_tasks][0]]].unavailabilities[runav_id[b-number_of_tasks][1]].longitude)\n",
    "            elif a >= number_of_tasks and b < number_of_tasks :\n",
    "                distances[a][b] = dist(ressources[L_ressources[runav_id[a-number_of_tasks][0]]].unavailabilities[runav_id[a-number_of_tasks][1]].latitude, ressources[L_ressources[runav_id[a-number_of_tasks][0]]].unavailabilities[runav_id[a-number_of_tasks][1]].longitude, tasks[L_tasks[b]].latitude, tasks[L_tasks[b]].longitude)\n",
    "            elif a < number_of_tasks and b >= number_of_tasks :\n",
    "                distances[a][b] = dist(ressources[L_ressources[runav_id[b-number_of_tasks][0]]].unavailabilities[runav_id[b-number_of_tasks][1]].latitude, ressources[L_ressources[runav_id[b-number_of_tasks][0]]].unavailabilities[runav_id[b-number_of_tasks][1]].longitude, tasks[L_tasks[a]].latitude, tasks[L_tasks[a]].longitude)\n",
    "            else :\n",
    "                distances[a][b] = dist(tasks[L_tasks[a]].latitude,tasks[L_tasks[a]].longitude, tasks[L_tasks[b]].latitude, tasks[L_tasks[b]].longitude)\n",
    "    return distances\n",
    "distances=distance_tache_unav()\n",
    "\n",
    "#distance_m[j][i] donne la distance de la maison de j la tâche i\n",
    "def distance_maison_unav():\n",
    "    distances_m = [[0 for j in range(number_of_tasks+number_of_runavailabilities)] for i in range(number_of_ressources)]\n",
    "    for t in range(number_of_tasks+number_of_runavailabilities) :\n",
    "        for r in range(number_of_ressources) :\n",
    "            if t >= number_of_tasks :\n",
    "                distances_m[r][t] = dist(ressources[L_ressources[runav_id[t-number_of_tasks][0]]].unavailabilities[runav_id[t-number_of_tasks][1]].latitude, ressources[L_ressources[runav_id[t-number_of_tasks][0]]].unavailabilities[runav_id[t-number_of_tasks][1]].longitude, ressources[L_ressources[r]].latitude,ressources[L_ressources[r]].longitude)\n",
    "            else :\n",
    "                distances_m[r][t] = dist(ressources[L_ressources[r]].latitude,ressources[L_ressources[r]].longitude, tasks[L_tasks[t]].latitude, tasks[L_tasks[t]].longitude)\n",
    "    return distances_m\n",
    "distances_m=distance_maison_unav()\n",
    "\n",
    "\n",
    "#distance_m[j][i] donne la distance de la maison de j la tâche i\n",
    "#distances_m = [[dist(ressources[L_ressources[j]].latitude,ressources[L_ressources[j]].longitude, tasks[L_tasks[i]].latitude, tasks[L_tasks[i]].longitude) for i in range(number_of_tasks)] for j in range(number_of_ressources)]\n",
    "#print(distances_m)\n",
    "\n",
    "# https://gurobi.github.io/modeling-examples/technician_routing_scheduling/technician_routing_scheduling.html"
   ]
  },
  {
   "cell_type": "markdown",
   "metadata": {},
   "source": [
    "## Variables de décision"
   ]
  },
  {
   "cell_type": "code",
   "execution_count": 30,
   "metadata": {},
   "outputs": [
    {
     "name": "stdout",
     "output_type": "stream",
     "text": [
      "2\n",
      "19\n"
     ]
    }
   ],
   "source": [
    "### Create Model\n",
    "m = Model(\"trs0\")\n",
    "\n",
    "M = 1440\n",
    "\n",
    "print(number_of_ressources)\n",
    "print(number_of_tasks)\n",
    "\n",
    "# x[(number_of_tasks+u,r)]\n",
    "# runav_id[u (general)]=(r,id (pour la personne))\n",
    "### Decision variables\n",
    "# Task-ressource assignment\n",
    "x = {(t,r) : m.addVar(vtype = GRB.BINARY, name = f'x_{t}_{r}') for r in range(number_of_ressources) for t in range(number_of_tasks)}\n",
    "for r in range(number_of_ressources):\n",
    "    for u in range(number_of_runavailabilities):\n",
    "        if runav_id[u][0]==r:\n",
    "            x[(number_of_tasks+u,r)]=1\n",
    "        else:\n",
    "            x[(number_of_tasks+u,r)]=0\n",
    "\n",
    "# Time-task assignment\n",
    "s = {t : m.addVar(vtype = GRB.INTEGER, lb = 0, ub = 1440, name = f's_{t}') for t in range(number_of_tasks)}\n",
    "#Les s_t valent entre 0 et 1440 car les contraintes de temps (entre 8h et 18h) sont contenues dans les jeux de données.\n",
    "for u in range(number_of_runavailabilities):\n",
    "    s[number_of_tasks+u]=ressources[L_ressources[runav_id[u][0]]].unavailabilities[runav_id[u][1]].unavailabilityStart\n",
    "\n",
    "# Est-ce que le travailleur se déplace entre les points a et b ?\n",
    "y = {(r,a,b) : m.addVar(vtype = GRB.BINARY, name = f'y_{r}_{a}_{b}') for r in range(number_of_ressources) for a in range(number_of_tasks+number_of_runavailabilities) for b in range(number_of_tasks+number_of_runavailabilities)}# if a != b}\n",
    "# Technician cannot leave or return to a depot that is not its base\n",
    "\n",
    "# Is the worker used ?\n",
    "u = {r: m.addVar(vtype = GRB.BINARY, name = f'u_{r}') for r in range(number_of_ressources)}\n",
    "\n",
    "# starting task of worker\n",
    "d = {(r,t) : m.addVar(vtype = GRB.BINARY, name = f'd_{r}_{t}') for r in range(number_of_ressources) for t in range(number_of_tasks+number_of_runavailabilities)}\n",
    "# ending task of worker\n",
    "f = {(r,t) : m.addVar(vtype = GRB.BINARY, name = f'f_{r}_{t}') for r in range(number_of_ressources) for t in range(number_of_tasks+number_of_runavailabilities)}\n",
    "\n",
    "#variables de linéarisation\n",
    "#H = {(r,a,b) : m.addVar(vtype = GRB.BINARY,lb = 0, ub = 1440, name = f'h_{r}_{a}_{b}') for r in range(number_of_ressources) for a in range(number_of_tasks) for b in range(number_of_tasks)}# if a != b}\n",
    "#P = {(r,a,b) : m.addVar(vtype = GRB.BINARY,lb = 0, ub = 1440, name = f'p_{r}_{a}_{b}') for r in range(number_of_ressources) for a in range(number_of_tasks) for b in range(number_of_tasks)}# if a != b}\n",
    "\n",
    "a = {v : m.addVar(vtype = GRB.BINARY, name = f'a_{v}') for v in range(number_of_tunavailabilities)}\n",
    "\n",
    "#variables de pause midi\n",
    "z = {(r,a,b) : m.addVar(vtype = GRB.BINARY, name = f'z_{r}_{a}_{b}') for r in range(number_of_ressources) for a in range(number_of_tasks+number_of_runavailabilities) for b in range(number_of_tasks+number_of_runavailabilities)}# if a != b}\n",
    "zb = {(r) : m.addVar(vtype = GRB.BINARY, name = f'z_{r}') for r in range(number_of_ressources)}\n",
    "ze = {(r) : m.addVar(vtype = GRB.BINARY, name = f'z_{r}') for r in range(number_of_ressources)}\n",
    "\n"
   ]
  },
  {
   "cell_type": "markdown",
   "metadata": {},
   "source": [
    "## Contraintes"
   ]
  },
  {
   "cell_type": "code",
   "execution_count": 31,
   "metadata": {},
   "outputs": [],
   "source": [
    "# une personne est obligée de se déplacer (pas d'arrêtes de bouclage sur un point du graphe)\n",
    "C4_2 = [m.addConstr(y[(r,a,a)] == 0) for r in range(number_of_ressources) for a in range(number_of_tasks+number_of_runavailabilities)]"
   ]
  },
  {
   "cell_type": "code",
   "execution_count": 32,
   "metadata": {},
   "outputs": [],
   "source": [
    "nbRpT = [LinExpr() for t in range(number_of_tasks)]\n",
    "for t in range(number_of_tasks):\n",
    "  for r in  range(number_of_ressources):\n",
    "    nbRpT[t]+=x[(t,r)]\n",
    "\n",
    "# One ressource per task\n",
    "C1 = [m.addConstr(nbRpT[t] <= 1) for t in range(number_of_tasks)]"
   ]
  },
  {
   "cell_type": "code",
   "execution_count": 33,
   "metadata": {},
   "outputs": [],
   "source": [
    "nbRpTs = [LinExpr() for t in range(number_of_tasks)]\n",
    "for t in range(number_of_tasks):\n",
    "  for r in  range(number_of_ressources):\n",
    "     nbRpTs[t]+=x[(t,r)]*(ressources[L_ressources[r]].skill!=tasks[L_tasks[r]].skill)\n",
    "\n",
    " # Skilled technicians\n",
    "C2 = [m.addConstr(nbRpTs[t] == 0) for t in range(number_of_tasks)]"
   ]
  },
  {
   "cell_type": "code",
   "execution_count": 34,
   "metadata": {},
   "outputs": [],
   "source": [
    "nbRpTl =[ LinExpr() for t in range(number_of_tasks)]\n",
    "for t in range(number_of_tasks):\n",
    "  for r in  range(number_of_ressources):\n",
    "    nbRpTl[t]+=x[(t,r)]*(ressources[L_ressources[r]].level-tasks[L_tasks[t]].level)\n",
    "\n",
    "# Leveled technicians\n",
    "C3 = [m.addConstr(nbRpTl[t] >= 0) for t in range(number_of_tasks)]"
   ]
  },
  {
   "cell_type": "code",
   "execution_count": 35,
   "metadata": {},
   "outputs": [],
   "source": [
    "# si une personne est affectée, elle arrive jusqu'à la tâche\n",
    "C4 = {(i,j) : m.addConstr(quicksum(y[(j,a,i)] for a in range(number_of_tasks+number_of_runavailabilities)) + d[(j,i)] == x[(i,j)], name = f'arrive{i}{j}') for j in range(number_of_ressources) for i in range(number_of_tasks+number_of_runavailabilities)}\n",
    "\n",
    "# une personne doit partir après avoir exécuté sa tâche\n",
    "C5 = {(i,j) : m.addConstr(quicksum(y[(j,i,b)] for b in range(number_of_tasks+number_of_runavailabilities)) + f[(j,i)] == x[(i,j)], name = f'part{i}{j}') for j in range(number_of_ressources) for i in range(number_of_tasks+number_of_runavailabilities)}"
   ]
  },
  {
   "cell_type": "code",
   "execution_count": 36,
   "metadata": {},
   "outputs": [],
   "source": [
    "# non overlapping tasks\n",
    "#print(vitesse)\n",
    "#print(tasks[L_tasks[0]].duration)\n",
    "C6 = [[m.addConstr(s[b] >= s[a] + tasks[L_tasks[a]].duration + distances[a][b]/vitesse -M*(1-quicksum(y[(j,a,b)] for j in range(number_of_ressources)))) for b in range(number_of_tasks+number_of_runavailabilities)] for a in range(number_of_tasks)]\n",
    "C6bis = [[m.addConstr(s[b] >= ressources[L_ressources[runav_id[a-number_of_tasks][0]]].unavailabilities[runav_id[a-number_of_tasks][1]].unavailabilityEnd + distances[a][b]/vitesse -M*(1-quicksum(y[(j,a,b)] for j in range(number_of_ressources)))) for b in range(number_of_tasks+number_of_runavailabilities)] for a in range(number_of_tasks,number_of_tasks+number_of_runavailabilities)]\n",
    "C6bisbis = [[m.addConstr(ressources[L_ressources[runav_id[b-number_of_tasks][0]]].unavailabilities[runav_id[b-number_of_tasks][1]].unavailabilityStart >= s[a] + tasks[L_tasks[a]].duration + distances[a][b]/vitesse -M*(1-quicksum(y[(j,a,b)] for j in range(number_of_ressources)))) for b in range(number_of_tasks, number_of_tasks+number_of_runavailabilities)] for a in range(number_of_tasks)]"
   ]
  },
  {
   "cell_type": "code",
   "execution_count": 37,
   "metadata": {},
   "outputs": [],
   "source": [
    "# une personne doit partir de chez elle si elle travaille ce jour la\n",
    "C7 = [m.addConstr(quicksum(d[(j,a)] for a in range(number_of_tasks+number_of_runavailabilities)) == u[j]) for j in range(number_of_ressources)]\n",
    "# une personne doit revenir chez elle si elle travaille ce jour la\n",
    "C8 = [m.addConstr(quicksum(f[(j,b)] for b in range(number_of_tasks+number_of_runavailabilities)) == u[j]) for j in range(number_of_ressources)]\n",
    "\n",
    "# contraintes pour lier x et u\n",
    "C9 = [m.addConstr(quicksum(x[(i,j)] for i in range(number_of_tasks+number_of_runavailabilities)) <= u[j]*M) for j in range(number_of_ressources)]"
   ]
  },
  {
   "cell_type": "code",
   "execution_count": 38,
   "metadata": {},
   "outputs": [],
   "source": [
    "# la premiere tache commence apres le début de la journée\n",
    "#M=10E2\n",
    "\n",
    "# LES INDISPOS SONT EXCLUES\n",
    "C10 = [m.addConstr(s[i] >= ressources[L_ressources[j]].workingStart -M*(1-x[(i,j)]) + distances_m[j][i]/vitesse) for i in range(number_of_tasks) for j in range(number_of_ressources)]"
   ]
  },
  {
   "cell_type": "code",
   "execution_count": 39,
   "metadata": {},
   "outputs": [],
   "source": [
    "# la derniere tache finit avant la fin de la journee\n",
    "C11 = [m.addConstr(ressources[L_ressources[j]].workingEnd >= s[i]+tasks[L_tasks[i]].duration + distances_m[j][i]/vitesse -M*(1-x[(i,j)])) for i in range(number_of_tasks) for j in range(number_of_ressources)]\n",
    "# LES INDISPOS SONT EXCLUES\n",
    "\n",
    "#C11bis = [m.addConstr(\n",
    "#    ressources[L_ressources[j]].workingEnd >= \n",
    "#    ressources[L_ressources[runav_id[a-number_of_tasks][0]]].unavailabilities[runav_id[a-number_of_tasks][1]].unavailabilityEnd + \n",
    "#    distances_m[j][i]/vitesse -M*(1-x[(i,j)]) )\n",
    "#    for i in range(number_of_tasks,number_of_tasks+number_of_runavailabilities) for j in range(number_of_ressources) ]\n",
    "\n"
   ]
  },
  {
   "cell_type": "code",
   "execution_count": 40,
   "metadata": {},
   "outputs": [],
   "source": [
    "C14 = [m.addConstr(s[t] -M*(1-quicksum(x[(t,j)] for j in range (number_of_ressources))) + tasks[L_tasks[t]].duration - M*a[i] <= tasks[L_tasks[t]].unavailabilities[u].unavailabilityStart) for i,(t,u) in enumerate(tunav_id)]\n",
    "C15 = [m.addConstr(s[t] -M*(1-quicksum(x[(t,j)] for j in range (number_of_ressources))) + M*(1-a[i]) >= tasks[L_tasks[t]].unavailabilities[u].unavailabilityEnd) for i,(t,u) in enumerate(tunav_id)]\n",
    "\n"
   ]
  },
  {
   "cell_type": "code",
   "execution_count": 41,
   "metadata": {},
   "outputs": [],
   "source": [
    "# for r in range(number_of_ressources):\n",
    "#   for b in range (number_of_tasks+number_of_runavailabilities):\n",
    "#     for a in range(number_of_tasks,number_of_tasks+number_of_runavailabilities):\n",
    "#       try:\n",
    "#         m.addConstr(60+ressources[L_ressources[runav_id[a-number_of_tasks][0]]].unavailabilities[runav_id[a-number_of_tasks][1]].unavailabilityEnd <= -distances[a][b]/vitesse+ s[b] + z[(r,a,b)]*M )\n",
    "#       except:\n",
    "#         print(r,b,a)"
   ]
  },
  {
   "cell_type": "code",
   "execution_count": 42,
   "metadata": {},
   "outputs": [],
   "source": [
    "Cz1 = [[m.addConstr(z[(r,a,b)]<=y[(r,a,b)]) for r in range(number_of_ressources)] for a in range(number_of_tasks+number_of_runavailabilities) for b in range(number_of_tasks+number_of_runavailabilities)]\n",
    "Cz2 = [m.addConstr(quicksum(z[(r,a,b)] for a in range(number_of_tasks+number_of_runavailabilities) for b in range(number_of_tasks+number_of_runavailabilities))+zb[r]+ze[r]==u[r]) for r in range(number_of_ressources)]"
   ]
  },
  {
   "cell_type": "code",
   "execution_count": 43,
   "metadata": {},
   "outputs": [],
   "source": [
    "Cz3 = [m.addConstrs(M*(1-x[a,r])+s[a]+M*(1-zb[r]) >= 13*60 for a in range(number_of_tasks+number_of_runavailabilities) for r in range(number_of_ressources))] \n",
    "\n",
    "Cz4 = [m.addConstrs(s[a] + tasks[L_tasks[a]].duration <= 13*60 + M*(1-x[a,r]) + M*(1-ze[r]) for r in range(number_of_ressources) for a in range(number_of_tasks))]\n",
    "Cz4bis = [m.addConstrs(ressources[L_ressources[runav_id[a-number_of_tasks][0]]].unavailabilities[runav_id[a-number_of_tasks][1]].unavailabilityEnd <= 13*60 + M*(1-x[a,r]) +M*(1-zb[r]) for r in range(number_of_ressources) for a in range(number_of_tasks,number_of_tasks+number_of_runavailabilities))]\n"
   ]
  },
  {
   "cell_type": "code",
   "execution_count": 44,
   "metadata": {},
   "outputs": [],
   "source": [
    "Cz5 = [[[m.addConstr(distances[a][b]/vitesse+s[a]+60+tasks[L_tasks[a]].duration <= s[b] + (1-z[(r,a,b)])*M) for r in range(number_of_ressources)] for b in range(number_of_tasks+number_of_runavailabilities)] for a in range(number_of_tasks)]\n",
    "Cz5bis = [[[m.addConstr(60+ressources[L_ressources[runav_id[a-number_of_tasks][0]]].unavailabilities[runav_id[a-number_of_tasks][1]].unavailabilityEnd <= -distances[a][b]/vitesse+ s[b] + (1-z[(r,a,b)])*M ) for r in range(number_of_ressources)] for b in range (number_of_tasks+number_of_runavailabilities)] for a in range(number_of_tasks,number_of_tasks+number_of_runavailabilities)]\n",
    "\n",
    "\n",
    "Cz6 = [m.addConstrs(s[b] >= 13*60 - M*(1-quicksum(z[(r,a,b)] for r in range(number_of_ressources))) for a in range(number_of_tasks+number_of_runavailabilities) for b in range(number_of_tasks+number_of_runavailabilities))] \n",
    "\n",
    "Cz7 = [m.addConstrs(s[a] + tasks[L_tasks[a]].duration <= 13*60 + M*(1-quicksum(z[(r,a,b)] for r in range(number_of_ressources))) for a in range(number_of_tasks) for b in range(number_of_tasks+number_of_runavailabilities))]\n",
    "Cz7bis = [m.addConstrs(ressources[L_ressources[runav_id[a-number_of_tasks][0]]].unavailabilities[runav_id[a-number_of_tasks][1]].unavailabilityEnd <= 13*60 + M*(1-quicksum(z[(r,a,b)] for r in range(number_of_ressources))) for a in range(number_of_tasks,number_of_tasks+number_of_runavailabilities) for b in range(number_of_tasks, number_of_tasks+number_of_runavailabilities))]\n"
   ]
  },
  {
   "cell_type": "code",
   "execution_count": 45,
   "metadata": {},
   "outputs": [],
   "source": [
    "# contrainte évitant d'avoir des cycles dans les graphes (permet que les tâches soient reliées entre elles)\n",
    "#C19 = [m.addConstr(y[(j,a,b)] + y[(j,b,a)] <=1) for a in range(number_of_tasks+number_of_runavailabilities) for b in range(number_of_tasks+number_of_runavailabilities) for j in range(number_of_ressources)]\n",
    "#C20 = [m.addConstr(d[(j,a)] + f[(j,a)] <=1) for a in range(number_of_tasks+number_of_runavailabilities) for j in range(number_of_ressources)]"
   ]
  },
  {
   "cell_type": "code",
   "execution_count": null,
   "metadata": {},
   "outputs": [],
   "source": []
  },
  {
   "cell_type": "markdown",
   "metadata": {},
   "source": [
    "## Fonction objectif et résolution"
   ]
  },
  {
   "cell_type": "code",
   "execution_count": 46,
   "metadata": {},
   "outputs": [],
   "source": [
    "epsilon = 0.0001\n",
    "\n",
    "couts=LinExpr()\n",
    "ctot=0\n",
    "for j in range(number_of_ressources):\n",
    "  for a in range(number_of_tasks+number_of_runavailabilities):\n",
    "    for b in range(number_of_tasks+number_of_runavailabilities):\n",
    "      couts+=y[(j,a,b)]*distances[a][b]/vitesse\n",
    "      if j==0:\n",
    "        ctot+=distances[a][b]/vitesse\n",
    "    couts+=d[(j,a)]*distances_m[j][a]/vitesse\n",
    "    couts+=f[(j,a)]*distances_m[j][a]/vitesse\n",
    "\n",
    "duree=LinExpr()\n",
    "dtot=0\n",
    "for t in range(number_of_tasks):\n",
    "  for r in range(number_of_ressources):\n",
    "    duree+=x[(t,r)]*tasks[L_tasks[t]].duration\n",
    "  dtot+=tasks[L_tasks[t]].duration\n",
    "\n",
    "\n",
    "# minimiser-(la durée totale des tâches exécutées)\n",
    "obj1 = -duree/dtot # normalisation\n",
    "# minimiser le coût opérationnel\n",
    "obj2 = couts/ctot # normalisation\n",
    "\n",
    "obj = 0.8*obj1+0.2*obj2\n",
    "\n",
    "solutions_efficaces = list()\n",
    "\n",
    "# -- Ajout de la fonction objectif --\n",
    "m.setObjective(obj, GRB.MINIMIZE)\n",
    "\n",
    "# -- Choix d'un paramétrage d'affichage minimaliste --\n",
    "m.params.outputflag = 0 # mode muet\n",
    "m.update()\n",
    "m.display()\n",
    "m.optimize()\n",
    "\n",
    "\n",
    "# it = 0\n",
    "\n",
    "if  m.status == GRB.INFEASIBLE:\n",
    "  print(\"il n'y a pas de solution !!\")\n",
    "\n",
    "# while m.status != GRB.INFEASIBLE:\n",
    "#     sol = (round(m.objVal,2), round(obj2.getValue()*100,2))\n",
    "#     print(\"itération {} solution {}\".format(it, sol))\n",
    "#     solutions_efficaces.append(sol)\n",
    "    \n",
    "    \n",
    "#     # - \n",
    "#     it += 1\n",
    "#     # -- Ajout de l'epsilon constraint\n",
    "#     m.addConstr(obj2 <= obj2.getValue() - epsilon, name=f'epsilon_constraint_{it}')\n",
    "#     # -- Mise à jour du modèle  --\n",
    "#     m.update()\n",
    "#     # -- Résolution --\n",
    "#     m.optimize()"
   ]
  },
  {
   "cell_type": "code",
   "execution_count": null,
   "metadata": {},
   "outputs": [
    {
     "data": {
      "text/plain": [
       "'\\nsolve with epsilon\\nepsilon = 0.0001\\n\\ncouts=LinExpr()\\nfor j in range(number_of_ressources):\\n  for a in range(number_of_tasks+number_of_runavailabilities):\\n    for b in range(number_of_tasks+number_of_runavailabilities):\\n      couts+=y[(j,a,b)]*distances[a][b]/vitesse\\n    couts+=d[(j,a)]*distances_m[j][a]/vitesse\\n    couts+=f[(j,a)]*distances_m[j][a]/vitesse\\n\\nduree=LinExpr()\\nfor r in range(number_of_ressources):\\n  for t in range(number_of_tasks):\\n    duree+=x[(t,r)]*tasks[L_tasks[t]].duration\\n\\n# minimiser-(la durée totale des tâches exécutées)\\nobj1 = -duree\\n# minimiser le coût opérationnel\\nobj2 = couts\\n\\nsolutions_efficaces = list()\\n\\n# -- Ajout de la fonction objectif --\\nm.setObjective(obj1, GRB.MINIMIZE)\\n\\n# -- Choix d\\'un paramétrage d\\'affichage minimaliste --\\nm.params.outputflag = 0 # mode muet\\nm.update()\\nm.display()\\nm.optimize()\\n\\n\\nit = 0\\n\\nif  m.status == GRB.INFEASIBLE:\\n  print(\"il n\\'y a pas de solution !!\")\\n\\nwhile m.status != GRB.INFEASIBLE:\\n    sol = (round(m.objVal,2), round(obj2.getValue()*100,2))\\n    print(\"itération {} solution {}\".format(it, sol))\\n    solutions_efficaces.append(sol)\\n\\n    if it ==20:\\n      break\\n    \\n    \\n    # - \\n    it += 1\\n    # -- Ajout de l\\'epsilon constraint\\n    m.addConstr(obj2 <= obj2.getValue() - epsilon, name=f\\'epsilon_constraint_{it}\\')\\n    # -- Mise à jour du modèle  --\\n    m.update()\\n    # -- Résolution --\\n    m.optimize()\\n'"
      ]
     },
     "execution_count": 21,
     "metadata": {},
     "output_type": "execute_result"
    }
   ],
   "source": [
    "\"\"\"\n",
    "solve with epsilon\n",
    "epsilon = 0.0001\n",
    "\n",
    "couts=LinExpr()\n",
    "for j in range(number_of_ressources):\n",
    "  for a in range(number_of_tasks+number_of_runavailabilities):\n",
    "    for b in range(number_of_tasks+number_of_runavailabilities):\n",
    "      couts+=y[(j,a,b)]*distances[a][b]/vitesse\n",
    "    couts+=d[(j,a)]*distances_m[j][a]/vitesse\n",
    "    couts+=f[(j,a)]*distances_m[j][a]/vitesse\n",
    "\n",
    "duree=LinExpr()\n",
    "for r in range(number_of_ressources):\n",
    "  for t in range(number_of_tasks):\n",
    "    duree+=x[(t,r)]*tasks[L_tasks[t]].duration\n",
    "\n",
    "# minimiser-(la durée totale des tâches exécutées)\n",
    "obj1 = -duree\n",
    "# minimiser le coût opérationnel\n",
    "obj2 = couts\n",
    "\n",
    "solutions_efficaces = list()\n",
    "\n",
    "# -- Ajout de la fonction objectif --\n",
    "m.setObjective(obj1, GRB.MINIMIZE)\n",
    "\n",
    "# -- Choix d'un paramétrage d'affichage minimaliste --\n",
    "m.params.outputflag = 0 # mode muet\n",
    "m.update()\n",
    "m.display()\n",
    "m.optimize()\n",
    "\n",
    "\n",
    "it = 0\n",
    "\n",
    "if  m.status == GRB.INFEASIBLE:\n",
    "  print(\"il n'y a pas de solution !!\")\n",
    "\n",
    "while m.status != GRB.INFEASIBLE:\n",
    "    sol = (round(m.objVal,2), round(obj2.getValue()*100,2))\n",
    "    print(\"itération {} solution {}\".format(it, sol))\n",
    "    solutions_efficaces.append(sol)\n",
    "\n",
    "    if it ==20:\n",
    "      break\n",
    "    \n",
    "    \n",
    "    # - \n",
    "    it += 1\n",
    "    # -- Ajout de l'epsilon constraint\n",
    "    m.addConstr(obj2 <= obj2.getValue() - epsilon, name=f'epsilon_constraint_{it}')\n",
    "    # -- Mise à jour du modèle  --\n",
    "    m.update()\n",
    "    # -- Résolution --\n",
    "    m.optimize()\n",
    "\"\"\"\n"
   ]
  },
  {
   "cell_type": "code",
   "execution_count": null,
   "metadata": {},
   "outputs": [
    {
     "name": "stdout",
     "output_type": "stream",
     "text": [
      "Employé(e) : Irena\n",
      " --> Déplacement de la maison vers indispo (0 minutes)\n",
      " - Indispo de 10h0 à 11h15\n",
      " --> Déplacement de indispo vers la maison (0 minutes)\n",
      "Employé(e) : Karol\n"
     ]
    }
   ],
   "source": [
    "# -- Affichage de la solution --\n",
    "\n",
    "t=open(\"Solution\"+ville+\"V2ByV4.txt\",'w'.format(ville))\n",
    "res=\"taskId;performed;employeeName;startTime;\\n\"\n",
    "for j in range(number_of_tasks):\n",
    "  p=False\n",
    "  for i in range(number_of_ressources):\n",
    "    if round(x[(j,i)].x):\n",
    "      res+=\"{};{};{};{};\\n\".format(L_tasks[j],1,L_ressources[i],int(s[j].x))\n",
    "      p=True\n",
    "  if not p:\n",
    "    res+=\"{};0;;;\\n\".format(L_tasks[j])\n",
    "#print(res)\n",
    "t.write(res)\n",
    "t.close()\n",
    "\n",
    "startTimesT = [s[t].x for t in range(number_of_tasks)]\n",
    "startTimesU = [ressources[L_ressources[runav_id[t][0]]].unavailabilities[runav_id[t][1]].unavailabilityStart for t in range(number_of_runavailabilities)]\n",
    "endTimesT = [s[t].x+tasks[L_tasks[t]].duration for t in range(number_of_tasks)]\n",
    "endTimesU = [ressources[L_ressources[runav_id[t][0]]].unavailabilities[runav_id[t][1]].unavailabilityEnd for t in range(number_of_runavailabilities)]\n",
    "startTimes=startTimesT+startTimesU\n",
    "endTimes=endTimesT+endTimesU\n",
    "\n",
    "for i in range(number_of_ressources):\n",
    "  print(\"Employé(e) : {}\".format(L_ressources[i]))\n",
    "  for j in range(number_of_tasks):\n",
    "    if  round(d[(i,j)].x)==1:\n",
    "      print(\" --> Déplacement de la maison vers {} ({} minutes)\".format(L_tasks[j],round(distances_m[i][j]/vitesse)))\n",
    "  for j in range(number_of_runavailabilities):\n",
    "    if  round(d[(i,j+number_of_tasks)].x)==1:\n",
    "      print(\" --> Déplacement de la maison vers indispo ({} minutes)\".format(round(distances_m[i][j+number_of_tasks]/vitesse)))\n",
    "  for j in sorted(range(number_of_tasks+number_of_runavailabilities),key=lambda u: int(startTimes[u])):\n",
    "    if (j>=number_of_tasks and runav_id[j-number_of_tasks][0]==i) or (j<number_of_tasks and round(x[(j,i)].x)):\n",
    "      td=round(startTimes[j])\n",
    "      tf=round(endTimes[j])\n",
    "      if j<number_of_tasks:\n",
    "        print(\" - Tâche {} de {}h{} à {}h{}\".format(L_tasks[j],td//60,td%60,tf//60,tf%60))\n",
    "        for b in range(number_of_tasks):\n",
    "          if  round(y[(i,j,b)].x)==1:\n",
    "            print(\" --> Déplacement de {} vers {} ({} minutes)\".format(L_tasks[j],L_tasks[b],round(distances[j][b]/vitesse)))\n",
    "        for b in range(number_of_runavailabilities):\n",
    "          if  round(y[(i,j,b+number_of_tasks)].x)==1:\n",
    "            print(\" --> Déplacement de {} vers indispo ({} minutes)\".format(L_tasks[j],round(distances[j][b+number_of_tasks]/vitesse)))\n",
    "      else:\n",
    "        print(\" - Indispo de {}h{} à {}h{}\".format(td//60,td%60,tf//60,tf%60))\n",
    "        for b in range(number_of_tasks):\n",
    "          if  round(y[(i,j,b)].x)==1:\n",
    "            print(\" --> Déplacement de indispo vers {} ({} minutes)\".format(L_tasks[b],round(distances[j][b]/vitesse)))\n",
    "        for b in range(number_of_runavailabilities):\n",
    "          if  round(y[(i,j,b+number_of_tasks)].x)==1:\n",
    "            print(\" --> Déplacement de indispo vers indispo ({} minutes)\".format(round(distances[j][b+number_of_tasks]/vitesse)))\n",
    "      \n",
    "  for j in range(number_of_tasks):\n",
    "    if  round(f[(i,j)].x)==1:\n",
    "      print(\" --> Déplacement de {} vers la maison ({} minutes)\".format(L_tasks[j],round(distances_m[i][j]/vitesse)))\n",
    "  for j in range(number_of_runavailabilities):\n",
    "    if  round(f[(i,j+number_of_tasks)].x)==1:\n",
    "      print(\" --> Déplacement de indispo vers la maison ({} minutes)\".format(round(distances_m[i][j+number_of_tasks]/vitesse)))\n",
    "\n",
    "interval = time.time() - start_time"
   ]
  },
  {
   "cell_type": "code",
   "execution_count": null,
   "metadata": {},
   "outputs": [
    {
     "name": "stdout",
     "output_type": "stream",
     "text": [
      "temps de calcul :  6.68965744972229\n",
      "valeur de la fonction objectif :  0.0\n"
     ]
    }
   ],
   "source": [
    "print(\"temps de calcul : \", interval)\n",
    "print(\"valeur de la fonction objectif : \", m.ObjVal)"
   ]
  },
  {
   "cell_type": "markdown",
   "metadata": {},
   "source": [
    "## Vérification de la solution"
   ]
  },
  {
   "cell_type": "code",
   "execution_count": null,
   "metadata": {},
   "outputs": [
    {
     "ename": "ModuleNotFoundError",
     "evalue": "No module named 'folium'",
     "output_type": "error",
     "traceback": [
      "\u001b[1;31m---------------------------------------------------------------------------\u001b[0m",
      "\u001b[1;31mModuleNotFoundError\u001b[0m                       Traceback (most recent call last)",
      "\u001b[1;32m<ipython-input-24-bcee0115f813>\u001b[0m in \u001b[0;36m<module>\u001b[1;34m\u001b[0m\n\u001b[0;32m      1\u001b[0m \u001b[1;31m# affichage de la carte\u001b[0m\u001b[1;33m\u001b[0m\u001b[1;33m\u001b[0m\u001b[1;33m\u001b[0m\u001b[0m\n\u001b[1;32m----> 2\u001b[1;33m \u001b[1;32mimport\u001b[0m \u001b[0mfolium\u001b[0m\u001b[1;33m\u001b[0m\u001b[1;33m\u001b[0m\u001b[0m\n\u001b[0m\u001b[0;32m      3\u001b[0m \u001b[1;33m\u001b[0m\u001b[0m\n\u001b[0;32m      4\u001b[0m \u001b[0mlat_tot\u001b[0m\u001b[1;33m,\u001b[0m\u001b[0mlong_tot\u001b[0m\u001b[1;33m=\u001b[0m\u001b[1;36m0\u001b[0m\u001b[1;33m,\u001b[0m\u001b[1;36m0\u001b[0m\u001b[1;33m\u001b[0m\u001b[1;33m\u001b[0m\u001b[0m\n\u001b[0;32m      5\u001b[0m \u001b[1;32mfor\u001b[0m \u001b[0ma\u001b[0m \u001b[1;32min\u001b[0m \u001b[0mrange\u001b[0m\u001b[1;33m(\u001b[0m\u001b[0mnumber_of_tasks\u001b[0m\u001b[1;33m)\u001b[0m\u001b[1;33m:\u001b[0m\u001b[1;33m\u001b[0m\u001b[1;33m\u001b[0m\u001b[0m\n",
      "\u001b[1;31mModuleNotFoundError\u001b[0m: No module named 'folium'"
     ]
    }
   ],
   "source": [
    "# affichage de la carte\n",
    "import folium\n",
    "\n",
    "lat_tot,long_tot=0,0\n",
    "for a in range(number_of_tasks):\n",
    "  lat_tot+=tasks[L_tasks[a]].latitude\n",
    "  long_tot+=tasks[L_tasks[a]].longitude\n",
    "for a in range(number_of_tasks, number_of_tasks+number_of_runavailabilities):\n",
    "  lat_tot+=ressources[L_ressources[runav_id[a-number_of_tasks][0]]].unavailabilities[runav_id[a-number_of_tasks][1]].latitude\n",
    "  long_tot+=ressources[L_ressources[runav_id[a-number_of_tasks][0]]].unavailabilities[runav_id[a-number_of_tasks][1]].longitude\n",
    "mid_latitude = lat_tot/(number_of_tasks+number_of_runavailabilities)\n",
    "mid_longitude = long_tot/(number_of_tasks+number_of_runavailabilities)\n",
    "carte=folium.Map(location=[mid_latitude, mid_longitude],zoom_start=10)\n",
    "for a in range(number_of_tasks):\n",
    "  folium.Marker([tasks[L_tasks[a]].latitude, tasks[L_tasks[a]].longitude],icon=folium.Icon(color='black')).add_to(carte)\n",
    "for a in range(number_of_tasks,number_of_tasks+number_of_runavailabilities):\n",
    "  folium.Marker([ressources[L_ressources[runav_id[a-number_of_tasks][0]]].unavailabilities[runav_id[a-number_of_tasks][1]].latitude,\n",
    "   ressources[L_ressources[runav_id[a-number_of_tasks][0]]].unavailabilities[runav_id[a-number_of_tasks][1]].longitude],icon=folium.Icon(color='orange')).add_to(carte)\n",
    "list_colors = ['darkgreen', 'blue', 'red', 'green', 'darkpurple', 'lightred', 'purple', 'pink', 'orange', 'darkblue', 'gray', 'darkred']\n",
    "number_of_colors = len(list_colors)\n",
    "counter = 0\n",
    "for r in range(number_of_ressources):\n",
    "  color_r = list_colors[counter % number_of_colors]\n",
    "  folium.Marker([ressources[L_ressources[r]].latitude,ressources[L_ressources[r]].longitude],icon=folium.Icon(color=color_r)).add_to(carte)\n",
    "  for a in range(number_of_tasks+number_of_runavailabilities):\n",
    "    for b in range(number_of_tasks+number_of_runavailabilities):\n",
    "      if a < number_of_tasks:\n",
    "        lat_a,long_a = tasks[L_tasks[a]].latitude, tasks[L_tasks[a]].longitude\n",
    "      else:\n",
    "        lat_a,long_a = ressources[L_ressources[runav_id[a-number_of_tasks][0]]].unavailabilities[runav_id[a-number_of_tasks][1]].latitude, ressources[L_ressources[runav_id[a-number_of_tasks][0]]].unavailabilities[runav_id[a-number_of_tasks][1]].longitude\n",
    "      if b < number_of_tasks :\n",
    "        lat_b,long_b = tasks[L_tasks[b]].latitude, tasks[L_tasks[b]].longitude\n",
    "      else :\n",
    "        lat_b,long_b = ressources[L_ressources[runav_id[b-number_of_tasks][0]]].unavailabilities[runav_id[b-number_of_tasks][1]].latitude, ressources[L_ressources[runav_id[b-number_of_tasks][0]]].unavailabilities[runav_id[b-number_of_tasks][1]].longitude\n",
    "      if round(y[(r,a,b)].x) == 1:\n",
    "        line_ab = [(lat_a, long_a),(lat_b, long_b)]\n",
    "        folium.PolyLine(line_ab, color=color_r, weight=2.5, opacity=0.8).add_to(carte)\n",
    "    if round(d[(r,a)].x) == 1:\n",
    "      line_home_t = [(ressources[L_ressources[r]].latitude,ressources[L_ressources[r]].longitude), (tasks[L_tasks[a]].latitude, tasks[L_tasks[a]].longitude)]\n",
    "      folium.PolyLine(line_home_t, color=color_r, weight=2.5, opacity=0.8).add_to(carte)\n",
    "    if round(f[(r,a)].x) == 1:\n",
    "      line_t_home = [(tasks[L_tasks[a]].latitude, tasks[L_tasks[a]].longitude), (ressources[L_ressources[r]].latitude,ressources[L_ressources[r]].longitude)]\n",
    "      folium.PolyLine(line_t_home, color=color_r, weight=2.5, opacity=0.8).add_to(carte)\n",
    "  counter+=1\n",
    "\n",
    "carte.save('Cartographie/Cartev2.html')\n",
    "\n",
    "carte"
   ]
  },
  {
   "cell_type": "code",
   "execution_count": null,
   "metadata": {},
   "outputs": [
    {
     "data": {
      "application/vnd.plotly.v1+json": {
       "config": {
        "plotlyServerURL": "https://plot.ly"
       },
       "data": [
        {
         "alignmentgroup": "True",
         "base": [
          600
         ],
         "hovertemplate": "Start=%{base}<br>Finish=%{x}<br>Task=%{y}<br>J=%{text}<extra></extra>",
         "legendgroup": "",
         "marker": {
          "color": "#636efa"
         },
         "name": "",
         "offsetgroup": "",
         "orientation": "h",
         "showlegend": false,
         "text": [
          "unavailability 1"
         ],
         "textposition": "auto",
         "type": "bar",
         "x": [
          75
         ],
         "xaxis": "x",
         "y": [
          "Irena"
         ],
         "yaxis": "y"
        }
       ],
       "layout": {
        "barmode": "overlay",
        "legend": {
         "tracegroupgap": 0
        },
        "margin": {
         "t": 60
        },
        "template": {
         "data": {
          "bar": [
           {
            "error_x": {
             "color": "#2a3f5f"
            },
            "error_y": {
             "color": "#2a3f5f"
            },
            "marker": {
             "line": {
              "color": "#E5ECF6",
              "width": 0.5
             }
            },
            "type": "bar"
           }
          ],
          "barpolar": [
           {
            "marker": {
             "line": {
              "color": "#E5ECF6",
              "width": 0.5
             }
            },
            "type": "barpolar"
           }
          ],
          "carpet": [
           {
            "aaxis": {
             "endlinecolor": "#2a3f5f",
             "gridcolor": "white",
             "linecolor": "white",
             "minorgridcolor": "white",
             "startlinecolor": "#2a3f5f"
            },
            "baxis": {
             "endlinecolor": "#2a3f5f",
             "gridcolor": "white",
             "linecolor": "white",
             "minorgridcolor": "white",
             "startlinecolor": "#2a3f5f"
            },
            "type": "carpet"
           }
          ],
          "choropleth": [
           {
            "colorbar": {
             "outlinewidth": 0,
             "ticks": ""
            },
            "type": "choropleth"
           }
          ],
          "contour": [
           {
            "colorbar": {
             "outlinewidth": 0,
             "ticks": ""
            },
            "colorscale": [
             [
              0,
              "#0d0887"
             ],
             [
              0.1111111111111111,
              "#46039f"
             ],
             [
              0.2222222222222222,
              "#7201a8"
             ],
             [
              0.3333333333333333,
              "#9c179e"
             ],
             [
              0.4444444444444444,
              "#bd3786"
             ],
             [
              0.5555555555555556,
              "#d8576b"
             ],
             [
              0.6666666666666666,
              "#ed7953"
             ],
             [
              0.7777777777777778,
              "#fb9f3a"
             ],
             [
              0.8888888888888888,
              "#fdca26"
             ],
             [
              1,
              "#f0f921"
             ]
            ],
            "type": "contour"
           }
          ],
          "contourcarpet": [
           {
            "colorbar": {
             "outlinewidth": 0,
             "ticks": ""
            },
            "type": "contourcarpet"
           }
          ],
          "heatmap": [
           {
            "colorbar": {
             "outlinewidth": 0,
             "ticks": ""
            },
            "colorscale": [
             [
              0,
              "#0d0887"
             ],
             [
              0.1111111111111111,
              "#46039f"
             ],
             [
              0.2222222222222222,
              "#7201a8"
             ],
             [
              0.3333333333333333,
              "#9c179e"
             ],
             [
              0.4444444444444444,
              "#bd3786"
             ],
             [
              0.5555555555555556,
              "#d8576b"
             ],
             [
              0.6666666666666666,
              "#ed7953"
             ],
             [
              0.7777777777777778,
              "#fb9f3a"
             ],
             [
              0.8888888888888888,
              "#fdca26"
             ],
             [
              1,
              "#f0f921"
             ]
            ],
            "type": "heatmap"
           }
          ],
          "heatmapgl": [
           {
            "colorbar": {
             "outlinewidth": 0,
             "ticks": ""
            },
            "colorscale": [
             [
              0,
              "#0d0887"
             ],
             [
              0.1111111111111111,
              "#46039f"
             ],
             [
              0.2222222222222222,
              "#7201a8"
             ],
             [
              0.3333333333333333,
              "#9c179e"
             ],
             [
              0.4444444444444444,
              "#bd3786"
             ],
             [
              0.5555555555555556,
              "#d8576b"
             ],
             [
              0.6666666666666666,
              "#ed7953"
             ],
             [
              0.7777777777777778,
              "#fb9f3a"
             ],
             [
              0.8888888888888888,
              "#fdca26"
             ],
             [
              1,
              "#f0f921"
             ]
            ],
            "type": "heatmapgl"
           }
          ],
          "histogram": [
           {
            "marker": {
             "colorbar": {
              "outlinewidth": 0,
              "ticks": ""
             }
            },
            "type": "histogram"
           }
          ],
          "histogram2d": [
           {
            "colorbar": {
             "outlinewidth": 0,
             "ticks": ""
            },
            "colorscale": [
             [
              0,
              "#0d0887"
             ],
             [
              0.1111111111111111,
              "#46039f"
             ],
             [
              0.2222222222222222,
              "#7201a8"
             ],
             [
              0.3333333333333333,
              "#9c179e"
             ],
             [
              0.4444444444444444,
              "#bd3786"
             ],
             [
              0.5555555555555556,
              "#d8576b"
             ],
             [
              0.6666666666666666,
              "#ed7953"
             ],
             [
              0.7777777777777778,
              "#fb9f3a"
             ],
             [
              0.8888888888888888,
              "#fdca26"
             ],
             [
              1,
              "#f0f921"
             ]
            ],
            "type": "histogram2d"
           }
          ],
          "histogram2dcontour": [
           {
            "colorbar": {
             "outlinewidth": 0,
             "ticks": ""
            },
            "colorscale": [
             [
              0,
              "#0d0887"
             ],
             [
              0.1111111111111111,
              "#46039f"
             ],
             [
              0.2222222222222222,
              "#7201a8"
             ],
             [
              0.3333333333333333,
              "#9c179e"
             ],
             [
              0.4444444444444444,
              "#bd3786"
             ],
             [
              0.5555555555555556,
              "#d8576b"
             ],
             [
              0.6666666666666666,
              "#ed7953"
             ],
             [
              0.7777777777777778,
              "#fb9f3a"
             ],
             [
              0.8888888888888888,
              "#fdca26"
             ],
             [
              1,
              "#f0f921"
             ]
            ],
            "type": "histogram2dcontour"
           }
          ],
          "mesh3d": [
           {
            "colorbar": {
             "outlinewidth": 0,
             "ticks": ""
            },
            "type": "mesh3d"
           }
          ],
          "parcoords": [
           {
            "line": {
             "colorbar": {
              "outlinewidth": 0,
              "ticks": ""
             }
            },
            "type": "parcoords"
           }
          ],
          "pie": [
           {
            "automargin": true,
            "type": "pie"
           }
          ],
          "scatter": [
           {
            "marker": {
             "colorbar": {
              "outlinewidth": 0,
              "ticks": ""
             }
            },
            "type": "scatter"
           }
          ],
          "scatter3d": [
           {
            "line": {
             "colorbar": {
              "outlinewidth": 0,
              "ticks": ""
             }
            },
            "marker": {
             "colorbar": {
              "outlinewidth": 0,
              "ticks": ""
             }
            },
            "type": "scatter3d"
           }
          ],
          "scattercarpet": [
           {
            "marker": {
             "colorbar": {
              "outlinewidth": 0,
              "ticks": ""
             }
            },
            "type": "scattercarpet"
           }
          ],
          "scattergeo": [
           {
            "marker": {
             "colorbar": {
              "outlinewidth": 0,
              "ticks": ""
             }
            },
            "type": "scattergeo"
           }
          ],
          "scattergl": [
           {
            "marker": {
             "colorbar": {
              "outlinewidth": 0,
              "ticks": ""
             }
            },
            "type": "scattergl"
           }
          ],
          "scattermapbox": [
           {
            "marker": {
             "colorbar": {
              "outlinewidth": 0,
              "ticks": ""
             }
            },
            "type": "scattermapbox"
           }
          ],
          "scatterpolar": [
           {
            "marker": {
             "colorbar": {
              "outlinewidth": 0,
              "ticks": ""
             }
            },
            "type": "scatterpolar"
           }
          ],
          "scatterpolargl": [
           {
            "marker": {
             "colorbar": {
              "outlinewidth": 0,
              "ticks": ""
             }
            },
            "type": "scatterpolargl"
           }
          ],
          "scatterternary": [
           {
            "marker": {
             "colorbar": {
              "outlinewidth": 0,
              "ticks": ""
             }
            },
            "type": "scatterternary"
           }
          ],
          "surface": [
           {
            "colorbar": {
             "outlinewidth": 0,
             "ticks": ""
            },
            "colorscale": [
             [
              0,
              "#0d0887"
             ],
             [
              0.1111111111111111,
              "#46039f"
             ],
             [
              0.2222222222222222,
              "#7201a8"
             ],
             [
              0.3333333333333333,
              "#9c179e"
             ],
             [
              0.4444444444444444,
              "#bd3786"
             ],
             [
              0.5555555555555556,
              "#d8576b"
             ],
             [
              0.6666666666666666,
              "#ed7953"
             ],
             [
              0.7777777777777778,
              "#fb9f3a"
             ],
             [
              0.8888888888888888,
              "#fdca26"
             ],
             [
              1,
              "#f0f921"
             ]
            ],
            "type": "surface"
           }
          ],
          "table": [
           {
            "cells": {
             "fill": {
              "color": "#EBF0F8"
             },
             "line": {
              "color": "white"
             }
            },
            "header": {
             "fill": {
              "color": "#C8D4E3"
             },
             "line": {
              "color": "white"
             }
            },
            "type": "table"
           }
          ]
         },
         "layout": {
          "annotationdefaults": {
           "arrowcolor": "#2a3f5f",
           "arrowhead": 0,
           "arrowwidth": 1
          },
          "coloraxis": {
           "colorbar": {
            "outlinewidth": 0,
            "ticks": ""
           }
          },
          "colorscale": {
           "diverging": [
            [
             0,
             "#8e0152"
            ],
            [
             0.1,
             "#c51b7d"
            ],
            [
             0.2,
             "#de77ae"
            ],
            [
             0.3,
             "#f1b6da"
            ],
            [
             0.4,
             "#fde0ef"
            ],
            [
             0.5,
             "#f7f7f7"
            ],
            [
             0.6,
             "#e6f5d0"
            ],
            [
             0.7,
             "#b8e186"
            ],
            [
             0.8,
             "#7fbc41"
            ],
            [
             0.9,
             "#4d9221"
            ],
            [
             1,
             "#276419"
            ]
           ],
           "sequential": [
            [
             0,
             "#0d0887"
            ],
            [
             0.1111111111111111,
             "#46039f"
            ],
            [
             0.2222222222222222,
             "#7201a8"
            ],
            [
             0.3333333333333333,
             "#9c179e"
            ],
            [
             0.4444444444444444,
             "#bd3786"
            ],
            [
             0.5555555555555556,
             "#d8576b"
            ],
            [
             0.6666666666666666,
             "#ed7953"
            ],
            [
             0.7777777777777778,
             "#fb9f3a"
            ],
            [
             0.8888888888888888,
             "#fdca26"
            ],
            [
             1,
             "#f0f921"
            ]
           ],
           "sequentialminus": [
            [
             0,
             "#0d0887"
            ],
            [
             0.1111111111111111,
             "#46039f"
            ],
            [
             0.2222222222222222,
             "#7201a8"
            ],
            [
             0.3333333333333333,
             "#9c179e"
            ],
            [
             0.4444444444444444,
             "#bd3786"
            ],
            [
             0.5555555555555556,
             "#d8576b"
            ],
            [
             0.6666666666666666,
             "#ed7953"
            ],
            [
             0.7777777777777778,
             "#fb9f3a"
            ],
            [
             0.8888888888888888,
             "#fdca26"
            ],
            [
             1,
             "#f0f921"
            ]
           ]
          },
          "colorway": [
           "#636efa",
           "#EF553B",
           "#00cc96",
           "#ab63fa",
           "#FFA15A",
           "#19d3f3",
           "#FF6692",
           "#B6E880",
           "#FF97FF",
           "#FECB52"
          ],
          "font": {
           "color": "#2a3f5f"
          },
          "geo": {
           "bgcolor": "white",
           "lakecolor": "white",
           "landcolor": "#E5ECF6",
           "showlakes": true,
           "showland": true,
           "subunitcolor": "white"
          },
          "hoverlabel": {
           "align": "left"
          },
          "hovermode": "closest",
          "mapbox": {
           "style": "light"
          },
          "paper_bgcolor": "white",
          "plot_bgcolor": "#E5ECF6",
          "polar": {
           "angularaxis": {
            "gridcolor": "white",
            "linecolor": "white",
            "ticks": ""
           },
           "bgcolor": "#E5ECF6",
           "radialaxis": {
            "gridcolor": "white",
            "linecolor": "white",
            "ticks": ""
           }
          },
          "scene": {
           "xaxis": {
            "backgroundcolor": "#E5ECF6",
            "gridcolor": "white",
            "gridwidth": 2,
            "linecolor": "white",
            "showbackground": true,
            "ticks": "",
            "zerolinecolor": "white"
           },
           "yaxis": {
            "backgroundcolor": "#E5ECF6",
            "gridcolor": "white",
            "gridwidth": 2,
            "linecolor": "white",
            "showbackground": true,
            "ticks": "",
            "zerolinecolor": "white"
           },
           "zaxis": {
            "backgroundcolor": "#E5ECF6",
            "gridcolor": "white",
            "gridwidth": 2,
            "linecolor": "white",
            "showbackground": true,
            "ticks": "",
            "zerolinecolor": "white"
           }
          },
          "shapedefaults": {
           "line": {
            "color": "#2a3f5f"
           }
          },
          "ternary": {
           "aaxis": {
            "gridcolor": "white",
            "linecolor": "white",
            "ticks": ""
           },
           "baxis": {
            "gridcolor": "white",
            "linecolor": "white",
            "ticks": ""
           },
           "bgcolor": "#E5ECF6",
           "caxis": {
            "gridcolor": "white",
            "linecolor": "white",
            "ticks": ""
           }
          },
          "title": {
           "x": 0.05
          },
          "xaxis": {
           "automargin": true,
           "gridcolor": "white",
           "linecolor": "white",
           "ticks": "",
           "title": {
            "standoff": 15
           },
           "zerolinecolor": "white",
           "zerolinewidth": 2
          },
          "yaxis": {
           "automargin": true,
           "gridcolor": "white",
           "linecolor": "white",
           "ticks": "",
           "title": {
            "standoff": 15
           },
           "zerolinecolor": "white",
           "zerolinewidth": 2
          }
         }
        },
        "xaxis": {
         "anchor": "y",
         "domain": [
          0,
          1
         ],
         "type": "linear"
        },
        "yaxis": {
         "anchor": "x",
         "domain": [
          0,
          1
         ],
         "title": {
          "text": "Task"
         }
        }
       }
      }
     },
     "metadata": {},
     "output_type": "display_data"
    }
   ],
   "source": [
    "import plotly.express as px\n",
    "import pandas as pd\n",
    "\n",
    "# plotting the working tasks\n",
    "liste=[]\n",
    "for i in range(number_of_ressources):\n",
    "    for j in range(number_of_tasks):\n",
    "        if round(x[(j,i)].x):\n",
    "            start=int(s[j].x)\n",
    "            end=(int(s[j].x)+tasks[L_tasks[j]].duration)\n",
    "            liste.append(dict(Task=L_ressources[i], Start=start, Finish=end, Resource=\"executing task\",J=\"tâche \"+str(j+1)))\n",
    "\n",
    "# plotting the ressource unavailabilities\n",
    "for r in range(number_of_ressources):\n",
    "    for R,id in runav_id:\n",
    "        if r == R:\n",
    "            start= ressources[L_ressources[runav_id[a-number_of_tasks][0]]].unavailabilities[runav_id[a-number_of_tasks][1]].unavailabilityStart\n",
    "            end= ressources[L_ressources[runav_id[a-number_of_tasks][0]]].unavailabilities[runav_id[a-number_of_tasks][1]].unavailabilityEnd\n",
    "            liste.append(dict(Task=L_ressources[r], Start=start, Finish=end, Resource=\"unavailable\",J=\"unavailability \"+str(id+1)))\n",
    "\n",
    "# plotting the transports\n",
    "for a in range(number_of_tasks):\n",
    "    for b in range(number_of_tasks):\n",
    "        for j in range(number_of_ressources):\n",
    "            if round(y[(j,a,b)].x):\n",
    "                start=(int(s[a].x)+tasks[L_tasks[a]].duration)\n",
    "                end=(start+distances[a][b]/vitesse)\n",
    "                liste.append(dict(Task=L_ressources[j], Start=start, Finish=end, Resource=\"moving\",J=\"trajet \"+str(a+1)+\"-\"+str(b+1)))\n",
    "\n",
    "# plotting the first transport\n",
    "for a in range(number_of_tasks):\n",
    "    for j in range(number_of_ressources):\n",
    "        if round(d[(j,a)].x):\n",
    "            start=(s[a].x-distances_m[j][a]/vitesse)\n",
    "            end=s[a].x\n",
    "            liste.append(dict(Task=L_ressources[j], Start=start, Finish=end, Resource=\"depart\",J=\"trajet maison -\"+str(a+1)))\n",
    "\n",
    "# plotting the last transport\n",
    "for a in range(number_of_tasks):\n",
    "    for j in range(number_of_ressources):\n",
    "        if round(f[(j,a)].x):\n",
    "            start=(s[a].x + tasks[L_tasks[i]].duration)\n",
    "            end=(start+ distances_m[j][a]/vitesse)\n",
    "            liste.append(dict(Task=L_ressources[j], Start=start, Finish=end, Resource=\"depart\",J=str(a+1)+\"- trajet maison\"))\n",
    "\n",
    "df = pd.DataFrame(liste)\n",
    "df['delta'] = df['Finish'] - df['Start']\n",
    "\n",
    "fig = px.timeline(df, x_start=\"Start\", x_end=\"Finish\", y=\"Task\",text=\"J\")\n",
    "\n",
    "fig.layout.xaxis.type = 'linear'\n",
    "fig.data[0].x = df.delta.tolist()\n",
    "fig.show()"
   ]
  },
  {
   "cell_type": "code",
   "execution_count": null,
   "metadata": {},
   "outputs": [
    {
     "name": "stdout",
     "output_type": "stream",
     "text": [
      "0\n",
      "19\n"
     ]
    }
   ],
   "source": [
    "# check que les techniciens ont le bon niveau et les bonnes compétences pour les tâches exécutées\n",
    "a = True\n",
    "for j in range(number_of_ressources):\n",
    "    for i in range(number_of_tasks):\n",
    "        if round(x[(i,j)].x):\n",
    "            # check que le skill est bon\n",
    "            if ressources[L_ressources[j]].skill!=tasks[L_tasks[i]].skill:\n",
    "                print(\"fail r,t \",j,i)\n",
    "                a = False\n",
    "            # check que le level est bon\n",
    "            if ressources[L_ressources[j]].level < tasks[L_tasks[i]].level:\n",
    "                print(\"fail r,t \",j,i)\n",
    "                a = False\n",
    "if a :\n",
    "    print(\"Les techniciens ont bien les bonnes compétences et le bon niveau pour toutes les tâches exécutées\")\n",
    "            "
   ]
  },
  {
   "cell_type": "code",
   "execution_count": null,
   "metadata": {},
   "outputs": [
    {
     "name": "stdout",
     "output_type": "stream",
     "text": [
      "Les contraintes d'ouverture et de fermeture des tâches sont respectées\n"
     ]
    }
   ],
   "source": [
    "# check que les contraintes d'ouverture et de fermeture des tâches sont respectées en début et fin de journée\n",
    "a = True\n",
    "for j in range(number_of_ressources):\n",
    "    for i in range(number_of_tasks):\n",
    "        if round(x[(i,j)].x):\n",
    "            if s[i].x < tasks[L_tasks[i]].openingTime:\n",
    "                print(\"fail r,t \",j,i)\n",
    "                a = False\n",
    "            if tasks[L_tasks[i]].closingTime < s[i].x + tasks[L_tasks[i]].duration :\n",
    "                print(\"fail r,t \",j,i)\n",
    "                a = False\n",
    "\n",
    "            \n",
    "            \n",
    "if a :\n",
    "    print(\"Les contraintes d'ouverture et de fermeture des tâches sont respectées\")"
   ]
  },
  {
   "cell_type": "code",
   "execution_count": null,
   "metadata": {},
   "outputs": [
    {
     "name": "stdout",
     "output_type": "stream",
     "text": [
      "l'employé  John  fait sa pause entre les tâches  9 et  8\n",
      "l'employé  Sam  fait sa pause entre les tâches  17 et  1\n",
      "l'employé  David  fait sa pause à la fin de sa journée \n"
     ]
    }
   ],
   "source": [
    "# chaque employé possède une pause midi d’une durée d’1h à placer entre 12h et 14h, dans un lieu quelconque\n",
    "bool = False\n",
    "for i in range(number_of_ressources):\n",
    "    bool = False\n",
    "    if round(ze[i].x):\n",
    "        print(\"l'employé \", L_ressources[i], \" fait sa pause à la fin de sa journée \")\n",
    "        bool = True\n",
    "    elif round(zb[i].x):\n",
    "        print(\"l'employé \", L_ressources[i], \" fait sa pause au début de sa journée \")\n",
    "        bool = True\n",
    "    for a in range(number_of_tasks+number_of_runavailabilities):\n",
    "        for b in range(number_of_tasks+number_of_runavailabilities):\n",
    "            if round(u[i].x)==0:\n",
    "                bool=True\n",
    "            if round(z[(i,a,b)].x) and round(u[i].x):\n",
    "                bool = True\n",
    "                print(\"l'employé \", L_ressources[i], \" fait sa pause entre les tâches \", a+1, \"et \", b+1)\n",
    "    if bool ==False:\n",
    "        print(\"l'employé \", L_ressources[i], \"n'a pas de pause !!\")"
   ]
  },
  {
   "cell_type": "code",
   "execution_count": null,
   "metadata": {},
   "outputs": [
    {
     "name": "stdout",
     "output_type": "stream",
     "text": [
      "les indispos de ressource sont respectées\n"
     ]
    }
   ],
   "source": [
    "# certains employés peuvent avoir des périodes d’indisponibilité dans la journée\n",
    " \n",
    "bool = True\n",
    "for r in range(number_of_ressources):\n",
    "    for R,id in runav_id:\n",
    "        if r == R:\n",
    "            for t in range(number_of_tasks):\n",
    "                if round(x[(t,r)].x):\n",
    "                    if s[t].x<= ressources[L_ressources[runav_id[a-number_of_tasks][0]]].unavailabilities[runav_id[a-number_of_tasks][1]].unavailabilityStart:\n",
    "                        if s[t].x+ tasks[L_tasks[j]].duration > ressources[L_ressources[runav_id[a-number_of_tasks][0]]].unavailabilities[runav_id[a-number_of_tasks][1]].unavailabilityStart:\n",
    "                            print(\"la personne \",  L_ressources[r], \"fait la tâche \", t+1, \"alors qu'elle a une indisponibilité \", id+1)\n",
    "                            bool = False\n",
    "                    elif s[t].x< ressources[L_ressources[runav_id[a-number_of_tasks][0]]].unavailabilities[runav_id[a-number_of_tasks][1]].unavailabilityEnd:\n",
    "                        print(\"la personne \",  L_ressources[r], \"fait la tâche \", t+1, \"alors qu'elle a une indisponibilité \", id+1)\n",
    "                        bool = False\n",
    "\n",
    "if bool :\n",
    "    print(\"les indispos de ressource sont respectées\")\n",
    "\n",
    "# x[(number_of_tasks+u,r)]\n",
    "# runav_id[u (general)]=(r,id (pour la personne))"
   ]
  },
  {
   "cell_type": "code",
   "execution_count": null,
   "metadata": {},
   "outputs": [
    {
     "name": "stdout",
     "output_type": "stream",
     "text": [
      "les indispos de tâches sont respectées\n"
     ]
    }
   ],
   "source": [
    "# certaines tâches ne peuvent pas être faites à certains créneaux\n",
    " \n",
    "b = True\n",
    "for t in range(number_of_tasks):\n",
    "    for T,id in tunav_id:\n",
    "        if t == T:\n",
    "            for r in range(number_of_ressources):\n",
    "                if round(x[(t,r)].x):\n",
    "                    if s[t].x<= tasks[L_tasks[T]].unavailabilities[id].unavailabilityStart:\n",
    "                        if s[t].x+ tasks[L_tasks[T]].duration > tasks[L_tasks[T]].unavailabilities[id].unavailabilityStart:\n",
    "                            print(\"la personne \", r+1, \"fait la tâche \", t+1, \" alors que cette tâche n'est pas dispo \", id+1)\n",
    "                            b = False\n",
    "                    elif s[t].x < tasks[L_tasks[T]].unavailabilities[id].unavailabilityEnd:\n",
    "                        print(\"la tâche \", t+1, \" est faite sur un créneau d'indisponibilité \", id+1)\n",
    "                        b = False\n",
    "if b :\n",
    "    print(\"les indispos de tâches sont respectées\")\n",
    "\n",
    "# x[(number_of_tasks+u,r)]\n",
    "# runav_id[u (general)]=(r,id (pour la personne))"
   ]
  },
  {
   "cell_type": "code",
   "execution_count": null,
   "metadata": {},
   "outputs": [],
   "source": [
    "\"\"\"\n",
    "- l’objectif est de maximiser la durée totale des tâches réalisées à coût opérationnel minimum ;\n",
    "- chaque employé part en début de journée et rentre en fin de journée en un lieu qui lui est propre ;\n",
    "- chaque employé possède une pause midi d’une durée d’1h à placer entre 12h et 14h, dans un lieu\n",
    "quelconque ;\n",
    "- certains employés peuvent avoir des périodes d’indisponibilité dans la journée, associées à des lieux\n",
    "précisés. Les employés doivent se trouver en le lieu donné au début de la période et le quitter à la fin ;\n",
    "- les lieux de certaines tâches peuvent être ouverts sur plusieurs créneaux disjoints dans la journée\n",
    "\n",
    "- améliorer la data viz\n",
    "\"\"\""
   ]
  }
 ],
 "metadata": {
  "interpreter": {
   "hash": "4badd61a3eb0a98b49024dc08b6e569de2eac3230396ff1e691db44e3b600cf6"
  },
  "kernelspec": {
   "display_name": "Python 3.9.6 64-bit",
   "language": "python",
   "name": "python3"
  },
  "language_info": {
   "codemirror_mode": {
    "name": "ipython",
    "version": 3
   },
   "file_extension": ".py",
   "mimetype": "text/x-python",
   "name": "python",
   "nbconvert_exporter": "python",
   "pygments_lexer": "ipython3",
   "version": "3.8.3"
  },
  "orig_nbformat": 4
 },
 "nbformat": 4,
 "nbformat_minor": 2
}
